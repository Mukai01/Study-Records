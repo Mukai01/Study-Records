{
 "cells": [
  {
   "cell_type": "markdown",
   "metadata": {},
   "source": [
    "# 2021/4/28 探索 - 線形探索・2分探索"
   ]
  },
  {
   "cell_type": "markdown",
   "metadata": {},
   "source": [
    "###### 線形探索法と2分探索法について比較してみる"
   ]
  },
  {
   "cell_type": "code",
   "execution_count": 15,
   "metadata": {},
   "outputs": [
    {
     "name": "stdout",
     "output_type": "stream",
     "text": [
      "線形探索を開始します...\n",
      "0について探索...\n",
      "1について探索...\n",
      "2について探索...\n",
      "3について探索...\n",
      "4について探索...\n",
      "5について探索...\n",
      "6について探索...\n",
      "7について探索...\n",
      "position=7 time=0.0009965896606445312[s]\n",
      "\n",
      "2分探索を開始します...\n",
      "5について探索...\n",
      "8について探索...\n",
      "7について探索...\n",
      "position=7 time=0.000997781753540039[s]\n"
     ]
    }
   ],
   "source": [
    "import numpy as np\n",
    "import time\n",
    " \n",
    "# 線形探索の関数\n",
    "def linear_search(data, n, key):\n",
    "    print('線形探索を開始します...')\n",
    "    for i in range(n):\n",
    "        print('{}について探索...'.format(i))\n",
    "        if data[i] == key:\n",
    "            return i\n",
    "    return np.nan\n",
    " \n",
    "# 二分探索の関数\n",
    "def binary_search(data, n, key):\n",
    "    print('2分探索を開始します...')\n",
    "    left = 0\n",
    "    right = n\n",
    "    while left < right:\n",
    "        mid = int((left + right) / 2)\n",
    "        print('{}について探索...'.format(mid))\n",
    "        if data[mid] == key:\n",
    "            return mid\n",
    "        elif data[mid] < key:\n",
    "            left = mid + 1 #intが小数切り捨てのため\n",
    "        else:\n",
    "            right = mid\n",
    "    return np.nan\n",
    " \n",
    "y = np.arange(0, 10, 1)\n",
    "key = 7\n",
    " \n",
    "# 線形探索を実行して処理時間を表示する\n",
    "t0 = time.time()\n",
    "index = linear_search(y, len(y), key)\n",
    "t_lin = time.time() - t0\n",
    "print('position=' + str(index), 'time=' + str(t_lin) + '[s]')\n",
    "print('') \n",
    "\n",
    "# 二分探索を実行して処理時間を表示する\n",
    "t0 = time.time()\n",
    "index = binary_search(y, len(y), key)\n",
    "t_bin = time.time() - t0\n",
    "print('position=' + str(index), 'time=' + str(t_bin) + '[s]')"
   ]
  }
 ],
 "metadata": {
  "kernelspec": {
   "display_name": "Python 3",
   "language": "python",
   "name": "python3"
  },
  "language_info": {
   "codemirror_mode": {
    "name": "ipython",
    "version": 3
   },
   "file_extension": ".py",
   "mimetype": "text/x-python",
   "name": "python",
   "nbconvert_exporter": "python",
   "pygments_lexer": "ipython3",
   "version": "3.7.7"
  }
 },
 "nbformat": 4,
 "nbformat_minor": 4
}
