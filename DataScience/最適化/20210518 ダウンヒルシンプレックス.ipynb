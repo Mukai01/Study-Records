{
 "cells": [
  {
   "cell_type": "markdown",
   "metadata": {},
   "source": [
    "# 2021/5/18 最適化 - ダウンヒルシンプレックス\n",
    "###### scipyでダウンヒルシンプレックスを試してみる"
   ]
  },
  {
   "cell_type": "code",
   "execution_count": 1,
   "metadata": {},
   "outputs": [],
   "source": [
    "from scipy.optimize import minimize\n",
    "import math\n",
    "\n",
    "#関数定義\n",
    "def objective_function(X, a, b):\n",
    "    return (a - X[0])**2 + b * (X[1] - X[0]**2)**2"
   ]
  },
  {
   "cell_type": "code",
   "execution_count": 2,
   "metadata": {},
   "outputs": [],
   "source": [
    "#パラメータを適当に設定\n",
    "a = math.sqrt(2)\n",
    "b = 100\n",
    "arg = (a, b)\n",
    "\n",
    "#初期値を[-1,1]としてスタート\n",
    "res = minimize(objective_function, [-1,1],args=arg, method=\"Nelder-Mead\")"
   ]
  },
  {
   "cell_type": "code",
   "execution_count": 3,
   "metadata": {},
   "outputs": [
    {
     "name": "stdout",
     "output_type": "stream",
     "text": [
      " final_simplex: (array([[1.41420552, 1.99997837],\n",
      "       [1.41423002, 2.00004845],\n",
      "       [1.41423177, 2.0000474 ]]), array([1.87919943e-10, 6.36287161e-10, 2.02423285e-09]))\n",
      "           fun: 1.8791994267553947e-10\n",
      "       message: 'Optimization terminated successfully.'\n",
      "          nfev: 171\n",
      "           nit: 90\n",
      "        status: 0\n",
      "       success: True\n",
      "             x: array([1.41420552, 1.99997837])\n",
      "[1.41420552 1.99997837]\n"
     ]
    }
   ],
   "source": [
    "#結果出力\n",
    "print(res)\n",
    "print(res.x)"
   ]
  },
  {
   "cell_type": "code",
   "execution_count": 4,
   "metadata": {},
   "outputs": [
    {
     "name": "stdout",
     "output_type": "stream",
     "text": [
      "count\tx\ty\tf\n",
      "1\t-0.991860\t1.000000\t5.815479\n",
      "2\t-0.777029\t0.572041\t4.902245\n",
      "3\t-0.714012\t0.459431\t4.783183\n",
      "4\t-0.669866\t0.401610\t4.565332\n",
      "5\t-0.605189\t0.333053\t4.188220\n",
      "6\t-0.438138\t0.143971\t3.661545\n",
      "7\t-0.296833\t0.076447\t2.941282\n",
      "8\t-0.219730\t0.015140\t2.779605\n",
      "9\t-0.124068\t-0.024791\t2.527786\n",
      "10\t-0.017660\t-0.028636\t2.134058\n",
      "11\t0.109631\t-0.006689\t1.736934\n",
      "12\t0.282822\t0.036390\t1.470131\n",
      "13\t0.377053\t0.127045\t1.098575\n",
      "14\t0.462945\t0.184106\t0.996190\n",
      "15\t0.535341\t0.262569\t0.830115\n",
      "16\t0.629994\t0.392421\t0.617000\n",
      "17\t0.692350\t0.461530\t0.552834\n",
      "18\t0.782132\t0.585850\t0.466507\n",
      "19\t0.851036\t0.710496\t0.336121\n",
      "20\t0.950850\t0.885726\t0.248523\n",
      "21\t1.027955\t1.061041\t0.151087\n",
      "22\t1.088889\t1.179187\t0.110051\n",
      "23\t1.137874\t1.281452\t0.094064\n",
      "24\t1.170064\t1.358150\t0.071491\n",
      "25\t1.217116\t1.478636\t0.039596\n",
      "26\t1.266564\t1.596283\t0.028043\n",
      "27\t1.312417\t1.716733\t0.013617\n",
      "28\t1.338208\t1.792033\t0.005929\n",
      "29\t1.375674\t1.890224\t0.001994\n",
      "30\t1.393901\t1.940872\t0.000848\n",
      "31\t1.404986\t1.974309\t0.000096\n",
      "32\t1.414149\t1.999576\t0.000006\n",
      "33\t1.413807\t1.998825\t0.000000\n",
      "34\t1.414168\t1.999871\t0.000000\n",
      "35\t1.414205\t1.999976\t0.000000\n"
     ]
    },
    {
     "data": {
      "image/png": "[encoded data removed]",
      "text/plain": [
       "<Figure size 432x288 with 1 Axes>"
      ]
     },
     "metadata": {
      "needs_background": "light"
     },
     "output_type": "display_data"
    }
   ],
   "source": [
    "#計算経緯を可視化\n",
    "import matplotlib.pyplot as plt\n",
    "\n",
    "count = 0\n",
    "plt.figure()\n",
    "plt.style.use(\"ggplot\")\n",
    "plt.xlim(1, 35)\n",
    "print('count\\tx\\ty\\tf')\n",
    "\n",
    "def cbf(X):\n",
    "    global count\n",
    "    count += 1\n",
    "    f = objective_function(X, a, b)\n",
    "    print('%d\\t%f\\t%f\\t%f' % (count, X[0], X[1], f))\n",
    "    plt.scatter(count, f, color='black')\n",
    "    \n",
    "#callbackでグラフ化\n",
    "res = minimize(objective_function, [-1, 1], args=arg, callback=cbf)"
   ]
  },
  {
   "cell_type": "code",
   "execution_count": null,
   "metadata": {},
   "outputs": [],
   "source": []
  }
 ],
 "metadata": {
  "kernelspec": {
   "display_name": "Python 3",
   "language": "python",
   "name": "python3"
  },
  "language_info": {
   "codemirror_mode": {
    "name": "ipython",
    "version": 3
   },
   "file_extension": ".py",
   "mimetype": "text/x-python",
   "name": "python",
   "nbconvert_exporter": "python",
   "pygments_lexer": "ipython3",
   "version": "3.7.6"
  }
 },
 "nbformat": 4,
 "nbformat_minor": 4
}
