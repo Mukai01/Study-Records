{
 "cells": [
  {
   "cell_type": "markdown",
   "metadata": {},
   "source": [
    "# 2021/4/27 最適化 - 線形計画"
   ]
  },
  {
   "cell_type": "markdown",
   "metadata": {},
   "source": [
    "###### 線形計画法について、簡単な事例で練習してみる"
   ]
  },
  {
   "cell_type": "code",
   "execution_count": 1,
   "metadata": {},
   "outputs": [
    {
     "data": {
      "image/png": "[encoded data removed]",
      "text/plain": [
       "<Figure size 432x288 with 1 Axes>"
      ]
     },
     "metadata": {
      "needs_background": "light"
     },
     "output_type": "display_data"
    }
   ],
   "source": [
    "#以下のグラフにおいて最適化計算を行う\n",
    "import numpy as np\n",
    "import matplotlib.pyplot as plt\n",
    "x = np.linspace(0, 5, 100)\n",
    "\n",
    "#直線を定義\n",
    "y1 = 5 - 0.5*x\n",
    "y2 =  8 - 2*x\n",
    "\n",
    "#0の配列\n",
    "y3 = np.zeros_like(x)\n",
    "\n",
    "#y1とy2の内小さいほう\n",
    "y4 = np.minimum(y1, y2)\n",
    "\n",
    "plt.figure()\n",
    "plt.plot(x, y1, label=\"x1+2x2 <= 10\")\n",
    "plt.plot(x, y2, label=\"2x1+x2<=8\")\n",
    "\n",
    "#中間を塗りつぶし\n",
    "plt.fill_between(x, y3, y4, where=y4>y3, facecolor='yellow', alpha=0.3)\n",
    "\n",
    "#可視化\n",
    "plt.ylim(0, 8.5)\n",
    "plt.xlim(0, 4.5)\n",
    "plt.legend(loc=0)\n",
    "\n",
    "plt.show()"
   ]
  },
  {
   "cell_type": "code",
   "execution_count": 2,
   "metadata": {
    "scrolled": true
   },
   "outputs": [
    {
     "name": "stdout",
     "output_type": "stream",
     "text": [
      "Optimal\n",
      "Result\n",
      "Curry: 2.0\n",
      "Oyako: 4.0\n"
     ]
    }
   ],
   "source": [
    "#最適化計算を実行\n",
    "import pulp\n",
    "\n",
    "#目的関数を最大化に設定\n",
    "problem = pulp.LpProblem('Curry_Oyako', pulp.LpMaximize)\n",
    "\n",
    "#変数の0-10の整数として定義\n",
    "Curry = pulp.LpVariable('Curry', 0, 10, 'Integer') \n",
    "Oyako = pulp.LpVariable('Oyako', 0, 10, 'Integer') \n",
    "\n",
    "#目的関数の定義\n",
    "problem += 2*Curry + 3*Oyako\n",
    "\n",
    "#制約条件の定義\n",
    "problem += Curry + 2*Oyako <= 10\n",
    "problem += 2*Curry + Oyako <= 8\n",
    "\n",
    "#解く\n",
    "status = problem.solve()\n",
    "\n",
    "#statusの確認\n",
    "print(pulp.LpStatus[status])\n",
    "\n",
    "#結果表示\n",
    "print(\"Result\")\n",
    "print(\"Curry:\",Curry.value())\n",
    "print(\"Oyako:\",Oyako.value())"
   ]
  }
 ],
 "metadata": {
  "kernelspec": {
   "display_name": "Python 3",
   "language": "python",
   "name": "python3"
  },
  "language_info": {
   "codemirror_mode": {
    "name": "ipython",
    "version": 3
   },
   "file_extension": ".py",
   "mimetype": "text/x-python",
   "name": "python",
   "nbconvert_exporter": "python",
   "pygments_lexer": "ipython3",
   "version": "3.7.7"
  }
 },
 "nbformat": 4,
 "nbformat_minor": 4
}
