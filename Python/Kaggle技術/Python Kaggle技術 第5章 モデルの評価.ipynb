{
 "cells": [
  {
   "cell_type": "markdown",
   "metadata": {},
   "source": [
    "# 第5章 モデルの評価\n",
    "## 5.2 バリデーションの手法\n",
    "### 5.2.1 hold-out法"
   ]
  },
  {
   "cell_type": "code",
   "execution_count": 2,
   "metadata": {},
   "outputs": [],
   "source": [
    "from sklearn.metrics import log_loss\n",
    "from sklearn.model_selection import train_test_split\n",
    "from sklearn.datasets import load_breast_cancer\n",
    "\n",
    "cancer=load_breast_cancer()\n",
    "X=cancer.data\n",
    "y=cancer.target"
   ]
  },
  {
   "cell_type": "code",
   "execution_count": 12,
   "metadata": {},
   "outputs": [
    {
     "data": {
      "text/plain": [
       "array([[1.185e+01, 1.746e+01, 7.554e+01, ..., 9.140e-02, 3.101e-01,\n",
       "        7.007e-02],\n",
       "       [1.122e+01, 1.986e+01, 7.194e+01, ..., 2.022e-02, 3.292e-01,\n",
       "        6.522e-02],\n",
       "       [2.013e+01, 2.825e+01, 1.312e+02, ..., 1.628e-01, 2.572e-01,\n",
       "        6.637e-02],\n",
       "       ...,\n",
       "       [9.436e+00, 1.832e+01, 5.982e+01, ..., 5.052e-02, 2.454e-01,\n",
       "        8.136e-02],\n",
       "       [9.720e+00, 1.822e+01, 6.073e+01, ..., 0.000e+00, 1.909e-01,\n",
       "        6.559e-02],\n",
       "       [1.151e+01, 2.393e+01, 7.452e+01, ..., 9.653e-02, 2.112e-01,\n",
       "        8.732e-02]])"
      ]
     },
     "execution_count": 12,
     "metadata": {},
     "output_type": "execute_result"
    }
   ],
   "source": [
    "tr_x,va_x,tr_y,va_y=train_test_split(X,y,test_size=0.25,random_state=False,shuffle=True)\n",
    "tr_x"
   ]
  },
  {
   "cell_type": "code",
   "execution_count": 14,
   "metadata": {},
   "outputs": [
    {
     "data": {
      "text/plain": [
       "DecisionTreeClassifier(ccp_alpha=0.0, class_weight=None, criterion='gini',\n",
       "                       max_depth=None, max_features=None, max_leaf_nodes=None,\n",
       "                       min_impurity_decrease=0.0, min_impurity_split=None,\n",
       "                       min_samples_leaf=1, min_samples_split=2,\n",
       "                       min_weight_fraction_leaf=0.0, presort='deprecated',\n",
       "                       random_state=None, splitter='best')"
      ]
     },
     "execution_count": 14,
     "metadata": {},
     "output_type": "execute_result"
    }
   ],
   "source": [
    "from sklearn.tree import DecisionTreeClassifier\n",
    "model=DecisionTreeClassifier()\n",
    "model.fit(tr_x,tr_y)"
   ]
  },
  {
   "cell_type": "code",
   "execution_count": 16,
   "metadata": {},
   "outputs": [
    {
     "data": {
      "text/plain": [
       "4.106025157383023"
      ]
     },
     "execution_count": 16,
     "metadata": {},
     "output_type": "execute_result"
    }
   ],
   "source": [
    "va_pred=model.predict(va_x)\n",
    "score=log_loss(va_y,va_pred)\n",
    "score"
   ]
  },
  {
   "cell_type": "code",
   "execution_count": 19,
   "metadata": {},
   "outputs": [
    {
     "data": {
      "text/plain": [
       "array([  0,   1,   2,   4,   5,   7,   8,  10,  11,  12,  13,  14,  16,\n",
       "        17,  19,  21,  22,  23,  25,  27,  28,  29,  30,  31,  33,  34,\n",
       "        36,  37,  38,  39,  40,  41,  42,  43,  44,  45,  47,  48,  51,\n",
       "        52,  54,  55,  56,  57,  58,  60,  61,  62,  63,  65,  66,  67,\n",
       "        68,  70,  71,  72,  73,  74,  75,  76,  78,  79,  80,  81,  82,\n",
       "        83,  84,  85,  86,  87,  89,  90,  91,  92,  93,  96,  97,  99,\n",
       "       100, 101, 102, 103, 106, 107, 108, 109, 111, 112, 113, 115, 117,\n",
       "       118, 119, 120, 121, 123, 124, 125, 126, 128, 130, 132, 133, 134,\n",
       "       135, 136, 138, 140, 141, 142, 143, 144, 145, 146, 149, 151, 153,\n",
       "       155, 156, 157, 158, 159, 160, 161, 162, 163, 164, 165, 167, 168,\n",
       "       169, 170, 171, 172, 174, 175, 176, 177, 178, 179, 180, 181, 183,\n",
       "       186, 187, 189, 190, 191, 192, 193, 194, 195, 196, 197, 198, 199,\n",
       "       200, 203, 204, 205, 206, 207, 209, 211, 213, 214, 215, 217, 218,\n",
       "       219, 220, 221, 223, 225, 226, 228, 229, 230, 233, 234, 235, 236,\n",
       "       237, 238, 239, 240, 241, 242, 244, 245, 246, 247, 248, 249, 250,\n",
       "       251, 252, 253, 254, 257, 258, 260, 261, 262, 263, 264, 265, 266,\n",
       "       267, 268, 269, 270, 271, 272, 273, 274, 276, 277, 278, 279, 280,\n",
       "       281, 282, 283, 288, 289, 290, 294, 296, 298, 299, 300, 301, 303,\n",
       "       305, 306, 307, 308, 309, 311, 312, 314, 316, 317, 318, 319, 320,\n",
       "       321, 322, 323, 325, 326, 327, 328, 330, 331, 332, 333, 334, 335,\n",
       "       336, 337, 339, 340, 341, 342, 346, 347, 348, 349, 350, 351, 352,\n",
       "       355, 356, 357, 358, 359, 360, 361, 362, 363, 364, 367, 369, 372,\n",
       "       373, 374, 375, 378, 379, 380, 382, 383, 384, 385, 387, 389, 390,\n",
       "       391, 395, 396, 398, 399, 400, 401, 402, 404, 405, 406, 407, 408,\n",
       "       409, 410, 411, 413, 414, 415, 416, 417, 418, 419, 421, 423, 424,\n",
       "       425, 426, 428, 429, 430, 432, 433, 435, 438, 439, 441, 442, 443,\n",
       "       444, 445, 448, 450, 451, 453, 455, 457, 458, 459, 460, 462, 464,\n",
       "       465, 466, 467, 468, 470, 473, 474, 477, 478, 480, 481, 483, 484,\n",
       "       485, 486, 488, 490, 491, 492, 495, 496, 497, 498, 499, 501, 504,\n",
       "       505, 507, 508, 509, 512, 513, 514, 515, 516, 517, 518, 519, 520,\n",
       "       521, 522, 523, 525, 526, 527, 528, 529, 530, 531, 532, 533, 534,\n",
       "       536, 538, 539, 541, 542, 544, 545, 546, 547, 548, 549, 551, 552,\n",
       "       553, 554, 556, 558, 560, 561, 562, 563, 565, 568])"
      ]
     },
     "execution_count": 19,
     "metadata": {},
     "output_type": "execute_result"
    }
   ],
   "source": [
    "from sklearn.model_selection import KFold\n",
    "\n",
    "#KFoldクラスを用いてhold-out法で分割する\n",
    "kf=KFold(n_splits=4,shuffle=True,random_state=71)\n",
    "tr_idx,va_idx=list(kf.split(X))[0]\n",
    "tr_idx"
   ]
  },
  {
   "cell_type": "code",
   "execution_count": 24,
   "metadata": {},
   "outputs": [
    {
     "data": {
      "text/plain": [
       "426"
      ]
     },
     "execution_count": 24,
     "metadata": {},
     "output_type": "execute_result"
    }
   ],
   "source": [
    "len(X[tr_idx])"
   ]
  },
  {
   "cell_type": "markdown",
   "metadata": {},
   "source": [
    "### 5.2.2 クロスバリデーション"
   ]
  },
  {
   "cell_type": "code",
   "execution_count": 28,
   "metadata": {},
   "outputs": [
    {
     "name": "stdout",
     "output_type": "stream",
     "text": [
      "[1.6907149256070286, 3.4052708923293027, 3.405259630393666, 1.2161709913158034]\n"
     ]
    }
   ],
   "source": [
    "from sklearn.metrics import log_loss\n",
    "from sklearn.model_selection import KFold\n",
    "import numpy as np\n",
    "\n",
    "scores=[]\n",
    "\n",
    "kf=KFold(n_splits=4,shuffle=True,random_state=71)\n",
    "for tr_idx,va_idx in kf.split(X):\n",
    "    tr_x,va_x=X[tr_idx],X[va_idx]\n",
    "    tr_y,va_y=y[tr_idx],y[va_idx]\n",
    "    \n",
    "    model=DecisionTreeClassifier()\n",
    "    model.fit(tr_x,tr_y)\n",
    "    va_pred=model.predict(va_x)\n",
    "    score=log_loss(va_y,va_pred)\n",
    "    scores.append(score)\n",
    "    \n",
    "print(scores)"
   ]
  },
  {
   "cell_type": "markdown",
   "metadata": {},
   "source": [
    "### 5.2.3 stratified k-fold"
   ]
  },
  {
   "cell_type": "code",
   "execution_count": 35,
   "metadata": {
    "scrolled": true
   },
   "outputs": [],
   "source": [
    "from sklearn.metrics import log_loss\n",
    "from sklearn.model_selection import StratifiedKFold\n",
    "import numpy as np\n",
    "\n",
    "from sklearn.datasets import load_iris\n",
    "iris = load_iris()\n",
    "X=iris.data\n",
    "y=iris.target"
   ]
  },
  {
   "cell_type": "code",
   "execution_count": 45,
   "metadata": {
    "scrolled": true
   },
   "outputs": [
    {
     "name": "stdout",
     "output_type": "stream",
     "text": [
      "37\n",
      "38\n",
      "37\n"
     ]
    }
   ],
   "source": [
    "kf=StratifiedKFold(n_splits=4,shuffle=True,random_state=71)\n",
    "print((y[list(kf.split(X,y))[0][0]]==0).sum())\n",
    "print((y[list(kf.split(X,y))[0][0]]==1).sum())\n",
    "print((y[list(kf.split(X,y))[0][0]]==2).sum())"
   ]
  },
  {
   "cell_type": "markdown",
   "metadata": {},
   "source": [
    "### 5.2.4 group k-fold"
   ]
  },
  {
   "cell_type": "code",
   "execution_count": 51,
   "metadata": {},
   "outputs": [
    {
     "data": {
      "text/html": [
       "<div>\n",
       "<style scoped>\n",
       "    .dataframe tbody tr th:only-of-type {\n",
       "        vertical-align: middle;\n",
       "    }\n",
       "\n",
       "    .dataframe tbody tr th {\n",
       "        vertical-align: top;\n",
       "    }\n",
       "\n",
       "    .dataframe thead th {\n",
       "        text-align: right;\n",
       "    }\n",
       "</style>\n",
       "<table border=\"1\" class=\"dataframe\">\n",
       "  <thead>\n",
       "    <tr style=\"text-align: right;\">\n",
       "      <th></th>\n",
       "      <th>userID</th>\n",
       "      <th>purchase</th>\n",
       "    </tr>\n",
       "  </thead>\n",
       "  <tbody>\n",
       "    <tr>\n",
       "      <th>0</th>\n",
       "      <td>A1</td>\n",
       "      <td>100</td>\n",
       "    </tr>\n",
       "    <tr>\n",
       "      <th>1</th>\n",
       "      <td>B1</td>\n",
       "      <td>200</td>\n",
       "    </tr>\n",
       "    <tr>\n",
       "      <th>2</th>\n",
       "      <td>C1</td>\n",
       "      <td>100</td>\n",
       "    </tr>\n",
       "  </tbody>\n",
       "</table>\n",
       "</div>"
      ],
      "text/plain": [
       "  userID  purchase\n",
       "0     A1       100\n",
       "1     B1       200\n",
       "2     C1       100"
      ]
     },
     "execution_count": 51,
     "metadata": {},
     "output_type": "execute_result"
    }
   ],
   "source": [
    "import pandas as pd\n",
    "df=pd.DataFrame({'userID':['A1','B1','C1'],'purchase':[100,200,100]})\n",
    "df"
   ]
  },
  {
   "cell_type": "code",
   "execution_count": 53,
   "metadata": {},
   "outputs": [
    {
     "data": {
      "text/plain": [
       "0     True\n",
       "1    False\n",
       "2     True\n",
       "Name: userID, dtype: bool"
      ]
     },
     "execution_count": 53,
     "metadata": {},
     "output_type": "execute_result"
    }
   ],
   "source": [
    "df['userID'].isin(['A1','C1'])"
   ]
  },
  {
   "cell_type": "markdown",
   "metadata": {},
   "source": [
    "### 5.2.5 leave-one-out"
   ]
  },
  {
   "cell_type": "code",
   "execution_count": 56,
   "metadata": {},
   "outputs": [
    {
     "data": {
      "text/plain": [
       "(array([  1,   2,   3,   4,   5,   6,   7,   8,   9,  10,  11,  12,  13,\n",
       "         14,  15,  16,  17,  18,  19,  20,  21,  22,  23,  24,  25,  26,\n",
       "         27,  28,  29,  30,  31,  32,  33,  34,  35,  36,  37,  38,  39,\n",
       "         40,  41,  42,  43,  44,  45,  46,  47,  48,  49,  50,  51,  52,\n",
       "         53,  54,  55,  56,  57,  58,  59,  60,  61,  62,  63,  64,  65,\n",
       "         66,  67,  68,  69,  70,  71,  72,  73,  74,  75,  76,  77,  78,\n",
       "         79,  80,  81,  82,  83,  84,  85,  86,  87,  88,  89,  90,  91,\n",
       "         92,  93,  94,  95,  96,  97,  98,  99, 100, 101, 102, 103, 104,\n",
       "        105, 106, 107, 108, 109, 110, 111, 112, 113, 114, 115, 116, 117,\n",
       "        118, 119, 120, 121, 122, 123, 124, 125, 126, 127, 128, 129, 130,\n",
       "        131, 132, 133, 134, 135, 136, 137, 138, 139, 140, 141, 142, 143,\n",
       "        144, 145, 146, 147, 148, 149]),\n",
       " array([0]))"
      ]
     },
     "execution_count": 56,
     "metadata": {},
     "output_type": "execute_result"
    }
   ],
   "source": [
    "from sklearn.model_selection import LeaveOneOut\n",
    "loo=LeaveOneOut()\n",
    "list(loo.split(X))[0]"
   ]
  },
  {
   "cell_type": "markdown",
   "metadata": {},
   "source": [
    "## 5.3 時系列データのバリデーション手法\n",
    "### 5.3.2 時系列データのクロスバリデーション"
   ]
  },
  {
   "cell_type": "code",
   "execution_count": 62,
   "metadata": {},
   "outputs": [
    {
     "data": {
      "text/plain": [
       "(array([ 0,  1,  2,  3,  4,  5,  6,  7,  8,  9, 10, 11, 12, 13, 14, 15, 16,\n",
       "        17, 18, 19, 20, 21, 22, 23, 24, 25, 26, 27, 28, 29]),\n",
       " array([30, 31, 32, 33, 34, 35, 36, 37, 38, 39, 40, 41, 42, 43, 44, 45, 46,\n",
       "        47, 48, 49, 50, 51, 52, 53, 54, 55, 56, 57, 58, 59]))"
      ]
     },
     "execution_count": 62,
     "metadata": {},
     "output_type": "execute_result"
    }
   ],
   "source": [
    "from sklearn.model_selection import TimeSeriesSplit\n",
    "\n",
    "tss=TimeSeriesSplit(n_splits=4)\n",
    "list(tss.split(X))[0]"
   ]
  },
  {
   "cell_type": "code",
   "execution_count": 63,
   "metadata": {},
   "outputs": [
    {
     "data": {
      "text/plain": [
       "(array([ 0,  1,  2,  3,  4,  5,  6,  7,  8,  9, 10, 11, 12, 13, 14, 15, 16,\n",
       "        17, 18, 19, 20, 21, 22, 23, 24, 25, 26, 27, 28, 29, 30, 31, 32, 33,\n",
       "        34, 35, 36, 37, 38, 39, 40, 41, 42, 43, 44, 45, 46, 47, 48, 49, 50,\n",
       "        51, 52, 53, 54, 55, 56, 57, 58, 59]),\n",
       " array([60, 61, 62, 63, 64, 65, 66, 67, 68, 69, 70, 71, 72, 73, 74, 75, 76,\n",
       "        77, 78, 79, 80, 81, 82, 83, 84, 85, 86, 87, 88, 89]))"
      ]
     },
     "execution_count": 63,
     "metadata": {},
     "output_type": "execute_result"
    }
   ],
   "source": [
    "list(tss.split(X))[1]"
   ]
  }
 ],
 "metadata": {
  "kernelspec": {
   "display_name": "Python 3",
   "language": "python",
   "name": "python3"
  },
  "language_info": {
   "codemirror_mode": {
    "name": "ipython",
    "version": 3
   },
   "file_extension": ".py",
   "mimetype": "text/x-python",
   "name": "python",
   "nbconvert_exporter": "python",
   "pygments_lexer": "ipython3",
   "version": "3.7.6"
  }
 },
 "nbformat": 4,
 "nbformat_minor": 4
}
