{
 "cells": [
  {
   "cell_type": "markdown",
   "metadata": {},
   "source": [
    "# 2章 タスクと評価指標\n",
    "## 2.3 評価指標\n",
    "### 2.3.2 回帰における評価指標"
   ]
  },
  {
   "cell_type": "markdown",
   "metadata": {},
   "source": [
    "#### RMSE(Root Mean Squared Error)"
   ]
  },
  {
   "cell_type": "code",
   "execution_count": 1,
   "metadata": {},
   "outputs": [
    {
     "name": "stdout",
     "output_type": "stream",
     "text": [
      "(yi-yi^)^2: [0.04 0.   0.04 0.01 1.44]\n",
      "RMSE: 0.5531726674375732\n"
     ]
    }
   ],
   "source": [
    "import numpy as np\n",
    "\n",
    "y_true=np.array([1,1.5,2,1.2,1.8])\n",
    "y_pred=np.array([0.8,1.5,1.8,1.3,3.0])\n",
    "\n",
    "print('(yi-yi^)^2:',(y_true-y_pred)**2)\n",
    "print('RMSE:',np.sqrt(((y_true-y_pred)**2).mean())) #平均の平方根"
   ]
  },
  {
   "cell_type": "code",
   "execution_count": 2,
   "metadata": {},
   "outputs": [
    {
     "name": "stdout",
     "output_type": "stream",
     "text": [
      "0.5531726674375732\n"
     ]
    }
   ],
   "source": [
    "#以下で計算可能\n",
    "from sklearn.metrics import mean_squared_error\n",
    "rmse=np.sqrt(mean_squared_error(y_true,y_pred))\n",
    "print(rmse)"
   ]
  },
  {
   "cell_type": "markdown",
   "metadata": {},
   "source": [
    "#### RMSLE(Root Mean Squared Logarithmic Error)"
   ]
  },
  {
   "cell_type": "code",
   "execution_count": 49,
   "metadata": {},
   "outputs": [
    {
     "name": "stdout",
     "output_type": "stream",
     "text": [
      "log(1+yi): [4.61512052 0.         5.99396143]\n",
      "log(1+yi^): [5.30330491 2.39789527 5.30330491]\n",
      "RMSLE: 1.4944905400842203\n"
     ]
    }
   ],
   "source": [
    "#目的変数が裾の思い分布を持ち、大きな値の影響が強い場合に用いられる\n",
    "#真の値と予測値の比率に着目したい場合に用いられる\n",
    "#負に発散するのを防ぐために1を足す\n",
    "\n",
    "y_true=np.array([100,0,400])\n",
    "y_pred=np.array([200,10,200])\n",
    "\n",
    "print('log(1+yi):',np.log(1+y_true))\n",
    "print('log(1+yi^):',np.log(1+y_pred))\n",
    "print('RMSLE:',np.sqrt(((np.log(1+y_true)-np.log(1+y_pred))**2).mean()))"
   ]
  },
  {
   "cell_type": "code",
   "execution_count": 50,
   "metadata": {},
   "outputs": [
    {
     "name": "stdout",
     "output_type": "stream",
     "text": [
      "1.4944905400842203\n"
     ]
    }
   ],
   "source": [
    "#以下で計算可能\n",
    "from sklearn.metrics import mean_squared_log_error\n",
    "rmsle=np.sqrt(mean_squared_log_error(y_true,y_pred))\n",
    "print(rmsle)"
   ]
  },
  {
   "cell_type": "markdown",
   "metadata": {},
   "source": [
    "#### MAE(Mean Absolute Error)"
   ]
  },
  {
   "cell_type": "code",
   "execution_count": 52,
   "metadata": {},
   "outputs": [
    {
     "name": "stdout",
     "output_type": "stream",
     "text": [
      "|yi-yi^: [20 60 40]\n",
      "MAE : 40.0\n"
     ]
    }
   ],
   "source": [
    "y_true=np.array([100,160,60])\n",
    "y_pred=np.array([80,100,100])\n",
    "\n",
    "print('|yi-yi^:',np.abs(y_true-y_pred))\n",
    "print('MAE :',np.abs(y_true-y_pred).mean())"
   ]
  },
  {
   "cell_type": "code",
   "execution_count": 54,
   "metadata": {},
   "outputs": [
    {
     "name": "stdout",
     "output_type": "stream",
     "text": [
      "40.0\n"
     ]
    }
   ],
   "source": [
    "#以下で計算可能\n",
    "from sklearn.metrics import mean_absolute_error\n",
    "mae=mean_absolute_error(y_true,y_pred)\n",
    "print(mae)"
   ]
  },
  {
   "cell_type": "markdown",
   "metadata": {},
   "source": [
    "#### 決定係数"
   ]
  },
  {
   "cell_type": "code",
   "execution_count": 59,
   "metadata": {},
   "outputs": [
    {
     "name": "stdout",
     "output_type": "stream",
     "text": [
      "R2: 0.8255813953488372\n"
     ]
    }
   ],
   "source": [
    "#回帰分析の当てはまりの良さを表す\n",
    "#決定係数を最大化することは、RMSEを最小化することと同じ\n",
    "\n",
    "y_true=np.array([100,130,135])\n",
    "y_pred=np.array([100,120,140])\n",
    "\n",
    "R2=1-((y_true-y_pred)**2).sum()/((y_true-y_true.mean())**2).sum()\n",
    "print('R2:',R2)"
   ]
  },
  {
   "cell_type": "code",
   "execution_count": 60,
   "metadata": {
    "scrolled": true
   },
   "outputs": [
    {
     "name": "stdout",
     "output_type": "stream",
     "text": [
      "0.8255813953488372\n"
     ]
    }
   ],
   "source": [
    "from sklearn.metrics import r2_score\n",
    "R2=r2_score(y_true,y_pred)\n",
    "print(R2)"
   ]
  },
  {
   "cell_type": "markdown",
   "metadata": {},
   "source": [
    "### 2.3.3 二値分類における評価指標"
   ]
  },
  {
   "cell_type": "markdown",
   "metadata": {},
   "source": [
    "#### 混同行列(confusion matrix)"
   ]
  },
  {
   "cell_type": "code",
   "execution_count": 67,
   "metadata": {},
   "outputs": [
    {
     "name": "stdout",
     "output_type": "stream",
     "text": [
      "[[3 1]\n",
      " [2 2]]\n"
     ]
    }
   ],
   "source": [
    "from sklearn.metrics import confusion_matrix\n",
    "\n",
    "y_true=[1,0,1,1,0,1,1,0]\n",
    "y_pred=[0,0,1,1,0,0,1,1]\n",
    "\n",
    "tp=np.sum((np.array(y_true)==1)&(np.array(y_pred)==1))\n",
    "tn=np.sum((np.array(y_true)==0)&(np.array(y_pred)==0))\n",
    "fp=np.sum((np.array(y_true)==0)&(np.array(y_pred)==1))\n",
    "fn=np.sum((np.array(y_true)==1)&(np.array(y_pred)==0))\n",
    "\n",
    "confusion_matrix1=np.array([[tp,fp],\n",
    "                          [fn,tn]])\n",
    "print(confusion_matrix1)"
   ]
  },
  {
   "cell_type": "code",
   "execution_count": 69,
   "metadata": {},
   "outputs": [
    {
     "data": {
      "text/plain": [
       "array([[2, 1],\n",
       "       [2, 3]], dtype=int64)"
      ]
     },
     "execution_count": 69,
     "metadata": {},
     "output_type": "execute_result"
    }
   ],
   "source": [
    "#以下でも計算可能\n",
    "#配置に注意\n",
    "confusion_matrix(y_true,y_pred)"
   ]
  },
  {
   "cell_type": "markdown",
   "metadata": {},
   "source": [
    "#### accuracy(正解率)とerror rate(誤答率)"
   ]
  },
  {
   "cell_type": "code",
   "execution_count": 75,
   "metadata": {
    "scrolled": true
   },
   "outputs": [
    {
     "name": "stdout",
     "output_type": "stream",
     "text": [
      "accuracy: 0.625\n",
      "error rate: 0.375\n"
     ]
    }
   ],
   "source": [
    "#不均衡なデータには適していない\n",
    "from sklearn.metrics import accuracy_score\n",
    "\n",
    "y_true=[1,0,1,1,0,1,1,0]\n",
    "y_pred=[0,0,1,1,0,0,1,1]\n",
    "\n",
    "accuracy=(tp+tn)/(tp+tn+fp+fn)\n",
    "print('accuracy:',accuracy)\n",
    "print('error rate:',1-accuracy)"
   ]
  },
  {
   "cell_type": "code",
   "execution_count": 77,
   "metadata": {},
   "outputs": [
    {
     "name": "stdout",
     "output_type": "stream",
     "text": [
      "accuracy: 0.625\n"
     ]
    }
   ],
   "source": [
    "#以下でも計算可能\n",
    "accuracy=accuracy_score(y_true,y_pred)\n",
    "print('accuracy:',accuracy)"
   ]
  },
  {
   "cell_type": "markdown",
   "metadata": {},
   "source": [
    "#### precision(適合率)とrecall（正解率)"
   ]
  },
  {
   "cell_type": "code",
   "execution_count": 101,
   "metadata": {},
   "outputs": [
    {
     "name": "stdout",
     "output_type": "stream",
     "text": [
      "precision_score: 0.75\n",
      "recall_score: 0.6\n"
     ]
    }
   ],
   "source": [
    "print('precision_score:',(tp/(tp+fp))) #過検出\n",
    "print('recall_score:',(tp/(tp+fn))) #未検出"
   ]
  },
  {
   "cell_type": "code",
   "execution_count": 94,
   "metadata": {},
   "outputs": [
    {
     "name": "stdout",
     "output_type": "stream",
     "text": [
      "precision_score: 0.75\n",
      "recall_score: 0.6\n"
     ]
    }
   ],
   "source": [
    "#以下でも計算可能\n",
    "from sklearn.metrics import precision_score,recall_score\n",
    "precision=precision_score(y_true,y_pred)\n",
    "recall=recall_score(y_true,y_pred)\n",
    "print('precision_score:',precision)\n",
    "print('recall_score:',recall)"
   ]
  },
  {
   "cell_type": "markdown",
   "metadata": {},
   "source": [
    "#### F1-scoreとFβ-score"
   ]
  },
  {
   "cell_type": "code",
   "execution_count": 104,
   "metadata": {},
   "outputs": [
    {
     "name": "stdout",
     "output_type": "stream",
     "text": [
      "F1-score: 0.6666666666666666\n",
      "Fβ-score 0.6666666666666666\n"
     ]
    }
   ],
   "source": [
    "#F1はrecallとprecisionの調和平均\n",
    "#βはrecallをどれだけ重視するかを表す\n",
    "#正負を対称に扱わないため、正負入れ替えると結果が変わる\n",
    "b=1\n",
    "F1=2/(1/recall+1/precision)\n",
    "Fβ=(1+b**2)/(b**2/recall+1/precision)\n",
    "\n",
    "print('F1-score:',F1)\n",
    "print('Fβ-score',Fβ)"
   ]
  },
  {
   "cell_type": "code",
   "execution_count": 106,
   "metadata": {},
   "outputs": [
    {
     "name": "stdout",
     "output_type": "stream",
     "text": [
      "F1-score 0.6666666666666665\n",
      "Fβ-score 0.6666666666666665\n"
     ]
    }
   ],
   "source": [
    "#以下でも計算可能\n",
    "from sklearn.metrics import f1_score,fbeta_score\n",
    "print('F1-score',f1_score(y_true,y_pred))\n",
    "print('Fβ-score',fbeta_score(y_true,y_pred,1))"
   ]
  },
  {
   "cell_type": "markdown",
   "metadata": {},
   "source": [
    "#### MCC(Matthews Correlation Coefficient)"
   ]
  },
  {
   "cell_type": "code",
   "execution_count": 110,
   "metadata": {
    "scrolled": true
   },
   "outputs": [
    {
     "name": "stdout",
     "output_type": "stream",
     "text": [
      "MCC: 0.2581988897471611\n"
     ]
    }
   ],
   "source": [
    "#不均衡なデータに対して性能を評価しやすい\n",
    "#正負に対して対称なので、入れ替えても同じ\n",
    "print('MCC:',(tp*tn-fp*fn)/np.sqrt((tp+fp)*(tp+fn)*(tn+fp)*(tn+fn)))"
   ]
  },
  {
   "cell_type": "code",
   "execution_count": 109,
   "metadata": {
    "scrolled": true
   },
   "outputs": [
    {
     "data": {
      "text/plain": [
       "0.2581988897471611"
      ]
     },
     "execution_count": 109,
     "metadata": {},
     "output_type": "execute_result"
    }
   ],
   "source": [
    "#以下でも計算可能\n",
    "from sklearn.metrics import matthews_corrcoef\n",
    "matthews_corrcoef(y_true,y_pred)"
   ]
  },
  {
   "cell_type": "markdown",
   "metadata": {},
   "source": [
    "### 2.3.4 二値分類における評価指標～確率～"
   ]
  },
  {
   "cell_type": "markdown",
   "metadata": {},
   "source": [
    "#### logloss"
   ]
  },
  {
   "cell_type": "code",
   "execution_count": 19,
   "metadata": {},
   "outputs": [
    {
     "name": "stdout",
     "output_type": "stream",
     "text": [
      "pi: [0.9 0.5 0.9]\n",
      "-logpi: [0.10536052 0.69314718 0.10536052]\n",
      "logloss: 0.3012894039585326\n"
     ]
    }
   ],
   "source": [
    "#低いほうが良い指標\n",
    "#正解と確率が大きく異なるときにペナルティが与えられる\n",
    "y_true=np.array([1,1,0])\n",
    "y_pred=np.array([0.9,0.5,0.1])\n",
    "\n",
    "pi=y_pred.copy()\n",
    "for i in range(len(y_true)):\n",
    "    if y_true[i]==0:\n",
    "        pi[i]=1-y_pred[i]\n",
    "    else:\n",
    "        pi[i]=y_pred[i]\n",
    "        \n",
    "print('pi:',pi)\n",
    "print('-logpi:',-np.log(pi))\n",
    "\n",
    "print('logloss:',(-np.log(pi)).mean())"
   ]
  },
  {
   "cell_type": "code",
   "execution_count": 18,
   "metadata": {},
   "outputs": [
    {
     "name": "stdout",
     "output_type": "stream",
     "text": [
      "0.7135581778200728\n"
     ]
    }
   ],
   "source": [
    "#以下でも計算可能\n",
    "from sklearn.metrics import log_loss\n",
    "\n",
    "#0,1で表される二値分類の真の値と予測確率\n",
    "y_true=[1,0,1,1,0,1]\n",
    "y_prob=[0.1,0.2,0.8,0.8,0.1,0.3]\n",
    "\n",
    "logloss=log_loss(y_true,y_prob)\n",
    "print(logloss)"
   ]
  },
  {
   "cell_type": "markdown",
   "metadata": {},
   "source": [
    "###### AUC(Area Under the ROC Curve)"
   ]
  },
  {
   "cell_type": "code",
   "execution_count": 25,
   "metadata": {},
   "outputs": [
    {
     "data": {
      "text/plain": [
       "1.0"
      ]
     },
     "execution_count": 25,
     "metadata": {},
     "output_type": "execute_result"
    }
   ],
   "source": [
    "#正例と負例をランダムに選んだ時に、正例の予測値が負例を上回る確率\n",
    "#Gini係数=2*AUC-1\n",
    "\n",
    "y_true=np.array([1,1,1,1,1,1,1,1,0,0,0,0,0,0,0])\n",
    "y_pred=np.array([15,14,13,12,11,10,9,8,7,6,5,4,3,2,1]) #y_predは順番のみ重要になる\n",
    "\n",
    "from sklearn.metrics import roc_auc_score\n",
    "roc_auc_score(y_true,y_pred)"
   ]
  },
  {
   "cell_type": "markdown",
   "metadata": {},
   "source": [
    "### 2.3.5 多クラス分類における評価指標\n",
    "###### multi-class accuracy"
   ]
  },
  {
   "cell_type": "code",
   "execution_count": 27,
   "metadata": {},
   "outputs": [
    {
     "name": "stdout",
     "output_type": "stream",
     "text": [
      "accuracy: 0.8333333333333334\n"
     ]
    }
   ],
   "source": [
    "from sklearn.metrics import accuracy_score\n",
    "y_true=np.array([0,1,2,0,1,2])\n",
    "y_pred=np.array([0,1,1,0,1,2])\n",
    "\n",
    "#以下でも計算可能\n",
    "accuracy=accuracy_score(y_true,y_pred)\n",
    "print('accuracy:',accuracy)"
   ]
  },
  {
   "cell_type": "markdown",
   "metadata": {},
   "source": [
    "###### logloss"
   ]
  },
  {
   "cell_type": "code",
   "execution_count": 28,
   "metadata": {},
   "outputs": [
    {
     "name": "stdout",
     "output_type": "stream",
     "text": [
      "0.3625557672904274\n"
     ]
    }
   ],
   "source": [
    "from sklearn.metrics import log_loss\n",
    "\n",
    "#3クラス分類の真の値と予測値\n",
    "y_true=np.array([0,2,1,2,2])\n",
    "y_pred=np.array([[0.68,0.32,0],\n",
    "                [0,0,1],\n",
    "                [0.6,0.4,0],\n",
    "                [0,0,1],\n",
    "                [0.28,0.12,0.6]])\n",
    "\n",
    "logloss=log_loss(y_true,y_pred)\n",
    "print(logloss)"
   ]
  },
  {
   "cell_type": "markdown",
   "metadata": {},
   "source": [
    "###### mean-F1,macro-F1,micro-F1"
   ]
  },
  {
   "cell_type": "code",
   "execution_count": 15,
   "metadata": {},
   "outputs": [
    {
     "name": "stdout",
     "output_type": "stream",
     "text": [
      "mean_f1:0.5933333333333334\n",
      "macro_f1:0.5523809523809523\n",
      "micro_f1:0.6250000000000001\n"
     ]
    }
   ],
   "source": [
    "from sklearn.metrics import f1_score\n",
    "\n",
    "y_true=np.array([[1,1,0],\n",
    "                [1,0,0],\n",
    "                [1,1,1],\n",
    "                [0,1,1],\n",
    "                [0,0,1]])\n",
    "y_pred=np.array([[1,0,1],\n",
    "                [0,1,0],\n",
    "                [1,0,1],\n",
    "                [0,0,1],\n",
    "                [0,0,1]])\n",
    "\n",
    "#mean-f1はレコード事にF1-scoreを計算し平均をとる\n",
    "mean_f1=np.mean([f1_score(y_true[i,:],y_pred[i,:]) for i in range(len(y_true))])\n",
    "print('mean_f1:{}'.format(mean_f1))\n",
    "\n",
    "#macro-f1はクラス毎にF1-scoreを計算して平均をとる\n",
    "macro_f1=np.mean([f1_score(y_true[:,i],y_pred[:,i]) for i in range(len(y_true[0]))])\n",
    "print('macro_f1:{}'.format(macro_f1))\n",
    "\n",
    "#micro-f1はレコード＊クラスのペア毎にTP/TN/FP/FNを計算し、F1-scoreを求める\n",
    "micro_f1=f1_score(y_true.reshape(-1),y_pred.reshape(-1))\n",
    "print('micro_f1:{}'.format(micro_f1))"
   ]
  },
  {
   "cell_type": "code",
   "execution_count": 16,
   "metadata": {},
   "outputs": [
    {
     "name": "stdout",
     "output_type": "stream",
     "text": [
      "mean_f1:0.5933333333333334\n",
      "macro_f1:0.5523809523809523\n",
      "micro_f1:0.6250000000000001\n"
     ]
    }
   ],
   "source": [
    "#以下で計算可能\n",
    "mean_f1=f1_score(y_true,y_pred,average='samples')\n",
    "print('mean_f1:{}'.format(mean_f1))\n",
    "macro_f1=f1_score(y_true,y_pred,average='macro')\n",
    "print('macro_f1:{}'.format(macro_f1))\n",
    "micro_f1=f1_score(y_true,y_pred,average='micro')\n",
    "print('micro_f1:{}'.format(micro_f1))"
   ]
  },
  {
   "cell_type": "markdown",
   "metadata": {},
   "source": [
    "###### quadratic weighted kappa"
   ]
  },
  {
   "cell_type": "code",
   "execution_count": 30,
   "metadata": {},
   "outputs": [
    {
     "name": "stdout",
     "output_type": "stream",
     "text": [
      "kappa:0.6153846153846154\n"
     ]
    }
   ],
   "source": [
    "#クラス間に順序関係があるような場合に使用される\n",
    "\n",
    "from sklearn.metrics import confusion_matrix\n",
    "\n",
    "y_true=[1,2,3,4,3]\n",
    "y_pred=[2,2,4,4,5]\n",
    "\n",
    "#混合行列を計算\n",
    "c_matrix=confusion_matrix(y_true,y_pred)\n",
    "\n",
    "numer=0\n",
    "denom=0\n",
    "\n",
    "for i in range(len(y_true)):\n",
    "    for j in range(len(y_true)):\n",
    "        wij=(i-j)**2\n",
    "        oij=c_matrix[i,j]\n",
    "        eij=c_matrix[i,:].sum()*c_matrix[:,j].sum()/c_matrix[:,:].sum()\n",
    "        \n",
    "        numer+=wij*oij\n",
    "        denom+=wij*eij\n",
    "        \n",
    "print('kappa:{}'.format(1-numer/denom))"
   ]
  },
  {
   "cell_type": "code",
   "execution_count": 34,
   "metadata": {
    "scrolled": true
   },
   "outputs": [
    {
     "name": "stdout",
     "output_type": "stream",
     "text": [
      "kappa:0.6153846153846154\n"
     ]
    }
   ],
   "source": [
    "#以下で計算可能\n",
    "from sklearn.metrics import cohen_kappa_score\n",
    "kappa=cohen_kappa_score(y_true,y_pred,weights='quadratic') #quadraticは2次の意味(wij)\n",
    "print('kappa:{}'.format(kappa))"
   ]
  },
  {
   "cell_type": "markdown",
   "metadata": {},
   "source": [
    "### 2.3.6 レコメンデーションにおける評価指標\n",
    "###### MAP@K:Mean Average Precision @ K"
   ]
  },
  {
   "cell_type": "code",
   "execution_count": 40,
   "metadata": {},
   "outputs": [
    {
     "name": "stdout",
     "output_type": "stream",
     "text": [
      "0.6499999999999999\n"
     ]
    }
   ],
   "source": [
    "#K=3、レコード数は5、クラスは4種類とする\n",
    "K=3\n",
    "\n",
    "#各レコードの真の値\n",
    "y_true=[[1,2],[1,2],[4],[1,2,3,4],[3,4]]\n",
    "\n",
    "#各レコードに対する予測値\n",
    "y_pred=[[1,2,4],[4,1,2],[1,4,3],[1,2,3],[1,2,4]]\n",
    "\n",
    "#各レコード毎のaverage precisionを計算する関数\n",
    "def apk(y_i_true,y_i_pred):\n",
    "    #y_predがK以下の長さで、要素がすべて異なることを確認\n",
    "    assert (len(y_i_pred)<=K)\n",
    "    assert (len(np.unique(y_i_pred))==len(y_i_pred))\n",
    "    \n",
    "    sum_precision=0\n",
    "    num_hits=0\n",
    "    \n",
    "    for i,p in enumerate(y_i_pred):\n",
    "        if p in y_i_true:\n",
    "            num_hits+=1\n",
    "            precision=num_hits/(i+1)\n",
    "            sum_precision+=precision\n",
    "            \n",
    "    return sum_precision/min(len(y_i_true),K)\n",
    "\n",
    "#計算\n",
    "result=np.mean([apk(y_i_true,y_i_pred) for y_i_true,y_i_pred in zip(y_true,y_pred)])\n",
    "print(result)"
   ]
  },
  {
   "cell_type": "code",
   "execution_count": 39,
   "metadata": {},
   "outputs": [
    {
     "name": "stdout",
     "output_type": "stream",
     "text": [
      "1.0\n",
      "0.5833333333333333\n"
     ]
    }
   ],
   "source": [
    "print(apk(y_true[0],y_pred[0])) #正解しているため1\n",
    "print(apk(y_true[1],y_pred[1])) #正解はしているが順序が異なるためスコアが低い"
   ]
  },
  {
   "cell_type": "markdown",
   "metadata": {},
   "source": [
    "## 2.4 評価指標と目的関数\n",
    "### 2.4.2 カスタム評価指標とカスタム目的関数"
   ]
  },
  {
   "cell_type": "code",
   "execution_count": 44,
   "metadata": {},
   "outputs": [],
   "source": [
    "from sklearn.datasets import load_breast_cancer\n",
    "from sklearn.model_selection import train_test_split\n",
    "\n",
    "cancer=load_breast_cancer()\n",
    "X_train,X_test,y_train,y_test=train_test_split(\n",
    "cancer.data,cancer.target,stratify=cancer.target,random_state=42)"
   ]
  },
  {
   "cell_type": "code",
   "execution_count": 74,
   "metadata": {},
   "outputs": [
    {
     "name": "stdout",
     "output_type": "stream",
     "text": [
      "[01:22:15] WARNING: C:\\Users\\Administrator\\workspace\\xgboost-win64_release_1.1.0\\src\\learner.cc:480: \n",
      "Parameters: { randomstate, silent } might not be used.\n",
      "\n",
      "  This may not be accurate due to some parameters are only used in language bindings but\n",
      "  passed down to XGBoost core.  Or some parameters are not used but slip through this\n",
      "  verification. Please open an issue if you find above cases.\n",
      "\n",
      "\n",
      "[0]\ttrain-error:0.02347\teval-error:0.06294\n",
      "[1]\ttrain-error:0.01409\teval-error:0.05594\n",
      "[2]\ttrain-error:0.00939\teval-error:0.06993\n",
      "[3]\ttrain-error:0.00939\teval-error:0.06294\n",
      "[4]\ttrain-error:0.00704\teval-error:0.06294\n",
      "[5]\ttrain-error:0.00704\teval-error:0.05594\n",
      "[6]\ttrain-error:0.00470\teval-error:0.05594\n",
      "[7]\ttrain-error:0.00470\teval-error:0.05594\n",
      "[8]\ttrain-error:0.00470\teval-error:0.05594\n",
      "[9]\ttrain-error:0.00470\teval-error:0.06294\n",
      "0.13265311613783137\n"
     ]
    }
   ],
   "source": [
    "import xgboost as xgb\n",
    "from sklearn.metrics import log_loss\n",
    "\n",
    "#特徴量と目的変数をxgboostのデータ構造に変換する\n",
    "dtrain=xgb.DMatrix(X_train,label=y_train)\n",
    "dvalid=xgb.DMatrix(X_test,label=y_test)\n",
    "\n",
    "#ハイパーパラメータの設定\n",
    "params={'silent':1,'randomstate':71,'objective':'binary:logistic'}\n",
    "num_round=10\n",
    "watchlist=[(dtrain,'train'),(dvalid,'eval')]\n",
    "\n",
    "#モデルの学習の実行\n",
    "bst=xgb.train(params,dtrain,num_round,watchlist)\n",
    "\n",
    "pred=bst.predict(dvalid)\n",
    "logloss=log_loss(y_test,pred)\n",
    "print(logloss)"
   ]
  },
  {
   "cell_type": "code",
   "execution_count": 75,
   "metadata": {
    "scrolled": true
   },
   "outputs": [
    {
     "name": "stdout",
     "output_type": "stream",
     "text": [
      "[01:22:22] WARNING: C:\\Users\\Administrator\\workspace\\xgboost-win64_release_1.1.0\\src\\learner.cc:480: \n",
      "Parameters: { randomstate, silent } might not be used.\n",
      "\n",
      "  This may not be accurate due to some parameters are only used in language bindings but\n",
      "  passed down to XGBoost core.  Or some parameters are not used but slip through this\n",
      "  verification. Please open an issue if you find above cases.\n",
      "\n",
      "\n",
      "[0]\ttrain-rmse:0.20260\teval-rmse:0.28950\ttrain-customerror:0.02817\teval-customerror:0.04895\n",
      "[1]\ttrain-rmse:0.52833\teval-rmse:0.57972\ttrain-customerror:0.01409\teval-customerror:0.06993\n",
      "[2]\ttrain-rmse:0.87204\teval-rmse:0.91524\ttrain-customerror:0.00704\teval-customerror:0.06993\n",
      "[3]\ttrain-rmse:1.18695\teval-rmse:1.20231\ttrain-customerror:0.00939\teval-customerror:0.06993\n",
      "[4]\ttrain-rmse:1.48862\teval-rmse:1.50450\ttrain-customerror:0.00704\teval-customerror:0.05594\n",
      "[5]\ttrain-rmse:1.77133\teval-rmse:1.78337\ttrain-customerror:0.00939\teval-customerror:0.05594\n",
      "[6]\ttrain-rmse:2.03232\teval-rmse:2.03950\ttrain-customerror:0.00704\teval-customerror:0.05594\n",
      "[7]\ttrain-rmse:2.28256\teval-rmse:2.28724\ttrain-customerror:0.00704\teval-customerror:0.04895\n",
      "[8]\ttrain-rmse:2.52071\teval-rmse:2.51296\ttrain-customerror:0.00470\teval-customerror:0.04895\n",
      "[9]\ttrain-rmse:2.75230\teval-rmse:2.72981\ttrain-customerror:0.00470\teval-customerror:0.04895\n",
      "0.13421750425562992\n"
     ]
    }
   ],
   "source": [
    "import xgboost as xgb\n",
    "from sklearn.metrics import log_loss\n",
    "\n",
    "#特徴量と目的変数をxgboostのデータ構造に変換する\n",
    "dtrain=xgb.DMatrix(X_train,label=y_train)\n",
    "dvalid=xgb.DMatrix(X_test,label=y_test)\n",
    "\n",
    "#カスタム目的関数\n",
    "def logregobj(preds, dtrain):\n",
    "    labels = dtrain.get_label()\n",
    "    preds = 1.0 / (1.0 + np.exp(-preds))\n",
    "    grad = preds - labels\n",
    "    hess = preds * (1.0 - preds)\n",
    "    return grad, hess\n",
    "\n",
    "#カスタム評価指標\n",
    "def evalerror(preds,dtrain):\n",
    "    labels=dtrain.get_label()\n",
    "    return 'customerror',float(sum(labels != (preds>0.0)))/len(labels)\n",
    "\n",
    "#ハイパーパラメータの設定\n",
    "params={'silent':1,'randomstate':71}\n",
    "num_round=10\n",
    "watchlist=[(dtrain,'train'),(dvalid,'eval')]\n",
    "\n",
    "#モデルの学習の実行\n",
    "bst=xgb.train(params,dtrain,num_round,watchlist,obj=logregobj,feval=evalerror)\n",
    "\n",
    "#確率に変換する前の値で予測値が出力されるので変換が必要\n",
    "pred_val=bst.predict(dvalid)\n",
    "pred=1.0/(1.0+np.exp(-pred_val))\n",
    "logloss=log_loss(y_test,pred)\n",
    "print(logloss)"
   ]
  },
  {
   "cell_type": "markdown",
   "metadata": {},
   "source": [
    "## 2.5 評価指標の最適化\n",
    "### 2.5.2 閾値の最適化"
   ]
  },
  {
   "cell_type": "code",
   "execution_count": 34,
   "metadata": {},
   "outputs": [],
   "source": [
    "from sklearn.metrics import f1_score\n",
    "from scipy.optimize import minimize\n",
    "import numpy as np\n",
    "import pandas as pd"
   ]
  },
  {
   "cell_type": "code",
   "execution_count": 8,
   "metadata": {},
   "outputs": [],
   "source": [
    "#サンプルデータ生成の準備\n",
    "rand=np.random.RandomState(seed=71)\n",
    "train_y_prob=np.linspace(0,1.0,10000)"
   ]
  },
  {
   "cell_type": "code",
   "execution_count": 15,
   "metadata": {},
   "outputs": [],
   "source": [
    "#真の値と予測値が以下のtrain_y,train_pred_probであったとする\n",
    "train_y=pd.Series(rand.uniform(0.0,1.0,train_y_prob.size)<train_y_prob)\n",
    "train_pred_prob=np.clip(train_y_prob*np.exp(rand.standard_normal(train_y_prob.shape)*0.3),0.0,1.0)"
   ]
  },
  {
   "cell_type": "code",
   "execution_count": 24,
   "metadata": {
    "scrolled": true
   },
   "outputs": [
    {
     "data": {
      "text/plain": [
       "<matplotlib.collections.PathCollection at 0x1a07aa79788>"
      ]
     },
     "execution_count": 24,
     "metadata": {},
     "output_type": "execute_result"
    },
    {
     "data": {
      "image/png": "[encoded data removed]",
      "text/plain": [
       "<Figure size 432x288 with 1 Axes>"
      ]
     },
     "metadata": {
      "needs_background": "light"
     },
     "output_type": "display_data"
    }
   ],
   "source": [
    "import matplotlib.pyplot as plt\n",
    "plt.scatter(train_pred_prob,train_y,alpha=0.1,s=0.1)"
   ]
  },
  {
   "cell_type": "code",
   "execution_count": 19,
   "metadata": {
    "scrolled": true
   },
   "outputs": [
    {
     "name": "stdout",
     "output_type": "stream",
     "text": [
      "0.5 0.7146233686157641\n"
     ]
    }
   ],
   "source": [
    "init_threshold=0.5\n",
    "init_score=f1_score(train_y,train_pred_prob>=init_threshold)\n",
    "print(init_threshold,init_score)"
   ]
  },
  {
   "cell_type": "code",
   "execution_count": 27,
   "metadata": {},
   "outputs": [
    {
     "name": "stdout",
     "output_type": "stream",
     "text": [
      "0.3295898437499998 0.7496095783446122\n"
     ]
    }
   ],
   "source": [
    "def f1_opt(x):\n",
    "    return -f1_score(train_y,train_pred_prob>=x)\n",
    "\n",
    "result=minimize(f1_opt,x0=np.array([0.5]),method='Nelder-Mead')\n",
    "best_threshold=result['x'].item()\n",
    "best_score=f1_score(train_y,train_pred_prob>=best_threshold)\n",
    "print(best_threshold,best_score)"
   ]
  },
  {
   "cell_type": "markdown",
   "metadata": {},
   "source": [
    "### 2.5.3 閾値の最適化をout-of-foldで行うべきか"
   ]
  },
  {
   "cell_type": "code",
   "execution_count": 35,
   "metadata": {},
   "outputs": [],
   "source": [
    "#サンプルデータ生成の準備\n",
    "rand=np.random.RandomState(seed=71)\n",
    "train_y_prob=np.linspace(0,1.0,10000)"
   ]
  },
  {
   "cell_type": "code",
   "execution_count": 36,
   "metadata": {},
   "outputs": [],
   "source": [
    "train_y=pd.Series(rand.uniform(0.0,1.0,train_y_prob.size)<train_y_prob)\n",
    "train_pred_prob=np.clip(train_y_prob*np.exp(rand.standard_normal(train_y_prob.shape)*0.3),0.0,1.0)"
   ]
  },
  {
   "cell_type": "code",
   "execution_count": 38,
   "metadata": {},
   "outputs": [
    {
     "name": "stdout",
     "output_type": "stream",
     "text": [
      "0.34257812499999984 0.7559183673469387 0.7570422535211268\n",
      "0.34277343749999983 0.7598457403295548 0.7450980392156863\n",
      "0.31787109374999983 0.7548253676470588 0.7584803256445047\n",
      "0.3234374999999998 0.7545569184913447 0.7588603196664351\n",
      "0.33166503906249983\n"
     ]
    }
   ],
   "source": [
    "from sklearn.model_selection import KFold\n",
    "thresholds=[]\n",
    "scores_tr=[]\n",
    "scores_va=[]\n",
    "kf=KFold(n_splits=4,random_state=71,shuffle=True)\n",
    "for i, (tr_idx,va_idx) in enumerate(kf.split(train_pred_prob)):\n",
    "    tr_pred_prob,va_pred_prob=train_pred_prob[tr_idx],train_pred_prob[va_idx]\n",
    "    tr_y,va_y=train_y.iloc[tr_idx],train_y.iloc[va_idx]\n",
    "    \n",
    "    def f1_opt(x):\n",
    "        return -f1_score(tr_y,tr_pred_prob>=x)\n",
    "    \n",
    "    result=minimize(f1_opt,x0=np.array([0.5]),method='Nelder-Mead')\n",
    "    threshold=result['x'].item()\n",
    "    \n",
    "    score_tr=f1_score(tr_y,tr_pred_prob>=threshold)\n",
    "    score_va=f1_score(va_y,va_pred_prob>=threshold)\n",
    "    print(threshold,score_tr,score_va)\n",
    "    \n",
    "    thresholds.append(threshold)\n",
    "    scores_tr.append(score_tr)\n",
    "    scores_va.append(score_va)\n",
    "    \n",
    "threshold_test=np.mean(thresholds)\n",
    "print(threshold_test)"
   ]
  },
  {
   "cell_type": "code",
   "execution_count": null,
   "metadata": {},
   "outputs": [],
   "source": []
  },
  {
   "cell_type": "code",
   "execution_count": null,
   "metadata": {},
   "outputs": [],
   "source": []
  }
 ],
 "metadata": {
  "kernelspec": {
   "display_name": "Python 3",
   "language": "python",
   "name": "python3"
  },
  "language_info": {
   "codemirror_mode": {
    "name": "ipython",
    "version": 3
   },
   "file_extension": ".py",
   "mimetype": "text/x-python",
   "name": "python",
   "nbconvert_exporter": "python",
   "pygments_lexer": "ipython3",
   "version": "3.7.6"
  }
 },
 "nbformat": 4,
 "nbformat_minor": 4
}
