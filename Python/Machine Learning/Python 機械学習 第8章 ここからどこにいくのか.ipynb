{
 "cells": [
  {
   "cell_type": "markdown",
   "metadata": {},
   "source": [
    "# 第8章 ここからどこにいくのか"
   ]
  },
  {
   "cell_type": "markdown",
   "metadata": {},
   "source": [
    "## 8.4 独自Estimatorの構築"
   ]
  },
  {
   "cell_type": "code",
   "execution_count": 1,
   "metadata": {},
   "outputs": [],
   "source": [
    "#変換器クラスを実装するにはBaseEstimator, TransformerMixinを使う\n",
    "#クラス分類器、回帰器を実装する場合はTransformerMixinではなくClassifierMixinやRegressorMixinを用い\n",
    "#transformではなくpredictを実装する\n",
    "\n",
    "from sklearn.base import BaseEstimator,TransformerMixin\n",
    "\n",
    "class MyTransformer(BaseEstimator,TransformerMixin):\n",
    "    def __init__(self,first_parameter=1,second_parameter=2):\n",
    "        #すべてのパラメータを__init__メソッドで指定する\n",
    "        self.first_parameter=1\n",
    "        self.second_parameter=2\n",
    "        \n",
    "    def fit(self,X,y=None):\n",
    "        #fitはXとyだけを引数とする\n",
    "        #モデルが教師無しであっても、引数yを受け付ける必要がある\n",
    "        \n",
    "        #モデルの学習をここで行う\n",
    "        print('fitting the model right here')\n",
    "        #fitはselfを返す\n",
    "        return self\n",
    "    \n",
    "    def transform(self,X):\n",
    "        #transformは引数Xだけを受け取る\n",
    "        \n",
    "        #Xに対して変換を行う\n",
    "        X_transformed=X+1\n",
    "        return X_transformed"
   ]
  },
  {
   "cell_type": "code",
   "execution_count": 2,
   "metadata": {},
   "outputs": [
    {
     "name": "stdout",
     "output_type": "stream",
     "text": [
      "I'm a Tama.\n",
      "I'm a Pochi. bow-wow!\n"
     ]
    }
   ],
   "source": [
    "#補足\n",
    "#classの継承を行っている\n",
    "\n",
    "class animal():\n",
    "    def __init__(self, name):\n",
    "        self.name = name\n",
    "    def message(self):\n",
    "        print(\"I'm a \" + self.name + \".\")\n",
    "    \n",
    "class dog(animal):\n",
    "    def message(self):\n",
    "        print (\"I'm a \" + self.name + \". bow-wow!\")\n",
    " \n",
    "tama = animal(\"Tama\")\n",
    "tama.message()\n",
    " \n",
    "pochi = dog(\"Pochi\")\n",
    "pochi.message()"
   ]
  }
 ],
 "metadata": {
  "kernelspec": {
   "display_name": "Python 3",
   "language": "python",
   "name": "python3"
  },
  "language_info": {
   "codemirror_mode": {
    "name": "ipython",
    "version": 3
   },
   "file_extension": ".py",
   "mimetype": "text/x-python",
   "name": "python",
   "nbconvert_exporter": "python",
   "pygments_lexer": "ipython3",
   "version": "3.7.6"
  }
 },
 "nbformat": 4,
 "nbformat_minor": 2
}
