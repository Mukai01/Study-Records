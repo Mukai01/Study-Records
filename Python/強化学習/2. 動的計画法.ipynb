{
 "cells": [
  {
   "cell_type": "markdown",
   "id": "64b5f7f4",
   "metadata": {},
   "source": [
    "# 方策評価"
   ]
  },
  {
   "cell_type": "code",
   "execution_count": 1,
   "id": "14ce2e02",
   "metadata": {},
   "outputs": [
    {
     "name": "stdout",
     "output_type": "stream",
     "text": [
      "{'L1': 0.0, 'L2': -0.5}\n",
      "{'L1': -0.22499999999999998, 'L2': -0.725}\n",
      "{'L1': -0.42749999999999994, 'L2': -0.9274999999999999}\n",
      "{'L1': -0.6097499999999999, 'L2': -1.10975}\n",
      "{'L1': -0.7737750000000001, 'L2': -1.273775}\n",
      "{'L1': -0.9213975000000002, 'L2': -1.4213975}\n",
      "{'L1': -1.05425775, 'L2': -1.55425775}\n",
      "{'L1': -1.1738319750000001, 'L2': -1.6738319750000001}\n",
      "{'L1': -1.2814487775, 'L2': -1.7814487775}\n",
      "{'L1': -1.3783038997500001, 'L2': -1.8783038997500001}\n",
      "{'L1': -1.4654735097750002, 'L2': -1.965473509775}\n",
      "{'L1': -1.5439261587975002, 'L2': -2.0439261587975004}\n",
      "{'L1': -1.61453354291775, 'L2': -2.11453354291775}\n",
      "{'L1': -1.6780801886259753, 'L2': -2.1780801886259753}\n",
      "{'L1': -1.735272169763378, 'L2': -2.2352721697633777}\n",
      "{'L1': -1.7867449527870403, 'L2': -2.28674495278704}\n",
      "{'L1': -1.833070457508336, 'L2': -2.3330704575083363}\n",
      "{'L1': -1.8747634117575025, 'L2': -2.3747634117575025}\n",
      "{'L1': -1.9122870705817523, 'L2': -2.412287070581752}\n",
      "{'L1': -1.9460583635235769, 'L2': -2.446058363523577}\n",
      "{'L1': -1.9764525271712192, 'L2': -2.476452527171219}\n",
      "{'L1': -2.0038072744540973, 'L2': -2.5038072744540973}\n",
      "{'L1': -2.0284265470086877, 'L2': -2.5284265470086877}\n",
      "{'L1': -2.050583892307819, 'L2': -2.550583892307819}\n",
      "{'L1': -2.070525503077037, 'L2': -2.570525503077037}\n",
      "{'L1': -2.088472952769333, 'L2': -2.588472952769333}\n",
      "{'L1': -2.1046256574923996, 'L2': -2.6046256574923996}\n",
      "{'L1': -2.1191630917431596, 'L2': -2.6191630917431596}\n",
      "{'L1': -2.132246782568844, 'L2': -2.632246782568844}\n",
      "{'L1': -2.1440221043119596, 'L2': -2.6440221043119596}\n",
      "{'L1': -2.1546198938807635, 'L2': -2.6546198938807635}\n",
      "{'L1': -2.1641579044926873, 'L2': -2.6641579044926873}\n",
      "{'L1': -2.1727421140434187, 'L2': -2.6727421140434187}\n",
      "{'L1': -2.180467902639077, 'L2': -2.680467902639077}\n",
      "{'L1': -2.1874211123751692, 'L2': -2.6874211123751692}\n",
      "{'L1': -2.193679001137652, 'L2': -2.693679001137652}\n",
      "{'L1': -2.199311101023887, 'L2': -2.699311101023887}\n",
      "{'L1': -2.204379990921498, 'L2': -2.704379990921498}\n",
      "{'L1': -2.2089419918293483, 'L2': -2.7089419918293483}\n",
      "{'L1': -2.2130477926464134, 'L2': -2.7130477926464134}\n",
      "{'L1': -2.2167430133817723, 'L2': -2.7167430133817723}\n",
      "{'L1': -2.220068712043595, 'L2': -2.720068712043595}\n",
      "{'L1': -2.2230618408392355, 'L2': -2.7230618408392355}\n",
      "{'L1': -2.225755656755312, 'L2': -2.725755656755312}\n",
      "{'L1': -2.2281800910797807, 'L2': -2.7281800910797807}\n",
      "{'L1': -2.2303620819718026, 'L2': -2.7303620819718026}\n",
      "{'L1': -2.2323258737746223, 'L2': -2.7323258737746223}\n",
      "{'L1': -2.23409328639716, 'L2': -2.73409328639716}\n",
      "{'L1': -2.235683957757444, 'L2': -2.735683957757444}\n",
      "{'L1': -2.2371155619816996, 'L2': -2.7371155619816996}\n",
      "{'L1': -2.2384040057835297, 'L2': -2.7384040057835297}\n",
      "{'L1': -2.239563605205177, 'L2': -2.739563605205177}\n",
      "{'L1': -2.2406072446846594, 'L2': -2.7406072446846594}\n",
      "{'L1': -2.2415465202161933, 'L2': -2.7415465202161933}\n",
      "{'L1': -2.242391868194574, 'L2': -2.742391868194574}\n",
      "{'L1': -2.2431526813751166, 'L2': -2.7431526813751166}\n",
      "{'L1': -2.243837413237605, 'L2': -2.743837413237605}\n",
      "{'L1': -2.2444536719138446, 'L2': -2.7444536719138446}\n",
      "{'L1': -2.24500830472246, 'L2': -2.74500830472246}\n",
      "{'L1': -2.245507474250214, 'L2': -2.745507474250214}\n",
      "{'L1': -2.2459567268251925, 'L2': -2.7459567268251925}\n",
      "{'L1': -2.2463610541426733, 'L2': -2.7463610541426733}\n",
      "{'L1': -2.246724948728406, 'L2': -2.746724948728406}\n",
      "{'L1': -2.2470524538555656, 'L2': -2.7470524538555656}\n",
      "{'L1': -2.2473472084700092, 'L2': -2.7473472084700092}\n",
      "{'L1': -2.2476124876230084, 'L2': -2.7476124876230084}\n",
      "{'L1': -2.2478512388607075, 'L2': -2.7478512388607075}\n",
      "{'L1': -2.2480661149746366, 'L2': -2.7480661149746366}\n",
      "{'L1': -2.248259503477173, 'L2': -2.748259503477173}\n",
      "{'L1': -2.2484335531294555, 'L2': -2.7484335531294555}\n",
      "{'L1': -2.24859019781651, 'L2': -2.74859019781651}\n",
      "{'L1': -2.248731178034859, 'L2': -2.748731178034859}\n",
      "{'L1': -2.248858060231373, 'L2': -2.748858060231373}\n",
      "{'L1': -2.248972254208236, 'L2': -2.748972254208236}\n",
      "{'L1': -2.2490750287874124, 'L2': -2.7490750287874124}\n",
      "{'L1': -2.249167525908671, 'L2': -2.749167525908671}\n",
      "{'L1': -2.2492507733178044, 'L2': -2.7492507733178044}\n",
      "{'L1': -2.249325695986024, 'L2': -2.749325695986024}\n",
      "{'L1': -2.249393126387422, 'L2': -2.749393126387422}\n",
      "{'L1': -2.24945381374868, 'L2': -2.74945381374868}\n",
      "{'L1': -2.249508432373812, 'L2': -2.749508432373812}\n",
      "{'L1': -2.2495575891364306, 'L2': -2.7495575891364306}\n",
      "{'L1': -2.2496018302227876, 'L2': -2.7496018302227876}\n",
      "{'L1': -2.2496416472005087, 'L2': -2.7496416472005087}\n",
      "{'L1': -2.249677482480458, 'L2': -2.749677482480458}\n",
      "{'L1': -2.249709734232412, 'L2': -2.749709734232412}\n",
      "{'L1': -2.249738760809171, 'L2': -2.749738760809171}\n",
      "{'L1': -2.249764884728254, 'L2': -2.749764884728254}\n",
      "{'L1': -2.249788396255429, 'L2': -2.749788396255429}\n",
      "{'L1': -2.249809556629886, 'L2': -2.749809556629886}\n",
      "{'L1': -2.2498286009668975, 'L2': -2.7498286009668975}\n",
      "{'L1': -2.249845740870208, 'L2': -2.749845740870208}\n",
      "{'L1': -2.2498611667831874, 'L2': -2.7498611667831874}\n",
      "{'L1': -2.249875050104869, 'L2': -2.749875050104869}\n",
      "{'L1': -2.2498875450943823, 'L2': -2.7498875450943823}\n",
      "{'L1': -2.249898790584944, 'L2': -2.749898790584944}\n",
      "{'L1': -2.24990891152645, 'L2': -2.74990891152645}\n",
      "{'L1': -2.249918020373805, 'L2': -2.749918020373805}\n",
      "{'L1': -2.249926218336425, 'L2': -2.749926218336425}\n",
      "{'L1': -2.2499335965027827, 'L2': -2.7499335965027827}\n"
     ]
    }
   ],
   "source": [
    "# 指定した回数で価値関数を更新する\n",
    "V = {'L1': 0.0, 'L2': 0.0}\n",
    "V_new = V.copy()\n",
    "\n",
    "for _ in range(100):\n",
    "    V_new['L1'] = 0.5 * (-1 + 0.9 * V['L1']) + 0.5 * (1 + 0.9 * V['L2'])\n",
    "    V_new['L2'] = 0.5 * (0 + 0.9 * V['L1']) + 0.5 * (-1 + 0.9 * V['L2'])\n",
    "    V = V_new.copy()\n",
    "    print(V)"
   ]
  },
  {
   "cell_type": "code",
   "execution_count": 2,
   "id": "c70c7123",
   "metadata": {},
   "outputs": [
    {
     "name": "stdout",
     "output_type": "stream",
     "text": [
      "{'L1': -2.249167525908671, 'L2': -2.749167525908671}\n",
      "76\n"
     ]
    }
   ],
   "source": [
    "# 更新の大きさで、計算回数を制御\n",
    "V = {'L1': 0.0, 'L2': 0.0}\n",
    "V_new = V.copy()\n",
    "\n",
    "cnt = 0  # 何回更新したのかをカウント\n",
    "while True:\n",
    "    V_new['L1'] = 0.5 * (-1 + 0.9 * V['L1']) + 0.5 * (1 + 0.9 * V['L2'])\n",
    "    V_new['L2'] = 0.5 * (0 + 0.9 * V['L1']) + 0.5 * (-1 + 0.9 * V['L2'])\n",
    "\n",
    "    delta = abs(V_new['L1'] - V['L1'])\n",
    "    delta = max(delta, abs(V_new['L2'] - V['L2']))\n",
    "    V = V_new.copy()\n",
    "\n",
    "    cnt += 1\n",
    "    if delta < 0.0001:\n",
    "        print(V)\n",
    "        print(cnt)\n",
    "        break"
   ]
  },
  {
   "cell_type": "code",
   "execution_count": 3,
   "id": "36d47744",
   "metadata": {},
   "outputs": [
    {
     "name": "stdout",
     "output_type": "stream",
     "text": [
      "{'L1': -2.2493782177156936, 'L2': -2.7494201578106514}\n",
      "60\n"
     ]
    }
   ],
   "source": [
    "# このように上書き方式で計算することで、計算回数が少なくなる\n",
    "V = {'L1': 0.0, 'L2': 0.0}\n",
    "\n",
    "cnt = 0\n",
    "while True:\n",
    "    t = 0.5 * (-1 + 0.9 * V['L1']) + 0.5 * (1 + 0.9 * V['L2'])\n",
    "    delta = abs(t - V['L1'])\n",
    "    V['L1'] = t\n",
    "\n",
    "    t = 0.5 * (0 + 0.9 * V['L1']) + 0.5 * (-1 + 0.9 * V['L2'])\n",
    "    \n",
    "    delta = max(delta, abs(t - V['L2']))\n",
    "    V['L2'] = t\n",
    "\n",
    "    cnt += 1\n",
    "    if delta < 0.0001:\n",
    "        print(V)\n",
    "        print(cnt)\n",
    "        break"
   ]
  },
  {
   "cell_type": "markdown",
   "id": "5acf72a3",
   "metadata": {},
   "source": [
    "# より大きな問題へ"
   ]
  },
  {
   "cell_type": "code",
   "execution_count": 4,
   "id": "56d57eba",
   "metadata": {},
   "outputs": [],
   "source": [
    "import numpy as np\n",
    "import common.gridworld_render as render_helper\n",
    "\n",
    "class GridWorld:\n",
    "    def __init__(self):\n",
    "        self.action_space = [0, 1, 2, 3]\n",
    "        self.action_meaning = {\n",
    "            0: \"UP\",\n",
    "            1: \"DOWN\",\n",
    "            2: \"LEFT\",\n",
    "            3: \"RIGHT\",\n",
    "        }\n",
    "\n",
    "        self.reward_map = np.array(\n",
    "            [[0, 0, 0, 1.0],\n",
    "             [0, None, 0, -1.0],\n",
    "             [0, 0, 0, 0]]\n",
    "        )\n",
    "        self.goal_state = (0, 3)\n",
    "        self.start_state = (2, 0)\n",
    "        self.agent_state = self.start_state\n",
    "    \n",
    "    @property\n",
    "    def height(self):\n",
    "        return len(self.reward_map)\n",
    "\n",
    "    @property\n",
    "    def width(self):\n",
    "        return len(self.reward_map[0])\n",
    "\n",
    "    @property\n",
    "    def shape(self):\n",
    "        return self.reward_map.shape\n",
    "\n",
    "    def actions(self):\n",
    "        return self.action_space\n",
    "\n",
    "    def states(self):\n",
    "        for h in range(self.height):\n",
    "            for w in range(self.width):\n",
    "                yield (h, w)\n",
    "                \n",
    "    def next_state(self, state, action):\n",
    "        # ① ゴールもしくは壁の場合\n",
    "        is_goal = (state == self.goal_state)\n",
    "        is_wall = (self.reward_map[state] is None)\n",
    "        if is_goal or is_wall:\n",
    "            return None\n",
    "\n",
    "        # ② 移動先の場所の計算\n",
    "        action_move_map = [(-1, 0), (1, 0), (0, -1), (0, 1)]\n",
    "        move = action_move_map[action]\n",
    "        next_state = (state[0] + move[0], state[1] + move[1])\n",
    "        ny, nx = next_state\n",
    "\n",
    "        # ③ 移動先が壁の場合は移動できない\n",
    "        if nx < 0 or nx >= self.width or ny < 0 or ny >= self.height or \\\n",
    "                self.reward_map[next_state] is None:\n",
    "                    next_state = state\n",
    "\n",
    "        return next_state  # ④ 次の状態を返す\n",
    "\n",
    "    def reward(self, state, action, next_state):\n",
    "        return self.reward_map[next_state]\n",
    "    \n",
    "    def render_v(self, v=None, policy=None, print_value=True):\n",
    "        renderer = render_helper.Renderer(self.reward_map, self.goal_state)\n",
    "        renderer.render_v(v, policy, print_value)\n",
    "\n",
    "    def render_q(self, q=None, print_value=True):\n",
    "        renderer = render_helper.Renderer(self.reward_map, self.goal_state)\n",
    "        renderer.render_q(q, print_value)"
   ]
  },
  {
   "cell_type": "code",
   "execution_count": 5,
   "id": "527e334e",
   "metadata": {
    "scrolled": true
   },
   "outputs": [
    {
     "name": "stdout",
     "output_type": "stream",
     "text": [
      "3\n",
      "4\n",
      "(3, 4)\n"
     ]
    }
   ],
   "source": [
    "env = GridWorld()\n",
    "\n",
    "# propertyデコレータを使ってることで、インスタンス変数としてアクセス可能\n",
    "# env.height() ではなく env.height \n",
    "print(env.height) \n",
    "\n",
    "print(env.width) \n",
    "print(env.shape)"
   ]
  },
  {
   "cell_type": "code",
   "execution_count": 6,
   "id": "017b9121",
   "metadata": {
    "scrolled": true
   },
   "outputs": [
    {
     "name": "stdout",
     "output_type": "stream",
     "text": [
      "0\n",
      "1\n",
      "2\n",
      "3\n",
      "===\n",
      "(0, 0)\n",
      "(0, 1)\n",
      "(0, 2)\n",
      "(0, 3)\n",
      "(1, 0)\n",
      "(1, 1)\n",
      "(1, 2)\n",
      "(1, 3)\n",
      "(2, 0)\n",
      "(2, 1)\n",
      "(2, 2)\n",
      "(2, 3)\n"
     ]
    }
   ],
   "source": [
    "for action in env.actions():\n",
    "    print(action)\n",
    "\n",
    "print('===')\n",
    "\n",
    "# yieldを使うことで、一時停止した状態から再開される\n",
    "for state in env.states():\n",
    "    print(state)"
   ]
  },
  {
   "cell_type": "code",
   "execution_count": 7,
   "id": "4507abc0",
   "metadata": {},
   "outputs": [
    {
     "data": {
      "image/png": "[encoded data removed]",
      "text/plain": [
       "<Figure size 432x288 with 1 Axes>"
      ]
     },
     "metadata": {},
     "output_type": "display_data"
    }
   ],
   "source": [
    "# render_v() で描画可能、左下に報酬が書かれている\n",
    "env = GridWorld()\n",
    "env.render_v()"
   ]
  },
  {
   "cell_type": "code",
   "execution_count": 8,
   "id": "58013d95",
   "metadata": {},
   "outputs": [
    {
     "data": {
      "image/png": "[encoded data removed]",
      "text/plain": [
       "<Figure size 432x288 with 1 Axes>"
      ]
     },
     "metadata": {},
     "output_type": "display_data"
    }
   ],
   "source": [
    "# 価値関数を引数に渡すと、右上の数値に描画される\n",
    "env = GridWorld()\n",
    "V = {}\n",
    "for state in env.states():\n",
    "    V[state] = np.random.randn()  # ダミーの状態価値関数\n",
    "env.render_v(V)"
   ]
  },
  {
   "cell_type": "code",
   "execution_count": 9,
   "id": "b54f1362",
   "metadata": {
    "scrolled": true
   },
   "outputs": [
    {
     "name": "stdout",
     "output_type": "stream",
     "text": [
      "0\n"
     ]
    }
   ],
   "source": [
    "# 今まではこのようにディクショナリを初期化していた\n",
    "env = GridWorld()\n",
    "V = {}\n",
    "\n",
    "# ディクショナリの要素の初期化\n",
    "for state in env.states():\n",
    "    V[state] = 0\n",
    "\n",
    "state = (1, 2)\n",
    "print(V[state])  # 状態 (1,2) の価値関数を出力"
   ]
  },
  {
   "cell_type": "code",
   "execution_count": 10,
   "id": "2c25d657",
   "metadata": {},
   "outputs": [
    {
     "name": "stdout",
     "output_type": "stream",
     "text": [
      "0\n"
     ]
    }
   ],
   "source": [
    "# defaultdictを使うことで、辞書のデフォルトの値を設定可能\n",
    "from collections import defaultdict  # defaultdictをインポート\n",
    "from common.gridworld import GridWorld\n",
    "\n",
    "env = GridWorld()\n",
    "V = defaultdict(lambda: 0)\n",
    "\n",
    "state = (1, 2)\n",
    "print(V[state])  # 0 "
   ]
  },
  {
   "cell_type": "code",
   "execution_count": 11,
   "id": "25ba8911",
   "metadata": {},
   "outputs": [
    {
     "name": "stdout",
     "output_type": "stream",
     "text": [
      "{0: 0.25, 1: 0.25, 2: 0.25, 3: 0.25}\n"
     ]
    }
   ],
   "source": [
    "# ランダムな方策も以下のように実装できる\n",
    "pi = defaultdict(lambda: {0: 0.25, 1: 0.25, 2: 0.25, 3: 0.25})\n",
    "\n",
    "state = (0, 1)\n",
    "print(pi[state])  # {0:0.25, 1:0.25, 2:0.25, 3:0.25}"
   ]
  },
  {
   "cell_type": "code",
   "execution_count": 12,
   "id": "751c9ffd",
   "metadata": {},
   "outputs": [],
   "source": [
    "def eval_onestep(pi, V, env, gamma=0.9):\n",
    "    delta = 0\n",
    "\n",
    "    # 座標を順番にループ\n",
    "    for state in env.states():\n",
    "        # 方策を取得\n",
    "        action_probs = pi[state]\n",
    "        new_v = 0\n",
    "\n",
    "        # 行動と行動確率をループ\n",
    "        for action, action_prob in action_probs.items():\n",
    "            next_state = env.next_state(state, action)\n",
    "            if next_state is not None:\n",
    "                # 報酬を計算\n",
    "                r = env.reward(state, action, next_state)\n",
    "                new_v += action_prob * (r + gamma * V[next_state])  # 式にしたがって価値関数を更新\n",
    "\n",
    "        delta = max(delta, abs(V[state] - new_v))\n",
    "        V[state] = new_v\n",
    "\n",
    "    return V, delta"
   ]
  },
  {
   "cell_type": "code",
   "execution_count": 13,
   "id": "9b22deda",
   "metadata": {},
   "outputs": [],
   "source": [
    "def policy_eval(pi, V, env, gamma, threshold=0.001):\n",
    "    while True:\n",
    "        # Vとdeltaを更新する\n",
    "        V, delta = eval_onestep(pi, V, env, gamma)\n",
    "        # deltaが小さいと計算終了\n",
    "        if delta < threshold:\n",
    "            break\n",
    "    return V"
   ]
  },
  {
   "cell_type": "code",
   "execution_count": 14,
   "id": "5365ead7",
   "metadata": {},
   "outputs": [
    {
     "data": {
      "image/png": "[encoded data removed]",
      "text/plain": [
       "<Figure size 432x288 with 1 Axes>"
      ]
     },
     "metadata": {},
     "output_type": "display_data"
    }
   ],
   "source": [
    "env = GridWorld()\n",
    "gamma = 0.9\n",
    "\n",
    "pi = defaultdict(lambda: {0: 0.25, 1: 0.25, 2: 0.25, 3: 0.25})\n",
    "V = defaultdict(lambda: 0)\n",
    "\n",
    "V = policy_eval(pi, V, env, gamma)\n",
    "env.render_v(V, pi)"
   ]
  },
  {
   "cell_type": "markdown",
   "id": "239dae70",
   "metadata": {},
   "source": [
    "# 方策反復法"
   ]
  },
  {
   "cell_type": "code",
   "execution_count": 15,
   "id": "362607ef",
   "metadata": {},
   "outputs": [],
   "source": [
    "# argmaxを定義\n",
    "def argmax(d):\n",
    "    max_value = max(d.values())\n",
    "    max_key = -1\n",
    "    for key, value in d.items():\n",
    "        if value == max_value:\n",
    "            max_key = key\n",
    "    return max_key"
   ]
  },
  {
   "cell_type": "code",
   "execution_count": 16,
   "id": "000946bd",
   "metadata": {
    "scrolled": true
   },
   "outputs": [
    {
     "name": "stdout",
     "output_type": "stream",
     "text": [
      "2\n"
     ]
    }
   ],
   "source": [
    "action_values = {0: 0.1, 1: -0.3, 2:9.9, 3:-1.3} \n",
    "\n",
    "max_action = argmax(action_values)\n",
    "print(max_action)"
   ]
  },
  {
   "cell_type": "code",
   "execution_count": 17,
   "id": "1fa5f576",
   "metadata": {},
   "outputs": [],
   "source": [
    "# 方策の改善\n",
    "def get_greedy_policy(V, env, gamma):\n",
    "    pi = {}\n",
    "\n",
    "    for state in env.states():\n",
    "        action_values = {}\n",
    "\n",
    "        for action in env.actions():\n",
    "            next_state = env.next_state(state, action)\n",
    "            value = 0\n",
    "\n",
    "            if next_state is not None:\n",
    "                r = env.reward(state, action, next_state)\n",
    "                value += r + gamma * V[next_state]\n",
    "            action_values[action] = value # 式に従って更新\n",
    "\n",
    "        max_action = argmax(action_values) # 式に従って更新\n",
    "        action_probs = {0: 0, 1: 0, 2: 0, 3: 0} \n",
    "        action_probs[max_action] = 1.0\n",
    "        pi[state] = action_probs\n",
    "\n",
    "    return pi"
   ]
  },
  {
   "cell_type": "code",
   "execution_count": 18,
   "id": "1573d26e",
   "metadata": {},
   "outputs": [],
   "source": [
    "# 方策反復法を実装\n",
    "def policy_iter(env, gamma, threshold=0.001, is_render=False):\n",
    "    pi = defaultdict(lambda: {0: 0.25, 1: 0.25, 2: 0.25, 3: 0.25})\n",
    "    V = defaultdict(lambda: 0)\n",
    "\n",
    "    while True:\n",
    "        V = policy_eval(pi, V, env, gamma, threshold) # 評価\n",
    "        new_pi = get_greedy_policy(V, env, gamma) # 改善\n",
    "\n",
    "        # 可視化\n",
    "        if is_render:\n",
    "            env.render_v(V, pi)\n",
    "\n",
    "        if new_pi == pi: # 方策が変化しない場合は終了\n",
    "            break\n",
    "            \n",
    "        pi = new_pi # 方策の更新\n",
    "    return pi"
   ]
  },
  {
   "cell_type": "code",
   "execution_count": 19,
   "id": "cb720bbe",
   "metadata": {},
   "outputs": [
    {
     "data": {
      "image/png": "[encoded data removed]",
      "text/plain": [
       "<Figure size 432x288 with 1 Axes>"
      ]
     },
     "metadata": {},
     "output_type": "display_data"
    },
    {
     "data": {
      "image/png": "[encoded data removed]",
      "text/plain": [
       "<Figure size 432x288 with 1 Axes>"
      ]
     },
     "metadata": {},
     "output_type": "display_data"
    },
    {
     "data": {
      "image/png": "[encoded data removed]",
      "text/plain": [
       "<Figure size 432x288 with 1 Axes>"
      ]
     },
     "metadata": {},
     "output_type": "display_data"
    },
    {
     "data": {
      "image/png": "[encoded data removed]",
      "text/plain": [
       "<Figure size 432x288 with 1 Axes>"
      ]
     },
     "metadata": {},
     "output_type": "display_data"
    },
    {
     "data": {
      "image/png": "[encoded data removed]",
      "text/plain": [
       "<Figure size 432x288 with 1 Axes>"
      ]
     },
     "metadata": {},
     "output_type": "display_data"
    }
   ],
   "source": [
    "env = GridWorld()\n",
    "gamma = 0.9\n",
    "pi = policy_iter(env, gamma, is_render=True)"
   ]
  },
  {
   "cell_type": "markdown",
   "id": "ee283a71",
   "metadata": {},
   "source": [
    "# 価値反復法"
   ]
  },
  {
   "cell_type": "code",
   "execution_count": 20,
   "id": "e5e81c8c",
   "metadata": {},
   "outputs": [],
   "source": [
    "def value_iter_onestep(env, gamma, V):\n",
    "    delta = 0\n",
    "\n",
    "    for state in env.states():\n",
    "        action_values = []\n",
    "\n",
    "        for action in env.actions():\n",
    "            next_state = env.next_state(state, action)\n",
    "\n",
    "            if next_state is not None:\n",
    "                r = env.reward(state, action, next_state)\n",
    "                value = r + gamma * V[next_state] \n",
    "                action_values.append(value)\n",
    "\n",
    "\n",
    "        if len(action_values) > 0:\n",
    "            new_value = max(action_values)\n",
    "            delta = max(delta, abs(new_value - V[state]))\n",
    "            V[state] = new_value\n",
    "\n",
    "    return V, delta"
   ]
  },
  {
   "cell_type": "code",
   "execution_count": 21,
   "id": "6f1af1d8",
   "metadata": {},
   "outputs": [],
   "source": [
    "def value_iter(env, gamma, threshold=0.001, is_render=True):\n",
    "    V = defaultdict(lambda: 0)\n",
    "\n",
    "    while True:\n",
    "        if is_render:\n",
    "            env.render_v(V)\n",
    "            \n",
    "        # 評価はonestepだけ行うのが価値反復法\n",
    "        V, delta = value_iter_onestep(env, gamma, V)\n",
    "        if delta < threshold:\n",
    "            break\n",
    "    return V"
   ]
  },
  {
   "cell_type": "code",
   "execution_count": 22,
   "id": "8eac29cc",
   "metadata": {},
   "outputs": [
    {
     "data": {
      "image/png": "[encoded data removed]",
      "text/plain": [
       "<Figure size 432x288 with 1 Axes>"
      ]
     },
     "metadata": {},
     "output_type": "display_data"
    },
    {
     "data": {
      "image/png": "[encoded data removed]",
      "text/plain": [
       "<Figure size 432x288 with 1 Axes>"
      ]
     },
     "metadata": {},
     "output_type": "display_data"
    },
    {
     "data": {
      "image/png": "[encoded data removed]",
      "text/plain": [
       "<Figure size 432x288 with 1 Axes>"
      ]
     },
     "metadata": {},
     "output_type": "display_data"
    },
    {
     "data": {
      "image/png": "[encoded data removed]",
      "text/plain": [
       "<Figure size 432x288 with 1 Axes>"
      ]
     },
     "metadata": {},
     "output_type": "display_data"
    },
    {
     "data": {
      "image/png": "[encoded data removed]",
      "text/plain": [
       "<Figure size 432x288 with 1 Axes>"
      ]
     },
     "metadata": {},
     "output_type": "display_data"
    }
   ],
   "source": [
    "env = GridWorld()\n",
    "gamma = 0.9\n",
    "V = value_iter(env, gamma)\n",
    "\n",
    "pi = get_greedy_policy(V, env, gamma)\n",
    "env.render_v(V, pi)"
   ]
  },
  {
   "cell_type": "code",
   "execution_count": null,
   "id": "37844fc2",
   "metadata": {},
   "outputs": [],
   "source": []
  }
 ],
 "metadata": {
  "kernelspec": {
   "display_name": "Python 3",
   "language": "python",
   "name": "python3"
  },
  "language_info": {
   "codemirror_mode": {
    "name": "ipython",
    "version": 3
   },
   "file_extension": ".py",
   "mimetype": "text/x-python",
   "name": "python",
   "nbconvert_exporter": "python",
   "pygments_lexer": "ipython3",
   "version": "3.8.8"
  }
 },
 "nbformat": 4,
 "nbformat_minor": 5
}
