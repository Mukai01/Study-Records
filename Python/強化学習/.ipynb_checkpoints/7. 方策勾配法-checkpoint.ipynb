{
 "cells": [
  {
   "cell_type": "markdown",
   "id": "c0a3c3bd",
   "metadata": {},
   "source": [
    "# 最も単純な方策勾配法\n",
    "これまで見てきたのが価値関数を経由した価値ベースの手法。ここでは価値関数を経由しない、方策ベースの手法を見ていく。"
   ]
  },
  {
   "cell_type": "code",
   "execution_count": 1,
   "id": "7aafc88f",
   "metadata": {},
   "outputs": [],
   "source": [
    "import numpy as np\n",
    "import gym\n",
    "from dezero import Model\n",
    "from dezero import optimizers\n",
    "import dezero.functions as F\n",
    "import dezero.layers as L\n",
    "\n",
    "class Policy(Model):\n",
    "    def __init__(self, action_size):\n",
    "        super().__init__()\n",
    "        self.l1 = L.Linear(128)\n",
    "        self.l2 = L.Linear(action_size)\n",
    "\n",
    "    def forward(self, x):\n",
    "        x = F.relu(self.l1(x))\n",
    "        x = F.softmax(self.l2(x))\n",
    "        return x"
   ]
  },
  {
   "cell_type": "code",
   "execution_count": 2,
   "id": "04a66ed6",
   "metadata": {},
   "outputs": [],
   "source": [
    "class Agent:\n",
    "    def __init__(self):\n",
    "        self.gamma = 0.98\n",
    "        self.lr = 0.0002\n",
    "        self.action_size = 2\n",
    "\n",
    "        self.memory = []\n",
    "        self.pi = Policy(self.action_size)\n",
    "        self.optimizer = optimizers.Adam(self.lr)\n",
    "        self.optimizer.setup(self.pi)\n",
    "\n",
    "    def get_action(self, state): # stateにおける行動を取り出す\n",
    "        state = state[np.newaxis, :]  # バッチの軸を追加\n",
    "        probs = self.pi(state)\n",
    "        probs = probs[0]\n",
    "        action = np.random.choice(len(probs), p=probs.data)\n",
    "        return action, probs[action]\n",
    "\n",
    "    def add(self, reward, prob): # 報酬rと行動aをとる確率をメモリに保管\n",
    "        data = (reward, prob)\n",
    "        self.memory.append(data)\n",
    "\n",
    "    def update(self): \n",
    "        self.pi.cleargrads()\n",
    "\n",
    "        G, loss = 0, 0\n",
    "        for reward, prob in reversed(self.memory):\n",
    "            G = reward + self.gamma * G\n",
    "\n",
    "        for reward, prob in self.memory:\n",
    "            loss += - F.log(prob) * G # 式に従って計算\n",
    "\n",
    "        loss.backward()\n",
    "        self.optimizer.update()\n",
    "        self.memory = []  # メモリをリセット"
   ]
  },
  {
   "cell_type": "code",
   "execution_count": 3,
   "id": "ed1cad60",
   "metadata": {},
   "outputs": [
    {
     "name": "stdout",
     "output_type": "stream",
     "text": [
      "episode :0, total reward : 40.0\n",
      "episode :100, total reward : 18.0\n",
      "episode :200, total reward : 32.0\n",
      "episode :300, total reward : 17.0\n",
      "episode :400, total reward : 30.0\n",
      "episode :500, total reward : 51.0\n",
      "episode :600, total reward : 39.0\n",
      "episode :700, total reward : 23.0\n",
      "episode :800, total reward : 44.0\n",
      "episode :900, total reward : 73.0\n",
      "episode :1000, total reward : 18.0\n",
      "episode :1100, total reward : 30.0\n",
      "episode :1200, total reward : 53.0\n",
      "episode :1300, total reward : 38.0\n",
      "episode :1400, total reward : 20.0\n",
      "episode :1500, total reward : 52.0\n",
      "episode :1600, total reward : 33.0\n",
      "episode :1700, total reward : 69.0\n",
      "episode :1800, total reward : 82.0\n",
      "episode :1900, total reward : 73.0\n",
      "episode :2000, total reward : 57.0\n",
      "episode :2100, total reward : 140.0\n",
      "episode :2200, total reward : 96.0\n",
      "episode :2300, total reward : 132.0\n",
      "episode :2400, total reward : 54.0\n",
      "episode :2500, total reward : 98.0\n",
      "episode :2600, total reward : 135.0\n",
      "episode :2700, total reward : 72.0\n",
      "episode :2800, total reward : 70.0\n",
      "episode :2900, total reward : 88.0\n"
     ]
    }
   ],
   "source": [
    "env = gym.make('CartPole-v0')\n",
    "agent = Agent()\n",
    "reward_log = {}\n",
    "\n",
    "for episode in range(3000):\n",
    "    state = env.reset()\n",
    "    done = False\n",
    "    sum_reward = 0\n",
    "\n",
    "    while not done:\n",
    "        action, prob = agent.get_action(state)\n",
    "        next_state, reward, done, info = env.step(action)\n",
    "\n",
    "        agent.add(reward, prob)\n",
    "        state = next_state\n",
    "        sum_reward += reward\n",
    "\n",
    "    agent.update()\n",
    "\n",
    "    reward_log[episode] = sum_reward\n",
    "    if episode % 100 == 0:\n",
    "        print(\"episode :{}, total reward : {:.1f}\".format(episode, sum_reward))"
   ]
  },
  {
   "cell_type": "code",
   "execution_count": 4,
   "id": "65264208",
   "metadata": {
    "scrolled": true
   },
   "outputs": [
    {
     "data": {
      "text/plain": [
       "[<matplotlib.lines.Line2D at 0x1e4f7712640>]"
      ]
     },
     "execution_count": 4,
     "metadata": {},
     "output_type": "execute_result"
    },
    {
     "data": {
      "image/png": "[encoded data removed]",
      "text/plain": [
       "<Figure size 432x288 with 1 Axes>"
      ]
     },
     "metadata": {
      "needs_background": "light"
     },
     "output_type": "display_data"
    }
   ],
   "source": [
    "import matplotlib.pyplot as plt\n",
    "plt.plot(reward_log.values())"
   ]
  },
  {
   "cell_type": "markdown",
   "id": "76ffdb5f",
   "metadata": {},
   "source": [
    "# REINFORCE"
   ]
  },
  {
   "cell_type": "code",
   "execution_count": 5,
   "id": "25dbe22d",
   "metadata": {},
   "outputs": [],
   "source": [
    "class Agent:\n",
    "    def __init__(self):\n",
    "        self.gamma = 0.98\n",
    "        self.lr = 0.0002\n",
    "        self.action_size = 2\n",
    "\n",
    "        self.memory = []\n",
    "        self.pi = Policy(self.action_size)\n",
    "        self.optimizer = optimizers.Adam(self.lr)\n",
    "        self.optimizer.setup(self.pi)\n",
    "\n",
    "    def get_action(self, state):\n",
    "        state = state[np.newaxis, :] \n",
    "        probs = self.pi(state)\n",
    "        probs = probs[0]\n",
    "        action = np.random.choice(len(probs), p=probs.data)\n",
    "        return action, probs[action]\n",
    "\n",
    "    def add(self, reward, prob):\n",
    "        data = (reward, prob)\n",
    "        self.memory.append(data)\n",
    "\n",
    "    def update(self):\n",
    "        self.pi.cleargrads()\n",
    "\n",
    "        G = 0\n",
    "        for reward, prob in reversed(self.memory):\n",
    "            G = reward + self.gamma * G # Reinforceでは時刻tより前の報酬は考えない\n",
    "            loss = - F.log(prob) * G\n",
    "            loss.backward()\n",
    "        self.optimizer.update()\n",
    "        self.memory = []"
   ]
  },
  {
   "cell_type": "code",
   "execution_count": 6,
   "id": "ceab4311",
   "metadata": {},
   "outputs": [
    {
     "name": "stdout",
     "output_type": "stream",
     "text": [
      "episode :0, total reward : 15.0\n",
      "episode :100, total reward : 74.0\n",
      "episode :200, total reward : 35.0\n",
      "episode :300, total reward : 24.0\n",
      "episode :400, total reward : 26.0\n",
      "episode :500, total reward : 32.0\n",
      "episode :600, total reward : 151.0\n",
      "episode :700, total reward : 108.0\n",
      "episode :800, total reward : 200.0\n",
      "episode :900, total reward : 34.0\n",
      "episode :1000, total reward : 200.0\n",
      "episode :1100, total reward : 200.0\n",
      "episode :1200, total reward : 200.0\n",
      "episode :1300, total reward : 200.0\n",
      "episode :1400, total reward : 166.0\n",
      "episode :1500, total reward : 165.0\n",
      "episode :1600, total reward : 108.0\n",
      "episode :1700, total reward : 183.0\n",
      "episode :1800, total reward : 176.0\n",
      "episode :1900, total reward : 200.0\n",
      "episode :2000, total reward : 200.0\n",
      "episode :2100, total reward : 200.0\n",
      "episode :2200, total reward : 200.0\n",
      "episode :2300, total reward : 188.0\n",
      "episode :2400, total reward : 200.0\n",
      "episode :2500, total reward : 200.0\n",
      "episode :2600, total reward : 200.0\n",
      "episode :2700, total reward : 200.0\n",
      "episode :2800, total reward : 200.0\n",
      "episode :2900, total reward : 200.0\n"
     ]
    }
   ],
   "source": [
    "env = gym.make('CartPole-v0')\n",
    "agent = Agent()\n",
    "reward_log = {}\n",
    "\n",
    "for episode in range(3000):\n",
    "    state = env.reset()\n",
    "    done = False\n",
    "    sum_reward = 0\n",
    "\n",
    "    while not done:\n",
    "        action, prob = agent.get_action(state)\n",
    "        next_state, reward, done, info = env.step(action)\n",
    "\n",
    "        agent.add(reward, prob)\n",
    "        state = next_state\n",
    "        sum_reward += reward\n",
    "\n",
    "    agent.update()\n",
    "\n",
    "    reward_log[episode] = sum_reward\n",
    "    if episode % 100 == 0:\n",
    "        print(\"episode :{}, total reward : {:.1f}\".format(episode, sum_reward))"
   ]
  },
  {
   "cell_type": "code",
   "execution_count": 7,
   "id": "0779abd4",
   "metadata": {},
   "outputs": [
    {
     "data": {
      "text/plain": [
       "[<matplotlib.lines.Line2D at 0x1e4f77260d0>]"
      ]
     },
     "execution_count": 7,
     "metadata": {},
     "output_type": "execute_result"
    },
    {
     "data": {
      "image/png": "[encoded data removed]",
      "text/plain": [
       "<Figure size 432x288 with 1 Axes>"
      ]
     },
     "metadata": {
      "needs_background": "light"
     },
     "output_type": "display_data"
    }
   ],
   "source": [
    "import matplotlib.pyplot as plt\n",
    "plt.plot(reward_log.values())"
   ]
  },
  {
   "cell_type": "markdown",
   "id": "530eba3c",
   "metadata": {},
   "source": [
    "# Actor-Critic"
   ]
  },
  {
   "cell_type": "code",
   "execution_count": 8,
   "id": "327c2f3f",
   "metadata": {},
   "outputs": [],
   "source": [
    "import numpy as np\n",
    "import gym\n",
    "from dezero import Model\n",
    "from dezero import optimizers\n",
    "import dezero.functions as F\n",
    "import dezero.layers as L\n",
    "\n",
    "\n",
    "class PolicyNet(Model):\n",
    "    def __init__(self, action_size=2):\n",
    "        super().__init__()\n",
    "        self.l1 = L.Linear(256)\n",
    "        self.l2 = L.Linear(action_size)\n",
    "\n",
    "    def forward(self, x):\n",
    "        x = F.relu(self.l1(x))\n",
    "        x = self.l2(x)\n",
    "        x = F.softmax(x)\n",
    "        return x\n",
    "\n",
    "\n",
    "class ValueNet(Model):\n",
    "    def __init__(self):\n",
    "        super().__init__()\n",
    "        self.l1 = L.Linear(256)\n",
    "        self.l2 = L.Linear(1)\n",
    "\n",
    "    def forward(self, x):\n",
    "        x = F.relu(self.l1(x))\n",
    "        x = self.l2(x)\n",
    "        return x"
   ]
  },
  {
   "cell_type": "code",
   "execution_count": 9,
   "id": "597199dd",
   "metadata": {},
   "outputs": [],
   "source": [
    "class Agent:\n",
    "    def __init__(self):\n",
    "        self.gamma = 0.98\n",
    "        self.lr_pi = 0.0001\n",
    "        self.lr_v = 0.0001\n",
    "        self.action_size = 2\n",
    "\n",
    "        self.pi = PolicyNet()\n",
    "        self.v = ValueNet()\n",
    "        self.optimizer_pi = optimizers.Adam(self.lr_pi).setup(self.pi)\n",
    "        self.optimizer_v = optimizers.Adam(self.lr_v).setup(self.v)\n",
    "\n",
    "    def get_action(self, state):\n",
    "        state = state[np.newaxis, :]  # バッチ軸の追加\n",
    "        probs = self.pi(state)\n",
    "        probs = probs[0]\n",
    "        action = np.random.choice([0, 1], p=probs.data)\n",
    "        return action, probs[action]\n",
    "\n",
    "    def update(self, state, action_prob, reward, next_state, done):\n",
    "        state = state[np.newaxis, :]  # バッチ軸の追加\n",
    "        next_state = next_state[np.newaxis, :]  # バッチ軸の追加\n",
    "\n",
    "        # 価値関数のための損失関数\n",
    "        td_target = reward + self.gamma * self.v(next_state) * (1 - done)\n",
    "        td_target.unchain()\n",
    "        v = self.v(state)\n",
    "        loss_v = F.mean_squared_error(v, td_target)\n",
    "\n",
    "        # 方策のための損失関数\n",
    "        delta = td_target - v\n",
    "        delta.unchain()\n",
    "        loss_pi = -F.log(action_prob) * delta\n",
    "\n",
    "        self.v.cleargrads()\n",
    "        self.pi.cleargrads()\n",
    "        loss_v.backward()\n",
    "        loss_pi.backward()\n",
    "        self.optimizer_v.update()\n",
    "        self.optimizer_pi.update()"
   ]
  },
  {
   "cell_type": "code",
   "execution_count": 10,
   "id": "abf414de",
   "metadata": {},
   "outputs": [
    {
     "name": "stdout",
     "output_type": "stream",
     "text": [
      "episode :0, total reward : 23.0\n",
      "episode :100, total reward : 8.0\n",
      "episode :200, total reward : 10.0\n",
      "episode :300, total reward : 10.0\n",
      "episode :400, total reward : 10.0\n",
      "episode :500, total reward : 8.0\n",
      "episode :600, total reward : 10.0\n",
      "episode :700, total reward : 10.0\n",
      "episode :800, total reward : 8.0\n",
      "episode :900, total reward : 9.0\n",
      "episode :1000, total reward : 9.0\n",
      "episode :1100, total reward : 9.0\n",
      "episode :1200, total reward : 11.0\n",
      "episode :1300, total reward : 81.0\n",
      "episode :1400, total reward : 56.0\n",
      "episode :1500, total reward : 135.0\n",
      "episode :1600, total reward : 142.0\n",
      "episode :1700, total reward : 190.0\n",
      "episode :1800, total reward : 158.0\n",
      "episode :1900, total reward : 200.0\n",
      "episode :2000, total reward : 200.0\n",
      "episode :2100, total reward : 200.0\n",
      "episode :2200, total reward : 69.0\n",
      "episode :2300, total reward : 198.0\n",
      "episode :2400, total reward : 150.0\n",
      "episode :2500, total reward : 186.0\n",
      "episode :2600, total reward : 135.0\n",
      "episode :2700, total reward : 104.0\n",
      "episode :2800, total reward : 148.0\n",
      "episode :2900, total reward : 176.0\n"
     ]
    }
   ],
   "source": [
    "env = gym.make('CartPole-v0')\n",
    "agent = Agent()\n",
    "reward_log = {}\n",
    "\n",
    "for episode in range(3000):\n",
    "    state = env.reset()\n",
    "    done = False\n",
    "    sum_reward = 0\n",
    "\n",
    "    while not done:\n",
    "        action, prob = agent.get_action(state)\n",
    "        next_state, reward, done, info = env.step(action)\n",
    "\n",
    "        agent.update(state, prob, reward, next_state, done)\n",
    "\n",
    "        state = next_state\n",
    "        sum_reward += reward\n",
    "\n",
    "    reward_log[episode] = sum_reward\n",
    "    if episode % 100 == 0:\n",
    "        print(\"episode :{}, total reward : {:.1f}\".format(episode, sum_reward))"
   ]
  },
  {
   "cell_type": "code",
   "execution_count": null,
   "id": "31d65887",
   "metadata": {},
   "outputs": [],
   "source": []
  }
 ],
 "metadata": {
  "kernelspec": {
   "display_name": "Python 3",
   "language": "python",
   "name": "python3"
  },
  "language_info": {
   "codemirror_mode": {
    "name": "ipython",
    "version": 3
   },
   "file_extension": ".py",
   "mimetype": "text/x-python",
   "name": "python",
   "nbconvert_exporter": "python",
   "pygments_lexer": "ipython3",
   "version": "3.8.8"
  }
 },
 "nbformat": 4,
 "nbformat_minor": 5
}
