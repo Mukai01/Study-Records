{
 "cells": [
  {
   "cell_type": "markdown",
   "id": "ffce8b0c",
   "metadata": {},
   "source": [
    "# サンプルモデル"
   ]
  },
  {
   "cell_type": "code",
   "execution_count": 1,
   "id": "787a41ce",
   "metadata": {},
   "outputs": [],
   "source": [
    "import numpy as np\n",
    "def sample(dices=2):\n",
    "    x = 0\n",
    "    for _ in range(dices):\n",
    "        x += np.random.choice([1, 2, 3, 4, 5, 6])\n",
    "    return x"
   ]
  },
  {
   "cell_type": "code",
   "execution_count": 2,
   "id": "6c977cba",
   "metadata": {},
   "outputs": [
    {
     "name": "stdout",
     "output_type": "stream",
     "text": [
      "9\n",
      "9\n",
      "10\n"
     ]
    }
   ],
   "source": [
    "print(sample())\n",
    "print(sample())\n",
    "print(sample())"
   ]
  },
  {
   "cell_type": "code",
   "execution_count": 3,
   "id": "e3f5f606",
   "metadata": {},
   "outputs": [
    {
     "name": "stdout",
     "output_type": "stream",
     "text": [
      "6.81\n"
     ]
    }
   ],
   "source": [
    "# たくさんサンプリングを行って平均をとるのがモンテカルロ法\n",
    "trial = 100\n",
    "\n",
    "samples = []\n",
    "for _ in range(trial):\n",
    "    s = sample()\n",
    "    samples.append(s)\n",
    "\n",
    "V = sum(samples) / len(samples)  # 平均を求める\n",
    "print(V)"
   ]
  },
  {
   "cell_type": "code",
   "execution_count": 4,
   "id": "0693c0d3",
   "metadata": {},
   "outputs": [
    {
     "name": "stdout",
     "output_type": "stream",
     "text": [
      "7.0\n",
      "5.0\n",
      "7.0\n",
      "6.75\n",
      "7.0\n",
      "6.833333333333333\n",
      "6.714285714285714\n",
      "6.875\n",
      "6.777777777777778\n",
      "7.0\n"
     ]
    }
   ],
   "source": [
    "# サンプルデータを得るたびに平均値を求める\n",
    "trial = 10\n",
    "\n",
    "samples = []\n",
    "for _ in range(trial):\n",
    "    s = sample()\n",
    "    samples.append(s)\n",
    "    V = sum(samples) / len(samples)\n",
    "    print(V)"
   ]
  },
  {
   "cell_type": "code",
   "execution_count": 5,
   "id": "4a71e0d0",
   "metadata": {
    "scrolled": true
   },
   "outputs": [
    {
     "name": "stdout",
     "output_type": "stream",
     "text": [
      "7.0\n",
      "5.5\n",
      "5.666666666666667\n",
      "6.0\n",
      "7.2\n",
      "7.5\n",
      "7.428571428571429\n",
      "7.75\n",
      "7.333333333333333\n",
      "7.3999999999999995\n"
     ]
    }
   ],
   "source": [
    "# 上と同じことをインクリメンタルな式で行う\n",
    "trial = 10\n",
    "V, n = 0, 0\n",
    "for _ in range(trial):\n",
    "    s = sample()\n",
    "    n += 1\n",
    "    V += (s - V) / n\n",
    "    print(V)"
   ]
  },
  {
   "cell_type": "markdown",
   "id": "8bd85d63",
   "metadata": {},
   "source": [
    "# モンテカルロ法による方策評価"
   ]
  },
  {
   "cell_type": "code",
   "execution_count": 6,
   "id": "be053df2",
   "metadata": {
    "scrolled": true
   },
   "outputs": [
    {
     "name": "stdout",
     "output_type": "stream",
     "text": [
      "next_state: (1, 0)\n",
      "reward: 0\n",
      "done: False\n"
     ]
    }
   ],
   "source": [
    "# stepメソッドの使い方\n",
    "from common.gridworld import GridWorld\n",
    "\n",
    "env = GridWorld()\n",
    "action = 0  # ダミーの行動\n",
    "next_state, reward, done = env.step(action)\n",
    "\n",
    "print('next_state:', next_state)\n",
    "print('reward:', reward)\n",
    "print('done:', done)"
   ]
  },
  {
   "cell_type": "code",
   "execution_count": 7,
   "id": "417d65c9",
   "metadata": {},
   "outputs": [],
   "source": [
    "# resetメソッドも用意している\n",
    "env = GridWorld()\n",
    "state = env.reset()"
   ]
  },
  {
   "cell_type": "code",
   "execution_count": 8,
   "id": "41e1804e",
   "metadata": {},
   "outputs": [],
   "source": [
    "# エージェントクラスの実装\n",
    "from collections import defaultdict\n",
    "class RandomAgent:\n",
    "    def __init__(self):\n",
    "        self.gamma = 0.9\n",
    "        self.action_size = 4\n",
    "\n",
    "        random_actions = {0: 0.25, 1: 0.25, 2: 0.25, 3: 0.25}\n",
    "        self.pi = defaultdict(lambda: random_actions)\n",
    "        self.V = defaultdict(lambda: 0)\n",
    "        self.cnts = defaultdict(lambda: 0)\n",
    "        self.experience = []\n",
    "\n",
    "    # 確率に従い行動を決定\n",
    "    def get_action(self, state):\n",
    "        ps = self.pi[state]\n",
    "        actions, probs = list(ps.keys()), list(ps.values())\n",
    "        return np.random.choice(actions, p=probs)\n",
    "    \n",
    "    # 行動や報酬を記録\n",
    "    def add(self, state, action, reward):\n",
    "        data = (state, action, reward)\n",
    "        self.experience.append(data)\n",
    "\n",
    "    def reset(self):\n",
    "        self.experience = []\n",
    "\n",
    "    # モンテカルロ法を実行\n",
    "    def eval(self):\n",
    "        g = 0\n",
    "        for data in reversed(self.experience):  # 逆向きにたどる\n",
    "            state, action, reward = data\n",
    "            g = self.gamma * g + reward\n",
    "            self.cnts[state] += 1\n",
    "            self.V[state] += (g - self.V[state]) / self.cnts[state]  # インクリメンタルな実装"
   ]
  },
  {
   "cell_type": "code",
   "execution_count": 9,
   "id": "29fd2bba",
   "metadata": {},
   "outputs": [
    {
     "data": {
      "image/png": "[encoded data removed]",
      "text/plain": [
       "<Figure size 432x288 with 1 Axes>"
      ]
     },
     "metadata": {},
     "output_type": "display_data"
    }
   ],
   "source": [
    "# モンテカルロ法を動作\n",
    "env = GridWorld()\n",
    "agent = RandomAgent()\n",
    "\n",
    "episodes = 1000\n",
    "for episode in range(episodes):\n",
    "    state = env.reset()\n",
    "    agent.reset()\n",
    "\n",
    "    while True:\n",
    "        action = agent.get_action(state)\n",
    "        next_state, next_reward, done = env.step(action)\n",
    "\n",
    "        agent.add(state, action, next_reward)\n",
    "        if done:\n",
    "            agent.eval()\n",
    "            break\n",
    "\n",
    "        state = next_state\n",
    "\n",
    "env.render_v(agent.V)"
   ]
  },
  {
   "cell_type": "markdown",
   "id": "e982f792",
   "metadata": {},
   "source": [
    "# モンテカルロ法を使った方策制御"
   ]
  },
  {
   "cell_type": "code",
   "execution_count": 10,
   "id": "13fb96a2",
   "metadata": {},
   "outputs": [],
   "source": [
    "class McAgent:\n",
    "    def __init__(self):\n",
    "        self.gamma = 0.9\n",
    "        self.epsilon = 0.1  # ε-greedyのε\n",
    "        self.alpha = 0.1  # Q値を更新する際の固定値alpha\n",
    "        self.action_size = 4\n",
    "\n",
    "        random_actions = {0: 0.25, 1: 0.25, 2: 0.25, 3: 0.25}\n",
    "        self.pi = defaultdict(lambda: random_actions)\n",
    "        self.Q = defaultdict(lambda: 0)\n",
    "        self.experience = []\n",
    "\n",
    "    def get_action(self, state):\n",
    "        ps = self.pi[state]\n",
    "        actions, probs = list(ps.keys()), list(ps.values())\n",
    "        return np.random.choice(actions, p=probs)\n",
    "\n",
    "    def add(self, state, action, reward):\n",
    "        self.experience.append((state, action, reward))\n",
    "\n",
    "    def reset(self):\n",
    "        self.experience.clear()\n",
    "\n",
    "    def update(self):\n",
    "        g = 0\n",
    "        for data in reversed(self.experience):\n",
    "            state, action, reward = data\n",
    "            g = self.gamma * g + reward\n",
    "            key = (state, action)\n",
    "            self.Q[key] += (g - self.Q[key]) * self.alpha  # 固定値alphaで更新\n",
    "            self.pi[state] = greedy_action_probs(self.Q, state, self.epsilon)"
   ]
  },
  {
   "cell_type": "code",
   "execution_count": 11,
   "id": "9feced0d",
   "metadata": {},
   "outputs": [],
   "source": [
    "# Q関数が最大の行動をとる確率を1とする\n",
    "def greedy_action_probs(Q, state, action_size=4):\n",
    "    qs = [Q[(state, action)] for action in range(action_size)]\n",
    "    max_action = np.argmax(qs)\n",
    "    action_probs = {action:0.0 for action in range(action_size)}  #{0:0.0, 1:0.0, 2:0.0, 3:0.0}\n",
    "    action_probs[max_action] = 1\n",
    "    return action_probs"
   ]
  },
  {
   "cell_type": "code",
   "execution_count": 12,
   "id": "43153a31",
   "metadata": {},
   "outputs": [],
   "source": [
    "# 上記の関数をε-greedyに修正\n",
    "def greedy_action_probs(Q, state, epsilon=0, action_size=4):\n",
    "    qs = [Q[(state, action)] for action in range(action_size)]\n",
    "    max_action = np.argmax(qs)\n",
    "    base_prob = epsilon / action_size\n",
    "    action_probs = {action: base_prob for action in range(action_size)}  #{0: ε/4, 1: ε/4, 2: ε/4, 3: ε/4}\n",
    "    action_probs[max_action] += (1 - epsilon)\n",
    "    return action_probs"
   ]
  },
  {
   "cell_type": "code",
   "execution_count": 13,
   "id": "9fede1bc",
   "metadata": {},
   "outputs": [
    {
     "data": {
      "image/png": "[encoded data removed]",
      "text/plain": [
       "<Figure size 432x288 with 1 Axes>"
      ]
     },
     "metadata": {},
     "output_type": "display_data"
    },
    {
     "data": {
      "image/png": "[encoded data removed]",
      "text/plain": [
       "<Figure size 432x288 with 1 Axes>"
      ]
     },
     "metadata": {},
     "output_type": "display_data"
    }
   ],
   "source": [
    "env = GridWorld()\n",
    "agent = McAgent()\n",
    "\n",
    "episodes = 1000\n",
    "for episode in range(episodes):\n",
    "    state = env.reset()\n",
    "    agent.reset()\n",
    "\n",
    "    while True:\n",
    "        action = agent.get_action(state)\n",
    "        next_state, reward, done = env.step(action)\n",
    "\n",
    "        agent.add(state, action, reward)\n",
    "        if done:\n",
    "            agent.update()\n",
    "            break\n",
    "\n",
    "        state = next_state\n",
    "\n",
    "env.render_q(agent.Q)"
   ]
  },
  {
   "cell_type": "markdown",
   "id": "6d573f8f",
   "metadata": {},
   "source": [
    "# 重点サンプリング"
   ]
  },
  {
   "cell_type": "code",
   "execution_count": 14,
   "id": "e9a2f618",
   "metadata": {},
   "outputs": [
    {
     "name": "stdout",
     "output_type": "stream",
     "text": [
      "E_pi[x] 2.7\n",
      "MC: 2.68 (var: 0.42)\n"
     ]
    }
   ],
   "source": [
    "import numpy as np\n",
    "\n",
    "x = np.array([1, 2, 3])\n",
    "pi = np.array([0.1, 0.1, 0.8])\n",
    "\n",
    "# 期待値\n",
    "e = np.sum(x * pi)\n",
    "print('E_pi[x]', e)\n",
    "\n",
    "# モンテカルロ法\n",
    "n = 100\n",
    "samples = []\n",
    "for i in range(n):\n",
    "    s = np.random.choice(x, p=pi)  # piを使ってサンプリング\n",
    "    samples.append(s)\n",
    "\n",
    "mean = np.mean(samples)\n",
    "var = np.var(samples)\n",
    "print('MC: {:.2f} (var: {:.2f})'.format(mean, var))"
   ]
  },
  {
   "cell_type": "code",
   "execution_count": 15,
   "id": "3f8fa127",
   "metadata": {},
   "outputs": [
    {
     "name": "stdout",
     "output_type": "stream",
     "text": [
      "IS: 2.95 (var: 10.64)\n"
     ]
    }
   ],
   "source": [
    "b = np.array([1/3, 1/3, 1/3])\n",
    "n = 100\n",
    "samples = []\n",
    "\n",
    "for i in range(n):\n",
    "    idx = np.arange(len(b))  # [0, 1, 2]\n",
    "    i = np.random.choice(idx, p=b)  # bを使ってサンプリング\n",
    "    s = x[i]\n",
    "    rho = pi[i] / b[i]\n",
    "    samples.append(rho * s)\n",
    "\n",
    "print('IS: {:.2f} (var: {:.2f})'.format(np.mean(samples), np.var(samples)))"
   ]
  },
  {
   "cell_type": "code",
   "execution_count": 16,
   "id": "24c15aab",
   "metadata": {},
   "outputs": [
    {
     "name": "stdout",
     "output_type": "stream",
     "text": [
      "IS: 2.75 (var: 2.49)\n"
     ]
    }
   ],
   "source": [
    "b = np.array([0.2, 0.2, 0.6])  # 確率分布を変更\n",
    "samples = []\n",
    "for i in range(n):\n",
    "    idx = np.arange(len(b))  # [0, 1, 2]\n",
    "    i = np.random.choice(idx, p=b)\n",
    "    s = x[i]\n",
    "    rho = pi[i] / b[i]\n",
    "    samples.append(rho * s)\n",
    "    \n",
    "print('IS: {:.2f} (var: {:.2f})'.format(np.mean(samples), np.var(samples)))"
   ]
  },
  {
   "cell_type": "markdown",
   "id": "4d1a2fd8",
   "metadata": {},
   "source": [
    "# 方策オフ型エージェント"
   ]
  },
  {
   "cell_type": "code",
   "execution_count": 17,
   "id": "fb3cbb69",
   "metadata": {},
   "outputs": [
    {
     "data": {
      "image/png": "[encoded data removed]",
      "text/plain": [
       "<Figure size 432x288 with 1 Axes>"
      ]
     },
     "metadata": {},
     "output_type": "display_data"
    },
    {
     "data": {
      "image/png": "[encoded data removed]",
      "text/plain": [
       "<Figure size 432x288 with 1 Axes>"
      ]
     },
     "metadata": {},
     "output_type": "display_data"
    }
   ],
   "source": [
    "import numpy as np\n",
    "from common.gridworld import GridWorld\n",
    "\n",
    "\n",
    "class McOffPolicyAgent(McAgent):  # McAgentクラスを継承\n",
    "    def __init__(self):\n",
    "        super().__init__()\n",
    "        self.b = self.pi.copy()  # ランダムな方策で初期化\n",
    "\n",
    "    def get_action(self, state):\n",
    "        ps = self.b[state] # 挙動方策で行動\n",
    "        actions, probs = list(ps.keys()), list(ps.values())\n",
    "        return np.random.choice(actions, p=probs)\n",
    "\n",
    "    def update(self):\n",
    "        g = 0\n",
    "        rho = 1 # サンプルデータとして得られた収益は重みrhoで補正が必要\n",
    "\n",
    "        for data in reversed(self.experience):\n",
    "            state, action, reward = data\n",
    "            key = (state, action)\n",
    "\n",
    "            # サンプルデータを使って学習（Q値を更新、方策を改善）\n",
    "            g = self.gamma * rho * g + reward\n",
    "            self.Q[key] += (g - self.Q[key]) * self.alpha\n",
    "            rho *= self.pi[state][action] / self.b[state][action]\n",
    "\n",
    "            # piはgreedy、bはε-greedy で更新\n",
    "            self.pi[state] = greedy_action_probs(self.Q, state, epsilon=0)\n",
    "            self.b[state] = greedy_action_probs(self.Q, state, self.epsilon)\n",
    "\n",
    "\n",
    " \n",
    "env = GridWorld()\n",
    "agent = McOffPolicyAgent()\n",
    "\n",
    "episodes = 10000\n",
    "for episode in range(episodes):\n",
    "    state = env.reset()\n",
    "    agent.reset()\n",
    "\n",
    "    while True:\n",
    "        action = agent.get_action(state)\n",
    "        next_state, reward, done = env.step(action)\n",
    "\n",
    "        agent.add(state, action, reward)\n",
    "        if done:\n",
    "            agent.update()\n",
    "            break\n",
    "\n",
    "        state = next_state\n",
    "\n",
    "env.render_q(agent.Q)"
   ]
  },
  {
   "cell_type": "code",
   "execution_count": null,
   "id": "3913b6c3",
   "metadata": {},
   "outputs": [],
   "source": []
  }
 ],
 "metadata": {
  "kernelspec": {
   "display_name": "Python 3",
   "language": "python",
   "name": "python3"
  },
  "language_info": {
   "codemirror_mode": {
    "name": "ipython",
    "version": 3
   },
   "file_extension": ".py",
   "mimetype": "text/x-python",
   "name": "python",
   "nbconvert_exporter": "python",
   "pygments_lexer": "ipython3",
   "version": "3.8.8"
  }
 },
 "nbformat": 4,
 "nbformat_minor": 5
}
