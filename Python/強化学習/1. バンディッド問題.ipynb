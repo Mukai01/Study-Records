{
 "cells": [
  {
   "cell_type": "markdown",
   "id": "c0e78361",
   "metadata": {},
   "source": [
    "# バンディッド問題"
   ]
  },
  {
   "cell_type": "code",
   "execution_count": 1,
   "id": "4ff674f9",
   "metadata": {},
   "outputs": [
    {
     "name": "stdout",
     "output_type": "stream",
     "text": [
      "0.5488135039273248\n",
      "0.6320014351498722\n",
      "0.6222554154571295\n",
      "0.6029123573420713\n",
      "0.567060845741438\n",
      "0.5801997236289743\n",
      "0.5598265075766483\n",
      "0.6013198192273272\n",
      "0.6415801460355164\n",
      "0.6157662833145425\n"
     ]
    }
   ],
   "source": [
    "# サンプル平均を計算する\n",
    "import numpy as np\n",
    "\n",
    "np.random.seed(0)\n",
    "rs = []\n",
    "\n",
    "for n in range(1, 11):\n",
    "    r = np.random.rand()\n",
    "    rs.append(r)\n",
    "    q = sum(rs) / n\n",
    "    print(q)"
   ]
  },
  {
   "cell_type": "code",
   "execution_count": 2,
   "id": "6f301b00",
   "metadata": {},
   "outputs": [
    {
     "name": "stdout",
     "output_type": "stream",
     "text": [
      "0.7917250380826646\n",
      "0.6603099789177845\n",
      "0.6295548396431672\n",
      "0.7035652893055406\n",
      "0.5770594430840099\n",
      "0.49540441918693173\n",
      "0.4275207017945595\n",
      "0.4781580947637318\n",
      "0.5114912787844116\n",
      "0.5473433657306523\n"
     ]
    }
   ],
   "source": [
    "# メモリを使わないように計算\n",
    "q = 0\n",
    "for n in range(1, 11):\n",
    "    r = np.random.rand()\n",
    "    q = q + (r - q) / n\n",
    "    print(q)"
   ]
  },
  {
   "cell_type": "markdown",
   "id": "fe16ce24",
   "metadata": {},
   "source": [
    "# バンディッドアルゴリズムの実装"
   ]
  },
  {
   "cell_type": "markdown",
   "id": "dfc6016c",
   "metadata": {},
   "source": [
    "###### スロットマシンの実装"
   ]
  },
  {
   "cell_type": "code",
   "execution_count": 3,
   "id": "1715e295",
   "metadata": {},
   "outputs": [],
   "source": [
    "class Bandit:\n",
    "    def __init__(self, arms=10):\n",
    "        self.arms = arms\n",
    "        self.rates = np.random.rand(arms) # 勝率を設定\n",
    "\n",
    "    def play(self, arm):\n",
    "        rate = self.rates[arm] # 勝率を取得\n",
    "        reward = rate > np.random.rand() # 勝った場合Trueになる\n",
    "        return int(reward) # Trueを1に変換"
   ]
  },
  {
   "cell_type": "code",
   "execution_count": 4,
   "id": "9280bc67",
   "metadata": {},
   "outputs": [
    {
     "name": "stdout",
     "output_type": "stream",
     "text": [
      "1\n",
      "1\n",
      "1\n"
     ]
    }
   ],
   "source": [
    "bandit = Bandit()\n",
    "\n",
    "for i in range(3):\n",
    "    print(bandit.play(0))"
   ]
  },
  {
   "cell_type": "markdown",
   "id": "33f731f5",
   "metadata": {},
   "source": [
    "###### エージェントの実装"
   ]
  },
  {
   "cell_type": "code",
   "execution_count": 5,
   "id": "ee4dd8b0",
   "metadata": {},
   "outputs": [
    {
     "name": "stdout",
     "output_type": "stream",
     "text": [
      "[0. 0. 0. 0. 0. 0. 0. 0. 0. 0.]\n",
      "[0. 0. 0. 0. 0. 0. 1. 0. 0. 0.]\n",
      "[0. 0. 1. 0. 0. 0. 1. 0. 0. 0.]\n",
      "[0. 0. 1. 1. 0. 0. 1. 0. 0. 0.]\n",
      "[0.  0.  1.  1.  0.  0.  1.  0.  0.  0.5]\n",
      "[0.  0.  1.  1.  0.  0.  1.  0.  0.  0.5]\n",
      "[0.  0.  1.  1.  0.5 0.  1.  0.  0.  0.5]\n",
      "[0.         0.         1.         1.         0.66666667 0.\n",
      " 1.         0.         0.         0.5       ]\n",
      "[0.   0.   1.   1.   0.75 0.   1.   0.   0.   0.5 ]\n",
      "[0.   0.   1.   1.   0.75 0.   1.   1.   0.   0.5 ]\n"
     ]
    }
   ],
   "source": [
    "bandit = Bandit()\n",
    "qs = np.zeros(10) # 価値の推定値を格納\n",
    "ns = np.zeros(10) # スロットマシンをプレイした回数を格納\n",
    "\n",
    "for n in range(10):\n",
    "    a = np.random.randint(0, 10)  # ランダムな行動\n",
    "    r = bandit.play(a)\n",
    "\n",
    "    ns[a] += 1\n",
    "    qs[a] += (r - qs[a]) / ns[a] # 前節の計算を使用\n",
    "    print(qs) # それぞれのスロットマシンの価値の推定値を出力"
   ]
  },
  {
   "cell_type": "code",
   "execution_count": 6,
   "id": "b1180235",
   "metadata": {},
   "outputs": [],
   "source": [
    "# イプシロン・グリーディで実装\n",
    "class Agent:\n",
    "    def __init__(self, epsilon, action_size=10):\n",
    "        self.epsilon = epsilon\n",
    "        self.qs = np.zeros(action_size)\n",
    "        self.ns = np.zeros(action_size)\n",
    "\n",
    "    # スロットマシンの価値の推定\n",
    "    def update(self, action, reward):\n",
    "        a, r = action, reward  # これ以降の記述を短くするため一文字(a, r)で参照\n",
    "        self.ns[a] += 1\n",
    "        self.qs[a] += (r - self.qs[a]) / self.ns[a]\n",
    "\n",
    "    # 行動を選択\n",
    "    def get_action(self):\n",
    "        if np.random.rand() < self.epsilon:\n",
    "            return np.random.randint(0, len(self.qs))\n",
    "        return np.argmax(self.qs)"
   ]
  },
  {
   "cell_type": "markdown",
   "id": "e1cfe91a",
   "metadata": {},
   "source": [
    "###### 実際に動かしてみる"
   ]
  },
  {
   "cell_type": "code",
   "execution_count": 7,
   "id": "6c06bb94",
   "metadata": {},
   "outputs": [
    {
     "name": "stdout",
     "output_type": "stream",
     "text": [
      "932\n"
     ]
    },
    {
     "data": {
      "text/plain": [
       "<Figure size 640x480 with 1 Axes>"
      ]
     },
     "metadata": {},
     "output_type": "display_data"
    },
    {
     "data": {
      "text/plain": [
       "<Figure size 640x480 with 1 Axes>"
      ]
     },
     "metadata": {},
     "output_type": "display_data"
    }
   ],
   "source": [
    "steps = 1000\n",
    "epsilon = 0.1\n",
    "\n",
    "bandit = Bandit()\n",
    "agent = Agent(epsilon)\n",
    "sum_r = 0 # 報酬の合計\n",
    "total_rewards = []\n",
    "rates = []\n",
    "\n",
    "for step in range(steps):\n",
    "    action = agent.get_action()   # ① 行動を選ぶ\n",
    "    reward = bandit.play(action)  # ② 実際にプレイして報酬を得る\n",
    "    agent.update(action, reward)  # ③ 行動と報酬から学ぶ\n",
    "    sum_r += reward\n",
    "\n",
    "    total_rewards.append(sum_r)\n",
    "    rates.append(sum_r / (step+1))\n",
    "\n",
    "print(sum_r)\n",
    "\n",
    "# グラフの描画(1)\n",
    "import matplotlib.pyplot as plt  # matplotlibのインポート\n",
    "plt.ylabel('Total reward')\n",
    "plt.xlabel('Steps')\n",
    "plt.plot(total_rewards)\n",
    "plt.show()\n",
    "# グラフの描画(2)\n",
    "plt.ylabel('Rates')\n",
    "plt.xlabel('Steps')\n",
    "plt.plot(rates)\n",
    "plt.show()"
   ]
  },
  {
   "cell_type": "code",
   "execution_count": 8,
   "id": "2b6ed9cc",
   "metadata": {},
   "outputs": [
    {
     "data": {
      "image/png": "[encoded data removed]",
      "text/plain": [
       "<Figure size 432x288 with 1 Axes>"
      ]
     },
     "metadata": {
      "needs_background": "light"
     },
     "output_type": "display_data"
    }
   ],
   "source": [
    "# 1回の実験ではわからないので、2000回実験を行う\n",
    "runs = 2000\n",
    "steps = 1000\n",
    "epsilon = 0.1\n",
    "all_rates = np.zeros((runs, steps))  # (2000, 1000)の形状の配列\n",
    "\n",
    "for run in range(runs):  # 2000回の実験\n",
    "    bandit = Bandit()\n",
    "    agent = Agent(epsilon)\n",
    "    sum_r = 0\n",
    "    rates = []\n",
    "\n",
    "    for step in range(steps):\n",
    "        action = agent.get_action()\n",
    "        reward = bandit.play(action)\n",
    "        agent.update(action, reward)\n",
    "        sum_r += reward\n",
    "        rates.append(sum_r / (step+1))\n",
    "\n",
    "    all_rates[run] = rates  # ①報酬の結果を記録する\n",
    "\n",
    "avg_rates = np.average(all_rates, axis=0)  # ②各ステップにおける平均を求める\n",
    "\n",
    "# グラフの描画\n",
    "plt.ylabel('Rates')\n",
    "plt.xlabel('Steps')\n",
    "plt.plot(avg_rates)\n",
    "plt.show()"
   ]
  },
  {
   "cell_type": "markdown",
   "id": "3459cbad",
   "metadata": {},
   "source": [
    "# 非定常問題"
   ]
  },
  {
   "cell_type": "code",
   "execution_count": 9,
   "id": "ca500a05",
   "metadata": {},
   "outputs": [],
   "source": [
    "class NonStatBandit:\n",
    "    def __init__(self, arms=10):\n",
    "        self.arms = arms\n",
    "        self.rates = np.random.rand(arms)\n",
    "\n",
    "    def play(self, arm):\n",
    "        rate = self.rates[arm]\n",
    "        reward = rate > np.random.rand()\n",
    "        # ノイズを追加\n",
    "        self.rates += 0.1 * np.random.randn(self.arms)\n",
    "        return int(reward)"
   ]
  },
  {
   "cell_type": "markdown",
   "id": "98b28f8c",
   "metadata": {},
   "source": [
    "###### 非定常問題を解く"
   ]
  },
  {
   "cell_type": "code",
   "execution_count": 10,
   "id": "e54dd485",
   "metadata": {},
   "outputs": [],
   "source": [
    "# サンプル平均ではなくて、固定値アルファで更新していく（過去の重みを下げるため）\n",
    "class AlphaAgent:\n",
    "    def __init__(self, epsilon, alpha, actions=10):\n",
    "        self.epsilon = epsilon\n",
    "        self.qs = np.zeros(actions)\n",
    "        self.alpha = alpha\n",
    "\n",
    "    def update(self, action, reward):\n",
    "        a, r = action, reward\n",
    "        self.qs[a] += (r - self.qs[a]) * self.alpha  # alphaで更新\n",
    "\n",
    "    def get_action(self):\n",
    "        if np.random.rand() < self.epsilon:\n",
    "            return np.random.randint(0, len(self.qs))\n",
    "        return np.argmax(self.qs)"
   ]
  },
  {
   "cell_type": "code",
   "execution_count": 11,
   "id": "9b819212",
   "metadata": {},
   "outputs": [
    {
     "data": {
      "image/png": "[encoded data removed]",
      "text/plain": [
       "<Figure size 432x288 with 1 Axes>"
      ]
     },
     "metadata": {
      "needs_background": "light"
     },
     "output_type": "display_data"
    }
   ],
   "source": [
    "runs = 2000\n",
    "steps = 1000\n",
    "epsilon = 0.1\n",
    "alpha = 0.8\n",
    "agent_types = ['sample average', 'alpha const update']\n",
    "results = {}\n",
    "\n",
    "for agent_type in agent_types:\n",
    "    all_rates = np.zeros((runs, steps))  # (2000, 1000)\n",
    "\n",
    "    for run in range(runs):\n",
    "        if agent_type == 'sample average':\n",
    "            agent = Agent(epsilon)\n",
    "        else:\n",
    "            agent = AlphaAgent(epsilon, alpha)\n",
    "\n",
    "        bandit = NonStatBandit()\n",
    "        sum_r = 0\n",
    "        rates = []\n",
    "\n",
    "        for step in range(steps):\n",
    "            action = agent.get_action()\n",
    "            reward = bandit.play(action)\n",
    "            agent.update(action, reward)\n",
    "            sum_r += reward\n",
    "            rates.append(sum_r / (step+1))\n",
    "\n",
    "        all_rates[run] = rates\n",
    "\n",
    "    avg_rates = np.average(all_rates, axis=0)\n",
    "    results[agent_type] = avg_rates\n",
    "\n",
    "# plot\n",
    "plt.figure()\n",
    "plt.ylabel('Average Rates')\n",
    "plt.xlabel('Steps')\n",
    "for key, avg_rates in results.items():\n",
    "    plt.plot(avg_rates, label=key)\n",
    "plt.legend()\n",
    "plt.show()"
   ]
  },
  {
   "cell_type": "code",
   "execution_count": null,
   "id": "1c396b7e",
   "metadata": {},
   "outputs": [],
   "source": []
  },
  {
   "cell_type": "code",
   "execution_count": null,
   "id": "bf5c46d4",
   "metadata": {},
   "outputs": [],
   "source": []
  }
 ],
 "metadata": {
  "kernelspec": {
   "display_name": "Python 3",
   "language": "python",
   "name": "python3"
  },
  "language_info": {
   "codemirror_mode": {
    "name": "ipython",
    "version": 3
   },
   "file_extension": ".py",
   "mimetype": "text/x-python",
   "name": "python",
   "nbconvert_exporter": "python",
   "pygments_lexer": "ipython3",
   "version": "3.8.8"
  }
 },
 "nbformat": 4,
 "nbformat_minor": 5
}
