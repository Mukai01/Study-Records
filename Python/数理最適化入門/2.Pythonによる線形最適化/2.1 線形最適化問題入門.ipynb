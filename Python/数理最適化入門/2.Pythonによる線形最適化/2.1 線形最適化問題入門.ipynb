{
 "cells": [
  {
   "cell_type": "markdown",
   "id": "8b976ce0",
   "metadata": {},
   "source": [
    "# 線形最適化"
   ]
  },
  {
   "cell_type": "code",
   "execution_count": 1,
   "id": "b10202d0",
   "metadata": {},
   "outputs": [
    {
     "name": "stdout",
     "output_type": "stream",
     "text": [
      "probを表示します...\n",
      "LP-sample:\n",
      "MAXIMIZE\n",
      "2*x1 + 3*x2 + 0\n",
      "SUBJECT TO\n",
      "ineq1: x1 + 3 x2 <= 9\n",
      "\n",
      "ineq2: x1 + x2 <= 4\n",
      "\n",
      "ineq3: x1 + x2 <= 6\n",
      "\n",
      "VARIABLES\n",
      "x1 Continuous\n",
      "x2 Continuous\n",
      "\n",
      "Statusを表示します...\n",
      "Optimal\n",
      "\n",
      "結果を表示します...\n",
      "Optimal value= 10.5\n",
      "x1 = 1.5\n",
      "x2 = 2.5\n"
     ]
    }
   ],
   "source": [
    "from pulp import *\n",
    "prob = LpProblem(name = 'LP-sample', sense=LpMaximize)\n",
    "\n",
    "# 変数の設定\n",
    "x1 = LpVariable('x1', lowBound=0.0)\n",
    "x2 = LpVariable('x2', lowBound=0.0)\n",
    "\n",
    "# 目的関数の設定\n",
    "prob += 2*x1 + 3*x2\n",
    "\n",
    "# 条件の設定\n",
    "prob += x1 + 3*x2 <= 9, 'ineq1'\n",
    "prob += x1 + x2 <= 4, 'ineq2'\n",
    "prob += x1 + x2 <= 6, 'ineq3'\n",
    "\n",
    "# 問題を出力\n",
    "print('probを表示します...')\n",
    "print(prob)\n",
    "\n",
    "# 計算\n",
    "prob.solve()\n",
    "\n",
    "#結果を表示\n",
    "print('Statusを表示します...')\n",
    "print(LpStatus[prob.status])\n",
    "print('')\n",
    "\n",
    "print('結果を表示します...')\n",
    "print('Optimal value=', value(prob.objective))\n",
    "for v in prob.variables():\n",
    "    print(v.name, '=', value(v))"
   ]
  },
  {
   "cell_type": "markdown",
   "id": "b81eaf7c",
   "metadata": {},
   "source": [
    "# 線形最適化(numpyを使って式を定義)"
   ]
  },
  {
   "cell_type": "code",
   "execution_count": 2,
   "id": "ff3c6c8f",
   "metadata": {},
   "outputs": [
    {
     "name": "stdout",
     "output_type": "stream",
     "text": [
      "Production:\n",
      "MAXIMIZE\n",
      "150*x1 + 200*x2 + 300*x3 + 0\n",
      "SUBJECT TO\n",
      "ineq0: 3 x1 + x2 + 2 x3 <= 60\n",
      "\n",
      "ineq1: x1 + 3 x2 <= 36\n",
      "\n",
      "ineq2: 2 x2 + 4 x3 <= 48\n",
      "\n",
      "VARIABLES\n",
      "x1 Continuous\n",
      "x2 Continuous\n",
      "x3 Continuous\n",
      "\n",
      "Optimal\n",
      "Optimal value= 5800.0\n",
      "x1 = 12.0\n",
      "x2 = 8.0\n",
      "x3 = 8.0\n"
     ]
    }
   ],
   "source": [
    "#係数をnumpyで指定する\n",
    "\n",
    "from pulp import *\n",
    "import numpy as np\n",
    "\n",
    "#numpyで係数を指定する\n",
    "#目的関数：cx\n",
    "#条件：Ax<=b\n",
    "\n",
    "A = np.array([[3, 1, 2],\n",
    "             [1, 3, 0],\n",
    "             [0, 2, 4]])\n",
    "c = np.array([150, 200, 300])\n",
    "b = np.array([60, 36, 48])\n",
    "\n",
    "(m, n) = A.shape\n",
    "prob = LpProblem(name='Production', sense=LpMaximize)\n",
    "x = [LpVariable('x'+str(i+1), lowBound = 0) for i in range(n)]\n",
    "prob += lpDot(c,x)\n",
    "\n",
    "for i in range(m):\n",
    "    prob += lpDot(A[i], x) <= b[i], 'ineq'+str(i)\n",
    "print(prob)\n",
    "prob.solve()\n",
    "\n",
    "print(LpStatus[prob.status])\n",
    "print('Optimal value=', value(prob.objective))\n",
    "for v in prob.variables():\n",
    "    print(v.name, '=', value(v))"
   ]
  },
  {
   "cell_type": "code",
   "execution_count": 3,
   "id": "7a4db86f",
   "metadata": {
    "scrolled": false
   },
   "outputs": [
    {
     "data": {
      "text/plain": [
       "array([12.,  8.,  8.])"
      ]
     },
     "execution_count": 3,
     "metadata": {},
     "output_type": "execute_result"
    }
   ],
   "source": [
    "# 不等式制約を満たすことを確認する\n",
    "X = np.array([v.varValue for v in prob.variables()])\n",
    "X"
   ]
  },
  {
   "cell_type": "code",
   "execution_count": 4,
   "id": "2c97769f",
   "metadata": {},
   "outputs": [
    {
     "data": {
      "text/plain": [
       "True"
      ]
     },
     "execution_count": 4,
     "metadata": {},
     "output_type": "execute_result"
    }
   ],
   "source": [
    "# すべてTrueであればTrueになる\n",
    "np.all(np.abs(b - np.dot(A,X)) <= 1.0e-5)"
   ]
  },
  {
   "cell_type": "markdown",
   "id": "36175921",
   "metadata": {},
   "source": [
    "# 双対問題を解く"
   ]
  },
  {
   "cell_type": "code",
   "execution_count": 5,
   "id": "1ba6f73e",
   "metadata": {
    "scrolled": true
   },
   "outputs": [
    {
     "name": "stdout",
     "output_type": "stream",
     "text": [
      "Optimal\n",
      "Optimal value of dual problem = 5799.999996\n",
      "y1 = 44.444444\n",
      "y2 = 16.666667\n",
      "y3 = 52.777778\n"
     ]
    }
   ],
   "source": [
    "# Aを転置\n",
    "AT = A.T\n",
    "\n",
    "# 最小化問題\n",
    "dual = LpProblem(name='Dual_Production', sense=LpMinimize)\n",
    "\n",
    "# 変数を設定\n",
    "y = [LpVariable('y'+str(i+1), lowBound=0) for i in range(m)]\n",
    "\n",
    "# 目的関数を設定\n",
    "dual += lpDot(b,y)\n",
    "\n",
    "# 条件を設定\n",
    "for j in range(n):\n",
    "    dual += lpDot(AT[j],y) >= c[j], 'ineq'+str(j)\n",
    "\n",
    "# 計算\n",
    "dual.solve()\n",
    "print(LpStatus[dual.status])\n",
    "\n",
    "# 結果を表示\n",
    "print('Optimal value of dual problem =', value(dual.objective))\n",
    "for v in dual.variables():\n",
    "    print(v.name, '=', v.varValue)"
   ]
  },
  {
   "cell_type": "code",
   "execution_count": 6,
   "id": "58109ebd",
   "metadata": {},
   "outputs": [
    {
     "data": {
      "text/plain": [
       "True"
      ]
     },
     "execution_count": 6,
     "metadata": {},
     "output_type": "execute_result"
    }
   ],
   "source": [
    "# 不等式制約を満たすことを確認する\n",
    "Y=np.array([v.varValue for v in dual.variables()])\n",
    "np.all(np.abs(np.dot(AT,Y) - c) <= 1.0e-5)"
   ]
  },
  {
   "cell_type": "markdown",
   "id": "6a54f1cb",
   "metadata": {},
   "source": [
    "# シンプレックス法実装"
   ]
  },
  {
   "cell_type": "code",
   "execution_count": 7,
   "id": "57d814c2",
   "metadata": {},
   "outputs": [
    {
     "name": "stdout",
     "output_type": "stream",
     "text": [
      "A.shape: 3 3\n",
      "AI:\n",
      "[[ 2.  2. -1.  1.  0.  0.]\n",
      " [ 2. -2.  3.  0.  1.  0.]\n",
      " [ 0.  2. -1.  0.  0.  1.]]\n",
      "c0: [4. 3. 5. 0. 0. 0.]\n",
      "basis: [3, 4, 5]\n",
      "nonbasis: [0, 1, 2]\n",
      "cc: [4. 3. 5.]\n",
      "s: 2\n",
      "bb: [6. 8. 4.]\n",
      "ratio: [       inf 2.66666667        inf]\n",
      "r: 1\n",
      "入れ替えを行います...\n",
      "basis: [3, 2, 5]\n",
      "nonbasis: [0, 1, 4]\n",
      "cc: [ 0.66666667  6.33333333 -1.66666667]\n",
      "s: 1\n",
      "bb: [8.66666667 2.66666667 6.66666667]\n",
      "ratio: [6.5 inf 5. ]\n",
      "r: 2\n",
      "入れ替えを行います...\n",
      "basis: [3, 2, 1]\n",
      "nonbasis: [0, 5, 4]\n",
      "x: [0. 5. 6. 2. 0. 0.]\n",
      "Optimal\n",
      "Optimal value = 45.0\n",
      "x 0 = 0.0\n",
      "x 1 = 4.999999999999999\n",
      "x 2 = 6.0\n"
     ]
    }
   ],
   "source": [
    "import numpy as np\n",
    "import scipy.linalg as linalg\n",
    "MEPS = 1.0e-10\n",
    "\n",
    "def lp_RevisedSimplex(c,A,b):\n",
    "    np.seterr(divide='ignore') # 0で割ったときの警告を無視する\n",
    "    (m, n) = A.shape\n",
    "    print('A.shape:',m,n)\n",
    "    \n",
    "    AI = np.hstack((A, np.identity(m)))\n",
    "    print('AI:')\n",
    "    print(AI)\n",
    "    \n",
    "    c0 = np.r_[c, np.zeros(m)]\n",
    "    print('c0:',c0)\n",
    "    \n",
    "    basis = [n+i for i in range(m)]\n",
    "    print('basis:', basis)\n",
    "    nonbasis=[j for j in range(n)]\n",
    "    print('nonbasis:', nonbasis)\n",
    "    \n",
    "    while True:\n",
    "        # AI.T * y = C0 を解く\n",
    "        y = linalg.solve(AI[:,basis].T, c0[basis])\n",
    "        cc = c0[nonbasis] - np.dot(y, AI[:, nonbasis])\n",
    "        \n",
    "        # cc<=0であればyが双対問題の実行可能解となる\n",
    "        if np.all(cc <= MEPS):\n",
    "            x = np.zeros(n+m)\n",
    "            # AI * x = b を解いて、基底の部分のみに追加\n",
    "            x[basis] = linalg.solve(AI[:, basis], b)\n",
    "            print('x:',x)\n",
    "            print('Optimal')\n",
    "            # 目的関数の計算\n",
    "            print('Optimal value =', np.dot(c0[basis], x[basis]))\n",
    "            # x0 - x2を出力\n",
    "            for i in range(m):\n",
    "                print('x',i , '=', x[i])\n",
    "            break\n",
    "        else:\n",
    "            s = np.argmax(cc) # ccの最大が何番目か\n",
    "            print('cc:',cc)\n",
    "            print('s:',s) \n",
    "        \n",
    "        # AI(非基底)の内、入る変数 以外の非基底変数を考えずに、\n",
    "        # AI(基底) * d = AI (非基底の入る変数のみ) を計算\n",
    "        # 【ノート（シンプレックス法の概要）参照】\n",
    "        # このdは bb - d * θ の係数を表す\n",
    "        # つまり全てのd が 負になれば、θが無限まで行けてしまうので、非有界となる \n",
    "        d = linalg.solve(AI[:, basis], AI[:, nonbasis[s]])\n",
    "        # 非有界を判定\n",
    "        if np.all(d <= MEPS):\n",
    "            print('Unbounded')\n",
    "            break\n",
    "        else:\n",
    "            # 【ノート（シンプレックス法の概要）参照】\n",
    "            # bb - d * θ => 0 でないといけないが、そのbbを計算している\n",
    "            # θをどこまで大きくできるか　を表しているのが min(ratio)である\n",
    "            # それに対応する変数が入る変数 r となる\n",
    "            bb = linalg.solve(AI[:, basis], b)\n",
    "            print('bb:', bb)\n",
    "            ratio = bb/d\n",
    "            ratio[ratio <-MEPS] = np.inf\n",
    "            print('ratio:', ratio)\n",
    "            r = np.argmin(ratio)\n",
    "            print('r:',r)\n",
    "            \n",
    "            # 基底と非基底の入れ替え\n",
    "            nonbasis[s], basis[r] = basis[r], nonbasis[s]\n",
    "            print('入れ替えを行います...')\n",
    "            print('basis:', basis)\n",
    "            print('nonbasis:', nonbasis)\n",
    "\n",
    "A = np.array([[2,2,-1],[2,-2,3],[0,2,-1]])\n",
    "c = np.array([4,3,5])\n",
    "b = np.array([6,8,4])\n",
    "\n",
    "lp_RevisedSimplex(c,A,b)"
   ]
  },
  {
   "cell_type": "code",
   "execution_count": null,
   "id": "15943e8d",
   "metadata": {},
   "outputs": [],
   "source": []
  }
 ],
 "metadata": {
  "kernelspec": {
   "display_name": "Python 3",
   "language": "python",
   "name": "python3"
  },
  "language_info": {
   "codemirror_mode": {
    "name": "ipython",
    "version": 3
   },
   "file_extension": ".py",
   "mimetype": "text/x-python",
   "name": "python",
   "nbconvert_exporter": "python",
   "pygments_lexer": "ipython3",
   "version": "3.8.8"
  }
 },
 "nbformat": 4,
 "nbformat_minor": 5
}
