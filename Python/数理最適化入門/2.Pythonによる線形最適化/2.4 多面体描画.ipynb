{
 "cells": [
  {
   "cell_type": "markdown",
   "id": "8b976ce0",
   "metadata": {},
   "source": [
    "# 多面体描画"
   ]
  },
  {
   "cell_type": "code",
   "execution_count": 1,
   "id": "e40501aa",
   "metadata": {},
   "outputs": [],
   "source": [
    "import numpy as np\n",
    "import cdd\n",
    "from itertools import combinations\n",
    "MEPS = 1.0e-6\n",
    "\n",
    "# 多面体を定義する不等式の作成\n",
    "np.random.seed(2)\n",
    "n, d = 40, 3\n",
    "A = np.random.randint(0,100,(n,d))\n",
    "b = np.sqrt(np.dot(A**2,np.ones(d))).astype(np.int64)\n",
    "m, n = np.shape(A)"
   ]
  },
  {
   "cell_type": "code",
   "execution_count": 2,
   "id": "5bf7fe72",
   "metadata": {},
   "outputs": [
    {
     "name": "stdout",
     "output_type": "stream",
     "text": [
      "(40, 3)\n",
      "(40,)\n"
     ]
    }
   ],
   "source": [
    "print(A.shape)\n",
    "print(b.shape)"
   ]
  },
  {
   "cell_type": "code",
   "execution_count": 3,
   "id": "ecb1c40a",
   "metadata": {},
   "outputs": [],
   "source": [
    "# pycddlib用のフォーマットに合わせる．\n",
    "eb = np.hstack((b, np.zeros(n))).reshape(-1,1)\n",
    "eA = np.vstack((-A,np.identity(n)))\n",
    "ar = np.hstack((eb,eA))\n",
    "mat = cdd.Matrix(ar,number_type='fraction')"
   ]
  },
  {
   "cell_type": "markdown",
   "id": "123ac62e",
   "metadata": {},
   "source": [
    "A matrix [b -A] で Ax >= b を表す  \n",
    "最後の 単位行列の部分はxが0以上であることを表す"
   ]
  },
  {
   "cell_type": "code",
   "execution_count": 4,
   "id": "354dc74b",
   "metadata": {},
   "outputs": [
    {
     "name": "stdout",
     "output_type": "stream",
     "text": [
      "begin\n",
      " 43 4 rational\n",
      " 83 -40 -15 -72\n",
      " 95 -22 -43 -82\n",
      " 82 -75 -7 -34\n",
      " 130 -49 -95 -75\n",
      " 115 -85 -47 -63\n",
      " 97 -31 -90 -20\n",
      " 85 -37 -39 -67\n",
      " 66 -4 -42 -51\n",
      " 76 -38 -33 -58\n",
      " 130 -67 -69 -88\n",
      " 107 -68 -46 -70\n",
      " 129 -95 -83 -31\n",
      " 116 -66 -80 -52\n",
      " 91 -76 -50 -4\n",
      " 135 -90 -63 -79\n",
      " 77 -49 -39 -46\n",
      " 52 -8 -50 -15\n",
      " 28 -8 -17 -22\n",
      " 129 -73 -57 -90\n",
      " 141 -62 -83 -96\n",
      " 59 -43 -32 -26\n",
      " 77 -8 -76 -10\n",
      " 79 -40 -34 -60\n",
      " 111 -9 -70 -86\n",
      " 91 -70 -19 -56\n",
      " 106 -82 -1 -68\n",
      " 109 -40 -81 -61\n",
      " 120 -70 -97 -18\n",
      " 150 -84 -90 -87\n",
      " 70 -22 -43 -52\n",
      " 136 -74 -72 -90\n",
      " 165 -99 -91 -96\n",
      " 61 -16 -55 -21\n",
      " 129 -43 -93 -80\n",
      " 109 -40 -70 -74\n",
      " 71 -37 -59 -17\n",
      " 83 -15 -30 -77\n",
      " 78 -26 -39 -63\n",
      " 66 -20 -22 -59\n",
      " 55 -49 -27 0\n",
      " 0 1 0 0\n",
      " 0 0 1 0\n",
      " 0 0 0 1\n",
      "end\n"
     ]
    }
   ],
   "source": [
    "print(mat)"
   ]
  },
  {
   "cell_type": "code",
   "execution_count": 5,
   "id": "2374cb99",
   "metadata": {},
   "outputs": [],
   "source": [
    "# 端点列挙実行\n",
    "poly = cdd.Polyhedron(mat)\n",
    "ext = poly.get_generators()\n",
    "\n",
    "# 座標を計算\n",
    "vl = np.array([np.array(v[1:])/v[0] for v in ext if v[0] != 0])\n",
    "# 小数点形式に変換\n",
    "vlist = vl.astype(np.float64)"
   ]
  },
  {
   "cell_type": "code",
   "execution_count": 6,
   "id": "b508046c",
   "metadata": {},
   "outputs": [
    {
     "name": "stdout",
     "output_type": "stream",
     "text": [
      "(Fraction(3293, 1391), 1, Fraction(3070, 1391), 0)\n",
      "(Fraction(18143, 1206), Fraction(7781, 1206), Fraction(8303, 603), 1)\n",
      "(Fraction(176, 125), Fraction(257, 250), 1, 0)\n",
      "(Fraction(12709, 6020), Fraction(8937, 6020), 1, Fraction(95, 86))\n",
      "(Fraction(2555, 816), Fraction(3631, 1632), 1, Fraction(7493, 3808))\n"
     ]
    }
   ],
   "source": [
    "# Fractionは分数の意味\n",
    "for v in ext[:5]:\n",
    "    print(v)"
   ]
  },
  {
   "cell_type": "code",
   "execution_count": 7,
   "id": "9c68a490",
   "metadata": {},
   "outputs": [
    {
     "name": "stdout",
     "output_type": "stream",
     "text": [
      "[[Fraction(1391, 3293) Fraction(3070, 3293) Fraction(0, 1)]\n",
      " [Fraction(7781, 18143) Fraction(16606, 18143) Fraction(1206, 18143)]\n",
      " [Fraction(257, 352) Fraction(125, 176) Fraction(0, 1)]\n",
      " [Fraction(8937, 12709) Fraction(6020, 12709) Fraction(6650, 12709)]\n",
      " [Fraction(3631, 5110) Fraction(816, 2555) Fraction(22479, 35770)]]\n"
     ]
    }
   ],
   "source": [
    "print(vl[:5])"
   ]
  },
  {
   "cell_type": "code",
   "execution_count": 8,
   "id": "d6d34afd",
   "metadata": {},
   "outputs": [
    {
     "name": "stdout",
     "output_type": "stream",
     "text": [
      "[[0.42241118 0.9322806  0.        ]\n",
      " [0.42887064 0.91528413 0.06647192]\n",
      " [0.73011364 0.71022727 0.        ]\n",
      " [0.70320245 0.47368007 0.52325124]\n",
      " [0.71056751 0.31937378 0.62843165]]\n"
     ]
    }
   ],
   "source": [
    "# vlistが端点\n",
    "print(vlist[:5])"
   ]
  },
  {
   "cell_type": "code",
   "execution_count": 9,
   "id": "5d0ad6d2",
   "metadata": {},
   "outputs": [],
   "source": [
    "# 付加情報(枝の情報)の計算\n",
    "# 端点を不等式に入れて 等しい関係になった3つの不等式の番号、setに入れる\n",
    "zerosets = [set([i for i in range(m+n)\n",
    "                 if abs(eb[i]+np.dot(eA[i],v)) <= MEPS]) for v in vl]\n",
    "\n",
    "# 積集合を計算\n",
    "# 2平面が一致した点同士を繋げる\n",
    "elist = [[i,j] for i,j in combinations(range(len(vl)),2)\n",
    "       if len(zerosets[i].intersection(zerosets[j])) >= 2]"
   ]
  },
  {
   "cell_type": "code",
   "execution_count": 10,
   "id": "a3dc919a",
   "metadata": {},
   "outputs": [
    {
     "name": "stdout",
     "output_type": "stream",
     "text": [
      "{42, 27, 5}\n",
      "{35, 27, 5}\n",
      "{27, 5}\n"
     ]
    }
   ],
   "source": [
    "print(zerosets[0])\n",
    "print(zerosets[1])\n",
    "print(zerosets[0].intersection(zerosets[1]))"
   ]
  },
  {
   "cell_type": "code",
   "execution_count": 11,
   "id": "30a32425",
   "metadata": {},
   "outputs": [
    {
     "name": "stdout",
     "output_type": "stream",
     "text": [
      "0 1\n",
      "0 2\n",
      "0 3\n",
      "0 4\n",
      "1 2\n",
      "1 3\n",
      "1 4\n",
      "2 3\n",
      "2 4\n",
      "3 4\n"
     ]
    }
   ],
   "source": [
    "# 組み合わせを計算\n",
    "for i,j in combinations(range(5),2):\n",
    "    print(i,j)"
   ]
  },
  {
   "cell_type": "code",
   "execution_count": 12,
   "id": "9d9ebda9",
   "metadata": {},
   "outputs": [
    {
     "data": {
      "text/html": [
       "<div id=\"glowscript\" class=\"glowscript\"></div>"
      ],
      "text/plain": [
       "<IPython.core.display.HTML object>"
      ]
     },
     "metadata": {},
     "output_type": "display_data"
    },
    {
     "data": {
      "application/javascript": [
       "if (typeof Jupyter !== \"undefined\") { window.__context = { glowscript_container: $(\"#glowscript\").removeAttr(\"id\")};}else{ element.textContent = ' ';}"
      ],
      "text/plain": [
       "<IPython.core.display.Javascript object>"
      ]
     },
     "metadata": {},
     "output_type": "display_data"
    },
    {
     "data": {
      "text/html": [
       "<div id=\"glowscript\" class=\"glowscript\"></div>"
      ],
      "text/plain": [
       "<IPython.core.display.HTML object>"
      ]
     },
     "metadata": {},
     "output_type": "display_data"
    },
    {
     "data": {
      "application/javascript": [
       "if (typeof Jupyter !== \"undefined\") { window.__context = { glowscript_container: $(\"#glowscript\").removeAttr(\"id\")};}else{ element.textContent = ' ';}"
      ],
      "text/plain": [
       "<IPython.core.display.Javascript object>"
      ]
     },
     "metadata": {},
     "output_type": "display_data"
    },
    {
     "data": {
      "application/javascript": [
       "if (typeof Jupyter !== \"undefined\") {require.undef(\"nbextensions/vpython_libraries/glow.min\");}else{element.textContent = ' ';}"
      ],
      "text/plain": [
       "<IPython.core.display.Javascript object>"
      ]
     },
     "metadata": {},
     "output_type": "display_data"
    },
    {
     "data": {
      "application/javascript": [
       "if (typeof Jupyter !== \"undefined\") {require.undef(\"nbextensions/vpython_libraries/glowcomm\");}else{element.textContent = ' ';}"
      ],
      "text/plain": [
       "<IPython.core.display.Javascript object>"
      ]
     },
     "metadata": {},
     "output_type": "display_data"
    },
    {
     "data": {
      "application/javascript": [
       "if (typeof Jupyter !== \"undefined\") {require.undef(\"nbextensions/vpython_libraries/jquery-ui.custom.min\");}else{element.textContent = ' ';}"
      ],
      "text/plain": [
       "<IPython.core.display.Javascript object>"
      ]
     },
     "metadata": {},
     "output_type": "display_data"
    },
    {
     "data": {
      "application/javascript": [
       "if (typeof Jupyter !== \"undefined\") {require([\"nbextensions/vpython_libraries/glow.min\"], function(){console.log(\"GLOW LOADED\");});}else{element.textContent = ' ';}"
      ],
      "text/plain": [
       "<IPython.core.display.Javascript object>"
      ]
     },
     "metadata": {},
     "output_type": "display_data"
    },
    {
     "data": {
      "application/javascript": [
       "if (typeof Jupyter !== \"undefined\") {require([\"nbextensions/vpython_libraries/glowcomm\"], function(){console.log(\"GLOWCOMM LOADED\");});}else{element.textContent = ' ';}"
      ],
      "text/plain": [
       "<IPython.core.display.Javascript object>"
      ]
     },
     "metadata": {},
     "output_type": "display_data"
    },
    {
     "data": {
      "application/javascript": [
       "if (typeof Jupyter !== \"undefined\") {require([\"nbextensions/vpython_libraries/jquery-ui.custom.min\"], function(){console.log(\"JQUERY LOADED\");});}else{element.textContent = ' ';}"
      ],
      "text/plain": [
       "<IPython.core.display.Javascript object>"
      ]
     },
     "metadata": {},
     "output_type": "display_data"
    }
   ],
   "source": [
    "# 可視化\n",
    "from vpython import *\n",
    "# vpython 初期設定\n",
    "scene = canvas(width = 800,height = 600)\n",
    "vmin = np.min(vlist)-0.5\n",
    "length = np.max(vlist)-vmin+0.5\n",
    "scene.up = vector(0,0,1)\n",
    "scene.forward = vector(-1,-1,-1)\n",
    "scene.center = vector(0,0,0)\n",
    "scene.range = 0.9*length\n",
    "scene.background = color.white\n",
    "cb = color.black\n",
    "cr = color.red\n",
    "\n",
    "# x,y,z軸を描画\n",
    "arrow(pos=vector(vmin,0,0),axis=vector(length,0,0),\n",
    "      shaftwidth=0.002,headwidth=0.05,color=cb)\n",
    "arrow(pos=vector(0,vmin,0),axis=vector(0,length,0),\n",
    "      shaftwidth=0.002,headwidth=0.05,color=cb)\n",
    "arrow(pos=vector(0,0,vmin),axis=vector(0,0,length),\n",
    "      shaftwidth=0.002,headwidth=0.05,color=cb)\n",
    "\n",
    "# 頂点と稜線を描画\n",
    "vertices = [sphere(pos=vector(*v),\n",
    "                radius=0.01,color=cb) for v in vlist]\n",
    "edges = [curve(pos=[vector(*vlist[i]), vector(*vlist[j])],\n",
    "               radius=0.007,color=cb) for [i,j] in elist]"
   ]
  },
  {
   "cell_type": "code",
   "execution_count": null,
   "id": "14bc2cea",
   "metadata": {},
   "outputs": [],
   "source": []
  }
 ],
 "metadata": {
  "kernelspec": {
   "display_name": "Python 3",
   "language": "python",
   "name": "python3"
  },
  "language_info": {
   "codemirror_mode": {
    "name": "ipython",
    "version": 3
   },
   "file_extension": ".py",
   "mimetype": "text/x-python",
   "name": "python",
   "nbconvert_exporter": "python",
   "pygments_lexer": "ipython3",
   "version": "3.8.8"
  }
 },
 "nbformat": 4,
 "nbformat_minor": 5
}
