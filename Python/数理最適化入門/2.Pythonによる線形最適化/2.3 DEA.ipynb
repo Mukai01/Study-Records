{
 "cells": [
  {
   "cell_type": "markdown",
   "id": "8b976ce0",
   "metadata": {},
   "source": [
    "# DEA"
   ]
  },
  {
   "cell_type": "code",
   "execution_count": 15,
   "id": "a344d648",
   "metadata": {},
   "outputs": [
    {
     "data": {
      "text/plain": [
       "(array([0, 2, 4], dtype=int64),)"
      ]
     },
     "execution_count": 15,
     "metadata": {},
     "output_type": "execute_result"
    }
   ],
   "source": [
    "import numpy as np\n",
    "\n",
    "# np.whereの使い方\n",
    "a=np.array([1,-2,3,-4,5])\n",
    "np.where(a > 0)"
   ]
  },
  {
   "cell_type": "code",
   "execution_count": 16,
   "id": "d3445728",
   "metadata": {},
   "outputs": [],
   "source": [
    "from pulp import *\n",
    "MEPS = 1.0e-6\n",
    "\n",
    "def DEA_CCR(x, y, DMUs):\n",
    "    # 形状を取得\n",
    "    m, n = x.shape\n",
    "    s, n = y.shape\n",
    "\n",
    "    res = []\n",
    "    for o in range(n):\n",
    "        # 最大化問題\n",
    "        prob = LpProblem('DMU_'+str(o), LpMaximize)\n",
    "        \n",
    "        # 変数を定義\n",
    "        v = [LpVariable('v'+str(i), lowBound=0,\n",
    "                        cat='Continuous') for i in range(m)]\n",
    "        u = [LpVariable('u'+str(i), lowBound=0,\n",
    "                        cat='Continuous') for i in range(s)]\n",
    "        \n",
    "        # 目的関数を定義\n",
    "        prob += lpDot(u, y[:,o])\n",
    "        \n",
    "        #　制約条件を定義\n",
    "        prob += lpDot(v, x[:,o])==1, 'Normalize'+str(o) \n",
    "        for j in range(n):\n",
    "            prob += lpDot(u, y[:,j]) <= lpDot(v, x[:, j])\n",
    "\n",
    "        prob.solve()\n",
    "        \n",
    "        vs = np.array([v[i].varValue for i in range(m)]) # v*\n",
    "        us = np.array([u[i].varValue for i in range(s)])  # u*\n",
    "        \n",
    "        # 参照集合作成\n",
    "        # np.whereは条件を満たすindexを返す\n",
    "        print(np.where(np.abs(np.dot(vs,x)-np.dot(us,y))<=MEPS))\n",
    "        (eo,) = np.where(np.abs(np.dot(vs,x)-np.dot(us,y))<=MEPS)\n",
    "        print(eo)\n",
    "        res.append([DMUs[o], value(prob.objective),\n",
    "                    set(eo), tuple(vs), tuple(us)])\n",
    "    return res"
   ]
  },
  {
   "cell_type": "code",
   "execution_count": 12,
   "id": "21d06b6d",
   "metadata": {
    "scrolled": true
   },
   "outputs": [
    {
     "name": "stdout",
     "output_type": "stream",
     "text": [
      "(array([2, 7], dtype=int64),)\n",
      "[2 7]\n",
      "(array([3], dtype=int64),)\n",
      "[3]\n",
      "(array([2, 7], dtype=int64),)\n",
      "[2 7]\n",
      "(array([3], dtype=int64),)\n",
      "[3]\n",
      "(array([2, 3, 7], dtype=int64),)\n",
      "[2 3 7]\n",
      "(array([3, 7], dtype=int64),)\n",
      "[3 7]\n",
      "(array([3, 7, 9], dtype=int64),)\n",
      "[3 7 9]\n",
      "(array([3, 7, 9], dtype=int64),)\n",
      "[3 7 9]\n",
      "(array([3, 7], dtype=int64),)\n",
      "[3 7]\n",
      "(array([3, 7, 9], dtype=int64),)\n",
      "[3 7 9]\n"
     ]
    },
    {
     "name": "stderr",
     "output_type": "stream",
     "text": [
      "<ipython-input-12-c4c538f6423b>:16: VisibleDeprecationWarning: Creating an ndarray from ragged nested sequences (which is a list-or-tuple of lists-or-tuples-or ndarrays with different lengths or shapes) is deprecated. If you meant to do this, you must specify 'dtype=object' when creating the ndarray.\n",
      "  res = np.array(DEA_CCR(x,y, DMUs))\n"
     ]
    },
    {
     "data": {
      "text/plain": [
       "array([['アメリカ', 0.3697814572, {2, 7}, (0.0031077713, 0.0),\n",
       "        (0.0055588983, 0.0, 0.0030018983)],\n",
       "       ['中国', 0.257167573, {3}, (0.0, 0.00018796173),\n",
       "        (0.0, 0.0, 0.0098910605)],\n",
       "       ['イギリス', 0.9999999970000001, {2, 7}, (0.015452129, 0.0),\n",
       "        (0.027639362, 0.0, 0.014925719)],\n",
       "       ['ロシア', 1.0000000009999999, {3}, (0.0, 0.001000168),\n",
       "        (0.0, 0.0, 0.052631579)],\n",
       "       ['ドイツ', 0.567588247, {2, 3, 7}, (0.0029566373, 0.00023597662),\n",
       "        (0.023233346, 0.0, 0.011508091)],\n",
       "       ['フランス', 0.666693702, {3, 7}, (0.0020937321, 0.00036639474),\n",
       "        (0.0, 0.037038539, 0.0)],\n",
       "       ['日本', 0.4118923692, {9, 3, 7}, (0.0015484154, 0.00016817022),\n",
       "        (0.0021624441, 0.0, 0.01837824)],\n",
       "       ['オーストラリア', 1.000000002, {9, 3, 7}, (0.0077004196, 0.00083632678),\n",
       "        (0.010754044, 0.0, 0.091396765)],\n",
       "       ['イタリア', 0.581318664, {3, 7}, (0.0027384214, 0.00047921279),\n",
       "        (0.0, 0.048443222, 0.0)],\n",
       "       ['カナダ', 0.9999999978, {9, 3, 7}, (0.005095832, 0.00060072953),\n",
       "        (0.0, 0.0045770926, 0.065751248)]], dtype=object)"
      ]
     },
     "execution_count": 12,
     "metadata": {},
     "output_type": "execute_result"
    }
   ],
   "source": [
    "# 人口とGDP\n",
    "x = np.array([[321.774, 1376.049, 64.716, 143.457,\n",
    "    80.689, 64.395, 126.573, 23.969, 59.798, 35.94],\n",
    "  [14682.739, 5320.232, 2676.52, 999.832, 3226.726,\n",
    "    2361.317, 4780.944, 975.012, 1745.045, 1359.773]])\n",
    "\n",
    "# 金メダル数、銀メダル数、銅メダル数\n",
    "y = np.array([[46, 26, 27, 19, 17, 10, 12, 8, 8, 4],\n",
    " [37, 18, 23, 18, 10, 18, 8, 11, 12, 3],\n",
    " [38, 26, 17, 19, 15, 14, 21, 10, 8, 15]])\n",
    "\n",
    "# 国名\n",
    "DMUs = ['アメリカ', '中国', 'イギリス', 'ロシア', 'ドイツ', 'フランス',\n",
    "    '日本', 'オーストラリア', 'イタリア', 'カナダ']\n",
    "\n",
    "res = np.array(DEA_CCR(x,y, DMUs))\n",
    "res"
   ]
  },
  {
   "cell_type": "code",
   "execution_count": null,
   "id": "3d82f9e8",
   "metadata": {},
   "outputs": [],
   "source": []
  },
  {
   "cell_type": "code",
   "execution_count": 9,
   "id": "34b46167",
   "metadata": {},
   "outputs": [],
   "source": [
    "results = [[x[0],x[1], list(res[:,0][list(x[2])])] for x in res]\n",
    "# xという変数を入れたら、1列目だけを中秋t\n",
    "results = sorted(results, key=lambda x: x[1], reverse=True)"
   ]
  },
  {
   "cell_type": "code",
   "execution_count": 10,
   "id": "628b96dd",
   "metadata": {},
   "outputs": [
    {
     "data": {
      "text/plain": [
       "[['オーストラリア', 1.000000002, ['カナダ', 'ロシア', 'オーストラリア']],\n",
       " ['ロシア', 1.0000000009999999, ['ロシア']],\n",
       " ['カナダ', 0.9999999978, ['カナダ', 'ロシア', 'オーストラリア']],\n",
       " ['イギリス', 0.9999999970000001, ['イギリス', 'オーストラリア']],\n",
       " ['フランス', 0.666693702, ['ロシア', 'オーストラリア']],\n",
       " ['イタリア', 0.581318664, ['ロシア', 'オーストラリア']],\n",
       " ['ドイツ', 0.567588247, ['イギリス', 'ロシア', 'オーストラリア']],\n",
       " ['日本', 0.4118923692, ['カナダ', 'ロシア', 'オーストラリア']],\n",
       " ['アメリカ', 0.3697814572, ['イギリス', 'オーストラリア']],\n",
       " ['中国', 0.257167573, ['ロシア']]]"
      ]
     },
     "execution_count": 10,
     "metadata": {},
     "output_type": "execute_result"
    }
   ],
   "source": [
    "results"
   ]
  }
 ],
 "metadata": {
  "kernelspec": {
   "display_name": "Python 3",
   "language": "python",
   "name": "python3"
  },
  "language_info": {
   "codemirror_mode": {
    "name": "ipython",
    "version": 3
   },
   "file_extension": ".py",
   "mimetype": "text/x-python",
   "name": "python",
   "nbconvert_exporter": "python",
   "pygments_lexer": "ipython3",
   "version": "3.8.8"
  }
 },
 "nbformat": 4,
 "nbformat_minor": 5
}
