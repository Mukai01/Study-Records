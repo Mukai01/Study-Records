{
 "cells": [
  {
   "cell_type": "markdown",
   "id": "8b976ce0",
   "metadata": {},
   "source": [
    "# 線形最適化"
   ]
  },
  {
   "cell_type": "code",
   "execution_count": 1,
   "id": "b10202d0",
   "metadata": {},
   "outputs": [
    {
     "name": "stdout",
     "output_type": "stream",
     "text": [
      "probを表示します...\n",
      "LP-sample:\n",
      "MAXIMIZE\n",
      "2*x1 + 3*x2 + 0\n",
      "SUBJECT TO\n",
      "ineq1: x1 + 3 x2 <= 9\n",
      "\n",
      "ineq2: x1 + x2 <= 4\n",
      "\n",
      "ineq3: x1 + x2 <= 6\n",
      "\n",
      "VARIABLES\n",
      "x1 Continuous\n",
      "x2 Continuous\n",
      "\n",
      "Statusを表示します...\n",
      "Optimal\n",
      "\n",
      "結果を表示します...\n",
      "Optimal value= 10.5\n",
      "x1 = 1.5\n",
      "x2 = 2.5\n"
     ]
    }
   ],
   "source": [
    "from pulp import *\n",
    "prob = LpProblem(name = 'LP-sample', sense=LpMaximize)\n",
    "\n",
    "# 変数の設定\n",
    "x1 = LpVariable('x1', lowBound=0.0)\n",
    "x2 = LpVariable('x2', lowBound=0.0)\n",
    "\n",
    "# 目的関数の設定\n",
    "prob += 2*x1 + 3*x2\n",
    "\n",
    "# 条件の設定\n",
    "prob += x1 + 3*x2 <= 9, 'ineq1'\n",
    "prob += x1 + x2 <= 4, 'ineq2'\n",
    "prob += x1 + x2 <= 6, 'ineq3'\n",
    "\n",
    "# 問題を出力\n",
    "print('probを表示します...')\n",
    "print(prob)\n",
    "\n",
    "# 計算\n",
    "prob.solve()\n",
    "\n",
    "#結果を表示\n",
    "print('Statusを表示します...')\n",
    "print(LpStatus[prob.status])\n",
    "print('')\n",
    "\n",
    "print('結果を表示します...')\n",
    "print('Optimal value=', value(prob.objective))\n",
    "for v in prob.variables():\n",
    "    print(v.name, '=', value(v))"
   ]
  },
  {
   "cell_type": "markdown",
   "id": "b81eaf7c",
   "metadata": {},
   "source": [
    "# 線形最適化(numpyを使って式を定義)"
   ]
  },
  {
   "cell_type": "code",
   "execution_count": 2,
   "id": "ff3c6c8f",
   "metadata": {},
   "outputs": [
    {
     "name": "stdout",
     "output_type": "stream",
     "text": [
      "Production:\n",
      "MAXIMIZE\n",
      "150*x1 + 200*x2 + 300*x3 + 0\n",
      "SUBJECT TO\n",
      "ineq0: 3 x1 + x2 + 2 x3 <= 60\n",
      "\n",
      "ineq1: x1 + 3 x2 <= 36\n",
      "\n",
      "ineq2: 2 x2 + 4 x3 <= 48\n",
      "\n",
      "VARIABLES\n",
      "x1 Continuous\n",
      "x2 Continuous\n",
      "x3 Continuous\n",
      "\n",
      "Optimal\n",
      "Optimal value= 5800.0\n",
      "x1 = 12.0\n",
      "x2 = 8.0\n",
      "x3 = 8.0\n"
     ]
    }
   ],
   "source": [
    "#係数をnumpyで指定する\n",
    "\n",
    "from pulp import *\n",
    "import numpy as np\n",
    "\n",
    "#numpyで係数を指定する\n",
    "#目的関数：cx\n",
    "#条件：Ax<=b\n",
    "\n",
    "A = np.array([[3, 1, 2],\n",
    "             [1, 3, 0],\n",
    "             [0, 2, 4]])\n",
    "c = np.array([150, 200, 300])\n",
    "b = np.array([60, 36, 48])\n",
    "\n",
    "(m, n) = A.shape\n",
    "prob = LpProblem(name='Production', sense=LpMaximize)\n",
    "x = [LpVariable('x'+str(i+1), lowBound = 0) for i in range(n)]\n",
    "prob += lpDot(c,x)\n",
    "\n",
    "for i in range(m):\n",
    "    prob += lpDot(A[i], x) <= b[i], 'ineq'+str(i)\n",
    "print(prob)\n",
    "prob.solve()\n",
    "\n",
    "print(LpStatus[prob.status])\n",
    "print('Optimal value=', value(prob.objective))\n",
    "for v in prob.variables():\n",
    "    print(v.name, '=', value(v))"
   ]
  },
  {
   "cell_type": "code",
   "execution_count": 3,
   "id": "7a4db86f",
   "metadata": {
    "scrolled": false
   },
   "outputs": [
    {
     "data": {
      "text/plain": [
       "array([12.,  8.,  8.])"
      ]
     },
     "execution_count": 3,
     "metadata": {},
     "output_type": "execute_result"
    }
   ],
   "source": [
    "# 不等式制約を満たすことを確認する\n",
    "X = np.array([v.varValue for v in prob.variables()])\n",
    "X"
   ]
  },
  {
   "cell_type": "code",
   "execution_count": 4,
   "id": "2c97769f",
   "metadata": {},
   "outputs": [
    {
     "data": {
      "text/plain": [
       "True"
      ]
     },
     "execution_count": 4,
     "metadata": {},
     "output_type": "execute_result"
    }
   ],
   "source": [
    "# すべてTrueであればTrueになる\n",
    "np.all(np.abs(b - np.dot(A,X)) <= 1.0e-5)"
   ]
  },
  {
   "cell_type": "markdown",
   "id": "36175921",
   "metadata": {},
   "source": [
    "# 双対問題を解く"
   ]
  },
  {
   "cell_type": "code",
   "execution_count": 5,
   "id": "1ba6f73e",
   "metadata": {
    "scrolled": true
   },
   "outputs": [
    {
     "name": "stdout",
     "output_type": "stream",
     "text": [
      "Optimal\n",
      "Optimal value of dual problem = 5799.999996\n",
      "y1 = 44.444444\n",
      "y2 = 16.666667\n",
      "y3 = 52.777778\n"
     ]
    }
   ],
   "source": [
    "# Aを転置\n",
    "AT = A.T\n",
    "\n",
    "# 最小化問題\n",
    "dual = LpProblem(name='Dual_Production', sense=LpMinimize)\n",
    "\n",
    "# 変数を設定\n",
    "y = [LpVariable('y'+str(i+1), lowBound=0) for i in range(m)]\n",
    "\n",
    "# 目的関数を設定\n",
    "dual += lpDot(b,y)\n",
    "\n",
    "# 条件を設定\n",
    "for j in range(n):\n",
    "    dual += lpDot(AT[j],y) >= c[j], 'ineq'+str(j)\n",
    "\n",
    "# 計算\n",
    "dual.solve()\n",
    "print(LpStatus[dual.status])\n",
    "\n",
    "# 結果を表示\n",
    "print('Optimal value of dual problem =', value(dual.objective))\n",
    "for v in dual.variables():\n",
    "    print(v.name, '=', v.varValue)"
   ]
  },
  {
   "cell_type": "code",
   "execution_count": 6,
   "id": "58109ebd",
   "metadata": {},
   "outputs": [
    {
     "data": {
      "text/plain": [
       "True"
      ]
     },
     "execution_count": 6,
     "metadata": {},
     "output_type": "execute_result"
    }
   ],
   "source": [
    "# 不等式制約を満たすことを確認する\n",
    "Y=np.array([v.varValue for v in dual.variables()])\n",
    "np.all(np.abs(np.dot(AT,Y) - c) <= 1.0e-5)"
   ]
  },
  {
   "cell_type": "markdown",
   "id": "6a54f1cb",
   "metadata": {},
   "source": [
    "# シンプレックス法実装"
   ]
  },
  {
   "cell_type": "code",
   "execution_count": 7,
   "id": "57d814c2",
   "metadata": {},
   "outputs": [
    {
     "name": "stdout",
     "output_type": "stream",
     "text": [
      "A.shape: 3 3\n",
      "AI:\n",
      "[[ 2.  2. -1.  1.  0.  0.]\n",
      " [ 2. -2.  3.  0.  1.  0.]\n",
      " [ 0.  2. -1.  0.  0.  1.]]\n",
      "c0: [4. 3. 5. 0. 0. 0.]\n",
      "basis: [3, 4, 5]\n",
      "nonbasis: [0, 1, 2]\n",
      "cc: [4. 3. 5.]\n",
      "s: 2\n",
      "bb: [6. 8. 4.]\n",
      "ratio: [       inf 2.66666667        inf]\n",
      "r: 1\n",
      "入れ替えを行います...\n",
      "basis: [3, 2, 5]\n",
      "nonbasis: [0, 1, 4]\n",
      "cc: [ 0.66666667  6.33333333 -1.66666667]\n",
      "s: 1\n",
      "bb: [8.66666667 2.66666667 6.66666667]\n",
      "ratio: [6.5 inf 5. ]\n",
      "r: 2\n",
      "入れ替えを行います...\n",
      "basis: [3, 2, 1]\n",
      "nonbasis: [0, 5, 4]\n",
      "x: [0. 5. 6. 2. 0. 0.]\n",
      "Optimal\n",
      "Optimal value = 45.0\n",
      "x 0 = 0.0\n",
      "x 1 = 4.999999999999999\n",
      "x 2 = 6.0\n"
     ]
    }
   ],
   "source": [
    "import numpy as np\n",
    "import scipy.linalg as linalg\n",
    "MEPS = 1.0e-10\n",
    "\n",
    "def lp_RevisedSimplex(c,A,b):\n",
    "    np.seterr(divide='ignore') # 0で割ったときの警告を無視する\n",
    "    (m, n) = A.shape\n",
    "    print('A.shape:',m,n)\n",
    "    \n",
    "    AI = np.hstack((A, np.identity(m)))\n",
    "    print('AI:')\n",
    "    print(AI)\n",
    "    \n",
    "    c0 = np.r_[c, np.zeros(m)]\n",
    "    print('c0:',c0)\n",
    "    \n",
    "    basis = [n+i for i in range(m)]\n",
    "    print('basis:', basis)\n",
    "    nonbasis=[j for j in range(n)]\n",
    "    print('nonbasis:', nonbasis)\n",
    "    \n",
    "    while True:\n",
    "        # AI.T * y = C0 を解く\n",
    "        y = linalg.solve(AI[:,basis].T, c0[basis])\n",
    "        cc = c0[nonbasis] - np.dot(y, AI[:, nonbasis])\n",
    "        \n",
    "        # cc<=0であればyが双対問題の実行可能解となる\n",
    "        if np.all(cc <= MEPS):\n",
    "            x = np.zeros(n+m)\n",
    "            # AI * x = b を解いて、基底の部分のみに追加\n",
    "            x[basis] = linalg.solve(AI[:, basis], b)\n",
    "            print('x:',x)\n",
    "            print('Optimal')\n",
    "            # 目的関数の計算\n",
    "            print('Optimal value =', np.dot(c0[basis], x[basis]))\n",
    "            # x0 - x2を出力\n",
    "            for i in range(m):\n",
    "                print('x',i , '=', x[i])\n",
    "            break\n",
    "        else:\n",
    "            s = np.argmax(cc) # ccの最大が何番目か\n",
    "            print('cc:',cc)\n",
    "            print('s:',s) \n",
    "        \n",
    "        # AI(非基底)の内、入る変数 以外の非基底変数を考えずに、\n",
    "        # AI(基底) * d = AI (非基底の入る変数のみ) を計算\n",
    "        # 【ノート（シンプレックス法の概要）参照】\n",
    "        # このdは bb - d * θ の係数を表す\n",
    "        # つまり全てのd が 負になれば、θが無限まで行けてしまうので、非有界となる \n",
    "        d = linalg.solve(AI[:, basis], AI[:, nonbasis[s]])\n",
    "        # 非有界を判定\n",
    "        if np.all(d <= MEPS):\n",
    "            print('Unbounded')\n",
    "            break\n",
    "        else:\n",
    "            # 【ノート（シンプレックス法の概要）参照】\n",
    "            # bb - d * θ => 0 でないといけないが、そのbbを計算している\n",
    "            # θをどこまで大きくできるか　を表しているのが min(ratio)である\n",
    "            # それに対応する変数が入る変数 r となる\n",
    "            bb = linalg.solve(AI[:, basis], b)\n",
    "            print('bb:', bb)\n",
    "            ratio = bb/d\n",
    "            ratio[ratio <-MEPS] = np.inf\n",
    "            print('ratio:', ratio)\n",
    "            r = np.argmin(ratio)\n",
    "            print('r:',r)\n",
    "            \n",
    "            # 基底と非基底の入れ替え\n",
    "            nonbasis[s], basis[r] = basis[r], nonbasis[s]\n",
    "            print('入れ替えを行います...')\n",
    "            print('basis:', basis)\n",
    "            print('nonbasis:', nonbasis)\n",
    "\n",
    "A = np.array([[2,2,-1],[2,-2,3],[0,2,-1]])\n",
    "c = np.array([4,3,5])\n",
    "b = np.array([6,8,4])\n",
    "\n",
    "lp_RevisedSimplex(c,A,b)"
   ]
  },
  {
   "cell_type": "markdown",
   "id": "88578b27",
   "metadata": {},
   "source": [
    "# 内点法"
   ]
  },
  {
   "cell_type": "code",
   "execution_count": 5,
   "id": "f2022047",
   "metadata": {},
   "outputs": [],
   "source": [
    "import numpy as np\n",
    "# 自己双対型線形最適化問題の作成\n",
    "def make_Mq_from_cAb(c,A,b):\n",
    "    # 数式の定義通りに作成\n",
    "    m, k = A.shape\n",
    "    m1 = np.hstack((np.zeros((m,m)), -A, b.reshape(m,-1)))\n",
    "    m2 = np.hstack((A.T, np.zeros((k,k)), -c.reshape(k,-1)))\n",
    "    m3 = np.append(np.append(-b,c), 0)\n",
    "    M = np.vstack((m1, m2, m3))\n",
    "    q = np.zeros(m+k+1)\n",
    "    return M, q"
   ]
  },
  {
   "cell_type": "code",
   "execution_count": 21,
   "id": "2da6820d",
   "metadata": {
    "scrolled": true
   },
   "outputs": [
    {
     "name": "stdout",
     "output_type": "stream",
     "text": [
      "(array([[ 0.,  0.,  0., -2., -2.,  1.,  6.],\n",
      "       [ 0.,  0.,  0., -2.,  2., -3.,  8.],\n",
      "       [ 0.,  0.,  0.,  0., -2.,  1.,  4.],\n",
      "       [ 2.,  2.,  0.,  0.,  0.,  0., -4.],\n",
      "       [ 2., -2.,  2.,  0.,  0.,  0., -3.],\n",
      "       [-1.,  3., -1.,  0.,  0.,  0., -5.],\n",
      "       [-6., -8., -4.,  4.,  3.,  5.,  0.]]), array([0., 0., 0., 0., 0., 0., 0.]))\n"
     ]
    }
   ],
   "source": [
    "A = np.array([[2,2,-1],[2,-2,3],[0,2,-1]])\n",
    "c = np.array([4,3,5])\n",
    "b = np.array([6,8,4])\n",
    "\n",
    "print(make_Mq_from_cAb(c,A,b))"
   ]
  },
  {
   "cell_type": "code",
   "execution_count": 24,
   "id": "a3fe3307",
   "metadata": {},
   "outputs": [],
   "source": [
    "# 人口問題と初期内点の作成\n",
    "def make_artProb_initialPoint(M,q):\n",
    "    n, n = M.shape\n",
    "    \n",
    "    # 数式通りに定義\n",
    "    x0 = np.ones(n)\n",
    "    mu0 = np.dot(q,x0)/(n+1)+1\n",
    "    z0 = mu0/x0\n",
    "    r = z0 - np.dot(M,x0) - q\n",
    "    # MM の一番右と一番下にrが使用される\n",
    "    print('r:',r)\n",
    "    qn1= (n+1)*mu0\n",
    "\n",
    "    MM = np.hstack((M, r.reshape((-1,1))))\n",
    "    MM = np.vstack((MM, np.append(-r,0)))\n",
    "    ## qqの一番右がqn1\n",
    "    qq = np.append(q, qn1)\n",
    "    xx0 = np.append(x0, 1)\n",
    "    zz0 = np.append(z0, mu0)\n",
    "    return MM, qq, xx0, zz0"
   ]
  },
  {
   "cell_type": "code",
   "execution_count": 26,
   "id": "0443c6ca",
   "metadata": {},
   "outputs": [
    {
     "name": "stdout",
     "output_type": "stream",
     "text": [
      "r: [-2. -4. -2.  1.  2.  5.  7.]\n",
      "[[ 0.  0.  0. -2. -2.  1.  6. -2.]\n",
      " [ 0.  0.  0. -2.  2. -3.  8. -4.]\n",
      " [ 0.  0.  0.  0. -2.  1.  4. -2.]\n",
      " [ 2.  2.  0.  0.  0.  0. -4.  1.]\n",
      " [ 2. -2.  2.  0.  0.  0. -3.  2.]\n",
      " [-1.  3. -1.  0.  0.  0. -5.  5.]\n",
      " [-6. -8. -4.  4.  3.  5.  0.  7.]\n",
      " [ 2.  4.  2. -1. -2. -5. -7.  0.]]\n",
      "[0. 0. 0. 0. 0. 0. 0. 8.]\n",
      "[1. 1. 1. 1. 1. 1. 1. 1.]\n",
      "[1. 1. 1. 1. 1. 1. 1. 1.]\n"
     ]
    }
   ],
   "source": [
    "(M0, q0) = make_Mq_from_cAb(c,A,b)\n",
    "(M, q, x, z) = make_artProb_initialPoint(M0,q0)\n",
    "# 人口問題\n",
    "print(M)\n",
    "print(q)\n",
    "# 内点\n",
    "print(x)\n",
    "print(z)"
   ]
  },
  {
   "cell_type": "code",
   "execution_count": 33,
   "id": "9d459f15",
   "metadata": {},
   "outputs": [],
   "source": [
    "MEPS = 1.0e-10\n",
    "\n",
    "def PrimalDualPathFollowing(c, A, b):\n",
    "    # 自己双対型線形最適化問題へ返還\n",
    "    (M0, q0) = make_Mq_from_cAb(c,A,b)\n",
    "    \n",
    "    # 人工問題を作成し、初期内点を計算\n",
    "    (M, q, x, z) = make_artProb_initialPoint(M0,q0)\n",
    "    m, k = A.shape\n",
    "    n, n = M.shape\n",
    "\n",
    "    count = 0\n",
    "    mu = np.dot(z,x)/n\n",
    "    print('初期目的関数値:', mu)\n",
    "    while mu > MEPS:\n",
    "        count += 1\n",
    "        print(count, '回目: ', end=' ')\n",
    "        \n",
    "        # 予測ステップ\n",
    "        delta = 0\n",
    "        \n",
    "        # 式通りに計算\n",
    "        dx = np.dot(np.linalg.inv(M+np.diag(z/x)), \n",
    "                    delta*mu*(1/x)- z )\n",
    "        dz = delta*mu*(1/x)-z-np.dot(np.diag(1/x), z*dx)\n",
    "        \n",
    "        # ステップを計算\n",
    "        th = binarysearch_theta(x,z,dx,dz,0.5,0.001)\n",
    "        print('theta =', th, end=', ')\n",
    "        x = x + th*dx\n",
    "        z = z + th*dz\n",
    "        mu = np.dot(z,x)/n\n",
    "        \n",
    "        # 修正ステップ(delta=1と変えただけ)\n",
    "        delta = 1\n",
    "        dx = np.dot(np.linalg.inv(M+np.diag(z/x)),\n",
    "                    delta*mu*(1/x)- z )\n",
    "        dz = delta*mu*(1/x)-z-np.dot(np.diag(1/x), z*dx)\n",
    "        x = x + dx\n",
    "        z = z + dz\n",
    "        mu = np.dot(z,x)/n\n",
    "        print('目的関数値:', mu)\n",
    "    \n",
    "    # 目的関数が MEPS以下になったら、以下を実行\n",
    "    if x[n-2] > MEPS:\n",
    "        # 主問題の最適解を出力\n",
    "        # x = (y, x, τ, 人工問題を作成したときに追加した定数) の順になっており、\n",
    "        # 解は x/τで計算される\n",
    "        print('x: ', x)\n",
    "        print('Optimal solution:', x[m:m+k]/x[n-2],\n",
    "              ' has been found.')\n",
    "        print('Optimal value = ', np.dot(c,x[m:m+k]/x[n-2]))\n",
    "        # 双対問題の最適解を出力\n",
    "        print('Optimal solution(dual) ',  x[:m]/x[n-2],\n",
    "              ' has been found.')\n",
    "        print('Optimal value = ', np.dot(b,x[:m]/x[n-2]))"
   ]
  },
  {
   "cell_type": "code",
   "execution_count": 34,
   "id": "b24ca482",
   "metadata": {},
   "outputs": [],
   "source": [
    "import numpy as np\n",
    "\n",
    "# 予測ステップでのステップサイズを求めるための関数\n",
    "def binarysearch_theta(x,z,dx,dz,beta=0.5,precision=0.001):\n",
    "    n = np.alen(x)\n",
    "    \n",
    "    th_low = 0.0\n",
    "    th_high = 1.0\n",
    "    # x, z >0出ないといけないので、範囲を絞ることが可能\n",
    "    if np.alen(-x[dx<0]/dx[dx<0]) > 0:\n",
    "        # dxが負の場合に、x+dxがすべて正になる最大の\n",
    "        th_high = min(th_high, np.min(-x[dx<0]/dx[dx<0]))\n",
    "    if np.alen(-z[dz<0]/dz[dz<0]) > 0:\n",
    "        th_high = min(th_high, np.min(-z[dz<0]/dz[dz<0]))\n",
    "\n",
    "    # 1/2 近傍に入るための最大のステップサイズを求める為に2分探索を実行\n",
    "    x_low = x + th_low*dx\n",
    "    z_low = z + th_low*dz\n",
    "    x_high = x + th_high*dx\n",
    "    z_high = z + th_high*dz\n",
    "    mu_high = np.dot(x_high, z_high)/n\n",
    "    if (beta*mu_high >=\n",
    "        np.linalg.norm(x_high*z_high - mu_high*np.ones(n))):\n",
    "        return th_high\n",
    "    while th_high - th_low > precision:\n",
    "        # 中間地点を計算\n",
    "        th_mid = (th_high + th_low)/2\n",
    "        x_mid = x + th_mid*dx\n",
    "        z_mid = z + th_mid*dz\n",
    "        # muを再計算\n",
    "        mu_mid = np.dot(x_mid, z_mid)/n\n",
    "        \n",
    "        # 0.5*μがこの式を満たす場合が、1/2近傍であるための条件となる\n",
    "        # この場合はまだ大きくできるので th_lowを更新する\n",
    "        if (beta*mu_mid >=\n",
    "            np.linalg.norm(x_mid*z_mid - mu_mid*np.ones(n))):\n",
    "            th_low = th_mid\n",
    "        # そうでないときはth_highを更新する\n",
    "        else:\n",
    "            th_high = th_mid\n",
    "    return th_low"
   ]
  },
  {
   "cell_type": "code",
   "execution_count": 35,
   "id": "20adea7b",
   "metadata": {},
   "outputs": [
    {
     "name": "stdout",
     "output_type": "stream",
     "text": [
      "r: [ -53.  -31.  -41.  147.  195.  295. -505.]\n",
      "初期目的関数値: 1.0\n",
      "1 回目:  theta = 0.5660404758396542, 目的関数値: 0.4339595241603453\n",
      "2 回目:  theta = 0.5559306039282497, 目的関数値: 0.1927081438134685\n",
      "3 回目:  theta = 0.6220741646734078, 目的関数値: 0.07282938622494217\n",
      "4 回目:  theta = 0.6928572905845941, 目的関数値: 0.022369015010189765\n",
      "5 回目:  theta = 0.7495245360789181, 目的関数値: 0.005602889412134927\n",
      "6 回目:  theta = 0.8709944026483986, 目的関数値: 0.0007228040955074294\n",
      "7 回目:  theta = 0.9758700546521182, 目的関数値: 1.744122332181945e-05\n",
      "8 回目:  theta = 0.9989571757994606, 目的関数値: 1.818812976700472e-08\n",
      "9 回目:  theta = 0.9990233665203341, 目的関数値: 1.7763136462964975e-11\n",
      "x:  [2.17727131e+00 8.16476739e-01 2.58550967e+00 5.87863252e-01\n",
      " 3.91908835e-01 3.91908835e-01 4.89886044e-02 1.77618442e-11]\n",
      "Optimal solution: [12.  8.  8.]  has been found.\n",
      "Optimal value =  5799.999998151867\n",
      "Optimal solution(dual)  [44.44444443 16.66666666 52.77777776]  has been found.\n",
      "Optimal value =  5799.9999979613685\n"
     ]
    }
   ],
   "source": [
    "c = np.array([150,200,300])\n",
    "A = np.array([[3,1,2],[1,3,0], [0,2,4]])\n",
    "b = np.array([60, 36, 48])\n",
    "\n",
    "PrimalDualPathFollowing(c, A, b)"
   ]
  },
  {
   "cell_type": "code",
   "execution_count": null,
   "id": "8a27778a",
   "metadata": {},
   "outputs": [],
   "source": []
  },
  {
   "cell_type": "code",
   "execution_count": null,
   "id": "8f57ed36",
   "metadata": {},
   "outputs": [],
   "source": []
  }
 ],
 "metadata": {
  "kernelspec": {
   "display_name": "Python 3",
   "language": "python",
   "name": "python3"
  },
  "language_info": {
   "codemirror_mode": {
    "name": "ipython",
    "version": 3
   },
   "file_extension": ".py",
   "mimetype": "text/x-python",
   "name": "python",
   "nbconvert_exporter": "python",
   "pygments_lexer": "ipython3",
   "version": "3.8.8"
  }
 },
 "nbformat": 4,
 "nbformat_minor": 5
}
