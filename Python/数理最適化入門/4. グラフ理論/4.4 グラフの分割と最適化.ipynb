{
 "cells": [
  {
   "cell_type": "markdown",
   "id": "7ab18f88",
   "metadata": {},
   "source": [
    "# マッチング\n",
    "どの2辺も同じ頂点に接続しないとき、Mをマッチングという。マッチングの数が最大になる条件を求めるのが最大マッチング問題である。"
   ]
  },
  {
   "cell_type": "code",
   "execution_count": 1,
   "id": "d6963cda",
   "metadata": {},
   "outputs": [
    {
     "name": "stdout",
     "output_type": "stream",
     "text": [
      "elbs: {((0, 0), (1, 0)): 1, ((0, 0), (0, 1)): 9, ((0, 1), (1, 1)): 4, ((0, 1), (0, 2)): 4, ((0, 2), (1, 2)): 6, ((1, 0), (2, 0)): 8, ((1, 0), (1, 1)): 1, ((1, 1), (2, 1)): 7, ((1, 1), (1, 2)): 9, ((1, 2), (2, 2)): 1, ((2, 0), (2, 1)): 5, ((2, 1), (2, 2)): 9}\n",
      "pos: {(0, 0): (0, 0), (0, 1): (0, 1), (0, 2): (0, 2), (1, 0): (1, 0), (1, 1): (1, 1), (1, 2): (1, 2), (2, 0): (2, 0), (2, 1): (2, 1), (2, 2): (2, 2)}\n",
      "M: {((0, 2), (1, 2)), ((0, 0), (1, 0)), ((2, 0), (2, 1)), ((0, 1), (1, 1))}\n",
      "MW: {((1, 1), (1, 2)), ((1, 0), (2, 0)), ((2, 1), (2, 2)), ((0, 1), (0, 0))}\n"
     ]
    },
    {
     "data": {
      "image/png": "[encoded data removed]",
      "text/plain": [
       "<Figure size 432x288 with 1 Axes>"
      ]
     },
     "metadata": {},
     "output_type": "display_data"
    }
   ],
   "source": [
    "# 最大マッチングを求める\n",
    "%matplotlib inline\n",
    "import networkx as nx\n",
    "import matplotlib.pyplot as plt\n",
    "import numpy as np\n",
    "\n",
    "G = nx.grid_2d_graph(3,3)\n",
    "for (u,v) in G.edges():\n",
    "    G[u][v]['weight'] = np.random.randint(1,10)\n",
    "elbs = {(u,v):G[u][v]['weight'] for (u,v) in G.edges()}\n",
    "pos = {v: v for v in G.nodes()}\n",
    "print('elbs:', elbs)\n",
    "print('pos:', pos)\n",
    "\n",
    "M = nx.maximal_matching(G)\n",
    "print('M:', M)\n",
    "MW = nx.max_weight_matching(G)\n",
    "print('MW:', MW)\n",
    "\n",
    "nx.draw_networkx(G, pos=pos,node_color='lightgrey',\n",
    "                 node_size=1000, width=1)\n",
    "nx.draw_networkx_edges(G, pos=pos, edgelist=M, width=5)\n",
    "nx.draw_networkx_edge_labels(G, pos=pos, edge_labels=elbs)\n",
    "plt.axis('off')\n",
    "plt.show()"
   ]
  },
  {
   "cell_type": "code",
   "execution_count": 2,
   "id": "1c071c2b",
   "metadata": {},
   "outputs": [
    {
     "data": {
      "image/png": "[encoded data removed]",
      "text/plain": [
       "<Figure size 432x288 with 1 Axes>"
      ]
     },
     "metadata": {},
     "output_type": "display_data"
    }
   ],
   "source": [
    "# 重み最大マッチング問題\n",
    "# 重みも考慮しながら最大マッチングを求める\n",
    "nx.draw_networkx(G, pos=pos,node_color='lightgrey',node_size=1000, width=1)\n",
    "nx.draw_networkx_edges(G, pos=pos, edgelist=MW, width=5)\n",
    "nx.draw_networkx_edge_labels(G, pos=pos, edge_labels=elbs)\n",
    "plt.axis('off')\n",
    "plt.show()"
   ]
  },
  {
   "cell_type": "markdown",
   "id": "8d19c7cc",
   "metadata": {},
   "source": [
    "# 辺彩色問題"
   ]
  },
  {
   "cell_type": "code",
   "execution_count": 3,
   "id": "6b8f08b9",
   "metadata": {},
   "outputs": [],
   "source": [
    "%matplotlib inline\n",
    "import networkx as nx\n",
    "import matplotlib.pyplot as plt\n",
    "from pulp import *\n",
    "import itertools\n",
    "MEPS = 1.0e-8\n",
    "\n",
    "def edge_coloring(G):\n",
    "    # 次数の最大値を求める\n",
    "    delta = max([G.degree(v) for v in G.nodes()])\n",
    "    k = delta\n",
    "    solved = False\n",
    "    \n",
    "    while not(solved) and k <= delta+1:\n",
    "        prob = LpProblem(name='Edge_Coloring_by_PuLP', sense=LpMinimize)\n",
    "    \n",
    "        x = {(e,i): LpVariable('x'+str(e)+str(',')+str(i),lowBound=0,cat='Binary')\n",
    "             for e in  G.edges() for i in range(k)}\n",
    "\n",
    "        prob +=  0     # 目的関数\n",
    "        \n",
    "        # 一つの色でぬられている制約\n",
    "        for e in G.edges:\n",
    "            prob += lpSum(x[(e,i)] for i in range(k)) == 1\n",
    "        \n",
    "        # 色が重複しない制約\n",
    "        for (u,i) in itertools.product(G.nodes(), range(k)):\n",
    "            # 頂点uから出ている枝のリスト\n",
    "            el = [tuple(sorted((u,v))) for v in G.neighbors(u)]\n",
    "            prob += lpSum(x[(e,i)] for e in el) <= 1\n",
    "\n",
    "        prob.solve()\n",
    "        \n",
    "        # 解けたとき\n",
    "        if LpStatus[prob.status] == 'Optimal':\n",
    "            solved =True\n",
    "        else:\n",
    "            k += 1\n",
    "\n",
    "    # 回答を出力\n",
    "    if solved:\n",
    "        print('Edge '+str(k)+' coloring found:')\n",
    "        coloring = {i: [e for e in  G.edges if x[(e,i)].varValue > MEPS] for i in range(k)}\n",
    "        print(coloring)\n",
    "    else:\n",
    "        print(\"Error:\")"
   ]
  },
  {
   "cell_type": "code",
   "execution_count": 4,
   "id": "abc38a05",
   "metadata": {},
   "outputs": [
    {
     "name": "stdout",
     "output_type": "stream",
     "text": [
      "Edge 4 coloring found:\n",
      "{0: [(1, 3), (2, 4)], 1: [(1, 2), (3, 5)], 2: [(1, 4)], 3: [(2, 5), (3, 4)]}\n"
     ]
    }
   ],
   "source": [
    "G=nx.Graph()\n",
    "elist = [(1,2),(3,1),(1,4),(4,2), (2,5), (4,3),(3,5)]\n",
    "G.add_edges_from(elist)\n",
    "edge_coloring(G)"
   ]
  },
  {
   "cell_type": "code",
   "execution_count": 5,
   "id": "8dffefd3",
   "metadata": {},
   "outputs": [
    {
     "name": "stdout",
     "output_type": "stream",
     "text": [
      "Edge 5 coloring found:\n",
      "{0: [(0, 3), (1, 2)], 1: [(1, 4), (2, 3)], 2: [(0, 1), (2, 4)], 3: [(0, 4), (1, 3)], 4: [(0, 2), (3, 4)]}\n"
     ]
    }
   ],
   "source": [
    "K5=nx.complete_graph(5)\n",
    "edge_coloring(K5)"
   ]
  },
  {
   "cell_type": "markdown",
   "id": "18adf538",
   "metadata": {},
   "source": [
    "# 点彩色問題"
   ]
  },
  {
   "cell_type": "markdown",
   "id": "17fa40da",
   "metadata": {},
   "source": [
    "###### welsh_powellアルゴリズム（近似解）"
   ]
  },
  {
   "cell_type": "code",
   "execution_count": 6,
   "id": "be62b702",
   "metadata": {},
   "outputs": [
    {
     "name": "stdout",
     "output_type": "stream",
     "text": [
      "Number of nodes:  50\n",
      "Number of edges:  251\n"
     ]
    }
   ],
   "source": [
    "import random\n",
    "random.seed(1)\n",
    "G = nx.random_geometric_graph(50,0.3) # 1辺が1の正方形の中にランダムに点を50個発生させて、距離が0.3以下の時に枝をつける\n",
    "print('Number of nodes: ',len(G.nodes()))\n",
    "print('Number of edges: ',len(G.edges()))"
   ]
  },
  {
   "cell_type": "code",
   "execution_count": 7,
   "id": "fb0078e5",
   "metadata": {
    "scrolled": true
   },
   "outputs": [
    {
     "data": {
      "text/plain": [
       "3"
      ]
     },
     "execution_count": 7,
     "metadata": {},
     "output_type": "execute_result"
    }
   ],
   "source": [
    "# dequeはpopで最後の要素を取り出すことが可能\n",
    "collections.deque([0, 1, 2, 3]).pop()"
   ]
  },
  {
   "cell_type": "code",
   "execution_count": 8,
   "id": "af922b96",
   "metadata": {},
   "outputs": [
    {
     "data": {
      "text/plain": [
       "{1, 2, 3, 4}"
      ]
     },
     "execution_count": 8,
     "metadata": {},
     "output_type": "execute_result"
    }
   ],
   "source": [
    "# setにはupdateで要素追加可能\n",
    "a = {1,2,3}\n",
    "a.update({4})\n",
    "a"
   ]
  },
  {
   "cell_type": "code",
   "execution_count": 9,
   "id": "19025de8",
   "metadata": {},
   "outputs": [
    {
     "data": {
      "text/plain": [
       "{2, 3}"
      ]
     },
     "execution_count": 9,
     "metadata": {},
     "output_type": "execute_result"
    }
   ],
   "source": [
    "# 引き算も可能\n",
    "a = {1,2,3}\n",
    "a - {1}"
   ]
  },
  {
   "cell_type": "code",
   "execution_count": 10,
   "id": "1cb0ad2d",
   "metadata": {},
   "outputs": [],
   "source": [
    "import networkx as nx\n",
    "import collections\n",
    "\n",
    "def welsh_powell(G):\n",
    "    # 最大次数を求める\n",
    "    delta = max([G.degree(v) for v in G.nodes()])\n",
    "    \n",
    "    # 次数の小さい順に頂点を並べ替えたデックを作成\n",
    "    sv = collections.deque([v for (v,d) in\n",
    "        sorted(G.degree(), key=lambda x: x[1])])\n",
    "    \n",
    "    # 頂点vの周りに使われている色の辞書\n",
    "    nbcols = {v: set([]) for v in sv}\n",
    "    # setを作成\n",
    "    cset = set(range(delta+1))\n",
    "    print('cset:', cset)\n",
    "    \n",
    "    c = min(cset)\n",
    "    u = sv.pop()\n",
    "    \n",
    "    # 次数の大きい頂点の色を確定\n",
    "    colors = {u: c}\n",
    "    \n",
    "    # 頂点vの周りに使われている色として、cを追加\n",
    "    for v in G.neighbors(u):\n",
    "        nbcols[v].update({c})\n",
    "    cls = {c}\n",
    "    while len(sv) > 0:\n",
    "        u = sv.pop()\n",
    "        # 使用できる色のセットを取得し、最小の色で塗る\n",
    "        c = min(cset-nbcols[u]) \n",
    "        colors[u] = c\n",
    "        # 使用した色のセットをアップデート\n",
    "        cls.update({c})\n",
    "        print('cls:', cls)\n",
    "        # 頂点vの周りに使われている色をアップデート\n",
    "        for v in G.neighbors(u):\n",
    "            nbcols[v].update({c})\n",
    "\n",
    "    print('Node '+str(len(cls))+' coloring found.')"
   ]
  },
  {
   "cell_type": "code",
   "execution_count": 11,
   "id": "c79ccb20",
   "metadata": {
    "scrolled": false
   },
   "outputs": [
    {
     "name": "stdout",
     "output_type": "stream",
     "text": [
      "cset: {0, 1, 2, 3, 4, 5, 6, 7, 8, 9, 10, 11, 12, 13, 14, 15, 16, 17, 18, 19}\n",
      "cls: {0, 1}\n",
      "cls: {0, 1, 2}\n",
      "cls: {0, 1, 2, 3}\n",
      "cls: {0, 1, 2, 3}\n",
      "cls: {0, 1, 2, 3, 4}\n",
      "cls: {0, 1, 2, 3, 4, 5}\n",
      "cls: {0, 1, 2, 3, 4, 5}\n",
      "cls: {0, 1, 2, 3, 4, 5}\n",
      "cls: {0, 1, 2, 3, 4, 5}\n",
      "cls: {0, 1, 2, 3, 4, 5}\n",
      "cls: {0, 1, 2, 3, 4, 5}\n",
      "cls: {0, 1, 2, 3, 4, 5, 6}\n",
      "cls: {0, 1, 2, 3, 4, 5, 6}\n",
      "cls: {0, 1, 2, 3, 4, 5, 6}\n",
      "cls: {0, 1, 2, 3, 4, 5, 6}\n",
      "cls: {0, 1, 2, 3, 4, 5, 6}\n",
      "cls: {0, 1, 2, 3, 4, 5, 6, 7}\n",
      "cls: {0, 1, 2, 3, 4, 5, 6, 7}\n",
      "cls: {0, 1, 2, 3, 4, 5, 6, 7}\n",
      "cls: {0, 1, 2, 3, 4, 5, 6, 7}\n",
      "cls: {0, 1, 2, 3, 4, 5, 6, 7}\n",
      "cls: {0, 1, 2, 3, 4, 5, 6, 7}\n",
      "cls: {0, 1, 2, 3, 4, 5, 6, 7}\n",
      "cls: {0, 1, 2, 3, 4, 5, 6, 7}\n",
      "cls: {0, 1, 2, 3, 4, 5, 6, 7}\n",
      "cls: {0, 1, 2, 3, 4, 5, 6, 7}\n",
      "cls: {0, 1, 2, 3, 4, 5, 6, 7, 8}\n",
      "cls: {0, 1, 2, 3, 4, 5, 6, 7, 8}\n",
      "cls: {0, 1, 2, 3, 4, 5, 6, 7, 8}\n",
      "cls: {0, 1, 2, 3, 4, 5, 6, 7, 8}\n",
      "cls: {0, 1, 2, 3, 4, 5, 6, 7, 8}\n",
      "cls: {0, 1, 2, 3, 4, 5, 6, 7, 8}\n",
      "cls: {0, 1, 2, 3, 4, 5, 6, 7, 8}\n",
      "cls: {0, 1, 2, 3, 4, 5, 6, 7, 8}\n",
      "cls: {0, 1, 2, 3, 4, 5, 6, 7, 8}\n",
      "cls: {0, 1, 2, 3, 4, 5, 6, 7, 8}\n",
      "cls: {0, 1, 2, 3, 4, 5, 6, 7, 8}\n",
      "cls: {0, 1, 2, 3, 4, 5, 6, 7, 8}\n",
      "cls: {0, 1, 2, 3, 4, 5, 6, 7, 8}\n",
      "cls: {0, 1, 2, 3, 4, 5, 6, 7, 8}\n",
      "cls: {0, 1, 2, 3, 4, 5, 6, 7, 8}\n",
      "cls: {0, 1, 2, 3, 4, 5, 6, 7, 8}\n",
      "cls: {0, 1, 2, 3, 4, 5, 6, 7, 8}\n",
      "cls: {0, 1, 2, 3, 4, 5, 6, 7, 8}\n",
      "cls: {0, 1, 2, 3, 4, 5, 6, 7, 8}\n",
      "cls: {0, 1, 2, 3, 4, 5, 6, 7, 8}\n",
      "cls: {0, 1, 2, 3, 4, 5, 6, 7, 8}\n",
      "cls: {0, 1, 2, 3, 4, 5, 6, 7, 8}\n",
      "cls: {0, 1, 2, 3, 4, 5, 6, 7, 8}\n",
      "Node 9 coloring found.\n"
     ]
    }
   ],
   "source": [
    "welsh_powell(G)"
   ]
  },
  {
   "cell_type": "markdown",
   "id": "d891e96a",
   "metadata": {},
   "source": [
    "###### 線形最適化として解く\n",
    "色の数が、近似解よりも一つ小さい"
   ]
  },
  {
   "cell_type": "code",
   "execution_count": 12,
   "id": "51ac7270",
   "metadata": {},
   "outputs": [],
   "source": [
    "%matplotlib inline\n",
    "import networkx as nx\n",
    "import matplotlib.pyplot as plt\n",
    "from pulp import *\n",
    "import itertools\n",
    "MEPS = 1.0e-8\n",
    "\n",
    "def node_coloring_by_PuLP(G):\n",
    "    # 最大次数を取得\n",
    "    delta = max([G.degree(v) for v in G.nodes()])+1\n",
    "    \n",
    "    prob = LpProblem(name='Node_Coloring_by_PuLP', sense=LpMinimize)\n",
    "    y = {k: LpVariable('y'+str(k), lowBound=0, cat='Binary') for k in range(delta)}\n",
    "    x = {(i, k): LpVariable('x'+str(i)+str(',')+str(k), lowBound=0, cat='Binary')\n",
    "             for i in  G.nodes() for k in range(delta)}\n",
    "    \n",
    "    # 色の数が目的関数\n",
    "    prob += lpSum(y[k] for k in range(delta))\n",
    "    \n",
    "    # 利用されていない色では塗られない\n",
    "    for i,k in itertools.product(G.nodes(), range(delta)):\n",
    "        prob += x[i,k] <= y[k]\n",
    "    # 隣接する頂点が同じ色では塗られない\n",
    "    for (i,j), k in itertools.product(G.edges(), range(delta)):\n",
    "        prob += x[i,k]+x[j,k] <= 1\n",
    "    # 各頂点はどれかの色で塗られている\n",
    "    for i in G.nodes():\n",
    "        prob += lpSum(x[i,k] for k in range(delta)) == 1\n",
    "    \n",
    "    prob.solve()\n",
    "    if LpStatus[prob.status] == 'Optimal':\n",
    "        print('Node '+str(int(value(prob.objective)))+' coloring found.')\n",
    "    else:\n",
    "        print(\"Error:\")"
   ]
  },
  {
   "cell_type": "code",
   "execution_count": 13,
   "id": "504cc84a",
   "metadata": {},
   "outputs": [
    {
     "name": "stdout",
     "output_type": "stream",
     "text": [
      "Node 8 coloring found.\n"
     ]
    }
   ],
   "source": [
    "node_coloring_by_PuLP(G)"
   ]
  }
 ],
 "metadata": {
  "kernelspec": {
   "display_name": "Python 3",
   "language": "python",
   "name": "python3"
  },
  "language_info": {
   "codemirror_mode": {
    "name": "ipython",
    "version": 3
   },
   "file_extension": ".py",
   "mimetype": "text/x-python",
   "name": "python",
   "nbconvert_exporter": "python",
   "pygments_lexer": "ipython3",
   "version": "3.8.8"
  }
 },
 "nbformat": 4,
 "nbformat_minor": 5
}
