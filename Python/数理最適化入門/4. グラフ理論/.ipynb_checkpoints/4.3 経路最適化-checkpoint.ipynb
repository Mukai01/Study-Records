{
 "cells": [
  {
   "cell_type": "markdown",
   "id": "c80bf8d3",
   "metadata": {},
   "source": [
    "# 最短路問題（ダイクストラ法）"
   ]
  },
  {
   "cell_type": "code",
   "execution_count": 1,
   "id": "62224753",
   "metadata": {},
   "outputs": [
    {
     "ename": "NameError",
     "evalue": "name 'np' is not defined",
     "output_type": "error",
     "traceback": [
      "\u001b[1;31m---------------------------------------------------------------------------\u001b[0m",
      "\u001b[1;31mNameError\u001b[0m                                 Traceback (most recent call last)",
      "\u001b[1;32m<ipython-input-1-ba89d23e8da6>\u001b[0m in \u001b[0;36m<module>\u001b[1;34m\u001b[0m\n\u001b[0;32m      1\u001b[0m \u001b[1;31m# 1個ずらして縦につなげば経路ができることを利用する\u001b[0m\u001b[1;33m\u001b[0m\u001b[1;33m\u001b[0m\u001b[1;33m\u001b[0m\u001b[0m\n\u001b[0;32m      2\u001b[0m \u001b[0msp\u001b[0m \u001b[1;33m=\u001b[0m \u001b[1;33m[\u001b[0m\u001b[1;34m'v1'\u001b[0m\u001b[1;33m,\u001b[0m \u001b[1;34m'v2'\u001b[0m\u001b[1;33m,\u001b[0m \u001b[1;34m'v3'\u001b[0m\u001b[1;33m,\u001b[0m \u001b[1;34m'v6'\u001b[0m\u001b[1;33m,\u001b[0m \u001b[1;34m'v7'\u001b[0m\u001b[1;33m]\u001b[0m\u001b[1;33m\u001b[0m\u001b[1;33m\u001b[0m\u001b[0m\n\u001b[1;32m----> 3\u001b[1;33m \u001b[0mnp\u001b[0m\u001b[1;33m.\u001b[0m\u001b[0marray\u001b[0m\u001b[1;33m(\u001b[0m\u001b[1;33m[\u001b[0m\u001b[0msp\u001b[0m\u001b[1;33m[\u001b[0m\u001b[1;33m:\u001b[0m\u001b[1;33m-\u001b[0m\u001b[1;36m1\u001b[0m\u001b[1;33m]\u001b[0m\u001b[1;33m,\u001b[0m\u001b[0msp\u001b[0m\u001b[1;33m[\u001b[0m\u001b[1;36m1\u001b[0m\u001b[1;33m:\u001b[0m\u001b[1;33m]\u001b[0m\u001b[1;33m]\u001b[0m\u001b[1;33m)\u001b[0m\u001b[1;33m.\u001b[0m\u001b[0mT\u001b[0m\u001b[1;33m\u001b[0m\u001b[1;33m\u001b[0m\u001b[0m\n\u001b[0m",
      "\u001b[1;31mNameError\u001b[0m: name 'np' is not defined"
     ]
    }
   ],
   "source": [
    "# 1個ずらして縦につなげば経路ができることを利用する\n",
    "sp = ['v1', 'v2', 'v3', 'v6', 'v7']\n",
    "np.array([sp[:-1],sp[1:]]).T"
   ]
  },
  {
   "cell_type": "code",
   "execution_count": null,
   "id": "3d5da38a",
   "metadata": {},
   "outputs": [],
   "source": [
    "# setはunionで結合可能\n",
    "T = {('v2', 'v4'), ('v1', 'v2')}\n",
    "T.union({('v1', 'v3')})"
   ]
  },
  {
   "cell_type": "code",
   "execution_count": null,
   "id": "32ad370e",
   "metadata": {},
   "outputs": [],
   "source": [
    "%matplotlib inline\n",
    "import matplotlib.pyplot as plt\n",
    "import networkx as nx\n",
    "import numpy as np\n",
    "\n",
    "weighted_elist = [('v1','v2',8), ('v1','v3',16), ('v2','v3',7), \n",
    "                  ('v2','v4',6), ('v2','v5',19), ('v3','v4',5),\n",
    "                  ('v3','v6',8), ('v4','v5',14), ('v4','v6',14),\n",
    "                  ('v5','v6',11), ('v5','v7',7), ('v6','v7',7)]\n",
    "p = {'v1': (0,1),'v2':(1,2),'v3':(1,0),'v4':(2,1),'v5':(3,2),\n",
    "     'v6':(3,0), 'v7':(4,1)}\n",
    "G = nx.Graph()\n",
    "G.add_weighted_edges_from(weighted_elist)\n",
    "elbs = {(u,v):G[u][v]['weight'] for (u,v) in G.edges()}\n",
    "\n",
    "# 最短路が決定していない集合\n",
    "s = 'v1'\n",
    "nodes = set(G.nodes())-{s}\n",
    "\n",
    "# 最短路が決定している集合\n",
    "T = set({})\n",
    "\n",
    "print('nodes:', nodes)\n",
    "for v in nodes:\n",
    "    print('v:', v)\n",
    "    sp = nx.dijkstra_path(G,s,v)\n",
    "    print('sp:', sp)\n",
    "    # setに結合\n",
    "    T = T.union({tuple(x) for x in np.array([sp[:-1],sp[1:]]).T})\n",
    "    T1 = list(T)\n",
    "    print(\"T:\", T)\n",
    "    \n",
    "    # 描画\n",
    "    nx.draw_networkx(G, pos=p, node_color='lightgrey',\n",
    "                 node_size=500, width=1)\n",
    "    # 太いエッジを描画\n",
    "    nx.draw_networkx_edges(G, pos=p, edgelist=T1, width=5)\n",
    "    nx.draw_networkx_edge_labels(G, pos=p,edge_labels=elbs)\n",
    "    plt.axis('off')\n",
    "    plt.show()"
   ]
  }
 ],
 "metadata": {
  "kernelspec": {
   "display_name": "Python 3",
   "language": "python",
   "name": "python3"
  },
  "language_info": {
   "codemirror_mode": {
    "name": "ipython",
    "version": 3
   },
   "file_extension": ".py",
   "mimetype": "text/x-python",
   "name": "python",
   "nbconvert_exporter": "python",
   "pygments_lexer": "ipython3",
   "version": "3.8.8"
  }
 },
 "nbformat": 4,
 "nbformat_minor": 5
}
