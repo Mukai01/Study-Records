{
 "cells": [
  {
   "cell_type": "markdown",
   "id": "c80bf8d3",
   "metadata": {},
   "source": [
    "# 最小全域木問題（Primのアルゴリズム）"
   ]
  },
  {
   "cell_type": "markdown",
   "id": "0ae95a07",
   "metadata": {},
   "source": [
    "ある点を選んで、そこから最小のコストのネットワーク先にある頂点を追加していく方法"
   ]
  },
  {
   "cell_type": "code",
   "execution_count": 1,
   "id": "c1cffd17",
   "metadata": {},
   "outputs": [],
   "source": [
    "def prim(G):\n",
    "    V = [v for v in G.nodes()]\n",
    "    print('V:', V)\n",
    "    n = len(V)\n",
    "    # 初期値を決める\n",
    "    T = []\n",
    "    S = [V[0]]\n",
    "    \n",
    "    # TとSの数が一致するまでループ\n",
    "    while len(S) < n:\n",
    "        # uが初期値の時に、隣接する頂点がv,weightがwに入る\n",
    "        candidates = [(u,v,w['weight']) for u in S\n",
    "                      for v,w in G[u].items() if not(v in S)]\n",
    "        print(\"candidates\", candidates)\n",
    "        # weightが最小のものをS, Tに追加する\n",
    "        (u,v,w) = min(candidates,key=lambda x:x[2])\n",
    "        S += [v]\n",
    "        T += [(u,v)]\n",
    "    return T"
   ]
  },
  {
   "cell_type": "code",
   "execution_count": 2,
   "id": "e94d4e4a",
   "metadata": {},
   "outputs": [
    {
     "name": "stdout",
     "output_type": "stream",
     "text": [
      "elbs: {('D', 'G'): 195, ('D', 'R'): 130, ('D', 'S'): 260, ('G', 'R'): 195, ('G', 'N'): 166, ('R', 'S'): 132, ('R', 'M'): 114, ('R', 'N'): 227, ('S', 'M'): 114, ('S', 'P'): 114, ('N', 'M'): 166, ('N', 'P'): 195, ('M', 'P'): 114}\n",
      "V: ['D', 'G', 'R', 'S', 'N', 'M', 'P']\n",
      "candidates [('D', 'G', 195), ('D', 'R', 130), ('D', 'S', 260)]\n",
      "candidates [('D', 'G', 195), ('D', 'S', 260), ('R', 'G', 195), ('R', 'S', 132), ('R', 'M', 114), ('R', 'N', 227)]\n",
      "candidates [('D', 'G', 195), ('D', 'S', 260), ('R', 'G', 195), ('R', 'S', 132), ('R', 'N', 227), ('M', 'S', 114), ('M', 'P', 114), ('M', 'N', 166)]\n",
      "candidates [('D', 'G', 195), ('R', 'G', 195), ('R', 'N', 227), ('M', 'P', 114), ('M', 'N', 166), ('S', 'P', 114)]\n",
      "candidates [('D', 'G', 195), ('R', 'G', 195), ('R', 'N', 227), ('M', 'N', 166), ('P', 'N', 195)]\n",
      "candidates [('D', 'G', 195), ('R', 'G', 195), ('N', 'G', 166)]\n",
      "mst: [('D', 'R'), ('R', 'M'), ('M', 'S'), ('M', 'P'), ('M', 'N'), ('N', 'G')]\n"
     ]
    },
    {
     "data": {
      "text/plain": [
       "<Figure size 640x480 with 1 Axes>"
      ]
     },
     "metadata": {},
     "output_type": "display_data"
    }
   ],
   "source": [
    "import networkx as nx\n",
    "import matplotlib.pyplot as plt\n",
    "\n",
    "# 問題設定\n",
    "weighted_elist = [('D','G',195), ('D','R',130), ('D','S',260), \n",
    "                  ('G','R',195), ('G','N',166), ('R','S',132),\n",
    "                  ('R','M',114), ('R','N',227), ('M','S',114),\n",
    "                  ('M','P',114), ('M','N',166), ('N','P',195),\n",
    "                  ('P','S',114)]\n",
    "\n",
    "p = {'D': (0,15),'G':(11,19),'N':(17,12),'R':(6,9),'M':(10,4),\n",
    "     'P':(15,0), 'S':(5,0)}\n",
    "G = nx.Graph()\n",
    "G.add_weighted_edges_from(weighted_elist)\n",
    "\n",
    "# エッジのラベルを作成\n",
    "elbs = {(u,v):G[u][v]['weight'] for (u,v) in G.edges()}\n",
    "print('elbs:', elbs)\n",
    "\n",
    "# 太線にするエッジを作成\n",
    "mst = prim(G)\n",
    "print('mst:', mst)\n",
    "\n",
    "# 描画\n",
    "nx.draw_networkx(G, pos=p, node_color='lightgrey',node_size=500, width=1)\n",
    "nx.draw_networkx_edges(G, pos=p, edgelist=mst, width=5)\n",
    "nx.draw_networkx_edge_labels(G, pos=p, edge_labels=elbs)\n",
    "plt.axis('off')\n",
    "plt.show()"
   ]
  },
  {
   "cell_type": "code",
   "execution_count": 3,
   "id": "6211319a",
   "metadata": {
    "scrolled": true
   },
   "outputs": [
    {
     "data": {
      "image/png": "[encoded data removed]",
      "text/plain": [
       "<Figure size 432x288 with 1 Axes>"
      ]
     },
     "metadata": {},
     "output_type": "display_data"
    }
   ],
   "source": [
    "# networkxで計算可能\n",
    "# kruskal(貪欲算): コストの小さい順にサイクルができない限り木に追加する\n",
    "\n",
    "mst = nx.minimum_spanning_tree(G, algorithm='kruskal').edges() # primも選択可能\n",
    "\n",
    "# 描画\n",
    "nx.draw_networkx(G, pos=p, node_color='lightgrey',node_size=500, width=1)\n",
    "nx.draw_networkx_edges(G, pos=p, edgelist=mst, width=5)\n",
    "nx.draw_networkx_edge_labels(G, pos=p, edge_labels=elbs)\n",
    "plt.axis('off')\n",
    "plt.show()"
   ]
  },
  {
   "cell_type": "markdown",
   "id": "bc005365",
   "metadata": {},
   "source": [
    "# 深さ優先探索"
   ]
  },
  {
   "cell_type": "markdown",
   "id": "62e2ed77",
   "metadata": {},
   "source": [
    "各頂点に宝があり、隣接する頂点しかわからない。この時に、できる限り奥に進んで、いけなくなったら来た道を一つ戻り、まだ行ったことが無い道を行く手法を深さ優先探索という。"
   ]
  },
  {
   "cell_type": "code",
   "execution_count": 4,
   "id": "abe0d1b5",
   "metadata": {},
   "outputs": [
    {
     "name": "stdout",
     "output_type": "stream",
     "text": [
      "deque(['a', 'b'])\n",
      "b\n"
     ]
    }
   ],
   "source": [
    "# 深さ優先探索にはスタックというデータ形式を使う\n",
    "# Pythonではdeque()を使う\n",
    "\n",
    "import collections\n",
    "S = collections.deque()\n",
    "S.append('a')\n",
    "S.append('b')\n",
    "print(S) # a,bが追加される\n",
    "print(S.pop()) # 後に追加したbを取り除く"
   ]
  },
  {
   "cell_type": "code",
   "execution_count": 5,
   "id": "725e7e78",
   "metadata": {},
   "outputs": [
    {
     "name": "stdout",
     "output_type": "stream",
     "text": [
      "e\n",
      "deque(['a', 'c', 'd'])\n"
     ]
    }
   ],
   "source": [
    "S.append('c')\n",
    "S.append('d')\n",
    "S.append('e')\n",
    "print(S.pop()) # 後に追加したeを取り除く\n",
    "print(S)"
   ]
  },
  {
   "cell_type": "code",
   "execution_count": 6,
   "id": "a03e3631",
   "metadata": {},
   "outputs": [
    {
     "data": {
      "text/plain": [
       "EdgeView([('D', 'G'), ('D', 'R'), ('D', 'S'), ('G', 'R'), ('G', 'N'), ('R', 'S'), ('R', 'M'), ('R', 'N'), ('S', 'M'), ('S', 'P'), ('N', 'M'), ('N', 'P'), ('M', 'P')])"
      ]
     },
     "execution_count": 6,
     "metadata": {},
     "output_type": "execute_result"
    }
   ],
   "source": [
    "G.edges"
   ]
  },
  {
   "cell_type": "code",
   "execution_count": 7,
   "id": "5a00eb65",
   "metadata": {},
   "outputs": [],
   "source": [
    "def dfs(G):\n",
    "    V = [v for v in G.nodes()]\n",
    "    start = V[0]\n",
    "    S = collections.deque([start])\n",
    "    flagged = {v:False for v in G.nodes()}\n",
    "    T = [] # Tが移動経路を表す\n",
    "    while len(S) != 0:\n",
    "        print(\"S:\", S)\n",
    "        print(\"flagged:\", flagged)\n",
    "        # stackの一番上の値を参照\n",
    "        t = S[-1]\n",
    "        flagged[t] = True\n",
    "        # tが接続している頂点のうち、Flagがたっていないものを格納\n",
    "        # uが現在の座標、vが移動先の座標\n",
    "        edges = [(u,v) for (u,v) in G.edges(t) if not(flagged[v])]\n",
    "        if edges != []:\n",
    "            # 1番目の頂点を取得\n",
    "            (u,v) = edges[0]\n",
    "            # S、Tに格納\n",
    "            S.append(v)\n",
    "            T.append((u,v))\n",
    "        # 行き先が無いときは一つ戻る\n",
    "        else:\n",
    "            S.pop()\n",
    "    return T"
   ]
  },
  {
   "cell_type": "code",
   "execution_count": 8,
   "id": "91efaeb8",
   "metadata": {},
   "outputs": [
    {
     "data": {
      "text/plain": [
       "EdgeDataView([((0, 0), (1, 0)), ((0, 0), (0, 1))])"
      ]
     },
     "execution_count": 8,
     "metadata": {},
     "output_type": "execute_result"
    }
   ],
   "source": [
    "# 問題設定\n",
    "G = nx.grid_2d_graph(4,3)\n",
    "\n",
    "# このようにすると、(0,0)と接続している頂点が出てくる\n",
    "G.edges((0, 0))"
   ]
  },
  {
   "cell_type": "code",
   "execution_count": 9,
   "id": "77d15640",
   "metadata": {},
   "outputs": [
    {
     "data": {
      "image/png": "[encoded data removed]",
      "text/plain": [
       "<Figure size 432x288 with 1 Axes>"
      ]
     },
     "metadata": {},
     "output_type": "display_data"
    },
    {
     "name": "stdout",
     "output_type": "stream",
     "text": [
      "S: deque([(0, 0)])\n",
      "flagged: {(0, 0): False, (0, 1): False, (0, 2): False, (1, 0): False, (1, 1): False, (1, 2): False, (2, 0): False, (2, 1): False, (2, 2): False, (3, 0): False, (3, 1): False, (3, 2): False}\n",
      "S: deque([(0, 0), (1, 0)])\n",
      "flagged: {(0, 0): True, (0, 1): False, (0, 2): False, (1, 0): False, (1, 1): False, (1, 2): False, (2, 0): False, (2, 1): False, (2, 2): False, (3, 0): False, (3, 1): False, (3, 2): False}\n",
      "S: deque([(0, 0), (1, 0), (2, 0)])\n",
      "flagged: {(0, 0): True, (0, 1): False, (0, 2): False, (1, 0): True, (1, 1): False, (1, 2): False, (2, 0): False, (2, 1): False, (2, 2): False, (3, 0): False, (3, 1): False, (3, 2): False}\n",
      "S: deque([(0, 0), (1, 0), (2, 0), (3, 0)])\n",
      "flagged: {(0, 0): True, (0, 1): False, (0, 2): False, (1, 0): True, (1, 1): False, (1, 2): False, (2, 0): True, (2, 1): False, (2, 2): False, (3, 0): False, (3, 1): False, (3, 2): False}\n",
      "S: deque([(0, 0), (1, 0), (2, 0), (3, 0), (3, 1)])\n",
      "flagged: {(0, 0): True, (0, 1): False, (0, 2): False, (1, 0): True, (1, 1): False, (1, 2): False, (2, 0): True, (2, 1): False, (2, 2): False, (3, 0): True, (3, 1): False, (3, 2): False}\n",
      "S: deque([(0, 0), (1, 0), (2, 0), (3, 0), (3, 1), (2, 1)])\n",
      "flagged: {(0, 0): True, (0, 1): False, (0, 2): False, (1, 0): True, (1, 1): False, (1, 2): False, (2, 0): True, (2, 1): False, (2, 2): False, (3, 0): True, (3, 1): True, (3, 2): False}\n",
      "S: deque([(0, 0), (1, 0), (2, 0), (3, 0), (3, 1), (2, 1), (1, 1)])\n",
      "flagged: {(0, 0): True, (0, 1): False, (0, 2): False, (1, 0): True, (1, 1): False, (1, 2): False, (2, 0): True, (2, 1): True, (2, 2): False, (3, 0): True, (3, 1): True, (3, 2): False}\n",
      "S: deque([(0, 0), (1, 0), (2, 0), (3, 0), (3, 1), (2, 1), (1, 1), (0, 1)])\n",
      "flagged: {(0, 0): True, (0, 1): False, (0, 2): False, (1, 0): True, (1, 1): True, (1, 2): False, (2, 0): True, (2, 1): True, (2, 2): False, (3, 0): True, (3, 1): True, (3, 2): False}\n",
      "S: deque([(0, 0), (1, 0), (2, 0), (3, 0), (3, 1), (2, 1), (1, 1), (0, 1), (0, 2)])\n",
      "flagged: {(0, 0): True, (0, 1): True, (0, 2): False, (1, 0): True, (1, 1): True, (1, 2): False, (2, 0): True, (2, 1): True, (2, 2): False, (3, 0): True, (3, 1): True, (3, 2): False}\n",
      "S: deque([(0, 0), (1, 0), (2, 0), (3, 0), (3, 1), (2, 1), (1, 1), (0, 1), (0, 2), (1, 2)])\n",
      "flagged: {(0, 0): True, (0, 1): True, (0, 2): True, (1, 0): True, (1, 1): True, (1, 2): False, (2, 0): True, (2, 1): True, (2, 2): False, (3, 0): True, (3, 1): True, (3, 2): False}\n",
      "S: deque([(0, 0), (1, 0), (2, 0), (3, 0), (3, 1), (2, 1), (1, 1), (0, 1), (0, 2), (1, 2), (2, 2)])\n",
      "flagged: {(0, 0): True, (0, 1): True, (0, 2): True, (1, 0): True, (1, 1): True, (1, 2): True, (2, 0): True, (2, 1): True, (2, 2): False, (3, 0): True, (3, 1): True, (3, 2): False}\n",
      "S: deque([(0, 0), (1, 0), (2, 0), (3, 0), (3, 1), (2, 1), (1, 1), (0, 1), (0, 2), (1, 2), (2, 2), (3, 2)])\n",
      "flagged: {(0, 0): True, (0, 1): True, (0, 2): True, (1, 0): True, (1, 1): True, (1, 2): True, (2, 0): True, (2, 1): True, (2, 2): True, (3, 0): True, (3, 1): True, (3, 2): False}\n",
      "S: deque([(0, 0), (1, 0), (2, 0), (3, 0), (3, 1), (2, 1), (1, 1), (0, 1), (0, 2), (1, 2), (2, 2)])\n",
      "flagged: {(0, 0): True, (0, 1): True, (0, 2): True, (1, 0): True, (1, 1): True, (1, 2): True, (2, 0): True, (2, 1): True, (2, 2): True, (3, 0): True, (3, 1): True, (3, 2): True}\n",
      "S: deque([(0, 0), (1, 0), (2, 0), (3, 0), (3, 1), (2, 1), (1, 1), (0, 1), (0, 2), (1, 2)])\n",
      "flagged: {(0, 0): True, (0, 1): True, (0, 2): True, (1, 0): True, (1, 1): True, (1, 2): True, (2, 0): True, (2, 1): True, (2, 2): True, (3, 0): True, (3, 1): True, (3, 2): True}\n",
      "S: deque([(0, 0), (1, 0), (2, 0), (3, 0), (3, 1), (2, 1), (1, 1), (0, 1), (0, 2)])\n",
      "flagged: {(0, 0): True, (0, 1): True, (0, 2): True, (1, 0): True, (1, 1): True, (1, 2): True, (2, 0): True, (2, 1): True, (2, 2): True, (3, 0): True, (3, 1): True, (3, 2): True}\n",
      "S: deque([(0, 0), (1, 0), (2, 0), (3, 0), (3, 1), (2, 1), (1, 1), (0, 1)])\n",
      "flagged: {(0, 0): True, (0, 1): True, (0, 2): True, (1, 0): True, (1, 1): True, (1, 2): True, (2, 0): True, (2, 1): True, (2, 2): True, (3, 0): True, (3, 1): True, (3, 2): True}\n",
      "S: deque([(0, 0), (1, 0), (2, 0), (3, 0), (3, 1), (2, 1), (1, 1)])\n",
      "flagged: {(0, 0): True, (0, 1): True, (0, 2): True, (1, 0): True, (1, 1): True, (1, 2): True, (2, 0): True, (2, 1): True, (2, 2): True, (3, 0): True, (3, 1): True, (3, 2): True}\n",
      "S: deque([(0, 0), (1, 0), (2, 0), (3, 0), (3, 1), (2, 1)])\n",
      "flagged: {(0, 0): True, (0, 1): True, (0, 2): True, (1, 0): True, (1, 1): True, (1, 2): True, (2, 0): True, (2, 1): True, (2, 2): True, (3, 0): True, (3, 1): True, (3, 2): True}\n",
      "S: deque([(0, 0), (1, 0), (2, 0), (3, 0), (3, 1)])\n",
      "flagged: {(0, 0): True, (0, 1): True, (0, 2): True, (1, 0): True, (1, 1): True, (1, 2): True, (2, 0): True, (2, 1): True, (2, 2): True, (3, 0): True, (3, 1): True, (3, 2): True}\n",
      "S: deque([(0, 0), (1, 0), (2, 0), (3, 0)])\n",
      "flagged: {(0, 0): True, (0, 1): True, (0, 2): True, (1, 0): True, (1, 1): True, (1, 2): True, (2, 0): True, (2, 1): True, (2, 2): True, (3, 0): True, (3, 1): True, (3, 2): True}\n",
      "S: deque([(0, 0), (1, 0), (2, 0)])\n",
      "flagged: {(0, 0): True, (0, 1): True, (0, 2): True, (1, 0): True, (1, 1): True, (1, 2): True, (2, 0): True, (2, 1): True, (2, 2): True, (3, 0): True, (3, 1): True, (3, 2): True}\n",
      "S: deque([(0, 0), (1, 0)])\n",
      "flagged: {(0, 0): True, (0, 1): True, (0, 2): True, (1, 0): True, (1, 1): True, (1, 2): True, (2, 0): True, (2, 1): True, (2, 2): True, (3, 0): True, (3, 1): True, (3, 2): True}\n",
      "S: deque([(0, 0)])\n",
      "flagged: {(0, 0): True, (0, 1): True, (0, 2): True, (1, 0): True, (1, 1): True, (1, 2): True, (2, 0): True, (2, 1): True, (2, 2): True, (3, 0): True, (3, 1): True, (3, 2): True}\n"
     ]
    },
    {
     "data": {
      "image/png": "[encoded data removed]",
      "text/plain": [
       "<Figure size 432x288 with 1 Axes>"
      ]
     },
     "metadata": {},
     "output_type": "display_data"
    }
   ],
   "source": [
    "# 問題設定を可視化\n",
    "p = {v:v for v in G.nodes()}\n",
    "nx.draw_networkx(G, pos=p, node_color='lightgrey',node_size=1300,\n",
    "        with_labels=True)\n",
    "plt.axis('off')\n",
    "plt.show()\n",
    "\n",
    "# 計算結果を可視化\n",
    "dfst = dfs(G)\n",
    "DG = nx.DiGraph()\n",
    "DG.add_edges_from(dfst)\n",
    "nx.draw_networkx(DG, edgelist=dfst, pos=p, node_color='lightgrey',\n",
    "        node_size=1500, with_labels=True)\n",
    "plt.axis('off')\n",
    "# plt.savefig('../fig3/grid43dfs.eps')\n",
    "plt.show()"
   ]
  },
  {
   "cell_type": "code",
   "execution_count": null,
   "id": "41b0cbfd",
   "metadata": {},
   "outputs": [],
   "source": []
  },
  {
   "cell_type": "code",
   "execution_count": null,
   "id": "b217b8e9",
   "metadata": {},
   "outputs": [],
   "source": []
  },
  {
   "cell_type": "code",
   "execution_count": null,
   "id": "cafc4e23",
   "metadata": {},
   "outputs": [],
   "source": []
  }
 ],
 "metadata": {
  "kernelspec": {
   "display_name": "Python 3",
   "language": "python",
   "name": "python3"
  },
  "language_info": {
   "codemirror_mode": {
    "name": "ipython",
    "version": 3
   },
   "file_extension": ".py",
   "mimetype": "text/x-python",
   "name": "python",
   "nbconvert_exporter": "python",
   "pygments_lexer": "ipython3",
   "version": "3.8.8"
  }
 },
 "nbformat": 4,
 "nbformat_minor": 5
}
