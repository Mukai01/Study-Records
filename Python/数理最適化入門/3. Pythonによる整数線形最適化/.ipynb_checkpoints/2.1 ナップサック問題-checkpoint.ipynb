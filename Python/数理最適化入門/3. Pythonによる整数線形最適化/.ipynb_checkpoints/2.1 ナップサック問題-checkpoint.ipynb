{
 "cells": [
  {
   "cell_type": "markdown",
   "id": "4a7b4aae",
   "metadata": {},
   "source": [
    "# 貪欲算法"
   ]
  },
  {
   "cell_type": "code",
   "execution_count": 1,
   "id": "5a906b37",
   "metadata": {
    "scrolled": true
   },
   "outputs": [
    {
     "data": {
      "text/plain": [
       "{1: 7.142857142857143,\n",
       " 2: 8.0,\n",
       " 3: 10.0,\n",
       " 4: 7.777777777777778,\n",
       " 5: 9.166666666666666}"
      ]
     },
     "execution_count": 1,
     "metadata": {},
     "output_type": "execute_result"
    }
   ],
   "source": [
    "# 貪欲計法による算出が下界となる\n",
    "items = {1,2,3,4,5}\n",
    "c = {1:50, 2:40, 3:10, 4:70, 5:55}\n",
    "w = {1:7, 2:5, 3:1, 4:9, 5:6}\n",
    "capacity = 15\n",
    "\n",
    "# 効率を計算\n",
    "ratio = {j:c[j]/w[j] for j in items}\n",
    "ratio"
   ]
  },
  {
   "cell_type": "code",
   "execution_count": 2,
   "id": "aff33c55",
   "metadata": {},
   "outputs": [
    {
     "data": {
      "text/plain": [
       "[3, 5, 2, 4, 1]"
      ]
     },
     "execution_count": 2,
     "metadata": {},
     "output_type": "execute_result"
    }
   ],
   "source": [
    "# 効率が良い順を取得\n",
    "sItems = [key for key, val in sorted(ratio.items(), key=lambda x:x[1], reverse=True)]\n",
    "sItems"
   ]
  },
  {
   "cell_type": "code",
   "execution_count": 3,
   "id": "98de38b9",
   "metadata": {},
   "outputs": [
    {
     "name": "stdout",
     "output_type": "stream",
     "text": [
      "{3: 1, 5: 1, 2: 1, 4: 0, 1: 0}\n",
      "総価格 =  105\n"
     ]
    }
   ],
   "source": [
    "# すべて0とする\n",
    "x={j:0 for j in sItems}\n",
    "\n",
    "# capacityを設定\n",
    "cap = capacity\n",
    "\n",
    "# 効率が良い順にループ\n",
    "for j in sItems:\n",
    "    # もし入る余裕があるなら、\n",
    "    if w[j] <= cap:\n",
    "        # capacityを更新する\n",
    "        cap -= w[j]\n",
    "        # 選択する\n",
    "        x[j] = 1\n",
    "print(x)\n",
    "print('総価格 = ', sum(c[j]*x[j] for j in sItems))"
   ]
  },
  {
   "cell_type": "markdown",
   "id": "c1e9d4c2",
   "metadata": {},
   "source": [
    "# 線形緩和問題"
   ]
  },
  {
   "cell_type": "code",
   "execution_count": 6,
   "id": "122589f1",
   "metadata": {},
   "outputs": [
    {
     "name": "stdout",
     "output_type": "stream",
     "text": [
      "{3: 1, 5: 1, 2: 1, 4: 0.3333333333333333, 1: 0}\n",
      "総価格 =  128.33333333333334\n"
     ]
    }
   ],
   "source": [
    "# 線形緩和問題が上界となる\n",
    "x={j:0 for j in sItems}\n",
    "cap = capacity\n",
    "\n",
    "for j in sItems:\n",
    "    if w[j] <= cap:\n",
    "        cap -= w[j]\n",
    "        x[j] = 1\n",
    "    \n",
    "    # capを超えた場合はぎりぎりまで足す\n",
    "    else:\n",
    "        x[j] = cap/w[j]\n",
    "        break\n",
    "print(x)\n",
    "print('総価格 = ', sum(c[j]*x[j] for j in sItems))"
   ]
  },
  {
   "cell_type": "code",
   "execution_count": null,
   "id": "0e91fbc1",
   "metadata": {},
   "outputs": [],
   "source": []
  }
 ],
 "metadata": {
  "kernelspec": {
   "display_name": "Python 3",
   "language": "python",
   "name": "python3"
  },
  "language_info": {
   "codemirror_mode": {
    "name": "ipython",
    "version": 3
   },
   "file_extension": ".py",
   "mimetype": "text/x-python",
   "name": "python",
   "nbconvert_exporter": "python",
   "pygments_lexer": "ipython3",
   "version": "3.8.8"
  }
 },
 "nbformat": 4,
 "nbformat_minor": 5
}
