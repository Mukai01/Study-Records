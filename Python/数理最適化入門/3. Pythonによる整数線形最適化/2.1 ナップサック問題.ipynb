{
 "cells": [
  {
   "cell_type": "markdown",
   "id": "4a7b4aae",
   "metadata": {},
   "source": [
    "# 貪欲算法"
   ]
  },
  {
   "cell_type": "code",
   "execution_count": 1,
   "id": "5a906b37",
   "metadata": {
    "scrolled": true
   },
   "outputs": [
    {
     "data": {
      "text/plain": [
       "{1: 7.142857142857143,\n",
       " 2: 8.0,\n",
       " 3: 10.0,\n",
       " 4: 7.777777777777778,\n",
       " 5: 9.166666666666666}"
      ]
     },
     "execution_count": 1,
     "metadata": {},
     "output_type": "execute_result"
    }
   ],
   "source": [
    "# 貪欲計法による算出が下界となる\n",
    "items = {1,2,3,4,5}\n",
    "c = {1:50, 2:40, 3:10, 4:70, 5:55}\n",
    "w = {1:7, 2:5, 3:1, 4:9, 5:6}\n",
    "capacity = 15\n",
    "\n",
    "# 効率を計算\n",
    "ratio = {j:c[j]/w[j] for j in items}\n",
    "ratio"
   ]
  },
  {
   "cell_type": "code",
   "execution_count": 2,
   "id": "aff33c55",
   "metadata": {},
   "outputs": [
    {
     "data": {
      "text/plain": [
       "[3, 5, 2, 4, 1]"
      ]
     },
     "execution_count": 2,
     "metadata": {},
     "output_type": "execute_result"
    }
   ],
   "source": [
    "# 効率が良い順を取得\n",
    "sItems = [key for key, val in sorted(ratio.items(), key=lambda x:x[1], reverse=True)]\n",
    "sItems"
   ]
  },
  {
   "cell_type": "code",
   "execution_count": 3,
   "id": "98de38b9",
   "metadata": {},
   "outputs": [
    {
     "name": "stdout",
     "output_type": "stream",
     "text": [
      "{3: 1, 5: 1, 2: 1, 4: 0, 1: 0}\n",
      "総価格 =  105\n"
     ]
    }
   ],
   "source": [
    "# すべて0とする\n",
    "x={j:0 for j in sItems}\n",
    "\n",
    "# capacityを設定\n",
    "cap = capacity\n",
    "\n",
    "# 効率が良い順にループ\n",
    "for j in sItems:\n",
    "    # もし入る余裕があるなら、\n",
    "    if w[j] <= cap:\n",
    "        # capacityを更新する\n",
    "        cap -= w[j]\n",
    "        # 選択する\n",
    "        x[j] = 1\n",
    "print(x)\n",
    "print('総価格 = ', sum(c[j]*x[j] for j in sItems))"
   ]
  },
  {
   "cell_type": "markdown",
   "id": "c1e9d4c2",
   "metadata": {},
   "source": [
    "# 線形緩和問題"
   ]
  },
  {
   "cell_type": "code",
   "execution_count": 4,
   "id": "122589f1",
   "metadata": {},
   "outputs": [
    {
     "name": "stdout",
     "output_type": "stream",
     "text": [
      "{3: 1, 5: 1, 2: 1, 4: 0.3333333333333333, 1: 0}\n",
      "総価格 =  128.33333333333334\n"
     ]
    }
   ],
   "source": [
    "# 線形緩和問題が上界となる\n",
    "x={j:0 for j in sItems}\n",
    "cap = capacity\n",
    "\n",
    "for j in sItems:\n",
    "    if w[j] <= cap:\n",
    "        cap -= w[j]\n",
    "        x[j] = 1\n",
    "    \n",
    "    # capを超えた場合はぎりぎりまで足す\n",
    "    else:\n",
    "        x[j] = cap/w[j]\n",
    "        break\n",
    "print(x)\n",
    "print('総価格 = ', sum(c[j]*x[j] for j in sItems))"
   ]
  },
  {
   "cell_type": "markdown",
   "id": "4e2a8907",
   "metadata": {},
   "source": [
    "# 分岐限定法"
   ]
  },
  {
   "cell_type": "code",
   "execution_count": 5,
   "id": "13779fd3",
   "metadata": {},
   "outputs": [
    {
     "data": {
      "text/plain": [
       "{1, 3}"
      ]
     },
     "execution_count": 5,
     "metadata": {},
     "output_type": "execute_result"
    }
   ],
   "source": [
    "# 品物をセットで表していく\n",
    "# セットは引き算が可能\n",
    "{1,2,3}-{2}"
   ]
  },
  {
   "cell_type": "code",
   "execution_count": 6,
   "id": "9346202b",
   "metadata": {},
   "outputs": [
    {
     "data": {
      "text/plain": [
       "{1, 2, 3, 4, 7}"
      ]
     },
     "execution_count": 6,
     "metadata": {},
     "output_type": "execute_result"
    }
   ],
   "source": [
    "# unionを使うと外部結合となる\n",
    "a = {1,2,3}\n",
    "a.union({2,3,4,7})"
   ]
  },
  {
   "cell_type": "code",
   "execution_count": 7,
   "id": "d607ca4c",
   "metadata": {},
   "outputs": [],
   "source": [
    "class KnapsackProblem(object):\n",
    "    \"\"\" The difinition of KnapSackProblem \"\"\"    \n",
    "    def __init__(self, name, capacity, items, costs, weights,\n",
    "                 zeros=set(), ones=set()):\n",
    "        self.name = name\n",
    "        self.capacity = capacity\n",
    "        self.items = items\n",
    "        self.costs = costs\n",
    "        self.weights = weights\n",
    "        self.zeros = zeros # ナップサックに入れない品物の集合\n",
    "        self.ones = ones # ナップサックに入れる品物の集合\n",
    "        self.lb = -100\n",
    "        self.ub = -100\n",
    "        ratio = {j:costs[j]/weights[j] for j  in items}\n",
    "        self.sitemList =  [k for k, v in \n",
    "            sorted(ratio.items(), key=lambda x:x[1], reverse=True)] # 品物を効率の大きい順に並べたリスト\n",
    "        self.xlb = {j:0 for j in self.items} # lb を達成する解\n",
    "        self.xub = {j:0 for j in self.items} # ub を達成する解\n",
    "        self.bi = None # ubを達成する際に値が分数であるもの\n",
    "\n",
    "    def getbounds(self):\n",
    "        \"\"\" Calculate the upper and lower bounds. \"\"\"\n",
    "        # ナップサックに入れない品物を0に変更\n",
    "        for j in self.zeros:\n",
    "            self.xlb[j] = self.xub[j] = 0\n",
    "        # ナップサックに入れる品物を1に変更\n",
    "        for j in self.ones:\n",
    "            self.xlb[j] = self.xub[j] = 1\n",
    "        # もしナップサックに入れる品物だけでcapacityを超えた場合は計算終了\n",
    "        if self.capacity < sum(self.weights[j] for j in self.ones):\n",
    "            self.lb = self.ub =  -100\n",
    "            return 0\n",
    "        \n",
    "        # 決定していない品物のセット\n",
    "        ritems = self.items - self.zeros - self.ones\n",
    "        # ritemsを効率の良い順に並べたリスト\n",
    "        sitems = [j for j in self.sitemList if j in ritems]\n",
    "        # 残りの容量を計算\n",
    "        cap = self.capacity - sum(self.weights[j] for j in self.ones)\n",
    "        # 効率の良い順にループ\n",
    "        for j in sitems:\n",
    "            # もし容量に余裕があったら、1に変更\n",
    "            if self.weights[j] <= cap:\n",
    "                cap -= self.weights[j]\n",
    "                self.xlb[j] = self.xub[j] = 1\n",
    "            # 容量に余裕がない場合は ub は容量分だけ追加\n",
    "            # lbの計算のために次のループに移動\n",
    "            else:\n",
    "                self.xub[j] = cap/self.weights[j]\n",
    "                self.bi = j # biを更新\n",
    "                break\n",
    "        # lb,ubを計算\n",
    "        self.lb = sum(self.costs[j]*self.xlb[j] for j in self.items)\n",
    "        self.ub = sum(self.costs[j]*self.xub[j] for j in self.items)\n",
    "\n",
    "    def __str__(self):\n",
    "        \"\"\" KnapSackProblem の情報を印字 \"\"\"\n",
    "        return('Name = '+self.name+', capacity = '+str(self.capacity)+',\\n'\n",
    "            'items = '+str(self.items)+',\\n'+\n",
    "            'costs = '+str(self.costs)+',\\n'+\n",
    "            'weights = '+str(self.weights)+',\\n'+\n",
    "            'zeros = '+str(self.zeros)+', ones = '+str(self.ones)+',\\n'+\n",
    "            'lb = '+str(self.lb)+', ub = '+str(self.ub)+',\\n'+\n",
    "            'sitemList = '+str(self.sitemList)+',\\n'+\n",
    "            'xlb = '+str(self.xlb)+',\\n'+'xub = '+str(self.xub)+',\\n'+\n",
    "            'bi = '+str(self.bi)+'\\n')"
   ]
  },
  {
   "cell_type": "code",
   "execution_count": 8,
   "id": "c26af30b",
   "metadata": {},
   "outputs": [],
   "source": [
    "from pulp import *\n",
    "\n",
    "def KnapsackProblemSolve(capacity, items, costs, weights):\n",
    "    # dequeを使うとリストよりも計算コストが少なく、先頭と末尾に追加可能\n",
    "    from collections import deque\n",
    "    queue = deque()\n",
    "    \n",
    "    # 問題を設定する\n",
    "    root = KnapsackProblem('KP', capacity = capacity,\n",
    "        items = items, costs = costs, weights = weights,\n",
    "        zeros = set(), ones = set())\n",
    "    # 下界、上界を計算する\n",
    "    root.getbounds()\n",
    "    best = root\n",
    "    # 問題を追加する\n",
    "    queue.append(root)\n",
    "    \n",
    "    # queueが空になるまで\n",
    "    while queue != deque([]):\n",
    "        # 一番左を選択 \n",
    "        p = queue.popleft()\n",
    "        p.getbounds()\n",
    "        # bestのlb よりも pのubが大きい場合(bestを更新する可能性がある)\n",
    "        if p.ub > best.lb:\n",
    "            # もしpのlbがbestのlbよりも大きければ更新\n",
    "            if p.lb > best.lb:\n",
    "                best = p\n",
    "            # pのubがpのlbよりも大きければ子問題を作って分岐する\n",
    "            if p.ub > p.lb:\n",
    "                # ubを求める際に分数になった番号をkに格納\n",
    "                k = p.bi\n",
    "                # kを1,0に分割し、ququeに追加\n",
    "                p1 = KnapsackProblem(p.name+'+'+str(k),\n",
    "                    capacity = p.capacity, items = p.items,\n",
    "                    costs = p.costs, weights = p.weights,\n",
    "                    zeros = p.zeros, ones = p.ones.union({k}))\n",
    "                queue.append(p1)\n",
    "                p2 = KnapsackProblem(p.name+'-'+str(k),\n",
    "                    capacity = p.capacity, items = p.items,\n",
    "                    costs = p.costs, weights = p.weights,\n",
    "                    zeros = p.zeros.union({k}), ones = p.ones)\n",
    "                queue.append(p2)\n",
    "    return 'Optimal', best.lb, best.xlb"
   ]
  },
  {
   "cell_type": "code",
   "execution_count": 9,
   "id": "fbf57d41",
   "metadata": {},
   "outputs": [
    {
     "name": "stdout",
     "output_type": "stream",
     "text": [
      "Optimal value =  125\n",
      "Optimal solution =  {1: 0, 2: 0, 3: 0, 4: 1, 5: 1}\n"
     ]
    }
   ],
   "source": [
    "capacity = 15\n",
    "items = {1,2,3,4,5}\n",
    "c = {1:50, 2:40, 3:10, 4:70, 5:55}\n",
    "w = {1:7, 2:5, 3:1, 4:9, 5:6}\n",
    "\n",
    "res = KnapsackProblemSolve(capacity=capacity,\n",
    "                     items=items, costs=c, weights=w)\n",
    "print('Optimal value = ', res[1])\n",
    "print('Optimal solution = ', res[2])"
   ]
  },
  {
   "cell_type": "code",
   "execution_count": null,
   "id": "5c543865",
   "metadata": {},
   "outputs": [],
   "source": []
  },
  {
   "cell_type": "code",
   "execution_count": null,
   "id": "e5fb04d1",
   "metadata": {},
   "outputs": [],
   "source": []
  },
  {
   "cell_type": "code",
   "execution_count": null,
   "id": "ae3080a7",
   "metadata": {},
   "outputs": [],
   "source": []
  }
 ],
 "metadata": {
  "kernelspec": {
   "display_name": "Python 3",
   "language": "python",
   "name": "python3"
  },
  "language_info": {
   "codemirror_mode": {
    "name": "ipython",
    "version": 3
   },
   "file_extension": ".py",
   "mimetype": "text/x-python",
   "name": "python",
   "nbconvert_exporter": "python",
   "pygments_lexer": "ipython3",
   "version": "3.8.8"
  }
 },
 "nbformat": 4,
 "nbformat_minor": 5
}
