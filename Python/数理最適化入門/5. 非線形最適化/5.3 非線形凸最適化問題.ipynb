{
 "cells": [
  {
   "cell_type": "markdown",
   "id": "bc4d1a90",
   "metadata": {},
   "source": [
    "# 凸2次最適化問題"
   ]
  },
  {
   "cell_type": "code",
   "execution_count": null,
   "id": "bb8e53dc",
   "metadata": {},
   "outputs": [],
   "source": [
    "# solvers.qp(P,q,G,h,A,b)で以下の問題を解く\n",
    "\n",
    "# minimize (1/2)*x'*P*x + q'*x\n",
    "# 条件 G*x<h\n",
    "#      A*x=b"
   ]
  },
  {
   "cell_type": "code",
   "execution_count": 7,
   "id": "8532a71f",
   "metadata": {
    "scrolled": true
   },
   "outputs": [
    {
     "name": "stdout",
     "output_type": "stream",
     "text": [
      "     pcost       dcost       gap    pres   dres\n",
      " 0: -4.8105e+00 -6.4700e+00  1e+01  4e-01  3e+00\n",
      " 1: -4.1678e+00 -5.6606e+00  1e+00  6e-17  3e-16\n",
      " 2: -4.5418e+00 -4.6061e+00  6e-02  3e-17  1e-16\n",
      " 3: -4.5465e+00 -4.5472e+00  7e-04  4e-17  3e-16\n",
      " 4: -4.5465e+00 -4.5465e+00  7e-06  1e-16  3e-16\n",
      " 5: -4.5465e+00 -4.5465e+00  7e-08  1e-17  2e-16\n",
      "Optimal solution found.\n",
      "{'x': <2x1 matrix, tc='d'>, 'y': <0x1 matrix, tc='d'>, 's': <4x1 matrix, tc='d'>, 'z': <4x1 matrix, tc='d'>, 'status': 'optimal', 'gap': 7.284650158656667e-08, 'relative gap': 1.6022504205937292e-08, 'primal objective': -4.546511622045491, 'dual objective': -4.546511694891993, 'primal infeasibility': 1.4214949210266778e-17, 'dual infeasibility': 1.9860273225978183e-16, 'primal slack': 1.0081752643394897e-08, 'dual slack': 4.21430289047439e-09, 'iterations': 5}\n",
      "最適解:\n",
      " [ 1.19e+00]\n",
      "[ 9.53e-01]\n",
      "\n",
      "目的関数:  -4.546511622045491\n"
     ]
    }
   ],
   "source": [
    "# アルゴリズムが整備されている問題について取り上げる\n",
    "\n",
    "import numpy as np\n",
    "from cvxopt import solvers, matrix\n",
    "\n",
    "Q = matrix(np.array([[2.0, -1.0], [-1.0, 3.0] ]))\n",
    "c=matrix(np.array([-2.0, -4.0]))\n",
    "A=matrix(np.array([[-1.0, 0.0],  [0.0, -1.0], [2.0, 3.0], [1.0,4.0]]))\n",
    "b=matrix(np.array([0.0, 0.0, 6.0, 5.0]))\n",
    "\n",
    "sol=solvers.qp(P=Q,q=c,G=A,h=b)\n",
    "print(sol)\n",
    "\n",
    "print(\"最適解:\\n\", sol[\"x\"])\n",
    "print(\"目的関数: \",sol[\"primal objective\"])"
   ]
  },
  {
   "cell_type": "markdown",
   "id": "d54be882",
   "metadata": {},
   "source": [
    "# 錐最適化問題"
   ]
  },
  {
   "cell_type": "code",
   "execution_count": 10,
   "id": "04b32705",
   "metadata": {},
   "outputs": [
    {
     "name": "stderr",
     "output_type": "stream",
     "text": [
      "<ipython-input-10-b924563491d6>:11: DeprecationWarning: Problem.add_variable is deprecated: Variables can now be created independent of problems, and do not need to be added to any problem explicitly.\n",
      "  X=socp.add_variable('X',2)\n",
      "<ipython-input-10-b924563491d6>:12: DeprecationWarning: Problem.add_variable is deprecated: Variables can now be created independent of problems, and do not need to be added to any problem explicitly.\n",
      "  d=[socp.add_variable('d['+str(i)+']',1) for i in H]\n",
      "<ipython-input-10-b924563491d6>:15: DeprecationWarning: Expression.__lt__ is deprecated: PICOS treats all inequalities as non-strict. Using the strict inequality comparison operators may lead to unexpected results when dealing with integer problems.\n",
      "  socp.add_list_of_constraints([abs(p[i]-X) < d[i] for i in H])\n"
     ]
    }
   ],
   "source": [
    "# ゴミ集積所問題を解く\n",
    "import numpy as np \n",
    "import picos as pic\n",
    "import matplotlib.pyplot as plt\n",
    "\n",
    "socp=pic.Problem()\n",
    "H=[0,1,2,3,4,5,6,7] # 7個の家があるとする\n",
    "p =[[44, 47],[64, 67],[67,  9],[83, 21],\n",
    "       [36, 87],[70, 88],[88, 12],[58, 65]] # 家のx,y座標を設定\n",
    "w = [1, 2, 2, 1, 2, 5, 4, 1] # 各家から出てくるゴミの量\n",
    "\n",
    "X=socp.add_variable('X',2) # 2次元の変数であると定義\n",
    "d=[socp.add_variable('d['+str(i)+']',1) for i in H] # 各家からの距離dを定義\n",
    "objective=sum(w[i]*d[i] for i in H) # 目的変数を定義\n",
    "socp.set_objective('min',objective)\n",
    "socp.add_list_of_constraints([abs(p[i]-X) < d[i] for i in H]) 　\n",
    "res=socp.solve(solver='cvxopt')"
   ]
  },
  {
   "cell_type": "code",
   "execution_count": 11,
   "id": "b0433fae",
   "metadata": {},
   "outputs": [
    {
     "name": "stdout",
     "output_type": "stream",
     "text": [
      "64.00000030746362\n",
      "66.99999955529726\n"
     ]
    }
   ],
   "source": [
    "print(X.value[0])\n",
    "print(X.value[1])"
   ]
  }
 ],
 "metadata": {
  "kernelspec": {
   "display_name": "Python 3",
   "language": "python",
   "name": "python3"
  },
  "language_info": {
   "codemirror_mode": {
    "name": "ipython",
    "version": 3
   },
   "file_extension": ".py",
   "mimetype": "text/x-python",
   "name": "python",
   "nbconvert_exporter": "python",
   "pygments_lexer": "ipython3",
   "version": "3.8.8"
  }
 },
 "nbformat": 4,
 "nbformat_minor": 5
}
