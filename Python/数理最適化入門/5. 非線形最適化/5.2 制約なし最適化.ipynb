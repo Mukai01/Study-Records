{
 "cells": [
  {
   "cell_type": "markdown",
   "id": "edbdd8ec",
   "metadata": {},
   "source": [
    "# ニュートン法"
   ]
  },
  {
   "cell_type": "code",
   "execution_count": 8,
   "id": "6eae64aa",
   "metadata": {},
   "outputs": [
    {
     "name": "stdout",
     "output_type": "stream",
     "text": [
      "iteration: 15\n",
      "optimal soluton: [1. 1. 1.]\n"
     ]
    }
   ],
   "source": [
    "import scipy.linalg as linalg\n",
    "import numpy as np\n",
    "\n",
    "f = lambda x: sum( 100*(x[i+1] - x[i]**2)**2 +(x[i]-1)**2 for i in range(2))\n",
    "# 勾配ベクトルを定義\n",
    "nf = lambda x: np.array([-400*x[0]*(-x[0]**2 + x[1]) + 2*x[0] - 2, -\n",
    "                         200*x[0]**2 - 400*x[1]*(-x[1]**2 + x[2]) + 202*x[1] - 2, \n",
    "                         -200*x[1]**2 + 200*x[2]])\n",
    "# ヘッセ行列を定義\n",
    "Hf = lambda x: np.array([[1200*x[0]**2 - 400*x[1] + 2, -400*x[0], 0], \n",
    "                         [-400*x[0], 1200*x[1]**2 - 400*x[2] + 202, -400*x[1]], \n",
    "                         [0, -400*x[1], 200]])\n",
    "x0 = [10,10, 10]\n",
    "MEPS = 1.0e-6\n",
    "\n",
    "k=0\n",
    "while linalg.norm(nf(x0)) > MEPS:\n",
    "    d = -np.dot(linalg.inv(Hf(x0)),nf(x0))\n",
    "    x0 = x0+d\n",
    "    k = k+1\n",
    "\n",
    "print('iteration:', k)\n",
    "print('optimal soluton:', x0)"
   ]
  },
  {
   "cell_type": "markdown",
   "id": "2785210f",
   "metadata": {},
   "source": [
    "# 準ニュートン法"
   ]
  },
  {
   "cell_type": "code",
   "execution_count": 7,
   "id": "a3fd4e98",
   "metadata": {},
   "outputs": [
    {
     "name": "stdout",
     "output_type": "stream",
     "text": [
      "      fun: 9.027274611464532e-15\n",
      " hess_inv: array([[3.23545604, 0.8083042 ],\n",
      "       [0.8083042 , 0.22392594]])\n",
      "      jac: array([-1.33888185e-07,  1.13254775e-06])\n",
      "  message: 'Optimization terminated successfully.'\n",
      "     nfev: 48\n",
      "      nit: 13\n",
      "     njev: 16\n",
      "   status: 0\n",
      "  success: True\n",
      "        x: array([3.00000012, 0.50000005])\n"
     ]
    }
   ],
   "source": [
    "# minimizeで method='BFGS'とすると準ニュートン法\n",
    "from scipy.optimize import minimize\n",
    "f = lambda x: (1.5-x[0]+x[0]*x[1])**2+(2.25-x[0]+x[0]*x[1]**2)**2 +(2.625-x[0]+x[0]*x[1]**3)**2\n",
    "x0 = [0,0]\n",
    "\n",
    "res = minimize(f, x0, method='BFGS')\n",
    "print(res)"
   ]
  },
  {
   "cell_type": "code",
   "execution_count": null,
   "id": "b0b3fc30",
   "metadata": {},
   "outputs": [],
   "source": []
  }
 ],
 "metadata": {
  "kernelspec": {
   "display_name": "Python 3",
   "language": "python",
   "name": "python3"
  },
  "language_info": {
   "codemirror_mode": {
    "name": "ipython",
    "version": 3
   },
   "file_extension": ".py",
   "mimetype": "text/x-python",
   "name": "python",
   "nbconvert_exporter": "python",
   "pygments_lexer": "ipython3",
   "version": "3.8.8"
  }
 },
 "nbformat": 4,
 "nbformat_minor": 5
}
