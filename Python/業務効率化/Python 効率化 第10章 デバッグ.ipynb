{
 "cells": [
  {
   "cell_type": "markdown",
   "metadata": {},
   "source": [
    "# 第10章 デバッグ"
   ]
  },
  {
   "cell_type": "markdown",
   "metadata": {},
   "source": [
    "## 10.1 例外を起こす"
   ]
  },
  {
   "cell_type": "code",
   "execution_count": 1,
   "metadata": {},
   "outputs": [
    {
     "ename": "Exception",
     "evalue": "これはエラーメッセージです",
     "output_type": "error",
     "traceback": [
      "\u001b[1;31m---------------------------------------------------------------------------\u001b[0m",
      "\u001b[1;31mException\u001b[0m                                 Traceback (most recent call last)",
      "\u001b[1;32m<ipython-input-1-c63e3dd7e6cb>\u001b[0m in \u001b[0;36m<module>\u001b[1;34m\u001b[0m\n\u001b[1;32m----> 1\u001b[1;33m \u001b[1;32mraise\u001b[0m \u001b[0mException\u001b[0m\u001b[1;33m(\u001b[0m\u001b[1;34m'これはエラーメッセージです'\u001b[0m\u001b[1;33m)\u001b[0m\u001b[1;33m\u001b[0m\u001b[1;33m\u001b[0m\u001b[0m\n\u001b[0m",
      "\u001b[1;31mException\u001b[0m: これはエラーメッセージです"
     ]
    }
   ],
   "source": [
    "raise Exception('これはエラーメッセージです')"
   ]
  },
  {
   "cell_type": "code",
   "execution_count": 2,
   "metadata": {},
   "outputs": [
    {
     "name": "stdout",
     "output_type": "stream",
     "text": [
      "****\n",
      "*  *\n",
      "*  *\n",
      "****\n",
      "OOOOOOOOOOOOOOOOOOOO\n",
      "O                  O\n",
      "O                  O\n",
      "O                  O\n",
      "OOOOOOOOOOOOOOOOOOOO\n",
      "例外が起こりました: widthは2より大きくなければならない。\n",
      "例外が起こりました: symbolは1文字の文字列でなければならない。\n"
     ]
    }
   ],
   "source": [
    "#どんなエラーが発生したか表示する\n",
    "\n",
    "def box_print(symbol, width, height):\n",
    "    if len(symbol) != 1:\n",
    "        raise Exception('symbolは1文字の文字列でなければならない。') \n",
    "    if width <= 2:\n",
    "        raise Exception('widthは2より大きくなければならない。')\n",
    "    if height <= 2:\n",
    "        raise Exception('heightは2より大きくなければならない。')\n",
    "    print(symbol * width)\n",
    "    for i in range(height - 2):\n",
    "        print(symbol + (' ' * (width - 2)) + symbol)\n",
    "    print(symbol * width)\n",
    "\n",
    "for sym, w, h in (('*', 4, 4), ('O', 20, 5), ('x', 1, 3), ('ZZ', 3, 3)):\n",
    "    try:\n",
    "        box_print(sym, w, h)\n",
    "    except Exception as err: #exceptionが発生した場合は、errに格納する\n",
    "        print('例外が起こりました: ' + str(err))  #str()関数に渡して表示"
   ]
  },
  {
   "cell_type": "markdown",
   "metadata": {},
   "source": [
    "## 10.2 トレースバックを文字列として受け取る\n",
    "例外が起きてもプログラムを止めずに、エラー情報を取得可能"
   ]
  },
  {
   "cell_type": "code",
   "execution_count": 3,
   "metadata": {},
   "outputs": [
    {
     "name": "stdout",
     "output_type": "stream",
     "text": [
      "Traceback (most recent call last):\n",
      "  File \"<ipython-input-3-dd80ef2660bd>\", line 4, in <module>\n",
      "    raise  Exception('これはエラーメッセージです')\n",
      "Exception: これはエラーメッセージです\n",
      "\n",
      "プログラムの続きを実行可能\n"
     ]
    }
   ],
   "source": [
    "import traceback\n",
    "\n",
    "try:\n",
    "    raise  Exception('これはエラーメッセージです')\n",
    "except:\n",
    "    print(traceback.format_exc())\n",
    "    \n",
    "    #以下のようにログファイルを作成可能\n",
    "    #error_file=open('errorInfo.txt','w')\n",
    "    #error_file.write(traceback.format_exc)\n",
    "    #error_file.close()\n",
    "    #print('トレースバック情報をerrorInfo.txtに書き込みました')\n",
    "    \n",
    "print('プログラムの続きを実行可能')\n",
    "    \n",
    "#以下のようにすればログファイルができる"
   ]
  },
  {
   "cell_type": "markdown",
   "metadata": {},
   "source": [
    "## 10.3 アサート"
   ]
  },
  {
   "cell_type": "code",
   "execution_count": 4,
   "metadata": {},
   "outputs": [
    {
     "ename": "AssertionError",
     "evalue": "赤信号がない! {'ns': 'yellow', 'ew': 'green'}",
     "output_type": "error",
     "traceback": [
      "\u001b[1;31m---------------------------------------------------------------------------\u001b[0m",
      "\u001b[1;31mAssertionError\u001b[0m                            Traceback (most recent call last)",
      "\u001b[1;32m<ipython-input-4-500a82cdf209>\u001b[0m in \u001b[0;36m<module>\u001b[1;34m\u001b[0m\n\u001b[0;32m     15\u001b[0m \u001b[1;33m\u001b[0m\u001b[0m\n\u001b[0;32m     16\u001b[0m \u001b[0mmarket_2nd\u001b[0m\u001b[1;33m=\u001b[0m\u001b[1;33m{\u001b[0m\u001b[1;34m'ns'\u001b[0m\u001b[1;33m:\u001b[0m\u001b[1;34m'green'\u001b[0m\u001b[1;33m,\u001b[0m\u001b[1;34m'ew'\u001b[0m\u001b[1;33m:\u001b[0m\u001b[1;34m'red'\u001b[0m\u001b[1;33m}\u001b[0m\u001b[1;33m\u001b[0m\u001b[1;33m\u001b[0m\u001b[0m\n\u001b[1;32m---> 17\u001b[1;33m \u001b[0mprint\u001b[0m\u001b[1;33m(\u001b[0m\u001b[0mswitch_lights\u001b[0m\u001b[1;33m(\u001b[0m\u001b[0mmarket_2nd\u001b[0m\u001b[1;33m)\u001b[0m\u001b[1;33m)\u001b[0m\u001b[1;33m\u001b[0m\u001b[1;33m\u001b[0m\u001b[0m\n\u001b[0m",
      "\u001b[1;32m<ipython-input-4-500a82cdf209>\u001b[0m in \u001b[0;36mswitch_lights\u001b[1;34m(stoplight)\u001b[0m\n\u001b[0;32m     11\u001b[0m             \u001b[0mstoplight\u001b[0m\u001b[1;33m[\u001b[0m\u001b[0mkey\u001b[0m\u001b[1;33m]\u001b[0m\u001b[1;33m=\u001b[0m\u001b[1;34m'green'\u001b[0m\u001b[1;33m\u001b[0m\u001b[1;33m\u001b[0m\u001b[0m\n\u001b[0;32m     12\u001b[0m \u001b[1;33m\u001b[0m\u001b[0m\n\u001b[1;32m---> 13\u001b[1;33m     \u001b[1;32massert\u001b[0m \u001b[1;34m'red'\u001b[0m \u001b[1;32min\u001b[0m \u001b[0mstoplight\u001b[0m\u001b[1;33m.\u001b[0m\u001b[0mvalues\u001b[0m\u001b[1;33m(\u001b[0m\u001b[1;33m)\u001b[0m\u001b[1;33m,\u001b[0m \u001b[1;34m'赤信号がない! '\u001b[0m\u001b[1;33m+\u001b[0m\u001b[0mstr\u001b[0m\u001b[1;33m(\u001b[0m\u001b[0mstoplight\u001b[0m\u001b[1;33m)\u001b[0m\u001b[1;33m\u001b[0m\u001b[1;33m\u001b[0m\u001b[0m\n\u001b[0m\u001b[0;32m     14\u001b[0m     \u001b[1;32mreturn\u001b[0m \u001b[0mstoplight\u001b[0m\u001b[1;33m\u001b[0m\u001b[1;33m\u001b[0m\u001b[0m\n\u001b[0;32m     15\u001b[0m \u001b[1;33m\u001b[0m\u001b[0m\n",
      "\u001b[1;31mAssertionError\u001b[0m: 赤信号がない! {'ns': 'yellow', 'ew': 'green'}"
     ]
    }
   ],
   "source": [
    "#関数の最後にどちらかが赤信号になっていることを確認する文章を追加\n",
    "\n",
    "def switch_lights(stoplight):\n",
    "    \n",
    "    for key in stoplight.keys():\n",
    "        if stoplight[key]=='green':\n",
    "            stoplight[key]='yellow'\n",
    "        elif stoplight[key]=='yellow':\n",
    "            stoplight[key]='red'\n",
    "        elif stoplight[key]=='red':\n",
    "            stoplight[key]='green'\n",
    "            \n",
    "    assert 'red' in stoplight.values(), '赤信号がない! '+str(stoplight)\n",
    "    return stoplight\n",
    "            \n",
    "market_2nd={'ns':'green','ew':'red'}\n",
    "print(switch_lights(market_2nd))"
   ]
  },
  {
   "cell_type": "markdown",
   "metadata": {},
   "source": [
    "## 10.4 ログをとる"
   ]
  },
  {
   "cell_type": "code",
   "execution_count": 5,
   "metadata": {},
   "outputs": [
    {
     "name": "stderr",
     "output_type": "stream",
     "text": [
      " 2020-01-13 17:59:28,903 - DEBUG - プログラム開始\n",
      " 2020-01-13 17:59:28,905 - DEBUG - factorial(5)開始\n",
      " 2020-01-13 17:59:28,907 - DEBUG - i = 1, total = 1\n",
      " 2020-01-13 17:59:28,908 - DEBUG - i = 2, total = 2\n",
      " 2020-01-13 17:59:28,909 - DEBUG - i = 3, total = 6\n",
      " 2020-01-13 17:59:28,910 - DEBUG - i = 4, total = 24\n",
      " 2020-01-13 17:59:28,912 - DEBUG - i = 5, total = 120\n",
      " 2020-01-13 17:59:28,913 - DEBUG - factorial(5)終了\n",
      " 2020-01-13 17:59:28,915 - DEBUG - プログラム終了\n"
     ]
    },
    {
     "name": "stdout",
     "output_type": "stream",
     "text": [
      "120\n"
     ]
    }
   ],
   "source": [
    "import logging\n",
    "logging.basicConfig(level=logging.DEBUG, format=' %(asctime)s - %(levelname)s - %(message)s')\n",
    "logging.debug('プログラム開始')\n",
    "\n",
    "def factorial(n):\n",
    "    logging.debug('factorial({})開始'.format(n))\n",
    "    total = 1\n",
    "    for i in range(1,n+1):\n",
    "        total *= i\n",
    "        logging.debug('i = {}, total = {}'.format(i, total))\n",
    "    logging.debug('factorial({})終了'.format(n))\n",
    "    return total\n",
    "\n",
    "print(factorial(5))\n",
    "logging.debug('プログラム終了')"
   ]
  },
  {
   "cell_type": "markdown",
   "metadata": {},
   "source": [
    "### 10.4.3 ログレベル"
   ]
  },
  {
   "cell_type": "code",
   "execution_count": 6,
   "metadata": {},
   "outputs": [
    {
     "name": "stderr",
     "output_type": "stream",
     "text": [
      " 2020-01-13 17:59:31,325 - DEBUG - 1\n",
      " 2020-01-13 17:59:31,326 - INFO - 2\n",
      " 2020-01-13 17:59:31,328 - WARNING - 3\n",
      " 2020-01-13 17:59:31,330 - ERROR - 4\n",
      " 2020-01-13 17:59:31,332 - CRITICAL - 5\n"
     ]
    }
   ],
   "source": [
    "#ログメッセージを重要度によって分類することが可能\n",
    "\n",
    "logging.debug(1)\n",
    "logging.info(2)\n",
    "logging.warning(3)\n",
    "logging.error(4)\n",
    "logging.critical(5)"
   ]
  },
  {
   "cell_type": "markdown",
   "metadata": {},
   "source": [
    "### 10.4.4 ログを無効化する"
   ]
  },
  {
   "cell_type": "code",
   "execution_count": 7,
   "metadata": {},
   "outputs": [],
   "source": [
    "logging.disable(logging.DEBUG) #以降のlogging.DEBUGの表示をしないようにする"
   ]
  },
  {
   "cell_type": "markdown",
   "metadata": {},
   "source": [
    "## 10.8 演習プロジェクト"
   ]
  },
  {
   "cell_type": "markdown",
   "metadata": {},
   "source": [
    "### 10.8.1 コイン投げゲームのデバッグ"
   ]
  },
  {
   "cell_type": "code",
   "execution_count": 8,
   "metadata": {},
   "outputs": [
    {
     "name": "stdout",
     "output_type": "stream",
     "text": [
      "コインの表裏を当ててください。0(裏)か1(表)を入力してください\n",
      "0\n",
      "はずれ！もう一回当てて！\n",
      "1\n",
      "当たり！\n"
     ]
    }
   ],
   "source": [
    "import random\n",
    "import logging\n",
    "logging.basicConfig(level=logging.DEBUG, format=' %(asctime)s - %(levelname)s - %(message)s')\n",
    "logging.debug('プログラム開始')\n",
    "\n",
    "guess = ''\n",
    "while guess not in (0,1):\n",
    "    print('コインの表裏を当ててください。0(裏)か1(表)を入力してください')\n",
    "    guess=int(input())\n",
    "\n",
    "toss = random.randint(0, 1) # 0は裏、1は表\n",
    "logging.debug('{}が正解'.format(toss))\n",
    "if toss == guess:\n",
    "    print('当たり！')\n",
    "else:\n",
    "    print('はずれ！もう一回当てて！')\n",
    "    guess=int(input())\n",
    "    if toss == guess:\n",
    "        print('当たり！')\n",
    "    else:\n",
    "        print('はずれ。このゲームは苦手ですね。')"
   ]
  }
 ],
 "metadata": {
  "kernelspec": {
   "display_name": "Python 3",
   "language": "python",
   "name": "python3"
  },
  "language_info": {
   "codemirror_mode": {
    "name": "ipython",
    "version": 3
   },
   "file_extension": ".py",
   "mimetype": "text/x-python",
   "name": "python",
   "nbconvert_exporter": "python",
   "pygments_lexer": "ipython3",
   "version": "3.7.4"
  }
 },
 "nbformat": 4,
 "nbformat_minor": 2
}
