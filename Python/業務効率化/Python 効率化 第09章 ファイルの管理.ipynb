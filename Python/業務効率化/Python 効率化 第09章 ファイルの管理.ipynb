{
 "cells": [
  {
   "cell_type": "markdown",
   "metadata": {},
   "source": [
    "# 第9章 ファイルの管理"
   ]
  },
  {
   "cell_type": "markdown",
   "metadata": {},
   "source": [
    "## 9.1 Shutilモジュール\n",
    "### 9.1.1 ファイル・フォルダのコピー"
   ]
  },
  {
   "cell_type": "code",
   "execution_count": 1,
   "metadata": {},
   "outputs": [
    {
     "data": {
      "text/plain": [
       "'C:\\\\Users\\\\nakam\\\\Python\\\\Data\\\\Boring_Python\\\\9.1\\\\Hello2.txt'"
      ]
     },
     "execution_count": 1,
     "metadata": {},
     "output_type": "execute_result"
    }
   ],
   "source": [
    "#ファイルのコピー\n",
    "\n",
    "import os,shutil\n",
    "file='C:\\\\Users\\\\nakam\\\\Python\\\\Data\\\\Boring_Python\\\\9.1\\\\Hello.txt'\n",
    "folder='C:\\\\Users\\\\nakam\\\\Python\\\\Data\\\\Boring_Python\\\\9.1\\\\'\n",
    "\n",
    "shutil.copy(file,folder+'Hello2.txt') #ファイルを絶対パスへコピーする"
   ]
  },
  {
   "cell_type": "code",
   "execution_count": 2,
   "metadata": {},
   "outputs": [
    {
     "data": {
      "text/plain": [
       "'C:\\\\Users\\\\nakam\\\\Python\\\\Data\\\\Boring_Python\\\\9.1.1'"
      ]
     },
     "execution_count": 2,
     "metadata": {},
     "output_type": "execute_result"
    }
   ],
   "source": [
    "#フォルダ全体のコピー\n",
    "\n",
    "folder='C:\\\\Users\\\\nakam\\\\Python\\\\Data\\\\Boring_Python\\\\9.1'\n",
    "folder_2='C:\\\\Users\\\\nakam\\\\Python\\\\Data\\\\Boring_Python\\\\9.1.1'\n",
    "shutil.copytree(folder,folder_2)"
   ]
  },
  {
   "cell_type": "markdown",
   "metadata": {},
   "source": [
    "### 9.1.2 ファイル・フォルダの移動、名前の変更"
   ]
  },
  {
   "cell_type": "code",
   "execution_count": 3,
   "metadata": {},
   "outputs": [
    {
     "data": {
      "text/plain": [
       "'C:\\\\Users\\\\nakam\\\\Python\\\\Data\\\\Boring_Python\\\\9.1.2\\\\Hello2.txt'"
      ]
     },
     "execution_count": 3,
     "metadata": {},
     "output_type": "execute_result"
    }
   ],
   "source": [
    "#ファイルの移動\n",
    "\n",
    "import shutil\n",
    "file='C:\\\\Users\\\\nakam\\\\Python\\\\Data\\\\Boring_Python\\\\9.1\\\\Hello2.txt'\n",
    "folder_2='C:\\\\Users\\\\nakam\\\\Python\\\\Data\\\\Boring_Python\\\\9.1.2'\n",
    "shutil.move(file,folder_2) #フォルダを指定すると移動する"
   ]
  },
  {
   "cell_type": "code",
   "execution_count": 4,
   "metadata": {},
   "outputs": [
    {
     "data": {
      "text/plain": [
       "'C:\\\\Users\\\\nakam\\\\Python\\\\Data\\\\Boring_Python\\\\9.1.2\\\\Hello3.txt'"
      ]
     },
     "execution_count": 4,
     "metadata": {},
     "output_type": "execute_result"
    }
   ],
   "source": [
    "#名前の変更\n",
    "\n",
    "file='C:\\\\Users\\\\nakam\\\\Python\\\\Data\\\\Boring_Python\\\\9.1.2\\\\Hello2.txt'\n",
    "folder_2='C:\\\\Users\\\\nakam\\\\Python\\\\Data\\\\Boring_Python\\\\9.1.2\\\\'\n",
    "shutil.move(file,folder_2+'Hello3.txt') #ファイル名を指定すると、移動し、名前を変更する"
   ]
  },
  {
   "cell_type": "markdown",
   "metadata": {},
   "source": [
    "### 9.1.3 ファイルやフォルダを完全に削除する"
   ]
  },
  {
   "cell_type": "code",
   "execution_count": 5,
   "metadata": {},
   "outputs": [],
   "source": [
    "#os.unlink(path):pathに指定したファイルを削除\n",
    "#os.rmdir(path):空のフォルダを削除\n",
    "#shutil.rmtree(path):pathに指定したフォルダを削除し、その中のファイルも削除"
   ]
  },
  {
   "cell_type": "markdown",
   "metadata": {},
   "source": [
    "フォルダ内のtxtファイルを削除"
   ]
  },
  {
   "cell_type": "code",
   "execution_count": 6,
   "metadata": {},
   "outputs": [
    {
     "name": "stdout",
     "output_type": "stream",
     "text": [
      "Hello.txt\n",
      "Hello2.txt\n"
     ]
    }
   ],
   "source": [
    "import os\n",
    "\n",
    "folder='C:\\\\Users\\\\nakam\\\\Python\\\\Data\\\\Boring_Python\\\\9.1.1'\n",
    "for filename in os.listdir(folder):\n",
    "    if filename.endswith('.txt'): #.txtで終わるファイルのみを削除する\n",
    "        #os.unlink(filename) #削除に失敗しないようにコメントアウトし、print()を使用\n",
    "        print(filename)"
   ]
  },
  {
   "cell_type": "markdown",
   "metadata": {},
   "source": [
    "### 9.1.4 send2trashモジュール\n",
    "完全に削除せず、ゴミ箱に移動させる"
   ]
  },
  {
   "cell_type": "code",
   "execution_count": 7,
   "metadata": {},
   "outputs": [
    {
     "name": "stdout",
     "output_type": "stream",
     "text": [
      "Requirement already satisfied: send2trash in c:\\users\\nakam\\anaconda3\\lib\\site-packages (1.5.0)\n"
     ]
    }
   ],
   "source": [
    "!pip install send2trash"
   ]
  },
  {
   "cell_type": "code",
   "execution_count": 8,
   "metadata": {},
   "outputs": [],
   "source": [
    "folder='C:\\\\Users\\\\nakam\\\\Python\\\\Data\\\\Boring_Python\\\\9.1.1'\n",
    "\n",
    "import send2trash\n",
    "send2trash.send2trash(folder)"
   ]
  },
  {
   "cell_type": "markdown",
   "metadata": {},
   "source": [
    "## 9.2 ディレクトリツリーを渡り歩く"
   ]
  },
  {
   "cell_type": "code",
   "execution_count": 9,
   "metadata": {
    "scrolled": true
   },
   "outputs": [
    {
     "name": "stdout",
     "output_type": "stream",
     "text": [
      "The current folder is C:\\Users\\nakam\\Python\\Data\\Boring_Python\\9.1\n",
      "SUBFOLDER OF C:\\Users\\nakam\\Python\\Data\\Boring_Python\\9.1: 新しいフォルダー\n",
      "FILE INSIDE C:\\Users\\nakam\\Python\\Data\\Boring_Python\\9.1: Hello.txt\n",
      "\n",
      "The current folder is C:\\Users\\nakam\\Python\\Data\\Boring_Python\\9.1\\新しいフォルダー\n",
      "FILE INSIDE C:\\Users\\nakam\\Python\\Data\\Boring_Python\\9.1\\新しいフォルダー: Hello.txt\n",
      "\n"
     ]
    }
   ],
   "source": [
    "#フォルダ内を移動しながら、中にあるsubfolderとfileを出力するプログラム\n",
    "\n",
    "folder='C:\\\\Users\\\\nakam\\\\Python\\\\Data\\\\Boring_Python\\\\9.1'\n",
    "\n",
    "for foldername, subfolders, filenames in os.walk(folder):\n",
    "    print('The current folder is '+foldername)\n",
    "    \n",
    "    for subfolder in subfolders:\n",
    "        print('SUBFOLDER OF '+foldername+': '+subfolder)\n",
    "        \n",
    "    for filename in filenames:\n",
    "        print('FILE INSIDE '+foldername+': '+filename)\n",
    "        \n",
    "    print('')"
   ]
  },
  {
   "cell_type": "markdown",
   "metadata": {},
   "source": [
    "### 9.2.2 ZIPファイルの読み込み"
   ]
  },
  {
   "cell_type": "code",
   "execution_count": 10,
   "metadata": {},
   "outputs": [
    {
     "data": {
      "text/plain": [
       "['spam.txt', 'cats/', 'cats/catnames.txt', 'cats/zophie.jpg']"
      ]
     },
     "execution_count": 10,
     "metadata": {},
     "output_type": "execute_result"
    }
   ],
   "source": [
    "#Zipファイルを読み込み、ファイル名を出力\n",
    "\n",
    "import zipfile, os\n",
    "\n",
    "folder='C:\\\\Users\\\\nakam\\\\Python\\\\Data\\\\Boring_Python\\\\9.2.2'\n",
    "os.chdir(folder)\n",
    "\n",
    "example_zip=zipfile.ZipFile('example.zip') #ZipFileオブジェクトを作成\n",
    "example_zip.namelist() #namelistメソッドでファイル名、フォルダ名出力"
   ]
  },
  {
   "cell_type": "code",
   "execution_count": 11,
   "metadata": {},
   "outputs": [
    {
     "name": "stdout",
     "output_type": "stream",
     "text": [
      "13908\n",
      "3828\n"
     ]
    }
   ],
   "source": [
    "#ファイルサイズを出力\n",
    "\n",
    "spam_info=example_zip.getinfo('spam.txt')\n",
    "print(spam_info.file_size) #元のファイルサイズを出力\n",
    "print(spam_info.compress_size) #圧縮後のファイルサイズを出力\n",
    "\n",
    "example_zip.close()"
   ]
  },
  {
   "cell_type": "markdown",
   "metadata": {},
   "source": [
    "### 9.2.3 ZIPファイルを展開する"
   ]
  },
  {
   "cell_type": "code",
   "execution_count": 12,
   "metadata": {},
   "outputs": [],
   "source": [
    "#すべてのファイルを展開\n",
    "\n",
    "folder='C:\\\\Users\\\\nakam\\\\Python\\\\Data\\\\Boring_Python\\\\9.2.2'\n",
    "folder_2='C:\\\\Users\\\\nakam\\\\Python\\\\Data\\\\Boring_Python\\\\9.2.3'\n",
    "os.chdir(folder)\n",
    "\n",
    "example_zip=zipfile.ZipFile('example.zip') #ZipFileオブジェクトを作成\n",
    "example_zip.extractall(folder_2) #extractall()メソッドでファイルを展開"
   ]
  },
  {
   "cell_type": "code",
   "execution_count": 13,
   "metadata": {},
   "outputs": [],
   "source": [
    "#特定のファイルのみ展開\n",
    "\n",
    "example_zip.extract('spam.txt',folder_2) #extract()メソッドでファイルを展開\n",
    "example_zip.close()"
   ]
  },
  {
   "cell_type": "code",
   "execution_count": 14,
   "metadata": {},
   "outputs": [
    {
     "data": {
      "text/plain": [
       "False"
      ]
     },
     "execution_count": 14,
     "metadata": {},
     "output_type": "execute_result"
    }
   ],
   "source": [
    "#パスが存在し、それがフォルダであればTrueを返す\n",
    "\n",
    "file='C:\\\\Users\\\\nakam\\\\Python\\\\Data\\\\Boring_Python\\\\8.2.1\\\\Hello.txt'\n",
    "os.path.isdir(file)"
   ]
  },
  {
   "cell_type": "markdown",
   "metadata": {},
   "source": [
    "### 9.2.4 Zipファイルを作成・追加"
   ]
  },
  {
   "cell_type": "code",
   "execution_count": 15,
   "metadata": {},
   "outputs": [],
   "source": [
    "new_file='C:\\\\Users\\\\nakam\\\\Python\\\\Data\\\\Boring_Python\\\\9.2.4\\\\new.zip'\n",
    "file='C:\\\\Users\\\\nakam\\\\Python\\\\Data\\\\Boring_Python\\\\9.2.4\\\\spam.txt'\n",
    "\n",
    "new_zip=zipfile.ZipFile(new_file,'w')\n",
    "new_zip.write(file,compress_type=zipfile.ZIP_DEFLATED) #ZIP_DEFLATEDは圧縮アルゴリズム\n",
    "new_zip.close()"
   ]
  },
  {
   "cell_type": "markdown",
   "metadata": {},
   "source": [
    "## 9.3 プロジェクト：米国式日付を欧州式に変換"
   ]
  },
  {
   "cell_type": "code",
   "execution_count": 16,
   "metadata": {},
   "outputs": [
    {
     "name": "stdout",
     "output_type": "stream",
     "text": [
      "Renaming \"Hello_01-03-2014.txt\" to \"Hello_03-01-2014.txt\"...\n",
      "Renaming \"Hello_4-4-1984.txt\" to \"Hello_4-4-1984.txt\"...\n"
     ]
    }
   ],
   "source": [
    "#フォルダ内の米国式日付MM-DD-YYYYのファイル名を欧州式DD-MM-YYYYに書き換える\n",
    "\n",
    "import shutil, os, re \n",
    "\n",
    "# 米国式日付のファイル名にマッチする正規表現を作る\n",
    "\n",
    "date_pattern = re.compile(r\"\"\"^(.*?) # 日付の前の全テキスト\n",
    "    ((0|1)?\\d)-                      # 月を表す1,2桁の数字\n",
    "    ((0|1|2|3)?\\d)-                  # 日を表す1,2桁の数字\n",
    "    ((19|20)\\d\\d)                    # 年を表す4桁の数字\n",
    "    (.*?)$                           # 日付の後の全テキスト\n",
    "    \"\"\", re.VERBOSE)\n",
    "\n",
    "# カレントディレクトリの全ファイルをループする。\n",
    "folder='C:\\\\Users\\\\nakam\\\\Python\\\\Data\\\\Boring_Python\\\\9.3'\n",
    "\n",
    "for amer_filename in os.listdir(folder):\n",
    "    mo = date_pattern.search(amer_filename)\n",
    " \n",
    "    # 日付のないファイルをスキップする。\n",
    "    if mo == None: \n",
    "        continue\n",
    "    \n",
    "    # ファイル名を部分分解する。\n",
    "    before_part = mo.group(1)\n",
    "    month_part = mo.group(2)\n",
    "    day_part = mo.group(4)\n",
    "    year_part = mo.group(6)\n",
    "    after_part = mo.group(8)\n",
    "\n",
    "    # 欧州式の日付のファイル名を作る。\n",
    "    euro_filename = before_part + day_part + '-' + month_part + '-' + \\\n",
    "                    year_part + after_part\n",
    "\n",
    "    # ファイル名を変更する。\n",
    "    print('Renaming \"{}\" to \"{}\"...'.format(amer_filename, euro_filename))\n",
    "    #shutil.move(amer_filename, euro_filename)  # テスト後にコメントをはずす"
   ]
  },
  {
   "cell_type": "markdown",
   "metadata": {},
   "source": [
    "## 9.4 フォルダをZipファイルにバックアップする"
   ]
  },
  {
   "cell_type": "code",
   "execution_count": 17,
   "metadata": {
    "scrolled": true
   },
   "outputs": [
    {
     "name": "stdout",
     "output_type": "stream",
     "text": [
      "zip = 9.4_1.zip\n",
      "zip = 9.4_2.zip\n",
      "zip = 9.4_3.zip\n",
      "Creating 9.4_3.zip...\n",
      "Adding files in C:\\Users\\nakam\\Python\\Data\\Boring_Python\\9.4...\n",
      "Adding files in C:\\Users\\nakam\\Python\\Data\\Boring_Python\\9.4\\新しいフォルダー...\n",
      "Adding files in C:\\Users\\nakam\\Python\\Data\\Boring_Python\\9.4\\新しいフォルダー - コピー...\n",
      "Adding files in C:\\Users\\nakam\\Python\\Data\\Boring_Python\\9.4\\新しいフォルダー - コピー (2)...\n",
      "Done.\n"
     ]
    }
   ],
   "source": [
    "#フォルダ全体を連番付きZIPファイルにコピーする\n",
    "#すでにファイルが存在している場合はファイル名を+!とする\n",
    "\n",
    "import zipfile, os\n",
    "\n",
    "def backup_to_zip(folder):\n",
    "    # フォルダ全体をZIPファイルにバックアップする\n",
    "    folder = os.path.abspath(folder) # folderを絶対パスにする\n",
    "    os.chdir(folder) #カレントディレクトリを変更\n",
    "\n",
    "    # 既存のファイル名からファイル名の連番を決める\n",
    "    number = 1 \n",
    "    while True:\n",
    "        zip_filename = os.path.basename(folder) + '_' + str(number) + '.zip'\n",
    "        print(\"zip = \" + zip_filename)\n",
    "        if not os.path.exists(zip_filename):\n",
    "            break\n",
    "        number = number + 1\n",
    "\n",
    "    # ZIPファイルを作成する\n",
    "    print('Creating {}...'.format(zip_filename))\n",
    "    backup_zip = zipfile.ZipFile(zip_filename, 'w') \n",
    "\n",
    "    # フォルダのツリーを渡り歩いてその中のファイルを圧縮する\n",
    "    for foldername, subfolders, filenames in os.walk(folder): \n",
    "        print('Adding files in {}...'.format(foldername))\n",
    "        # 現在のフォルダをZIPファイルに追加する\n",
    "        backup_zip.write(foldername)\n",
    "        # 現在のフォルダの中の全ファイルをZIPファイルに追加する\n",
    "        for filename in filenames: \n",
    "            new_base = os.path.basename(folder) + '_'\n",
    "            if filename.startswith(new_base) and filename.endswith('.zip'):\n",
    "                continue # バックアップ用ZIPファイルはバックアップしない\n",
    "            backup_zip.write(os.path.join(foldername, filename))\n",
    "    backup_zip.close()\n",
    "    print('Done.')\n",
    "\n",
    "backup_to_zip('C:\\\\Users\\\\nakam\\\\Python\\\\Data\\\\Boring_Python\\\\9.4')"
   ]
  },
  {
   "cell_type": "markdown",
   "metadata": {},
   "source": [
    "## 9.7 演習プロジェクト\n",
    "### 9.7.1 選択コピー"
   ]
  },
  {
   "cell_type": "code",
   "execution_count": 18,
   "metadata": {},
   "outputs": [
    {
     "name": "stdout",
     "output_type": "stream",
     "text": [
      "Copying delicious\\cats\\zophie.jpg -> copy\n"
     ]
    }
   ],
   "source": [
    "#フォルダの中の特定の拡張子のファイルをフォルダにコピーする\n",
    "\n",
    "import os\n",
    "import shutil\n",
    "\n",
    "def walk_copy(folder, ext, dst):\n",
    "    ''' folder以下にある拡張子がextのファイルを、dstにコピーする\n",
    "        dstがなければ作成する'''\n",
    "    os.makedirs(dst, exist_ok=True)\n",
    "    lower_ext = ext.lower()\n",
    "    for foldername, subfolders, filenames in os.walk(folder):\n",
    "        for filename in filenames:\n",
    "            if filename.lower().endswith(lower_ext):\n",
    "                print('Copying', os.path.join(foldername, filename), '->', dst)\n",
    "                shutil.copy(os.path.join(foldername, filename), dst)\n",
    "\n",
    "folder_pass='C:\\\\Users\\\\nakam\\\\Python\\\\Data\\\\Boring_Python\\\\9.7.1'                \n",
    "os.chdir(folder_pass)\n",
    "walk_copy('delicious','.jpg','copy')"
   ]
  },
  {
   "cell_type": "markdown",
   "metadata": {},
   "source": [
    "### 9.7.2 巨大なファイルを探す"
   ]
  },
  {
   "cell_type": "code",
   "execution_count": 19,
   "metadata": {},
   "outputs": [],
   "source": [
    "#フォルダの中の100MBを超えるファイルを捜索\n",
    "\n",
    "import os\n",
    "import os.path\n",
    "\n",
    "def find_huge_files(folder, min_size=100000000):\n",
    "    ''' folder以下のmin_sizeを超えるファイルを検索して表示 '''\n",
    "    for foldername, subfolders, filenames in os.walk(folder):\n",
    "        for filename in filenames:\n",
    "            abs_path = os.path.join(foldername, filename)\n",
    "            try:\n",
    "                size = os.path.getsize(abs_path)\n",
    "                if size > min_size:\n",
    "                    print('Found', abs_path, '(', str(size), 'bytes )')\n",
    "            except:\n",
    "                pass\n",
    "\n",
    "folder='C:\\\\Users\\\\nakam\\\\Python'\n",
    "find_huge_files(folder)"
   ]
  },
  {
   "cell_type": "markdown",
   "metadata": {},
   "source": [
    "### 9.7.3 連番の飛びを埋める"
   ]
  },
  {
   "cell_type": "code",
   "execution_count": 20,
   "metadata": {},
   "outputs": [
    {
     "name": "stdout",
     "output_type": "stream",
     "text": [
      "Missing spam03.txt\n",
      "Missing spam04.txt\n",
      "Missing spam07.txt\n",
      "Missing spam09.txt\n",
      "Missing spam10.txt\n",
      "Missing spam11.txt\n",
      "Missing spam12.txt\n",
      "Rename C:\\Users\\nakam\\Python\\Data\\Boring_Python\\9.7.3\\spam1.txt -> C:\\Users\\nakam\\Python\\Data\\Boring_Python\\9.7.3\\spam01.txt\n",
      "Rename C:\\Users\\nakam\\Python\\Data\\Boring_Python\\9.7.3\\spam2.txt -> C:\\Users\\nakam\\Python\\Data\\Boring_Python\\9.7.3\\spam02.txt\n",
      "Rename C:\\Users\\nakam\\Python\\Data\\Boring_Python\\9.7.3\\spam5.txt -> C:\\Users\\nakam\\Python\\Data\\Boring_Python\\9.7.3\\spam03.txt\n",
      "Rename C:\\Users\\nakam\\Python\\Data\\Boring_Python\\9.7.3\\spam6.txt -> C:\\Users\\nakam\\Python\\Data\\Boring_Python\\9.7.3\\spam04.txt\n",
      "Rename C:\\Users\\nakam\\Python\\Data\\Boring_Python\\9.7.3\\spam8.txt -> C:\\Users\\nakam\\Python\\Data\\Boring_Python\\9.7.3\\spam05.txt\n",
      "Rename C:\\Users\\nakam\\Python\\Data\\Boring_Python\\9.7.3\\spam13.txt -> C:\\Users\\nakam\\Python\\Data\\Boring_Python\\9.7.3\\spam06.txt\n"
     ]
    }
   ],
   "source": [
    "#ファイルの番号の飛びを埋めるようファイル名を変更するプログラム\n",
    "#番号には最大桁数を考慮して、0を加える\n",
    "\n",
    "import os\n",
    "import re\n",
    "import shutil\n",
    "\n",
    "def find_skiped_files(folder, prefix, rename=False):\n",
    "    ''' folderの中のprefixから始まるファイルの連番の飛びを調べる。\n",
    "        renameがTrueなら、飛びを埋めるようにファイル名を変更する。\n",
    "    '''\n",
    "    files = {}         # { 連番: 元ファイル名 } \n",
    "    max_digit_len = 0  # 連番の最大の長さ\n",
    "    rest = ''          # 残りのファイル名 (例 spam001.txtなら、'.txt')\n",
    "\n",
    "    # 「prefix 連番 残り」を検索\n",
    "    pattern = re.compile('^' + prefix + r'(\\d+)(.*)')\n",
    "    for filename in os.listdir(folder):\n",
    "        mo = pattern.search(filename)\n",
    "        if not mo:\n",
    "            continue\n",
    "        files[int(mo.group(1))] = filename #一度整数に変換\n",
    "        max_digit_len = max(max_digit_len, len(mo.group(1))) #数値の最大桁数を取得\n",
    "        rest = mo.group(2)\n",
    "\n",
    "    # マッチするファイルがなければ終了\n",
    "    if len(files) == 0:\n",
    "        return\n",
    "\n",
    "    # 連番を小さい順に並べる\n",
    "    org_index = sorted(files.keys())\n",
    "    start = org_index[0]\n",
    "    end = org_index[-1]\n",
    "    # 連番の飛びを調べる\n",
    "    for n in range(start, end + 1):\n",
    "        if not n in files:\n",
    "            print('Missing', prefix + str(n).rjust(max_digit_len, '0') + rest)\n",
    "\n",
    "    # 飛びを埋めるようにファイル名を変更する\n",
    "    if rename:\n",
    "        for n,ind in enumerate(org_index): #インデックス番号、要素の順に取得可能\n",
    "            # 新しいファイル名を作る\n",
    "            new_filename = prefix + str(start + n).rjust(max_digit_len, '0') + rest #r.justで数字の最大桁数に合わせる\n",
    "            # 元のファイルと同じなら何もしない\n",
    "            if new_filename == files[ind]:\n",
    "                continue\n",
    "            # ファイル名を変更する\n",
    "            print('Rename', os.path.join(folder, files[ind]), \n",
    "                  '->', os.path.join(folder, new_filename))\n",
    "            #shutil.move(os.path.join(folder, files[ind]), \n",
    "            #            os.path.join(folder, new_filename))\n",
    "\n",
    "seqfiles='C:\\\\Users\\\\nakam\\\\Python\\\\Data\\\\Boring_Python\\\\9.7.3'\n",
    "find_skiped_files(seqfiles, 'spam', rename=True)"
   ]
  },
  {
   "cell_type": "markdown",
   "metadata": {},
   "source": [
    "連番の飛びを作成するプログラムは以下"
   ]
  },
  {
   "cell_type": "code",
   "execution_count": 21,
   "metadata": {},
   "outputs": [
    {
     "name": "stdout",
     "output_type": "stream",
     "text": [
      "Rename C:\\Users\\nakam\\Python\\Data\\Boring_Python\\9.7.3.2\\spam6.txt -> C:\\Users\\nakam\\Python\\Data\\Boring_Python\\9.7.3.2\\spam8.txt\n",
      "Rename C:\\Users\\nakam\\Python\\Data\\Boring_Python\\9.7.3.2\\spam5.txt -> C:\\Users\\nakam\\Python\\Data\\Boring_Python\\9.7.3.2\\spam7.txt\n",
      "Rename C:\\Users\\nakam\\Python\\Data\\Boring_Python\\9.7.3.2\\spam4.txt -> C:\\Users\\nakam\\Python\\Data\\Boring_Python\\9.7.3.2\\spam6.txt\n",
      "Rename C:\\Users\\nakam\\Python\\Data\\Boring_Python\\9.7.3.2\\spam3.txt -> C:\\Users\\nakam\\Python\\Data\\Boring_Python\\9.7.3.2\\spam5.txt\n"
     ]
    }
   ],
   "source": [
    "#ファイル番号を後ろから変更していく\n",
    "\n",
    "import os\n",
    "import re\n",
    "import shutil\n",
    "\n",
    "def insert_gap(folder, prefix, before, gap):\n",
    "    ''' folderの中のprefixから始まる連番ファイルで、\n",
    "        beforeの前にgapの数の隙間を開け、以降の連番をずらす。\n",
    "    '''\n",
    "    files = {}         # { 連番: 元ファイル名 } \n",
    "    max_digit_len = 0  # 連番の最大の長さ\n",
    "    rest = ''          # 残りのファイル名 (例 spam001.txtなら、'.txt')\n",
    "\n",
    "    # 「prefix 連番 残り」を検索\n",
    "    pattern = re.compile('^' + prefix + r'(\\d+)(.*)')\n",
    "    for filename in os.listdir(folder):\n",
    "        mo = pattern.search(filename)\n",
    "        if not mo:\n",
    "            continue\n",
    "        files[int(mo.group(1))] = filename\n",
    "        max_digit_len = max(max_digit_len, len(mo.group(1)))\n",
    "        rest = mo.group(2)\n",
    "\n",
    "    # マッチするファイルがなければ終了\n",
    "    if len(files) == 0:\n",
    "        return\n",
    "\n",
    "    # 連番を小さい順に並べる\n",
    "    org_index = sorted(files.keys())\n",
    "\n",
    "    # beforeに指定した連番が存在しなければ例外\n",
    "    if not before in org_index:\n",
    "        raise Exception('No sequence number that is spacified by before=' + str(before))\n",
    "\n",
    "    # 隙間を空ける場所\n",
    "    before_ind = org_index.index(before)\n",
    "\n",
    "    # 連番の大きい順にファイル名を変更する\n",
    "    for n in range(len(org_index) - 1, before_ind - 1, -1):\n",
    "        # 連番をgap増やした新しいファイル名を作る\n",
    "        new_filename = prefix + str(org_index[n] + gap).rjust(max_digit_len, '0') + rest\n",
    "        # 元のファイルと同じなら何もしない\n",
    "        if new_filename == files[org_index[n]]:\n",
    "            continue\n",
    "        # ファイル名を変更する\n",
    "        print('Rename', os.path.join(folder, files[org_index[n]]), \n",
    "              '->', os.path.join(folder, new_filename))\n",
    "        #shutil.move(os.path.join(folder, files[org_index[n]]), \n",
    "        #           os.path.join(folder, new_filename))\n",
    "        \n",
    "seqfiles='C:\\\\Users\\\\nakam\\\\Python\\\\Data\\\\Boring_Python\\\\9.7.3.2'\n",
    "insert_gap(seqfiles, 'spam',3 ,2)"
   ]
  }
 ],
 "metadata": {
  "kernelspec": {
   "display_name": "Python 3",
   "language": "python",
   "name": "python3"
  },
  "language_info": {
   "codemirror_mode": {
    "name": "ipython",
    "version": 3
   },
   "file_extension": ".py",
   "mimetype": "text/x-python",
   "name": "python",
   "nbconvert_exporter": "python",
   "pygments_lexer": "ipython3",
   "version": "3.7.4"
  }
 },
 "nbformat": 4,
 "nbformat_minor": 2
}
