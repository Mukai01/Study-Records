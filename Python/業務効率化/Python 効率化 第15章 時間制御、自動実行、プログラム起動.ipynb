{
 "cells": [
  {
   "cell_type": "markdown",
   "metadata": {},
   "source": [
    "# 第15章 時間制御、自動実行、プログラム起動\n",
    "## 15.1 timeモジュール\n",
    "### 15.1.1 time.time()関数"
   ]
  },
  {
   "cell_type": "code",
   "execution_count": 1,
   "metadata": {},
   "outputs": [
    {
     "data": {
      "text/plain": [
       "1579966877.6162114"
      ]
     },
     "execution_count": 1,
     "metadata": {},
     "output_type": "execute_result"
    }
   ],
   "source": [
    "#1970年1月1日0:00 UTCをUNIXエポックという\n",
    "#time.time()関数はUNIXエポックからの経過秒数を表す\n",
    "\n",
    "import time\n",
    "time.time()"
   ]
  },
  {
   "cell_type": "code",
   "execution_count": 2,
   "metadata": {},
   "outputs": [
    {
     "name": "stdout",
     "output_type": "stream",
     "text": [
      "計算結果は456569桁です\n",
      "計算時間は5.3098204135894775秒です\n"
     ]
    }
   ],
   "source": [
    "#プログラムの時間を計測\n",
    "\n",
    "import time\n",
    "def calc_prod():\n",
    "    #1-99999の積を求める\n",
    "    product=1\n",
    "    for i in range(1,100000):\n",
    "        product=product*i\n",
    "    return product\n",
    "\n",
    "start_time=time.time()\n",
    "prod=calc_prod()\n",
    "end_time=time.time()\n",
    "print('計算結果は{}桁です'.format(len(str(prod))))\n",
    "print('計算時間は{}秒です'.format(end_time-start_time))"
   ]
  },
  {
   "cell_type": "markdown",
   "metadata": {},
   "source": [
    "### 15.1.2 time.sleep()関数"
   ]
  },
  {
   "cell_type": "code",
   "execution_count": 3,
   "metadata": {},
   "outputs": [
    {
     "name": "stdout",
     "output_type": "stream",
     "text": [
      "Tick\n",
      "Tock\n",
      "Tick\n",
      "Tock\n",
      "Tick\n",
      "Tock\n"
     ]
    }
   ],
   "source": [
    "#指定時間停止\n",
    "\n",
    "for i in range(3):\n",
    "    print('Tick')\n",
    "    time.sleep(1)\n",
    "    print('Tock')\n",
    "    time.sleep(1)"
   ]
  },
  {
   "cell_type": "markdown",
   "metadata": {},
   "source": [
    "## 15.2 数の四捨五入\n",
    "round()で四捨五入可能"
   ]
  },
  {
   "cell_type": "code",
   "execution_count": 4,
   "metadata": {},
   "outputs": [
    {
     "name": "stdout",
     "output_type": "stream",
     "text": [
      "1579966902.3591893\n",
      "1579966902.36\n"
     ]
    }
   ],
   "source": [
    "now=time.time()\n",
    "print(now)\n",
    "print(round(now,2))"
   ]
  },
  {
   "cell_type": "markdown",
   "metadata": {},
   "source": [
    "## 15.3 プロジェクト : スーパーストップウォッチ"
   ]
  },
  {
   "cell_type": "code",
   "execution_count": 5,
   "metadata": {},
   "outputs": [
    {
     "name": "stdout",
     "output_type": "stream",
     "text": [
      "Enterを押すと開始します。その後、Enterを押せば経過時間を表示します。finishと入力すると終了。\n",
      "\n",
      "スタート\n",
      "\n",
      "ラップ #1: 1.4 (1.4)\n",
      "ラップ #2: 2.78 (1.38)finish\n"
     ]
    }
   ],
   "source": [
    "import time\n",
    "\n",
    "# プログラムの説明を表示する\n",
    "print('Enterを押すと開始します。その後、Enterを押せば経過時間を表示します。finishと入力すると終了。')\n",
    "input()                    # Enterを押すと開始\n",
    "print('スタート')\n",
    "start_time = time.time()   # プログラムと最初のラップの開始時間\n",
    "last_time = start_time\n",
    "lap_num = 1\n",
    "\n",
    "# ラップタイムを計測する\n",
    "while True:\n",
    "    a=input()\n",
    "    if a=='finish':\n",
    "        break\n",
    "            \n",
    "    now = time.time()\n",
    "    lap_time = round(now - last_time, 2)\n",
    "    total_time = round(now - start_time, 2)\n",
    "    print('ラップ #{}: {} ({})'.format(lap_num, total_time, lap_time), end='')\n",
    "    lap_num += 1\n",
    "    last_time = now #ラップタイムをリセット"
   ]
  },
  {
   "cell_type": "markdown",
   "metadata": {},
   "source": [
    "## 15.4 datetimeモジュール"
   ]
  },
  {
   "cell_type": "code",
   "execution_count": 6,
   "metadata": {},
   "outputs": [
    {
     "data": {
      "text/plain": [
       "datetime.datetime(2020, 1, 26, 0, 41, 54, 54122)"
      ]
     },
     "execution_count": 6,
     "metadata": {},
     "output_type": "execute_result"
    }
   ],
   "source": [
    "#現在の日付と時間を出力する\n",
    "\n",
    "import datetime\n",
    "datetime.datetime.now()"
   ]
  },
  {
   "cell_type": "code",
   "execution_count": 7,
   "metadata": {},
   "outputs": [
    {
     "data": {
      "text/plain": [
       "(2020, 1, 26)"
      ]
     },
     "execution_count": 7,
     "metadata": {},
     "output_type": "execute_result"
    }
   ],
   "source": [
    "dt=datetime.datetime.now()\n",
    "dt.year,dt.month,dt.day"
   ]
  },
  {
   "cell_type": "code",
   "execution_count": 8,
   "metadata": {},
   "outputs": [
    {
     "data": {
      "text/plain": [
       "(0, 41, 55)"
      ]
     },
     "execution_count": 8,
     "metadata": {},
     "output_type": "execute_result"
    }
   ],
   "source": [
    "dt.hour,dt.minute,dt.second"
   ]
  },
  {
   "cell_type": "code",
   "execution_count": 9,
   "metadata": {},
   "outputs": [
    {
     "data": {
      "text/plain": [
       "datetime.datetime(1970, 1, 1, 9, 16, 40)"
      ]
     },
     "execution_count": 9,
     "metadata": {},
     "output_type": "execute_result"
    }
   ],
   "source": [
    "#UNIXエポックからの時間を日付に変換\n",
    "\n",
    "datetime.datetime.fromtimestamp(1000)"
   ]
  },
  {
   "cell_type": "code",
   "execution_count": 10,
   "metadata": {},
   "outputs": [
    {
     "data": {
      "text/plain": [
       "True"
      ]
     },
     "execution_count": 10,
     "metadata": {},
     "output_type": "execute_result"
    }
   ],
   "source": [
    "#日付同士の比較が可能\n",
    "\n",
    "halloween2015=datetime.datetime(2015,10,31,0,0,0)\n",
    "newyears2016=datetime.datetime(2016,1,1,0,0,0)\n",
    "\n",
    "halloween2015<newyears2016"
   ]
  },
  {
   "cell_type": "markdown",
   "metadata": {},
   "source": [
    "### 15.4.1 timedeltaデータ型"
   ]
  },
  {
   "cell_type": "code",
   "execution_count": 11,
   "metadata": {},
   "outputs": [
    {
     "data": {
      "text/plain": [
       "(11, 36548, 0)"
      ]
     },
     "execution_count": 11,
     "metadata": {},
     "output_type": "execute_result"
    }
   ],
   "source": [
    "#datetime : 瞬間を表す\n",
    "#timedelta : 期間をあら明日\n",
    "\n",
    "delta=datetime.timedelta(days=11, hours=10, minutes=9, seconds=8)\n",
    "delta.days, delta.seconds, delta.microseconds"
   ]
  },
  {
   "cell_type": "code",
   "execution_count": 12,
   "metadata": {},
   "outputs": [
    {
     "data": {
      "text/plain": [
       "986948.0"
      ]
     },
     "execution_count": 12,
     "metadata": {},
     "output_type": "execute_result"
    }
   ],
   "source": [
    "delta.total_seconds() #秒のみで出力"
   ]
  },
  {
   "cell_type": "code",
   "execution_count": 13,
   "metadata": {},
   "outputs": [
    {
     "data": {
      "text/plain": [
       "'11 days, 10:09:08'"
      ]
     },
     "execution_count": 13,
     "metadata": {},
     "output_type": "execute_result"
    }
   ],
   "source": [
    "str(delta) #人間が読める文字列に整形"
   ]
  },
  {
   "cell_type": "code",
   "execution_count": 14,
   "metadata": {},
   "outputs": [
    {
     "data": {
      "text/plain": [
       "datetime.datetime(2022, 10, 22, 0, 42, 2, 95756)"
      ]
     },
     "execution_count": 14,
     "metadata": {},
     "output_type": "execute_result"
    }
   ],
   "source": [
    "#現在から1000日後を計算\n",
    "dt=datetime.datetime.now()\n",
    "thousand_days=datetime.timedelta(days=1000)\n",
    "dt+thousand_days"
   ]
  },
  {
   "cell_type": "markdown",
   "metadata": {},
   "source": [
    "### 15.4.2 特定の日付まで一時停止する"
   ]
  },
  {
   "cell_type": "code",
   "execution_count": 15,
   "metadata": {},
   "outputs": [
    {
     "name": "stdout",
     "output_type": "stream",
     "text": [
      "終了\n"
     ]
    }
   ],
   "source": [
    "now=datetime.datetime.now()\n",
    "ten_seconds=datetime.timedelta(seconds=10)\n",
    "\n",
    "stop_date=now+ten_seconds\n",
    "while datetime.datetime.now()<stop_date: #stop_dateまでプログラムを停止する\n",
    "    time.sleep(1)\n",
    "print('終了')"
   ]
  },
  {
   "cell_type": "markdown",
   "metadata": {},
   "source": [
    "### 15.4.3 datetimeオブジェクトを文字列に変換する"
   ]
  },
  {
   "cell_type": "code",
   "execution_count": 16,
   "metadata": {},
   "outputs": [],
   "source": [
    "# %Y : 4桁の西暦(2014)\n",
    "# %y : 西暦の下二桁(00-99)\n",
    "# %m : 10進数による月(01-12)\n",
    "# %B : 月名(November)\n",
    "# %b : 月の略称(Nov)\n",
    "# %d : 日(01-31)\n",
    "# %j : 年初からの日数(001-366)\n",
    "# %w : 曜日(0 日曜- 6 土曜)\n",
    "# %A : 曜日名(Monday)\n",
    "# %a : 曜日の略称(Mon)\n",
    "# %H : 時(24時間制)(00-23)\n",
    "# %I : 時(12時間制)(01-12)\n",
    "# %M : 分(00-59)\n",
    "# %S : 秒(00-59)\n",
    "# %p : AM or PM\n",
    "# %% : %文字"
   ]
  },
  {
   "cell_type": "code",
   "execution_count": 17,
   "metadata": {},
   "outputs": [
    {
     "data": {
      "text/plain": [
       "'2020/01/26 00:42:20'"
      ]
     },
     "execution_count": 17,
     "metadata": {},
     "output_type": "execute_result"
    }
   ],
   "source": [
    "now=datetime.datetime.now()\n",
    "now.strftime('%Y/%m/%d %H:%M:%S')"
   ]
  },
  {
   "cell_type": "code",
   "execution_count": 18,
   "metadata": {},
   "outputs": [
    {
     "data": {
      "text/plain": [
       "'12:42 AM'"
      ]
     },
     "execution_count": 18,
     "metadata": {},
     "output_type": "execute_result"
    }
   ],
   "source": [
    "now.strftime('%I:%M %p')"
   ]
  },
  {
   "cell_type": "code",
   "execution_count": 19,
   "metadata": {},
   "outputs": [
    {
     "data": {
      "text/plain": [
       "'January of 20'"
      ]
     },
     "execution_count": 19,
     "metadata": {},
     "output_type": "execute_result"
    }
   ],
   "source": [
    "now.strftime('%B of %y')"
   ]
  },
  {
   "cell_type": "markdown",
   "metadata": {},
   "source": [
    "### 15.4.4 文字列をdatetimeオブジェクトに変換する"
   ]
  },
  {
   "cell_type": "code",
   "execution_count": 20,
   "metadata": {},
   "outputs": [
    {
     "data": {
      "text/plain": [
       "datetime.datetime(2015, 10, 21, 0, 0)"
      ]
     },
     "execution_count": 20,
     "metadata": {},
     "output_type": "execute_result"
    }
   ],
   "source": [
    "datetime.datetime.strptime('October 21, 2015', '%B %d, %Y')"
   ]
  },
  {
   "cell_type": "code",
   "execution_count": 21,
   "metadata": {},
   "outputs": [
    {
     "data": {
      "text/plain": [
       "datetime.datetime(2015, 10, 21, 16, 29)"
      ]
     },
     "execution_count": 21,
     "metadata": {},
     "output_type": "execute_result"
    }
   ],
   "source": [
    "datetime.datetime.strptime('2015/10/21 16:29:00','%Y/%m/%d %H:%M:%S')"
   ]
  },
  {
   "cell_type": "code",
   "execution_count": 22,
   "metadata": {},
   "outputs": [
    {
     "data": {
      "text/plain": [
       "datetime.datetime(2015, 10, 1, 0, 0)"
      ]
     },
     "execution_count": 22,
     "metadata": {},
     "output_type": "execute_result"
    }
   ],
   "source": [
    "datetime.datetime.strptime('October of 15','%B of %y')"
   ]
  },
  {
   "cell_type": "markdown",
   "metadata": {},
   "source": [
    "## 15.6 マルチスレッド"
   ]
  },
  {
   "cell_type": "code",
   "execution_count": 23,
   "metadata": {},
   "outputs": [
    {
     "name": "stdout",
     "output_type": "stream",
     "text": [
      "プログラム開始\n",
      "プログラム終了\n"
     ]
    }
   ],
   "source": [
    "import threading, time\n",
    "print('プログラム開始')\n",
    "\n",
    "def take_a_nap():\n",
    "    time.sleep(5)\n",
    "    print('起きた')\n",
    "    \n",
    "thread_obj=threading.Thread(target=take_a_nap) #take_a_nap関数呼び出し\n",
    "thread_obj.start() #スレッドを新規作成し、スレッド上で関数をスタート\n",
    "\n",
    "print('プログラム終了')"
   ]
  },
  {
   "cell_type": "markdown",
   "metadata": {},
   "source": [
    "### 15.6.1 スレッドの対象関数に引数を渡す"
   ]
  },
  {
   "cell_type": "code",
   "execution_count": 24,
   "metadata": {},
   "outputs": [
    {
     "name": "stdout",
     "output_type": "stream",
     "text": [
      "Cats ＆ Dogs ＆ Frogs\n",
      "Cats ＆ Dogs ＆ Frogs\n"
     ]
    }
   ],
   "source": [
    "#以下関数をスレッドに渡す方法\n",
    "print('Cats','Dogs','Frogs',sep=' ＆ ')\n",
    "\n",
    "#引数はargsに、キーワード引数はkargsに渡す\n",
    "import threading, time\n",
    "thread_obj=threading.Thread(target=print, args=['Cats','Dogs','Frogs'],kwargs={'sep': ' ＆ '})\n",
    "thread_obj.start()"
   ]
  },
  {
   "cell_type": "markdown",
   "metadata": {},
   "source": [
    "### 15.6.2 並行処理問題"
   ]
  },
  {
   "cell_type": "code",
   "execution_count": 25,
   "metadata": {},
   "outputs": [
    {
     "name": "stdout",
     "output_type": "stream",
     "text": [
      "起きた\n"
     ]
    }
   ],
   "source": [
    "#新しいThreadオブジェクトを生成したら、対象の関数はその関数の中で定義されたローカル変数だけをつかうことにする\n",
    "#同じ変数を読み書きすると、デバッグが困難になる"
   ]
  },
  {
   "cell_type": "markdown",
   "metadata": {},
   "source": [
    "## 15.7 プロジェクト マルチスレッド版XKCDダウンローダー"
   ]
  },
  {
   "cell_type": "code",
   "execution_count": 26,
   "metadata": {},
   "outputs": [
    {
     "name": "stdout",
     "output_type": "stream",
     "text": [
      "ページをダウンロード中 http://xkcd.com/1...ページをダウンロード中 http://xkcd.com/11...\n",
      "\n",
      "ページをダウンロード中 http://xkcd.com/21...\n",
      "画像をダウンロード中 http://imgs.xkcd.com/comics/barrel_mommies.jpg...\n",
      "画像をダウンロード中 http://imgs.xkcd.com/comics/barrel_cropped_(1).jpg...\n",
      "画像をダウンロード中 http://imgs.xkcd.com/comics/kepler.jpg...\n",
      "ページをダウンロード中 http://xkcd.com/12...\n",
      "ページをダウンロード中 http://xkcd.com/2...\n",
      "ページをダウンロード中 http://xkcd.com/22...\n",
      "画像をダウンロード中 http://imgs.xkcd.com/comics/poisson.jpg...\n",
      "画像をダウンロード中 http://imgs.xkcd.com/comics/barrel_whirlpool.jpg...\n",
      "画像をダウンロード中 http://imgs.xkcd.com/comics/tree_cropped_(1).jpg...\n",
      "ページをダウンロード中 http://xkcd.com/13...\n",
      "ページをダウンロード中 http://xkcd.com/23...\n",
      "ページをダウンロード中 http://xkcd.com/3...\n",
      "画像をダウンロード中 http://imgs.xkcd.com/comics/canyon_small.jpg...\n",
      "画像をダウンロード中 http://imgs.xkcd.com/comics/t-shirts.jpg...\n",
      "画像をダウンロード中 http://imgs.xkcd.com/comics/island_color.jpg...\n",
      "ページをダウンロード中 http://xkcd.com/24...\n",
      "ページをダウンロード中 http://xkcd.com/14...\n",
      "画像をダウンロード中 http://imgs.xkcd.com/comics/godel_escher_kurthalsey.jpg...\n",
      "ページをダウンロード中 http://xkcd.com/4...\n",
      "画像をダウンロード中 http://imgs.xkcd.com/comics/copyright.jpg...\n",
      "画像をダウンロード中 http://imgs.xkcd.com/comics/landscape_cropped_(1).jpg...\n",
      "ページをダウンロード中 http://xkcd.com/5...\n",
      "ページをダウンロード中 http://xkcd.com/15...\n",
      "ページをダウンロード中 http://xkcd.com/25...\n",
      "画像をダウンロード中 http://imgs.xkcd.com/comics/blownapart_color.jpg...\n",
      "画像をダウンロード中 http://imgs.xkcd.com/comics/just_alerting_you.jpg...\n",
      "画像をダウンロード中 http://imgs.xkcd.com/comics/barrel_part_4.jpg...\n",
      "ページをダウンロード中 http://xkcd.com/6...\n",
      "ページをダウンロード中 http://xkcd.com/16...\n",
      "ページをダウンロード中 http://xkcd.com/26...\n",
      "画像をダウンロード中 http://imgs.xkcd.com/comics/irony_color.jpg...\n",
      "画像をダウンロード中 http://imgs.xkcd.com/comics/monty_python.jpg...\n",
      "画像をダウンロード中 http://imgs.xkcd.com/comics/fourier.jpg...\n",
      "ページをダウンロード中 http://xkcd.com/7...\n",
      "ページをダウンロード中 http://xkcd.com/27...\n",
      "ページをダウンロード中 http://xkcd.com/17...\n",
      "画像をダウンロード中 http://imgs.xkcd.com/comics/meat_cereals.jpg...\n",
      "画像をダウンロード中 http://imgs.xkcd.com/comics/what_if.jpg...\n",
      "画像をダウンロード中 http://imgs.xkcd.com/comics/girl_sleeping_noline_(1).jpg...\n",
      "ページをダウンロード中 http://xkcd.com/28...\n",
      "ページをダウンロード中 http://xkcd.com/8...\n",
      "ページをダウンロード中 http://xkcd.com/18...\n",
      "画像をダウンロード中 http://imgs.xkcd.com/comics/elefino.jpg...\n",
      "画像をダウンロード中 http://imgs.xkcd.com/comics/snapple.jpg...\n",
      "画像をダウンロード中 http://imgs.xkcd.com/comics/red_spiders_small.jpg...\n",
      "ページをダウンロード中 http://xkcd.com/29...\n",
      "ページをダウンロード中 http://xkcd.com/9...\n",
      "ページをダウンロード中 http://xkcd.com/19...\n",
      "画像をダウンロード中 http://imgs.xkcd.com/comics/hitler.jpg...\n",
      "画像をダウンロード中 http://imgs.xkcd.com/comics/george_clinton.jpg...\n",
      "画像をダウンロード中 http://imgs.xkcd.com/comics/firefly.jpg...\n",
      "ページをダウンロード中 http://xkcd.com/30...\n",
      "ページをダウンロード中 http://xkcd.com/20...\n",
      "ページをダウンロード中 http://xkcd.com/10...\n",
      "画像をダウンロード中 http://imgs.xkcd.com/comics/donner.jpg...\n",
      "画像をダウンロード中 http://imgs.xkcd.com/comics/ferret.jpg...\n",
      "画像をダウンロード中 http://imgs.xkcd.com/comics/pi.jpg...\n",
      "完了\n"
     ]
    }
   ],
   "source": [
    "import requests, os, bs4, threading\n",
    "import time\n",
    "\n",
    "folder='C:\\\\Users\\\\nakam\\\\Python\\\\Data\\\\Boring_Python\\\\15.7'\n",
    "os.chdir(folder)\n",
    "os.makedirs('xkcd', exist_ok=True)\n",
    "\n",
    "def download_xkcd(start_comic, end_comic):\n",
    "    for url_number in range(start_comic, end_comic):\n",
    "        # ページをダウンロードする\n",
    "        print('ページをダウンロード中 http://xkcd.com/{}...'.format(url_number))\n",
    "        res = requests.get('http://xkcd.com/{}'.format(url_number))\n",
    "        res.raise_for_status()\n",
    "\n",
    "        soup = bs4.BeautifulSoup(res.text)\n",
    "\n",
    "        # コミック画像のURLを見つける\n",
    "        comic_elem = soup.select('#comic img')\n",
    "        if comic_elem == []:\n",
    "            print('コミック画像が見つかりませんでした。')\n",
    "        else:\n",
    "            comic_url = 'http:' + comic_elem[0].get('src')\n",
    "            # 画像をダウンロードする\n",
    "            print('画像をダウンロード中 {}...'.format(comic_url))\n",
    "            res = requests.get(comic_url)\n",
    "            res.raise_for_status()\n",
    "\n",
    "            # 画像を./xkcdに保存する\n",
    "            image_file = open(os.path.join('xkcd', os.path.basename(comic_url)), 'wb')\n",
    "            for chunk in res.iter_content(100000):\n",
    "                image_file.write(chunk)\n",
    "            image_file.close()\n",
    "        time.sleep(1)\n",
    "\n",
    "# `Thread`オブジェクトを生成して開始する\n",
    "download_threads = []            # 全Threadオブジェクトのリスト\n",
    "for i in range(1, 30, 10):    # 3回ループし、3個のスレッドを生成\n",
    "    download_thread = threading.Thread(target=download_xkcd, args=(i, i + 10))\n",
    "    download_threads.append(download_thread)\n",
    "    download_thread.start()\n",
    "\n",
    "# すべてのスレッドが終了するのを待つ\n",
    "for download_thread in download_threads:\n",
    "    download_thread.join() #joinメソッドでそのスレッドが終了するまで実行をブロックできる\n",
    "print('完了')"
   ]
  },
  {
   "cell_type": "markdown",
   "metadata": {},
   "source": [
    "## 15.8 Pythonから他のプログラムを実行する"
   ]
  },
  {
   "cell_type": "code",
   "execution_count": 27,
   "metadata": {},
   "outputs": [
    {
     "data": {
      "text/plain": [
       "True"
      ]
     },
     "execution_count": 27,
     "metadata": {},
     "output_type": "execute_result"
    }
   ],
   "source": [
    "import subprocess \n",
    "proc=subprocess.Popen('C:\\\\Windows\\\\System32\\\\calc.exe') #他のプログラムを実行\n",
    "proc.poll()==None #実行していれば、Noneを返す"
   ]
  },
  {
   "cell_type": "code",
   "execution_count": 28,
   "metadata": {},
   "outputs": [
    {
     "data": {
      "text/plain": [
       "0"
      ]
     },
     "execution_count": 28,
     "metadata": {},
     "output_type": "execute_result"
    }
   ],
   "source": [
    "proc.wait() #プログラムが終了するまで待機"
   ]
  },
  {
   "cell_type": "code",
   "execution_count": 29,
   "metadata": {},
   "outputs": [
    {
     "data": {
      "text/plain": [
       "0"
      ]
     },
     "execution_count": 29,
     "metadata": {},
     "output_type": "execute_result"
    }
   ],
   "source": [
    "proc.poll() #プログラムが終了していたら数値を返す"
   ]
  },
  {
   "cell_type": "markdown",
   "metadata": {},
   "source": [
    "### 15.8.1 Popenにコマンドライン引数を渡す"
   ]
  },
  {
   "cell_type": "code",
   "execution_count": 30,
   "metadata": {},
   "outputs": [
    {
     "data": {
      "text/plain": [
       "<subprocess.Popen at 0x16730b12bc8>"
      ]
     },
     "execution_count": 30,
     "metadata": {},
     "output_type": "execute_result"
    }
   ],
   "source": [
    "file='C:\\\\Users\\\\nakam\\\\Python\\\\Data\\\\Boring_Python\\\\15.8.1\\\\Hello.txt'\n",
    "program='C:\\\\Windows\\\\notepad.exe'\n",
    "\n",
    "subprocess.Popen([program,file]) #メモ帳を開き、すぐにfileを開く"
   ]
  },
  {
   "cell_type": "markdown",
   "metadata": {},
   "source": [
    "### 15.8.4 他のPythonスクリプトを実行する"
   ]
  },
  {
   "cell_type": "code",
   "execution_count": 31,
   "metadata": {},
   "outputs": [],
   "source": [
    "#以下のようにすれば他のpythonスクリプトを実行可能\n",
    "\n",
    "#import sys\n",
    "#subprocess.Popen([sys.executable, 'hello.py']) #sys.executableでpythonの実行ファイルを取得可能"
   ]
  },
  {
   "cell_type": "markdown",
   "metadata": {},
   "source": [
    "### 15.8.5 既定のアプリでファイルを開く"
   ]
  },
  {
   "cell_type": "code",
   "execution_count": 32,
   "metadata": {},
   "outputs": [
    {
     "data": {
      "text/plain": [
       "<subprocess.Popen at 0x16730bfaa08>"
      ]
     },
     "execution_count": 32,
     "metadata": {},
     "output_type": "execute_result"
    }
   ],
   "source": [
    "#既定アプリで開く場合は'start'を渡し、shell=Trueを渡す\n",
    "file='C:\\\\Users\\\\nakam\\\\Python\\\\Data\\\\Boring_Python\\\\15.8.1\\\\Hello.txt'\n",
    "\n",
    "subprocess.Popen(['start',file],shell=True) "
   ]
  },
  {
   "cell_type": "markdown",
   "metadata": {},
   "source": [
    "## 15.9 プロジェクト : シンプルなカウントダウンプログラム"
   ]
  },
  {
   "cell_type": "code",
   "execution_count": 33,
   "metadata": {},
   "outputs": [
    {
     "name": "stdout",
     "output_type": "stream",
     "text": [
      "321"
     ]
    },
    {
     "data": {
      "text/plain": [
       "<subprocess.Popen at 0x16730bf4908>"
      ]
     },
     "execution_count": 33,
     "metadata": {},
     "output_type": "execute_result"
    }
   ],
   "source": [
    "import time, subprocess\n",
    "\n",
    "timeLeft = 3\n",
    "while timeLeft > 0:\n",
    "    print(timeLeft, end='')\n",
    "    time.sleep(1)\n",
    "    timeLeft = timeLeft - 1\n",
    "\n",
    "# カウントダウン後に音声ファイルを再生する\n",
    "subprocess.Popen(['start','C:\\\\Users\\\\nakam\\\\Python\\\\Data\\\\Boring_Python\\\\15.9\\\\sound.wav'], shell=True)"
   ]
  },
  {
   "cell_type": "markdown",
   "metadata": {},
   "source": [
    "## 15.12 演習プロジェクト\n",
    "### 15.12.1 ストップウォッチの整形\n",
    "表示の桁数を調節,pyperclip機能追加"
   ]
  },
  {
   "cell_type": "code",
   "execution_count": 34,
   "metadata": {},
   "outputs": [
    {
     "name": "stdout",
     "output_type": "stream",
     "text": [
      "Enterを押すと開始します。finishで終了します。\n",
      "\n",
      "スタート\n",
      "\n",
      "ラップ # 1:  1.21 (  1.21)\n",
      "ラップ # 2:  2.08 (  0.87)finish\n"
     ]
    }
   ],
   "source": [
    "import time\n",
    "import pyperclip\n",
    "\n",
    "# プログラムの説明を表示する\n",
    "print('Enterを押すと開始します。finishで終了します。')\n",
    "input()                    # Enterを押すと開始\n",
    "print('スタート')\n",
    "start_time = time.time()   # プログラムと最初のラップの開始時間\n",
    "last_time = start_time\n",
    "lap_num = 1\n",
    "\n",
    "# ラップタイムを計測する\n",
    "while True:\n",
    "    a=input()\n",
    "    if a=='finish':\n",
    "        break\n",
    "    now = time.time()\n",
    "\n",
    "    lap_time = now - last_time\n",
    "    total_time = now - start_time\n",
    "    s = 'ラップ #{:2}: {:5.2f} ({:6.2f})'.format(lap_num, total_time, lap_time) #{:5.2f} :5文字で、小数点以下2桁表示\n",
    "\n",
    "    last_time = now  # ラップタイムをリセット\n",
    "    lap_num += 1\n",
    "\n",
    "    print(s, end='')\n",
    "    #クリップボードにコピー\n",
    "    pyperclip.copy(s)"
   ]
  },
  {
   "cell_type": "markdown",
   "metadata": {},
   "source": [
    "### 15.12.2 Webコミックダウンローダをスケジュール\n",
    "前回との差分のみをダウンロードする"
   ]
  },
  {
   "cell_type": "code",
   "execution_count": 35,
   "metadata": {},
   "outputs": [
    {
     "name": "stdout",
     "output_type": "stream",
     "text": [
      "ページをダウンロード中 http://xkcd.com/...\n",
      "ページをダウンロード中 http://xkcd.com/2258/...\n",
      "ページをダウンロード中 http://xkcd.com/2257/...\n",
      "ページをダウンロード中 http://xkcd.com/2256/...\n",
      "ページをダウンロード中 http://xkcd.com/2255/...\n",
      "ページをダウンロード中 http://xkcd.com/2254/...\n",
      "ページをダウンロード中 http://xkcd.com/2253/...\n",
      "ページをダウンロード中 http://xkcd.com/2252/...\n",
      "ページをダウンロード中 http://xkcd.com/2251/...\n",
      "ページをダウンロード中 http://xkcd.com/2250/...\n",
      "ページをダウンロード中 http://xkcd.com/2249/...\n",
      "完了\n"
     ]
    }
   ],
   "source": [
    "import requests, os, bs4\n",
    "import time\n",
    "import shutil\n",
    "\n",
    "folder='C:\\\\Users\\\\nakam\\\\Python\\\\Data\\\\Boring_Python\\\\15.12.2'\n",
    "os.chdir(folder)\n",
    "\n",
    "url = 'http://xkcd.com/'              # 開始URL\n",
    "os.makedirs('xkcd', exist_ok=True)    # ./xkcdに保存する\n",
    "number=0\n",
    "\n",
    "while not url.endswith('#'):\n",
    "    if number>10: #10画像で終わらせる処置追加\n",
    "        break\n",
    "    number=number+1\n",
    "    \n",
    "    # ページをダウンロードする\n",
    "    print('ページをダウンロード中 {}...'.format(url))\n",
    "    res = requests.get(url)\n",
    "    res.raise_for_status()\n",
    "\n",
    "    soup = bs4.BeautifulSoup(res.text, \"lxml\")\n",
    "\n",
    "    # コミック画像のURLを見つける\n",
    "    comic_elem = soup.select('#comic img')\n",
    "    if comic_elem == []:\n",
    "        print('コミック画像が見つかりませんでした。')\n",
    "    else:\n",
    "        comic_url = 'http:' + comic_elem[0].get('src')\n",
    "        filename = os.path.join('xkcd', os.path.basename(comic_url))\n",
    "        # ファイルが存在しない場合に限り、ダウンロードする\n",
    "        if not os.path.exists(filename):\n",
    "            # 画像をダウンロードする\n",
    "            print('画像をダウンロード中 {}...'.format(comic_url))\n",
    "            res = requests.get(comic_url)\n",
    "            res.raise_for_status()\n",
    "\n",
    "            # 画像を./xkcdに保存する\n",
    "            image_file = open(filename, 'wb')\n",
    "            for chunk in res.iter_content(100000):\n",
    "                image_file.write(chunk)\n",
    "            image_file.close()\n",
    "\n",
    "    # PrevボタンのURLを取得する\n",
    "    prev_link = soup.select('a[rel=\"prev\"]')[0]\n",
    "    url = 'http://xkcd.com' + prev_link.get('href')\n",
    "\n",
    "    time.sleep(1)\n",
    "\n",
    "print('完了')\n"
   ]
  }
 ],
 "metadata": {
  "kernelspec": {
   "display_name": "Python 3",
   "language": "python",
   "name": "python3"
  },
  "language_info": {
   "codemirror_mode": {
    "name": "ipython",
    "version": 3
   },
   "file_extension": ".py",
   "mimetype": "text/x-python",
   "name": "python",
   "nbconvert_exporter": "python",
   "pygments_lexer": "ipython3",
   "version": "3.7.4"
  }
 },
 "nbformat": 4,
 "nbformat_minor": 2
}
