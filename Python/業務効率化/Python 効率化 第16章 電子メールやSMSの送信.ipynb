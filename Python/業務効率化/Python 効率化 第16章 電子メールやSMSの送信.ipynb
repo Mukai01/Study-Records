{
 "cells": [
  {
   "cell_type": "markdown",
   "metadata": {},
   "source": [
    "# 第16章 電子メールやSMSの送信\n",
    "## 16.1 SMTP\n",
    "SMTP: Simple Mail Transfer Protocol(メールを送信するためのプロトコル）"
   ]
  },
  {
   "cell_type": "markdown",
   "metadata": {},
   "source": [
    "## 16.2 メールを送信する"
   ]
  },
  {
   "cell_type": "markdown",
   "metadata": {},
   "source": [
    "### 16.2.1 SMTPサーバーに接続する"
   ]
  },
  {
   "cell_type": "code",
   "execution_count": 1,
   "metadata": {},
   "outputs": [
    {
     "data": {
      "text/plain": [
       "smtplib.SMTP"
      ]
     },
     "execution_count": 1,
     "metadata": {},
     "output_type": "execute_result"
    }
   ],
   "source": [
    "import smtplib\n",
    "smtp_obj=smtplib.SMTP('smtp.gmail.com','587') #Gmailに接続するSMTPオブジェクトを生成する\n",
    "type(smtp_obj)"
   ]
  },
  {
   "cell_type": "code",
   "execution_count": 2,
   "metadata": {},
   "outputs": [],
   "source": [
    "#呼び出しが失敗したら587番をサポートしていない可能性があるので以下\n",
    "#smtp_obj=smtplib.SMTP_SSL('smtp.gmail.com',465)"
   ]
  },
  {
   "cell_type": "markdown",
   "metadata": {},
   "source": [
    "### 16.2.2 SMTPに'Hello'メッセージを送信する"
   ]
  },
  {
   "cell_type": "code",
   "execution_count": 3,
   "metadata": {},
   "outputs": [
    {
     "data": {
      "text/plain": [
       "(250,\n",
       " b'smtp.gmail.com at your service, [124.45.22.60]\\nSIZE 35882577\\n8BITMIME\\nSTARTTLS\\nENHANCEDSTATUSCODES\\nPIPELINING\\nCHUNKING\\nSMTPUTF8')"
      ]
     },
     "execution_count": 3,
     "metadata": {},
     "output_type": "execute_result"
    }
   ],
   "source": [
    "smtp_obj.ehlo() #SMTPサーバーにHelloを送信、250が出れば成功"
   ]
  },
  {
   "cell_type": "markdown",
   "metadata": {},
   "source": [
    "### 16.2.3 TLS暗号化の開始"
   ]
  },
  {
   "cell_type": "code",
   "execution_count": 4,
   "metadata": {},
   "outputs": [
    {
     "data": {
      "text/plain": [
       "(220, b'2.0.0 Ready to start TLS')"
      ]
     },
     "execution_count": 4,
     "metadata": {},
     "output_type": "execute_result"
    }
   ],
   "source": [
    "#587番ポートで接続した場合TLS暗号化を使用することになるので、starttls()メソッドを呼び出す\n",
    "\n",
    "smtp_obj.starttls() #220はサーバーが準備できたことを示す"
   ]
  },
  {
   "cell_type": "markdown",
   "metadata": {},
   "source": [
    "### 16.2.4 SMTPサーバーにログインする"
   ]
  },
  {
   "cell_type": "code",
   "execution_count": 5,
   "metadata": {},
   "outputs": [
    {
     "data": {
      "text/plain": [
       "(235, b'2.7.0 Accepted')"
      ]
     },
     "execution_count": 5,
     "metadata": {},
     "output_type": "execute_result"
    }
   ],
   "source": [
    "smtp_obj.login('nakamukaiya@gmail.com','yvuamevworpgxgmv')"
   ]
  },
  {
   "cell_type": "markdown",
   "metadata": {},
   "source": [
    "### 16.2.5 メールを送信する"
   ]
  },
  {
   "cell_type": "code",
   "execution_count": 6,
   "metadata": {},
   "outputs": [
    {
     "data": {
      "text/plain": [
       "{}"
      ]
     },
     "execution_count": 6,
     "metadata": {},
     "output_type": "execute_result"
    }
   ],
   "source": [
    "#\\nで件名と本文を分ける\n",
    "\n",
    "smtp_obj.sendmail('nakamukaiya@gmail.com','nakamukaiya@yahoo.co.jp',\n",
    "                 'Subject: So long.\\nDear Alice, so long and thanks for all the fish. Sincerely, Bob')\n",
    "\n",
    "#日本語メールを送信する場合はemailパッケージが必要\n",
    "#演習参照"
   ]
  },
  {
   "cell_type": "markdown",
   "metadata": {},
   "source": [
    "### 16.2.6 SMTPサーバーから切断する"
   ]
  },
  {
   "cell_type": "code",
   "execution_count": 7,
   "metadata": {},
   "outputs": [
    {
     "data": {
      "text/plain": [
       "(221, b'2.0.0 closing connection n14sm12084905pff.188 - gsmtp')"
      ]
     },
     "execution_count": 7,
     "metadata": {},
     "output_type": "execute_result"
    }
   ],
   "source": [
    "smtp_obj.quit() #221はセッションが終了したことを表す"
   ]
  },
  {
   "cell_type": "markdown",
   "metadata": {},
   "source": [
    "## 16.3 IMAP\n",
    "IMAP: Internet Message Access Protocol(メールを受信するプロトコル）"
   ]
  },
  {
   "cell_type": "code",
   "execution_count": 8,
   "metadata": {},
   "outputs": [
    {
     "name": "stdout",
     "output_type": "stream",
     "text": [
      "Requirement already satisfied: imapclient in c:\\users\\nakam\\anaconda3\\lib\\site-packages (2.1.0)\n",
      "Requirement already satisfied: six in c:\\users\\nakam\\anaconda3\\lib\\site-packages (from imapclient) (1.12.0)\n"
     ]
    }
   ],
   "source": [
    "!pip install imapclient"
   ]
  },
  {
   "cell_type": "code",
   "execution_count": 9,
   "metadata": {},
   "outputs": [
    {
     "name": "stdout",
     "output_type": "stream",
     "text": [
      "Searching for pyzmail\n",
      "Best match: pyzmail 1.0.3\n",
      "Processing pyzmail-1.0.3-py3.7.egg\n",
      "pyzmail 1.0.3 is already the active version in easy-install.pth\n",
      "Installing pyzinfomail script to C:\\Users\\nakam\\Anaconda3\\Scripts\n",
      "Installing pyzsendmail script to C:\\Users\\nakam\\Anaconda3\\Scripts\n",
      "\n",
      "Using c:\\users\\nakam\\anaconda3\\lib\\site-packages\\pyzmail-1.0.3-py3.7.egg\n",
      "Processing dependencies for pyzmail\n",
      "Finished processing dependencies for pyzmail\n"
     ]
    }
   ],
   "source": [
    "!easy_install pyzmail"
   ]
  },
  {
   "cell_type": "markdown",
   "metadata": {},
   "source": [
    "## 16.4 IMAPを使ってメールを取得・削除する\n",
    "### 16.4.1 IMAPサーバーに接続する"
   ]
  },
  {
   "cell_type": "code",
   "execution_count": 10,
   "metadata": {},
   "outputs": [],
   "source": [
    "import imapclient\n",
    "from backports import ssl\n",
    "context=ssl.SSLContext(ssl.PROTOCOL_TLSv1_2)\n",
    "imap_obj=imapclient.IMAPClient('imap.gmail.com',ssl=True,ssl_context=context)"
   ]
  },
  {
   "cell_type": "markdown",
   "metadata": {},
   "source": [
    "### 16.4.2 IMAPサーバーにログインする"
   ]
  },
  {
   "cell_type": "code",
   "execution_count": 11,
   "metadata": {},
   "outputs": [
    {
     "data": {
      "text/plain": [
       "b'nakamukaiya@gmail.com authenticated (Success)'"
      ]
     },
     "execution_count": 11,
     "metadata": {},
     "output_type": "execute_result"
    }
   ],
   "source": [
    "imap_obj.login('nakamukaiya@gmail.com','yvuamevworpgxgmv')"
   ]
  },
  {
   "cell_type": "markdown",
   "metadata": {},
   "source": [
    "### 16.4.3 メールを探す\n",
    "#### 16.4.3.1 フォルダを選択する"
   ]
  },
  {
   "cell_type": "code",
   "execution_count": 12,
   "metadata": {},
   "outputs": [
    {
     "name": "stdout",
     "output_type": "stream",
     "text": [
      "[((b'\\\\HasNoChildren',), b'/', 'INBOX'),\n",
      " ((b'\\\\HasNoChildren',), b'/', 'Notes'),\n",
      " ((b'\\\\HasNoChildren',), b'/', 'Personal'),\n",
      " ((b'\\\\HasNoChildren',), b'/', 'Receipts'),\n",
      " ((b'\\\\HasNoChildren',), b'/', 'Work'),\n",
      " ((b'\\\\HasChildren', b'\\\\Noselect'), b'/', '[Gmail]'),\n",
      " ((b'\\\\All', b'\\\\HasNoChildren'), b'/', '[Gmail]/すべてのメール'),\n",
      " ((b'\\\\HasNoChildren', b'\\\\Trash'), b'/', '[Gmail]/ゴミ箱'),\n",
      " ((b'\\\\Flagged', b'\\\\HasNoChildren'), b'/', '[Gmail]/スター付き'),\n",
      " ((b'\\\\Drafts', b'\\\\HasNoChildren'), b'/', '[Gmail]/下書き'),\n",
      " ((b'\\\\HasNoChildren', b'\\\\Junk'), b'/', '[Gmail]/迷惑メール'),\n",
      " ((b'\\\\HasNoChildren', b'\\\\Sent'), b'/', '[Gmail]/送信済みメール'),\n",
      " ((b'\\\\HasNoChildren', b'\\\\Important'), b'/', '[Gmail]/重要')]\n"
     ]
    }
   ],
   "source": [
    "import pprint\n",
    "pprint.pprint(imap_obj.list_folders()) #フォルダのリストを取得"
   ]
  },
  {
   "cell_type": "code",
   "execution_count": 13,
   "metadata": {},
   "outputs": [
    {
     "data": {
      "text/plain": [
       "{b'PERMANENTFLAGS': (),\n",
       " b'FLAGS': (b'\\\\Answered',\n",
       "  b'\\\\Flagged',\n",
       "  b'\\\\Draft',\n",
       "  b'\\\\Deleted',\n",
       "  b'\\\\Seen',\n",
       "  b'$NotPhishing',\n",
       "  b'$Phishing'),\n",
       " b'UIDVALIDITY': 7,\n",
       " b'EXISTS': 29143,\n",
       " b'RECENT': 0,\n",
       " b'UIDNEXT': 29339,\n",
       " b'HIGHESTMODSEQ': 2275647,\n",
       " b'READ-ONLY': [b'']}"
      ]
     },
     "execution_count": 13,
     "metadata": {},
     "output_type": "execute_result"
    }
   ],
   "source": [
    "imap_obj.select_folder('INBOX',readonly=True) #フォルダを選択"
   ]
  },
  {
   "cell_type": "markdown",
   "metadata": {},
   "source": [
    "#### 16.4.3.2 検索を実行する"
   ]
  },
  {
   "cell_type": "code",
   "execution_count": 14,
   "metadata": {},
   "outputs": [],
   "source": [
    "#imap_obj.search(['ALL']) : 現在のフォルダのすべてのメッセージを返す\n",
    "#imap_obj.search(['ON','05-Jul-2015']) : 2015年7月15日のすべてのメッセージを返す\n",
    "#imap_obj.search(['SINCE','01-Jan-2015','BEFORE','01-Feb-2015', 'UNSEEN']) : 2015年1月の未読メッセージを返す\n",
    "#imap_obj.search(['SINCE','01-Jan-2015','FROM','alice@example.com']) : 2015年1月以降にaliceが送信したすべてのメッセージを返す\n",
    "#imap_obj.search(['SINCE','01-Jan-2015','NOT','FROM','alice@example.com']) : 2015年1月以降にalice以外が送信したすべてのメッセージを返す\n",
    "#imap_obj.search(['OR','FROM','alice@example.com','FROM','bob@example.com']) : aliceかbobが送信したすべてのメッセージを返す\n",
    "#imap_obj.search(['FROM','alice@example.com','FROM','bob@example.com']) : 全てにマッチしないといけないので、何も返さない"
   ]
  },
  {
   "cell_type": "code",
   "execution_count": 15,
   "metadata": {},
   "outputs": [
    {
     "data": {
      "text/plain": [
       "[11587, 11588, 11589, 11590, 11591, 11592]"
      ]
     },
     "execution_count": 15,
     "metadata": {},
     "output_type": "execute_result"
    }
   ],
   "source": [
    "#imap_objは整数値のユニークなIDを返す\n",
    "\n",
    "UIDs=imap_obj.search(['ON','1-Jan-2018'])\n",
    "UIDs"
   ]
  },
  {
   "cell_type": "markdown",
   "metadata": {},
   "source": [
    "#### 16.4.3.3 サイズ制限"
   ]
  },
  {
   "cell_type": "code",
   "execution_count": 16,
   "metadata": {},
   "outputs": [],
   "source": [
    "#サイズ制限でエラーが出た場合制限を変更する\n",
    "import imaplib\n",
    "imaplib._MAXLINE=10000000 #10Mバイトまで制限を変更"
   ]
  },
  {
   "cell_type": "markdown",
   "metadata": {},
   "source": [
    "### 16.4.4 メールを取得して既読マークを付ける"
   ]
  },
  {
   "cell_type": "code",
   "execution_count": 17,
   "metadata": {},
   "outputs": [],
   "source": [
    "raw_messages=imap_obj.fetch(UIDs,['BODY[]'])\n",
    "#import pprint\n",
    "#pprint.pprint(raw_messages) #raw_messagesはRFC 822形式と呼ばれるもので、pyzmailモジュールを使えば解釈可能\n",
    "\n",
    "#imap_obj.select_folder('INBOX',readonly=False) #readonly=Falseとしていれば、fetchで見たら既読がつく"
   ]
  },
  {
   "cell_type": "markdown",
   "metadata": {},
   "source": [
    "### 16.4.5 生のメッセージからメールアドレスを取得する"
   ]
  },
  {
   "cell_type": "code",
   "execution_count": 18,
   "metadata": {},
   "outputs": [
    {
     "data": {
      "text/plain": [
       "'今晩Netflixをご覧になりませんか?'"
      ]
     },
     "execution_count": 18,
     "metadata": {},
     "output_type": "execute_result"
    }
   ],
   "source": [
    "import pyzmail\n",
    "message=pyzmail.PyzMessage.factory(raw_messages[11592][b'BODY[]']) #pyzmail.PyzMessage.factory()関数で読み込む\n",
    "\n",
    "message.get_subject() #件名"
   ]
  },
  {
   "cell_type": "code",
   "execution_count": 19,
   "metadata": {},
   "outputs": [
    {
     "data": {
      "text/plain": [
       "[('Netflix', 'info@mailer.netflix.com')]"
      ]
     },
     "execution_count": 19,
     "metadata": {},
     "output_type": "execute_result"
    }
   ],
   "source": [
    "message.get_addresses('from') #アドレス"
   ]
  },
  {
   "cell_type": "code",
   "execution_count": 20,
   "metadata": {},
   "outputs": [
    {
     "data": {
      "text/plain": [
       "[('nakamukaiya@gmail.com', 'nakamukaiya@gmail.com')]"
      ]
     },
     "execution_count": 20,
     "metadata": {},
     "output_type": "execute_result"
    }
   ],
   "source": [
    "message.get_addresses('to')"
   ]
  },
  {
   "cell_type": "code",
   "execution_count": 21,
   "metadata": {},
   "outputs": [
    {
     "data": {
      "text/plain": [
       "[]"
      ]
     },
     "execution_count": 21,
     "metadata": {},
     "output_type": "execute_result"
    }
   ],
   "source": [
    "message.get_addresses('cc')\n",
    "message.get_addresses('bcc')"
   ]
  },
  {
   "cell_type": "markdown",
   "metadata": {},
   "source": [
    "### 16.4.6 生のメッセージから本文を取り出す\n",
    "メールはプレーンテキストかHTML、または両方の形式で送付できる"
   ]
  },
  {
   "cell_type": "code",
   "execution_count": 22,
   "metadata": {},
   "outputs": [
    {
     "data": {
      "text/plain": [
       "True"
      ]
     },
     "execution_count": 22,
     "metadata": {},
     "output_type": "execute_result"
    }
   ],
   "source": [
    "message.text_part!=None #プレーンテキストが存在すればTrueになる"
   ]
  },
  {
   "cell_type": "code",
   "execution_count": 23,
   "metadata": {},
   "outputs": [
    {
     "name": "stdout",
     "output_type": "stream",
     "text": [
      "\r\n",
      "新着情報 NETFLIX\r\n",
      " \r\n",
      "Netflixで人気の作品\r\n",
      " \r\n",
      "ブラック・ミラー\r\n",
      "https://www.netflix.com/title/70264888?trkid=13710079\n"
     ]
    }
   ],
   "source": [
    "print(message.text_part.get_payload().decode(message.text_part.charset)[:100]) #テキストを表示(長尾いので100文字抽出)"
   ]
  },
  {
   "cell_type": "code",
   "execution_count": 24,
   "metadata": {},
   "outputs": [
    {
     "data": {
      "text/plain": [
       "True"
      ]
     },
     "execution_count": 24,
     "metadata": {},
     "output_type": "execute_result"
    }
   ],
   "source": [
    "message.html_part!=None #HTMLがあればTrueになる"
   ]
  },
  {
   "cell_type": "code",
   "execution_count": 25,
   "metadata": {},
   "outputs": [
    {
     "name": "stdout",
     "output_type": "stream",
     "text": [
      "<!DOCTYPE html PUBLIC \"-//W3C//DTD XHTML 1.0 Strict//EN\" \"http://www.w3.org/TR/xhtml1/DTD/xhtml1-strict.dtd\">\r\n",
      "<html xmlns=\"http://www.w3.org/1999/xhtml\">\r\n",
      " <head> \r\n",
      "  <title></title> \r\n",
      "  <style type=\"text/css\">\r\n",
      "      #outlook a {padding:0;} body{width:100% !important; -webkit-text-size-adjust:100%; -ms-text-size-adjust:100%; margin:0; padding:0;} .ExternalClass {width:100%;} .ExternalClass, .ExternalClass p, .ExternalClass span, .ExternalClass font, .ExternalClass td, .ExternalClass div {line-height: 100%;} #backgroundTable {margin:0; padding:0; width:100% !important; line-height: 100% !important;}\r\n",
      "      span[class\"iOSlinks\"] a { color:#666666 !important; text-decoration:none !important; }\r\n",
      "    </style> \r\n",
      "  <style>\r\n",
      "        \r\n",
      "    \t\r\n",
      "    </style> \r\n",
      "  <!--[if !mso]><!--> \r\n",
      "  <style type=\"text/css\">\r\n",
      "\r\n",
      "      @media only screen and (max-width: 480px) {\r\n",
      "\r\n",
      "        *[class=\"off\"] { display:none; }\r\n",
      "        *[class*=\"show\"], *[class*\"show\"] img { display: block !important; margin:0 !import\n"
     ]
    }
   ],
   "source": [
    "print(message.html_part.get_payload().decode(message.html_part.charset)[:1000]) #HTML版の文字列を抽出（長いので1000文字抽出)"
   ]
  },
  {
   "cell_type": "markdown",
   "metadata": {},
   "source": [
    "### 16.4.7 メールを削除する"
   ]
  },
  {
   "cell_type": "code",
   "execution_count": 26,
   "metadata": {},
   "outputs": [],
   "source": [
    "imap_obj.select_folder('INBOX',readonly=False)\n",
    "UIDs=imap_obj.search(['ON','1-Jan-2018'])\n",
    "#imap_obj.delete_messages(UIDs) #delete_messageにUIDを渡す\n",
    "#import_obj.expunge() #expungeで削除が実行される"
   ]
  },
  {
   "cell_type": "markdown",
   "metadata": {},
   "source": [
    "### 16.4.8 IMAPサーバーからの接続を切断する"
   ]
  },
  {
   "cell_type": "code",
   "execution_count": 27,
   "metadata": {},
   "outputs": [],
   "source": [
    "#imap_obj.logout() #なぜかエラーが出る"
   ]
  },
  {
   "cell_type": "markdown",
   "metadata": {},
   "source": [
    "## 16.5 プロジェクト : 会費リマインダーメールを送る"
   ]
  },
  {
   "cell_type": "code",
   "execution_count": 28,
   "metadata": {},
   "outputs": [
    {
     "data": {
      "text/html": [
       "<div>\n",
       "<style scoped>\n",
       "    .dataframe tbody tr th:only-of-type {\n",
       "        vertical-align: middle;\n",
       "    }\n",
       "\n",
       "    .dataframe tbody tr th {\n",
       "        vertical-align: top;\n",
       "    }\n",
       "\n",
       "    .dataframe thead th {\n",
       "        text-align: right;\n",
       "    }\n",
       "</style>\n",
       "<table border=\"1\" class=\"dataframe\">\n",
       "  <thead>\n",
       "    <tr style=\"text-align: right;\">\n",
       "      <th></th>\n",
       "      <th>Member</th>\n",
       "      <th>Email</th>\n",
       "      <th>Jan 2014</th>\n",
       "      <th>Feb 2014</th>\n",
       "      <th>Mar 2014</th>\n",
       "      <th>Apr 2014</th>\n",
       "      <th>May 2014</th>\n",
       "    </tr>\n",
       "  </thead>\n",
       "  <tbody>\n",
       "    <tr>\n",
       "      <td>0</td>\n",
       "      <td>Nakamukai</td>\n",
       "      <td>nakamukaiya@gmail.com</td>\n",
       "      <td>paid</td>\n",
       "      <td>paid</td>\n",
       "      <td>paid</td>\n",
       "      <td>paid</td>\n",
       "      <td>NaN</td>\n",
       "    </tr>\n",
       "    <tr>\n",
       "      <td>1</td>\n",
       "      <td>Nakamukai2</td>\n",
       "      <td>nakamukaiya@yahoo.co.jp</td>\n",
       "      <td>paid</td>\n",
       "      <td>paid</td>\n",
       "      <td>paid</td>\n",
       "      <td>paid</td>\n",
       "      <td>paid</td>\n",
       "    </tr>\n",
       "  </tbody>\n",
       "</table>\n",
       "</div>"
      ],
      "text/plain": [
       "       Member                    Email Jan 2014 Feb 2014 Mar 2014 Apr 2014  \\\n",
       "0   Nakamukai    nakamukaiya@gmail.com     paid     paid     paid     paid   \n",
       "1  Nakamukai2  nakamukaiya@yahoo.co.jp     paid     paid     paid     paid   \n",
       "\n",
       "  May 2014  \n",
       "0      NaN  \n",
       "1     paid  "
      ]
     },
     "metadata": {},
     "output_type": "display_data"
    },
    {
     "name": "stderr",
     "output_type": "stream",
     "text": [
      "C:\\Users\\nakam\\Anaconda3\\lib\\site-packages\\ipykernel_launcher.py:14: DeprecationWarning: Call to deprecated function get_sheet_by_name (Use wb[sheetname]).\n",
      "  \n"
     ]
    },
    {
     "name": "stdout",
     "output_type": "stream",
     "text": [
      "メール送信中 nakamukaiya@gmail.com...\n"
     ]
    },
    {
     "data": {
      "text/plain": [
       "(221, b'2.0.0 closing connection t138sm1019200pfc.95 - gsmtp')"
      ]
     },
     "execution_count": 28,
     "metadata": {},
     "output_type": "execute_result"
    }
   ],
   "source": [
    "import openpyxl, smtplib, sys, os\n",
    "\n",
    "folder='C:\\\\Users\\\\nakam\\\\Python\\\\Data\\\\Boring_Python\\\\16.5'\n",
    "os.chdir(folder)\n",
    "\n",
    "#エクセルデータの確認\n",
    "import pandas as pd\n",
    "from IPython.display import display\n",
    "df=pd.read_excel('duesRecords.xlsx')\n",
    "display(df)\n",
    "\n",
    "# スプレッドシートを開き最近の支払い状況を取得\n",
    "wb = openpyxl.load_workbook('duesRecords.xlsx')\n",
    "sheet = wb.get_sheet_by_name('Sheet1')\n",
    "\n",
    "last_col = sheet.max_column\n",
    "latest_month = sheet.cell(row=1, column=last_col).value\n",
    "\n",
    "# 会員の支払い状況を調べる\n",
    "unpaid_members = {}\n",
    "for r in range(2, sheet.max_row + 1):\n",
    "    payment = sheet.cell(row=r, column=last_col).value\n",
    "    if payment != 'paid':\n",
    "        name = sheet.cell(row=r, column=1).value\n",
    "        email = sheet.cell(row=r, column=2).value \n",
    "        unpaid_members[name] = email #unpaid_membersに未払いの会員：アドレスを登録\n",
    "\n",
    "# メールアカウントにログインする\n",
    "smtp_obj = smtplib.SMTP('smtp.gmail.com', 587)\n",
    "smtp_obj.ehlo()\n",
    "smtp_obj.starttls()\n",
    "smtp_obj.login('nakamukaiya@gmail.com','yvuamevworpgxgmv')\n",
    "\n",
    "# TODO: リマインダーメールを送信する\n",
    "for name, email in unpaid_members.items():\n",
    "    body = \"\"\"Subject: {} dues unpaid.\n",
    "Dear {},\n",
    "Records show that you have not paid dues for {}. Please make this payment as soon as possible. Thank you!\n",
    "\"\"\".format(latest_month, name, latest_month)\n",
    "    print('メール送信中 {}...'.format(email))\n",
    "    sendmail_status = smtp_obj.sendmail('nakamukaiya@gmail.com', email, body) #emailにbodyを送付する\n",
    "\n",
    "    if sendmail_status != {}:\n",
    "        print('{}へメール送信中に問題が起こりました: {}'.format(email, endmail_status))\n",
    "\n",
    "smtp_obj.quit()"
   ]
  },
  {
   "cell_type": "markdown",
   "metadata": {},
   "source": [
    "### 16.5.4 Twilioを使ってSMSを送る\n",
    "SMSは使用しないため、本参照。"
   ]
  },
  {
   "cell_type": "markdown",
   "metadata": {},
   "source": [
    "## 16.9 演習プロジェクト\n",
    "### 16.9.1 雑用ランダム割り当てメーラー\n",
    "日本語のメール送付方法は本プログラムを参照"
   ]
  },
  {
   "cell_type": "code",
   "execution_count": 29,
   "metadata": {},
   "outputs": [
    {
     "name": "stdout",
     "output_type": "stream",
     "text": [
      "送信中 nakamukaiya@gmail.com あなたの作業は皿洗いです。\n",
      "送信中 nakamukaiya@yahoo.co.jp あなたの作業は掃除機掛けです。\n",
      "送信中 ooeeaaii@yahoo.co.jp あなたの作業は犬の散歩です。\n",
      "送信中 oooeeeaaaiii@yahoo.co.jp あなたの作業はトイレ掃除です。\n"
     ]
    }
   ],
   "source": [
    "#雑用を作業員にランダムに割り当てる\n",
    "#前回と同じ作業を割り当てないようにする\n",
    "\n",
    "import smtplib,os\n",
    "from email.header import Header\n",
    "from email.mime.text import MIMEText\n",
    "import shelve\n",
    "import random\n",
    "import sys\n",
    "\n",
    "folder='C:\\\\Users\\\\nakam\\\\Python\\\\Data\\\\Boring_Python\\\\16.9.1'\n",
    "os.chdir(folder)\n",
    "\n",
    "MY_ADDRESS = 'nakamukaiya@gmail.com' # IDを設定\n",
    "MY_PASSWORD = 'yvuamevworpgxgmv'        # パスワードを設定\n",
    "\n",
    "SUBJECT = '作業指示'\n",
    "MESSAGE = 'あなたの作業は{}です。'\n",
    "\n",
    "# 雑用リスト\n",
    "chores = ['皿洗い', 'トイレ掃除', '掃除機掛け', '犬の散歩']\n",
    "\n",
    "# 作業員のメールアドレス　（雑用と同じ数が必要）\n",
    "addresses = ['nakamukaiya@gmail.com', 'nakamukaiya@yahoo.co.jp',\n",
    "             'ooeeaaii@yahoo.co.jp', 'oooeeeaaaiii@yahoo.co.jp']\n",
    "\n",
    "assert len(chores) == len(addresses), '雑用リストと送り先アドレスは同じ数である必要があります。'\n",
    "assert len(addresses) >= 1, '雑用リストと送り先アドレスは1つ以上必要です。'\n",
    "assert len(addresses) == len(set(addresses)), '送り先アドレスは重複してはいけません。'\n",
    "\n",
    "def send_mail(to_address, chore):\n",
    "    \"\"\" to_address に雑用choreをメールする \"\"\"\n",
    "    message = MESSAGE.format(chore)\n",
    "    print('送信中', to_address, message)\n",
    "\n",
    "    charset = 'iso-2022-jp'\n",
    "    msg = MIMEText(message, 'plain', charset)\n",
    "    msg['Subject'] = Header(SUBJECT.encode(charset), charset)\n",
    "\n",
    "    smtp_obj = smtplib.SMTP('smtp.gmail.com', 587)\n",
    "    smtp_obj.ehlo()\n",
    "    smtp_obj.starttls()\n",
    "    smtp_obj.login(MY_ADDRESS, MY_PASSWORD)\n",
    "    smtp_obj.sendmail(MY_ADDRESS, to_address, msg.as_string())\n",
    "    smtp_obj.quit()\n",
    "\n",
    "\n",
    "# 雑用が1つのときは、メールを送っておしまい\n",
    "if len(chores) == 1:\n",
    "    send_mail(addresses[0], chores[0])\n",
    "    sys.exit()\n",
    "\n",
    "# 雑用割り当て\n",
    "assign = {}\n",
    "# 前回の雑用割り当て記録\n",
    "last_assign = shelve.open('last_assign')\n",
    "\n",
    "while True:\n",
    "    # 割り当てのやりなおしに備えてコピーを作って作業\n",
    "    rest_chores = list(chores)\n",
    "    rest_addresses = list(addresses)\n",
    "\n",
    "    # 残りがひとつになるまで、ランダムに割り当て\n",
    "    while len(rest_chores) > 1:\n",
    "        chore = random.choice(rest_chores)\n",
    "        address = random.choice(rest_addresses)\n",
    "\n",
    "        # 前回と同じなら、やりなおし\n",
    "        if address in last_assign and last_assign[address] == chore:\n",
    "            continue\n",
    "\n",
    "        # 割り当て\n",
    "        assign[address] = chore\n",
    "        rest_chores.remove(chore)\n",
    "        rest_addresses.remove(address)\n",
    "\n",
    "    # 最後のひとつが前回と同じなら、最初からやりなおし\n",
    "    chore = rest_chores[0]\n",
    "    address = rest_addresses[0]\n",
    "    if address in last_assign and last_assign[address] == chore:\n",
    "        assign = {}\n",
    "        continue\n",
    "\n",
    "    # うまく割り当てられたらループを抜ける\n",
    "    assign[address] = chore\n",
    "    break\n",
    "\n",
    "\n",
    "# 割り当てに成功したら、ひとりずつメールし、記録する\n",
    "for address in sorted(assign.keys()):\n",
    "    send_mail(address, assign[address])\n",
    "    last_assign[address] = assign[address]\n",
    "\n",
    "# 記録を保存する\n",
    "last_assign.close()\n",
    "\n"
   ]
  },
  {
   "cell_type": "markdown",
   "metadata": {},
   "source": [
    "### 16.9.2 傘のリマインダーをメール送信\n",
    "今の天気をメールで送信する"
   ]
  },
  {
   "cell_type": "code",
   "execution_count": 30,
   "metadata": {},
   "outputs": [
    {
     "name": "stdout",
     "output_type": "stream",
     "text": [
      "Clouds\n",
      "送信中 nakamukaiya@gmail.com 今の天気はCloudsです\n"
     ]
    },
    {
     "data": {
      "text/plain": [
       "(221, b'2.0.0 closing connection z30sm12664986pfq.154 - gsmtp')"
      ]
     },
     "execution_count": 30,
     "metadata": {},
     "output_type": "execute_result"
    }
   ],
   "source": [
    "import json, requests\n",
    "\n",
    "location = 'Hiroshima' # 場所を設定してください\n",
    "APPID='3ef9e9d4094c498f59f1dce964bf73fe' # openweathermap のAPIキーを設定してください\n",
    "\n",
    "# 天気のデータを取得する\n",
    "url='http://api.openweathermap.org/data/2.5/find?q={}&units=metric&APPID={}'.format(location,APPID)\n",
    "response = requests.get(url)\n",
    "response.raise_for_status()\n",
    "\n",
    "weather_data = json.loads(response.text)\n",
    "w = weather_data['list']\n",
    "weather = w[0]['weather'][0]['main']\n",
    "print(weather)\n",
    "\n",
    "#メールを送信する\n",
    "MY_ADDRESS = 'nakamukaiya@gmail.com' # IDを設定\n",
    "MY_PASSWORD = 'yvuamevworpgxgmv'        # パスワードを設定\n",
    "to_address = 'nakamukaiya@gmail.com'\n",
    "\n",
    "SUBJECT = '天気'\n",
    "message =\"今の天気は{}です\".format(weather)\n",
    "print('送信中', to_address, message)\n",
    "\n",
    "charset = 'iso-2022-jp'\n",
    "msg = MIMEText(message, 'plain', charset)\n",
    "msg['Subject'] = Header(SUBJECT.encode(charset), charset)\n",
    "\n",
    "smtp_obj = smtplib.SMTP('smtp.gmail.com', 587)\n",
    "smtp_obj.ehlo()\n",
    "smtp_obj.starttls()\n",
    "smtp_obj.login(MY_ADDRESS, MY_PASSWORD)\n",
    "smtp_obj.sendmail(MY_ADDRESS, to_address, msg.as_string())\n",
    "smtp_obj.quit()"
   ]
  },
  {
   "cell_type": "markdown",
   "metadata": {},
   "source": [
    "### 16.9.3 自動退会機\n",
    "メールを調べて退会リンクを探し出しブラウザを開く"
   ]
  },
  {
   "cell_type": "code",
   "execution_count": 31,
   "metadata": {},
   "outputs": [
    {
     "name": "stdout",
     "output_type": "stream",
     "text": [
      "接続中\n",
      "2件見つかりました\n",
      "1/2件目のメールを取得中\n",
      "件名： Get a jazz gig anywhere with this! 🎹 Piano Quick Tip\n",
      "From： [('Jonny May', 'contact@pianowithjonny.com')]\n",
      "退会リンク： https://pianowithjonny.us5.list-manage.com/unsubscribe?u=1b8d62c3078f50451aea9b8ff&id=376eea92cc&e=ec7783a756&c=1fba548c78\n",
      "リンクを開きますか？(y/n)：n\n",
      "スキップします。\n",
      "2/2件目のメールを取得中\n",
      "件名： Piano With Jonny: You are now unsubscribed \n",
      "From： [('Piano With Jonny', 'info@pianowithjonny.com')]\n",
      "終了\n"
     ]
    }
   ],
   "source": [
    "import imaplib\n",
    "imaplib._MAXLINE = 10000000\n",
    "import imapclient\n",
    "from backports import ssl\n",
    "import pyzmail\n",
    "import bs4\n",
    "import webbrowser\n",
    "\n",
    "MY_ADDRESS = 'nakamukaiya@gmail.com' # IDを設定\n",
    "MY_PASSWORD = 'yvuamevworpgxgmv'        # パスワードを設定\n",
    "\n",
    "print('接続中')\n",
    "\n",
    "# IMAPで接続する\n",
    "context = ssl.SSLContext(ssl.PROTOCOL_TLSv1_2)\n",
    "imap_obj = imapclient.IMAPClient('imap.gmail.com', ssl=True, ssl_context=context)\n",
    "imap_obj.login(MY_ADDRESS, MY_PASSWORD)\n",
    "\n",
    "# INBOXから本文にunsubscribeが含まれるメールを探す\n",
    "imap_obj.select_folder('INBOX', readonly=True)\n",
    "UIDs = imap_obj.search(['BODY', 'unsubscribe','SINCE','20-Jan-2020'])\n",
    "count = len(UIDs)\n",
    "print('{}件見つかりました'.format(count))\n",
    "\n",
    "n = 0\n",
    "for uid in UIDs:\n",
    "    n += 1\n",
    "    print('{}/{}件目のメールを取得中'.format(n, count))\n",
    "\n",
    "    # IMAPでメール本文を取得する\n",
    "    raw_message = imap_obj.fetch([uid], ['BODY[]'])\n",
    "    message = pyzmail.PyzMessage.factory(raw_message[uid][b'BODY[]'])\n",
    "    print('件名：', message.get_subject())\n",
    "    print('From：', message.get_addresses('from'))\n",
    "    if not message.html_part:\n",
    "        print('HTMLメールではありません。スキップします。')\n",
    "        continue\n",
    "\n",
    "    html = message.html_part.get_payload().decode(message.html_part.charset)\n",
    "\n",
    "#    #解析用に、htmlを保存する\n",
    "#    with open(str(uid) + '.html', 'w', encoding='utf-8') as f:\n",
    "#        f.write(html)\n",
    "\n",
    "    # HTMLから<a>タグを探す\n",
    "    soup = bs4.BeautifulSoup(html, 'lxml')\n",
    "    links = soup.select('a')\n",
    "    for link in links:\n",
    "        # リンクテキストにunsubscribeが含まれているものを探す\n",
    "        if 'unsubscribe' in link.getText().lower():\n",
    "            href = link.attrs['href']\n",
    "            print('退会リンク：', href)\n",
    "            while True:\n",
    "                print('リンクを開きますか？(y/n)：', end='', flush=True)\n",
    "                yn = input().lower()\n",
    "                if yn == 'y':\n",
    "                    webbrowser.open(href)\n",
    "                    break\n",
    "                elif yn == 'n':\n",
    "                    print('スキップします。')\n",
    "                    break\n",
    "                else:\n",
    "                    print('yかnで答えてください。')\n",
    "\n",
    "print('終了')\n"
   ]
  },
  {
   "cell_type": "markdown",
   "metadata": {},
   "source": [
    "### 16.9.4 メールを使ってコンピュータを制御する\n",
    "メールを送付するとtorrentソフトでデータをコンピュータにダウンロードする"
   ]
  },
  {
   "cell_type": "code",
   "execution_count": null,
   "metadata": {},
   "outputs": [
    {
     "name": "stdout",
     "output_type": "stream",
     "text": [
      "メールボットが始動しました。停止するにはCtrl-Cを押してください。\n"
     ]
    }
   ],
   "source": [
    "#! python3\n",
    "# メール経由で命令をチェックして実行します。\n",
    "# ここでは、BitTorrentの\"magnet\"リンクをチェックし、\n",
    "# Torrentプログラムを実行します。\n",
    "\n",
    "import smtplib, imapclient, pyzmail, logging, traceback, time, subprocess\n",
    "from backports import ssl  # gmailに必要\n",
    "\n",
    "logging.basicConfig(filename='torrentStarterLog.txt', level=logging.DEBUG, format='%(asctime)s - %(levelname)s - %(message)s')\n",
    "\n",
    "# 以下の変数を設定してください。\n",
    "MY_EMAIL = 'my_commander@gmail.com' # このメールからのみ応答する\n",
    "BOT_EMAIL = 'my_bot@gmail.com'  # ボットのメールアドレス\n",
    "BOT_EMAIL_PASSWORD = 'my_bot_password'\n",
    "IMAP_SERVER = 'imap.gmail.com'\n",
    "SMTP_SERVER = 'imap.gmail.com'\n",
    "SMTP_PORT = 465\n",
    "# Torrentのプログラムパス\n",
    "TORRENT_PROGRAM = 'C:\\\\Program Files (x86)\\\\qBittorrent\\\\qbittorrent.exe'\n",
    "\n",
    "assert BOT_EMAIL != MY_EMAIL, \"ボットのアドレスは別にしてください.\"\n",
    "\n",
    "\n",
    "def getInstructionEmails():\n",
    "    # imapClientでログイン\n",
    "    logging.debug('Connecting to IMAP server at %s...' % (IMAP_SERVER))\n",
    "    context = ssl.SSLContext(ssl.PROTOCOL_TLSv1_2)\n",
    "    imapCli = imapclient.IMAPClient(IMAP_SERVER, ssl=True, ssl_context=context)\n",
    "    imapCli.login(BOT_EMAIL, BOT_EMAIL_PASSWORD)\n",
    "    imapCli.select_folder('INBOX')\n",
    "    logging.debug('Connected.')\n",
    "\n",
    "    # メールから命令を取得\n",
    "    instructions = []\n",
    "    UIDs = imapCli.search(['FROM', MY_EMAIL])\n",
    "    rawMessages = imapCli.fetch(UIDs, ['BODY[]'])\n",
    "    for UID in rawMessages.keys():\n",
    "        # 生のメッセージを解析\n",
    "        message = pyzmail.PyzMessage.factory(rawMessages[UID][b'BODY[]'])\n",
    "        if message.html_part != None:\n",
    "            body = message.html_part.get_payload().decode(message.html_part.charset)\n",
    "        if message.text_part != None:\n",
    "            # HTMLとテキストの両方があればテキストの方を用います\n",
    "            body = message.text_part.get_payload().decode(message.text_part.charset)\n",
    "\n",
    "        # メール本文から命令を抽出\n",
    "        instructions.append(body)\n",
    "\n",
    "    # 受信したメールを削除する。\n",
    "    if len(UIDs) > 0:\n",
    "        imapCli.delete_messages(UIDs)\n",
    "        imapCli.expunge()\n",
    "\n",
    "    imapCli.logout()\n",
    "\n",
    "    return instructions\n",
    "\n",
    "\n",
    "def parseInstructionEmail(instruction):\n",
    "    # 命令を実行し、応答メールを送ります\n",
    "    responseBody = 'Subject: Instruction completed.\\nInstruction received and completed.\\nResponse:\\n'\n",
    "\n",
    "    # メール本文を解析し、命令を取り出します。\n",
    "    lines = instruction.split('\\n')\n",
    "    for line in lines:\n",
    "        if line.startswith('magnet:?'):\n",
    "            # Torrentプログラムを実行\n",
    "            subprocess.Popen(TORRENT_PROGRAM + ' ' + line) \n",
    "            print(TORRENT_PROGRAM + ' ' + line)\n",
    "            responseBody += 'Downloading magnet link.\\n'\n",
    "\n",
    "    # ボットが命令を実行したことを確認する応答文をメールする\n",
    "    logging.debug('Connecting to SMTP server at %s to send confirmation email...' % (SMTP_SERVER))\n",
    "\n",
    "    smtpCli = smtplib.SMTP_SSL(SMTP_SERVER, SMTP_PORT) \n",
    "    smtpCli.ehlo()\n",
    "    smtpCli.starttls() \n",
    "    smtpCli.login(BOT_EMAIL, BOT_EMAIL_PASSWORD)\n",
    "    logging.debug('Connected.')\n",
    "    smtpCli.sendmail(BOT_EMAIL, MY_EMAIL, responseBody)\n",
    "    logging.debug('Confirmation email sent.')\n",
    "    smtpCli.quit()\n",
    "\n",
    "\n",
    "# メールをチェックし命令実行する無限ループを開始します。\n",
    "print('メールボットが始動しました。停止するにはCtrl-Cを押してください。')\n",
    "logging.debug('Email bot started.')\n",
    "while True:\n",
    "    try:\n",
    "        logging.debug('Getting instructions from email...')\n",
    "        instructions = getInstructionEmails()\n",
    "        for instruction in instructions:\n",
    "            logging.debug('Doing instruction: ' + instruction)\n",
    "            parseInstructionEmail(instruction)\n",
    "    except Exception as err:\n",
    "        logging.error(traceback.format_exc())\n",
    "\n",
    "    # 15分待って、再度チェックします。\n",
    "    logging.debug('Done processing instructions. Pausing for 15 minutes.')\n",
    "    time.sleep(60 * 15)"
   ]
  }
 ],
 "metadata": {
  "kernelspec": {
   "display_name": "Python 3",
   "language": "python",
   "name": "python3"
  },
  "language_info": {
   "codemirror_mode": {
    "name": "ipython",
    "version": 3
   },
   "file_extension": ".py",
   "mimetype": "text/x-python",
   "name": "python",
   "nbconvert_exporter": "python",
   "pygments_lexer": "ipython3",
   "version": "3.7.4"
  }
 },
 "nbformat": 4,
 "nbformat_minor": 2
}
