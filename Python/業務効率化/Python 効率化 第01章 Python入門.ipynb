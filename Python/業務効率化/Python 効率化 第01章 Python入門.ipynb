{
 "cells": [
  {
   "cell_type": "markdown",
   "metadata": {},
   "source": [
    "# 第1章 Python入門"
   ]
  },
  {
   "cell_type": "markdown",
   "metadata": {},
   "source": [
    "## 1.1 数学演算子\n",
    "上に行くほど優先順位が高い"
   ]
  },
  {
   "cell_type": "code",
   "execution_count": 1,
   "metadata": {},
   "outputs": [
    {
     "name": "stdout",
     "output_type": "stream",
     "text": [
      "2**3= 8\n",
      "2*3= 6\n",
      "22/8= 2.75\n",
      "22//8= 2\n",
      "22%8= 6\n",
      "2+2= 4\n",
      "5-2= 3\n"
     ]
    }
   ],
   "source": [
    "print('2**3=',2**3) #累乗\n",
    "print('2*3=',2*3)  #掛け算\n",
    "print('22/8=',22/8) #割り算\n",
    "print('22//8=',22//8) #整数の割り算、小数点以下切り捨て\n",
    "print('22%8=',22%8)  #剰余(割り算の余り)\n",
    "print('2+2=',2+2)   #足し算\n",
    "print('5-2=',5-2)   #引き算"
   ]
  },
  {
   "cell_type": "markdown",
   "metadata": {},
   "source": [
    "## 1.2 整数、浮動小数点数、文字列型"
   ]
  },
  {
   "cell_type": "code",
   "execution_count": 2,
   "metadata": {},
   "outputs": [
    {
     "name": "stdout",
     "output_type": "stream",
     "text": [
      "False\n",
      "True\n",
      "True\n"
     ]
    }
   ],
   "source": [
    "#int：整数(integer)\n",
    "#float：浮動小数点数\n",
    "#str:文字列(string)\n",
    "\n",
    "#文字列と数値は異なる扱いだが、整数と浮動小数点数は等しくなることがある\n",
    "print(42==str(42))\n",
    "print(42==float(42))\n",
    "print(42==0042.000)"
   ]
  },
  {
   "cell_type": "markdown",
   "metadata": {},
   "source": [
    "## 1.3 文字列の連結と複製"
   ]
  },
  {
   "cell_type": "code",
   "execution_count": 3,
   "metadata": {
    "scrolled": true
   },
   "outputs": [
    {
     "name": "stdout",
     "output_type": "stream",
     "text": [
      "AliceBob\n",
      "AliceAliceAliceAliceAlice\n"
     ]
    }
   ],
   "source": [
    "print('Alice'+'Bob')\n",
    "print('Alice'*5)"
   ]
  },
  {
   "cell_type": "markdown",
   "metadata": {},
   "source": [
    "## 1.4 文字列の連結と複製\n",
    "### 1.4.2 変数名"
   ]
  },
  {
   "cell_type": "code",
   "execution_count": 4,
   "metadata": {},
   "outputs": [],
   "source": [
    "#ひとつながりの語であること\n",
    "#文字と数字と_のみを用いていること\n",
    "#数字で始まらないこと"
   ]
  },
  {
   "cell_type": "markdown",
   "metadata": {},
   "source": [
    "## 1.6 プログラムを分析する\n",
    "### 1.6.5 len関数"
   ]
  },
  {
   "cell_type": "code",
   "execution_count": 5,
   "metadata": {},
   "outputs": [
    {
     "name": "stdout",
     "output_type": "stream",
     "text": [
      "19\n"
     ]
    }
   ],
   "source": [
    "#関数に渡される数値のことを引数という\n",
    "\n",
    "print(len('My name is Yasunori')) #文字数"
   ]
  }
 ],
 "metadata": {
  "kernelspec": {
   "display_name": "Python 3",
   "language": "python",
   "name": "python3"
  },
  "language_info": {
   "codemirror_mode": {
    "name": "ipython",
    "version": 3
   },
   "file_extension": ".py",
   "mimetype": "text/x-python",
   "name": "python",
   "nbconvert_exporter": "python",
   "pygments_lexer": "ipython3",
   "version": "3.7.4"
  }
 },
 "nbformat": 4,
 "nbformat_minor": 2
}
