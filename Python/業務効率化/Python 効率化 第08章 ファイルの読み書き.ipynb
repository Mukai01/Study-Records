{
 "cells": [
  {
   "cell_type": "markdown",
   "metadata": {},
   "source": [
    "# 第8章 ファイルの読み書き"
   ]
  },
  {
   "cell_type": "markdown",
   "metadata": {},
   "source": [
    "## 8.1 ファイルとファイルパス\n",
    "### 8.1.1 Windowsのバックスラッシュ、MACやLinuxのスラッシュ\n",
    "全てのosに対応できるように文字列をつなげる"
   ]
  },
  {
   "cell_type": "code",
   "execution_count": 1,
   "metadata": {},
   "outputs": [
    {
     "data": {
      "text/plain": [
       "'usr\\\\bin\\\\spam'"
      ]
     },
     "execution_count": 1,
     "metadata": {},
     "output_type": "execute_result"
    }
   ],
   "source": [
    "import os\n",
    "os.path.join('usr','bin','spam')"
   ]
  },
  {
   "cell_type": "code",
   "execution_count": 2,
   "metadata": {},
   "outputs": [
    {
     "name": "stdout",
     "output_type": "stream",
     "text": [
      "C:\\Users\\accounts.txt\n",
      "C:\\Users\\details.csv\n",
      "C:\\Users\\invite.docx\n"
     ]
    }
   ],
   "source": [
    "#以下のようにファイルのフルパスを作る際に使用する\n",
    "\n",
    "my_files=['accounts.txt','details.csv','invite.docx']\n",
    "for filename in my_files:\n",
    "    print(os.path.join('C:\\\\Users\\\\',filename))"
   ]
  },
  {
   "cell_type": "markdown",
   "metadata": {},
   "source": [
    "### 8.1.2 カレントディレクトリ"
   ]
  },
  {
   "cell_type": "code",
   "execution_count": 3,
   "metadata": {},
   "outputs": [
    {
     "data": {
      "text/plain": [
       "'C:\\\\Users\\\\nakam\\\\Python'"
      ]
     },
     "execution_count": 3,
     "metadata": {},
     "output_type": "execute_result"
    }
   ],
   "source": [
    "os.getcwd() #カレントディレクトリを取得"
   ]
  },
  {
   "cell_type": "code",
   "execution_count": 4,
   "metadata": {},
   "outputs": [
    {
     "data": {
      "text/plain": [
       "'C:\\\\Users\\\\nakam\\\\Python\\\\Data\\\\Boring_Python'"
      ]
     },
     "execution_count": 4,
     "metadata": {},
     "output_type": "execute_result"
    }
   ],
   "source": [
    "os.chdir('C:\\\\Users\\\\nakam\\\\Python\\\\Data\\\\Boring_Python') #カレントディレクトリを変更\n",
    "os.getcwd()"
   ]
  },
  {
   "cell_type": "markdown",
   "metadata": {},
   "source": [
    "### 8.1.3 絶対パスと相対パス"
   ]
  },
  {
   "cell_type": "code",
   "execution_count": 5,
   "metadata": {},
   "outputs": [
    {
     "data": {
      "text/plain": [
       "'C:\\\\Users\\\\nakam\\\\Python\\\\Data\\\\Scikit-Learn'"
      ]
     },
     "execution_count": 5,
     "metadata": {},
     "output_type": "execute_result"
    }
   ],
   "source": [
    "#.で始まると現在のフォルダ、..で始まると親フォルダを表す\n",
    "\n",
    "os.chdir('C:\\\\Users\\\\nakam\\\\Python\\\\Data\\\\Boring_Python')\n",
    "os.chdir('..\\\\Scikit-Learn') #親フォルダからの相対パスを表示\n",
    "os.getcwd()"
   ]
  },
  {
   "cell_type": "markdown",
   "metadata": {},
   "source": [
    "### 8.1.4 os.makedirs()関数を用いた新しいフォルダ作成"
   ]
  },
  {
   "cell_type": "code",
   "execution_count": 7,
   "metadata": {},
   "outputs": [],
   "source": [
    "#フォルダの作成\n",
    "os.makedirs('C:\\\\Users\\\\nakam\\\\Python\\\\Data\\\\Boring_Python\\\\8.1.4',exist_ok=True) #exist_ok=Trueで存在している場合は作成しない"
   ]
  },
  {
   "cell_type": "markdown",
   "metadata": {},
   "source": [
    "## 8.2 os.pathモジュール\n",
    "### 8.2.1 絶対パスと相対パスの操作"
   ]
  },
  {
   "cell_type": "code",
   "execution_count": 8,
   "metadata": {},
   "outputs": [
    {
     "data": {
      "text/plain": [
       "'C:\\\\Users\\\\nakam\\\\Python\\\\Data\\\\Scikit-Learn'"
      ]
     },
     "execution_count": 8,
     "metadata": {},
     "output_type": "execute_result"
    }
   ],
   "source": [
    "#絶対パスを返す\n",
    "\n",
    "os.path.abspath('.') #.はカレントディレクトリを表す"
   ]
  },
  {
   "cell_type": "code",
   "execution_count": 9,
   "metadata": {},
   "outputs": [
    {
     "data": {
      "text/plain": [
       "False"
      ]
     },
     "execution_count": 9,
     "metadata": {},
     "output_type": "execute_result"
    }
   ],
   "source": [
    "#絶対パスであればTrueを返す\n",
    "\n",
    "os.path.isabs('.') "
   ]
  },
  {
   "cell_type": "code",
   "execution_count": 10,
   "metadata": {},
   "outputs": [
    {
     "data": {
      "text/plain": [
       "'..\\\\Boring_Python\\\\8.1.4'"
      ]
     },
     "execution_count": 10,
     "metadata": {},
     "output_type": "execute_result"
    }
   ],
   "source": [
    "#os.path.relpath(start,path) でstartからpathの相対パスを返す\n",
    "\n",
    "os.path.relpath('C:\\\\Users\\\\nakam\\\\Python\\\\Data\\\\Boring_Python\\\\8.1.4','C:\\\\Users\\\\nakam\\\\Python\\\\Data\\\\Scikit-Learn')"
   ]
  },
  {
   "cell_type": "code",
   "execution_count": 11,
   "metadata": {},
   "outputs": [
    {
     "data": {
      "text/plain": [
       "'C:\\\\Users\\\\nakam\\\\Python\\\\Data\\\\Boring_Python\\\\8.2.1'"
      ]
     },
     "execution_count": 11,
     "metadata": {},
     "output_type": "execute_result"
    }
   ],
   "source": [
    "#ファイルの場所を表示\n",
    "\n",
    "os.path.dirname('C:\\\\Users\\\\nakam\\\\Python\\\\Data\\\\Boring_Python\\\\8.2.1\\\\Hello.txt')"
   ]
  },
  {
   "cell_type": "code",
   "execution_count": 12,
   "metadata": {},
   "outputs": [
    {
     "data": {
      "text/plain": [
       "'Hello.txt'"
      ]
     },
     "execution_count": 12,
     "metadata": {},
     "output_type": "execute_result"
    }
   ],
   "source": [
    "#ファイル名を表示\n",
    "\n",
    "os.path.basename('C:\\\\Users\\\\nakam\\\\Python\\\\Data\\\\Boring_Python\\\\8.2.1\\\\Hello.txt')"
   ]
  },
  {
   "cell_type": "code",
   "execution_count": 13,
   "metadata": {},
   "outputs": [
    {
     "data": {
      "text/plain": [
       "('C:\\\\Users\\\\nakam\\\\Python\\\\Data\\\\Boring_Python\\\\8.2.1', 'Hello.txt')"
      ]
     },
     "execution_count": 13,
     "metadata": {},
     "output_type": "execute_result"
    }
   ],
   "source": [
    "#ファイルの場所とファイル名を表示\n",
    "\n",
    "os.path.split('C:\\\\Users\\\\nakam\\\\Python\\\\Data\\\\Boring_Python\\\\8.2.1\\\\Hello.txt') #タプルを取得する"
   ]
  },
  {
   "cell_type": "code",
   "execution_count": 14,
   "metadata": {},
   "outputs": [
    {
     "data": {
      "text/plain": [
       "['C:',\n",
       " 'Users',\n",
       " 'nakam',\n",
       " 'Python',\n",
       " 'Data',\n",
       " 'Boring_Python',\n",
       " '8.2.1',\n",
       " 'Hello.txt']"
      ]
     },
     "execution_count": 14,
     "metadata": {},
     "output_type": "execute_result"
    }
   ],
   "source": [
    "#フォルダ毎に分割する場合はos.sepを用いたsplit()メソッドを使う\n",
    "\n",
    "file='C:\\\\Users\\\\nakam\\\\Python\\\\Data\\\\Boring_Python\\\\8.2.1\\\\Hello.txt'\n",
    "file.split(os.sep)"
   ]
  },
  {
   "cell_type": "markdown",
   "metadata": {},
   "source": [
    "### 8.2.2 ファイルサイズとフォルダ内容を調べる"
   ]
  },
  {
   "cell_type": "code",
   "execution_count": 15,
   "metadata": {},
   "outputs": [
    {
     "data": {
      "text/plain": [
       "11"
      ]
     },
     "execution_count": 15,
     "metadata": {},
     "output_type": "execute_result"
    }
   ],
   "source": [
    "#ファイルサイズを調べる\n",
    "\n",
    "file='C:\\\\Users\\\\nakam\\\\Python\\\\Data\\\\Boring_Python\\\\8.2.1\\\\Hello.txt'\n",
    "os.path.getsize(file) "
   ]
  },
  {
   "cell_type": "code",
   "execution_count": 16,
   "metadata": {},
   "outputs": [
    {
     "data": {
      "text/plain": [
       "['Boring_Python', 'Python - ショートカット.lnk', 'Scikit-Learn']"
      ]
     },
     "execution_count": 16,
     "metadata": {},
     "output_type": "execute_result"
    }
   ],
   "source": [
    "#フォルダ内のファイル、フォルダを表示\n",
    "\n",
    "os.listdir('..') #親フォルダを表示"
   ]
  },
  {
   "cell_type": "markdown",
   "metadata": {},
   "source": [
    "フォルダ内のファイルサイズの合計を表示"
   ]
  },
  {
   "cell_type": "code",
   "execution_count": 17,
   "metadata": {},
   "outputs": [
    {
     "name": "stdout",
     "output_type": "stream",
     "text": [
      "44\n"
     ]
    }
   ],
   "source": [
    "folder='C:\\\\Users\\\\nakam\\\\Python\\\\Data\\\\Boring_Python\\\\8.2.1'\n",
    "\n",
    "total_size=0\n",
    "for filename in os.listdir(folder):\n",
    "    total_size=total_size+os.path.getsize(os.path.join(folder,filename))\n",
    "print(total_size)"
   ]
  },
  {
   "cell_type": "markdown",
   "metadata": {},
   "source": [
    "### 8.2.3 パスを検査する"
   ]
  },
  {
   "cell_type": "code",
   "execution_count": 18,
   "metadata": {},
   "outputs": [
    {
     "data": {
      "text/plain": [
       "False"
      ]
     },
     "execution_count": 18,
     "metadata": {},
     "output_type": "execute_result"
    }
   ],
   "source": [
    "#パスが存在すればTrueを返す\n",
    "\n",
    "folder='C:\\\\Users\\\\nakam\\\\Python\\\\Data\\\\Boring_Python\\\\8.2.3'\n",
    "os.path.exists(folder)"
   ]
  },
  {
   "cell_type": "code",
   "execution_count": 19,
   "metadata": {},
   "outputs": [
    {
     "data": {
      "text/plain": [
       "True"
      ]
     },
     "execution_count": 19,
     "metadata": {},
     "output_type": "execute_result"
    }
   ],
   "source": [
    "#パスが存在し、それがファイルであればTrueを返す\n",
    "\n",
    "file='C:\\\\Users\\\\nakam\\\\Python\\\\Data\\\\Boring_Python\\\\8.2.1\\\\Hello.txt'\n",
    "os.path.isfile(file)"
   ]
  },
  {
   "cell_type": "code",
   "execution_count": 20,
   "metadata": {},
   "outputs": [
    {
     "data": {
      "text/plain": [
       "False"
      ]
     },
     "execution_count": 20,
     "metadata": {},
     "output_type": "execute_result"
    }
   ],
   "source": [
    "#パスが存在し、それがフォルダであればTrueを返す\n",
    "\n",
    "file='C:\\\\Users\\\\nakam\\\\Python\\\\Data\\\\Boring_Python\\\\8.2.1\\\\Hello.txt'\n",
    "os.path.isdir(file)"
   ]
  },
  {
   "cell_type": "markdown",
   "metadata": {},
   "source": [
    "## 8.3 ファイルの読み書きの方法\n",
    "### 8.3.1 open()関数,read()関数"
   ]
  },
  {
   "cell_type": "code",
   "execution_count": 21,
   "metadata": {},
   "outputs": [
    {
     "data": {
      "text/plain": [
       "'Hello World'"
      ]
     },
     "execution_count": 21,
     "metadata": {},
     "output_type": "execute_result"
    }
   ],
   "source": [
    "file='C:\\\\Users\\\\nakam\\\\Python\\\\Data\\\\Boring_Python\\\\8.2.1\\\\Hello.txt'\n",
    "\n",
    "hello_file=open(file) #hello_fileにfileオブジェクトが格納される\n",
    "hello_content=hello_file.read() #readメソッドを用いて文字列を取得する\n",
    "hello_content"
   ]
  },
  {
   "cell_type": "markdown",
   "metadata": {},
   "source": [
    "### 8.3.3 ファイルの書き込み"
   ]
  },
  {
   "cell_type": "code",
   "execution_count": 22,
   "metadata": {},
   "outputs": [
    {
     "name": "stdout",
     "output_type": "stream",
     "text": [
      "Hello World!!\n"
     ]
    }
   ],
   "source": [
    "#ファイルに書き込む方法\n",
    "\n",
    "file='C:\\\\Users\\\\nakam\\\\Python\\\\Data\\\\Boring_Python\\\\8.3.3\\\\Hello.txt'\n",
    "\n",
    "hello_file=open(file,'w') #wモードで書き込み、ファイルが存在しない場合は作成する\n",
    "hello_file.write('Hello World!!')\n",
    "hello_file.close() #操作が完了したらcloseする\n",
    "\n",
    "#以下ファイルの表示\n",
    "hello_file=open(file) #hello_fileにfileオブジェクトが格納される\n",
    "hello_content=hello_file.read() #readメソッドを用いて文字列を取得する\n",
    "print(hello_content)"
   ]
  },
  {
   "cell_type": "code",
   "execution_count": 23,
   "metadata": {},
   "outputs": [
    {
     "name": "stdout",
     "output_type": "stream",
     "text": [
      "Hello World!!\n",
      "Nice To Meet You!!\n"
     ]
    }
   ],
   "source": [
    "#ファイルに追記する方法\n",
    "\n",
    "hello_file=open(file,'a') #aモードで追加\n",
    "hello_file.write('\\nNice To Meet You!!')\n",
    "hello_file.close()\n",
    "\n",
    "#以下ファイルの表示\n",
    "hello_file=open(file) #hello_fileにfileオブジェクトが格納される\n",
    "hello_content=hello_file.read() #readメソッドを用いて文字列を取得する\n",
    "print(hello_content)"
   ]
  },
  {
   "cell_type": "markdown",
   "metadata": {},
   "source": [
    "## 8.4 shelveモジュールを用いて変数を保存する"
   ]
  },
  {
   "cell_type": "code",
   "execution_count": 24,
   "metadata": {},
   "outputs": [
    {
     "data": {
      "text/plain": [
       "<bound method Shelf.close of <shelve.DbfilenameShelf object at 0x000001CCB79F6448>>"
      ]
     },
     "execution_count": 24,
     "metadata": {},
     "output_type": "execute_result"
    }
   ],
   "source": [
    "#変数の保存方法は以下\n",
    "\n",
    "import shelve\n",
    "\n",
    "file='C:\\\\Users\\\\nakam\\\\Python\\\\Data\\\\Boring_Python\\\\8.4\\\\Mydate'\n",
    "shelf_file=shelve.open(file)\n",
    "cats=['Zophie','Mike']\n",
    "shelf_file['pets']=cats #辞書のように登録される\n",
    "shelf_file.close"
   ]
  },
  {
   "cell_type": "code",
   "execution_count": 25,
   "metadata": {},
   "outputs": [
    {
     "name": "stdout",
     "output_type": "stream",
     "text": [
      "<class 'shelve.DbfilenameShelf'>\n",
      "['Zophie', 'Mike']\n"
     ]
    }
   ],
   "source": [
    "#変数の読み込み方法は以下\n",
    "\n",
    "shelf_file=shelve.open(file)\n",
    "print(type(shelf_file))\n",
    "print(shelf_file['pets'])\n",
    "shelf_file.close()"
   ]
  },
  {
   "cell_type": "code",
   "execution_count": 26,
   "metadata": {},
   "outputs": [
    {
     "name": "stdout",
     "output_type": "stream",
     "text": [
      "['pets']\n",
      "[['Zophie', 'Mike']]\n"
     ]
    }
   ],
   "source": [
    "#辞書と同様keys(),values()メソッドがある\n",
    "\n",
    "shelf_file=shelve.open(file)\n",
    "print(list(shelf_file.keys())) #リスト風オブジェクトを返すので、list()関数を用いてリスト化する\n",
    "print(list(shelf_file.values()))\n",
    "shelf_file.close()"
   ]
  },
  {
   "cell_type": "markdown",
   "metadata": {},
   "source": [
    "## 8.5 pprint.pformat()関数を用いて変数を保存する\n",
    "テキストで開いて修正したい場合は.pyファイルに保存する方法もある、それ以外であればshelveで保存が便利"
   ]
  },
  {
   "cell_type": "code",
   "execution_count": 27,
   "metadata": {},
   "outputs": [],
   "source": [
    "#pprint.pformatを用いて.pyファイルに書き込める文字列を取得できる⇒保存\n",
    "\n",
    "folder='C:\\\\Users\\\\nakam\\\\Python\\\\Data\\\\Boring_Python\\\\8.5'\n",
    "\n",
    "import pprint\n",
    "cats=[{'name':'Zophie','desc':'chubby'},{'name':'Pooka','desc':'fluffy'}]\n",
    "pprint.pformat(cats)\n",
    "file_obj=open(folder+'\\\\'+'myCats.py','w') #.pyファイルに保存\n",
    "file_obj.write('cats =' +pprint.pformat(cats)+'\\n')\n",
    "file_obj.close()"
   ]
  },
  {
   "cell_type": "code",
   "execution_count": 28,
   "metadata": {},
   "outputs": [
    {
     "data": {
      "text/plain": [
       "[{'desc': 'chubby', 'name': 'Zophie'}, {'desc': 'fluffy', 'name': 'Pooka'}]"
      ]
     },
     "execution_count": 28,
     "metadata": {},
     "output_type": "execute_result"
    }
   ],
   "source": [
    "#.pyファイルなのでimport可能\n",
    "\n",
    "import myCats\n",
    "myCats.cats"
   ]
  },
  {
   "cell_type": "markdown",
   "metadata": {},
   "source": [
    "## 8.6 プロジェクト：ランダムな問題集ファイルを作成する"
   ]
  },
  {
   "cell_type": "code",
   "execution_count": 29,
   "metadata": {},
   "outputs": [],
   "source": [
    "#! python3\n",
    "# randomQuizGenerator.py - ランダム順に問題と答えを並べ問題集と解答集を作る\n",
    "\n",
    "#保存先を指定\n",
    "folder='C:\\\\Users\\\\nakam\\\\Python\\\\Data\\\\Boring_Python\\\\8.6\\\\'\n",
    "\n",
    "import random \n",
    "\n",
    "# 問題のデータ。キーが都道府県で、値が県庁所在地\n",
    "capitals = {'北海道': '札幌市', '青森県': '青森市', '岩手県': '盛岡市', \n",
    "  '宮城県': '仙台市', '秋田県': '秋田市', '山形県': '山形市', '福島県': '福島市',\n",
    "  '茨城県': '水戸市', '栃木県': '宇都宮市', '群馬県': '前橋市',\n",
    "  '埼玉県': 'さいたま市', '千葉県': '千葉市', '東京都': '東京',\n",
    "  '神奈川県': '横浜市', '新潟県': '新潟市', '富山県': '富山市', '石川県': '金沢市',\n",
    "  '福井県': '福井市', '山梨県': '甲府市', '長野県': '長野市', '岐阜県': '岐阜市',\n",
    "  '静岡県': '静岡市', '愛知県': '名古屋市', '三重県': '津市', '滋賀県': '大津市',\n",
    "  '京都府': '京都市', '大阪府': '大阪市', '兵庫県': '神戸市', '奈良県': '奈良市',\n",
    "  '和歌山県': '和歌山市', '鳥取県': '鳥取市', '島根県': '松江市',\n",
    "  '岡山県': '岡山市', '広島県': '広島市', '山口県': '山口市', '徳島県': '徳島市',\n",
    "  '香川県': '高松市', '愛媛県': '松山市', '高知県': '高知市', '福岡県': '福岡市',\n",
    "  '佐賀県': '佐賀市', '長崎県': '長崎市', '熊本県': '熊本市', '大分県': '大分市',\n",
    "  '宮崎県': '宮崎市', '鹿児島県': '鹿児島市', '沖縄県': '那覇市'}\n",
    "\n",
    "# 35個の問題集を作成する\n",
    "for quiz_num in range(35):\n",
    "    # 問題と答えのファイルを作成する\n",
    "    quiz_file = open(folder+'capitalsquiz{}.txt'.format(quiz_num + 1), 'w')\n",
    "    answer_key_file = open(folder+'capitalsquiz_answers{}.txt'.format(quiz_num + 1), 'w')\n",
    "\n",
    "    # 問題のヘッダを書く\n",
    "    quiz_file.write('名前:\\n\\n日付:\\n\\n')\n",
    "    quiz_file.write((' ' * 20) + '都道府県庁所在地クイズ (問題番号 {})'.format(quiz_num + 1))\n",
    "    quiz_file.write('\\n\\n')\n",
    "\n",
    "    # 都道府県の順番をシャッフルする\n",
    "    prefectures = list(capitals.keys())\n",
    "    random.shuffle(prefectures)\n",
    "\n",
    "    for question_num in range(len(prefectures)):\n",
    "        # 正解と誤答を取得する\n",
    "        correct_answer = capitals[prefectures[question_num]]\n",
    "        wrong_answers = list(capitals.values())\n",
    "        del wrong_answers[wrong_answers.index(correct_answer)]\n",
    "        wrong_answers = random.sample(wrong_answers, 3)\n",
    "        answer_options = wrong_answers + [correct_answer]\n",
    "        random.shuffle(answer_options)\n",
    "\n",
    "        # 問題文と回答選択肢を問題ファイルに書く\n",
    "        quiz_file.write('{}. {}の都道府県庁所在地は?\\n'.format(question_num + 1,\n",
    "            prefectures[question_num]))\n",
    "        for i in range(4):\n",
    "            quiz_file.write(' {}. {}\\n'.format('ABCD'[i], answer_options[i]))\n",
    "        quiz_file.write('\\n')\n",
    "\n",
    "        # 答えの選択肢をファイルに書く\n",
    "        answer_key_file.write('{}. {}\\n'.format(question_num + 1, 'ABCD'[\n",
    "            answer_options.index(correct_answer)]))\n",
    "\n",
    "    quiz_file.close()\n",
    "    answer_key_file.close()\n"
   ]
  },
  {
   "cell_type": "markdown",
   "metadata": {},
   "source": [
    "## 8.7 プロジェクト：マルチクリップボード\n",
    "キーワードを入力し、クリップボードのテキストを登録する"
   ]
  },
  {
   "cell_type": "code",
   "execution_count": 30,
   "metadata": {},
   "outputs": [],
   "source": [
    "#! python3\n",
    "# mcb.pyw - クリップボードのテキストを保存・復元\n",
    "# Usage:\n",
    "# py.exe mcb.pyw save <keyword> - クリップボードをキーワードに紐づけて保存\n",
    "# py.exe mcb.pyw <keyword> - キーワードに紐づけられたテキストをクリップボードにコピー\n",
    "# py.exe mcb.pyw list - 全キーワードをクリップボードにコピー\n",
    "\n",
    "#保存先を指定\n",
    "folder='C:\\\\Users\\\\nakam\\\\Python\\\\Data\\\\Boring_Python\\\\8.7\\\\'\n",
    "\n",
    "import shelve, pyperclip, sys\n",
    "\n",
    "mcb_shelf = shelve.open(folder+'mcb')\n",
    "\n",
    "# クリップボードの内容を保存\n",
    "if len(sys.argv) == 3 and sys.argv[1].lower() == 'save':\n",
    "    mcb_shelf[sys.argv[2]] = pyperclip.paste()\n",
    "elif len(sys.argv) == 2:\n",
    "    # キーワード一覧と、内容の読み込み\n",
    "    if sys.argv[1].lower() == 'list':\n",
    "        pyperclip.copy(str(list(mcb_shelf.keys())))\n",
    "    elif sys.argv[1] in mcb_shelf:\n",
    "        pyperclip.copy(mcb_shelf[sys.argv[1]])\n",
    "\n",
    "mcb_shelf.close()"
   ]
  },
  {
   "cell_type": "markdown",
   "metadata": {},
   "source": [
    "## 8.10 演習プロジェクト\n",
    "### 8.10.1 マルチクリップボードを拡張する\n",
    "マルチクリップボードに削除機能を追加する"
   ]
  },
  {
   "cell_type": "code",
   "execution_count": 31,
   "metadata": {},
   "outputs": [],
   "source": [
    "#! python3\n",
    "# -*- coding: utf-8 -*-\n",
    "\n",
    "# 演習プロジェクト 8.10.1 \n",
    "# mcb2.pyw - クリップボードのテキストを保存・復元\n",
    "#\n",
    "# Usage:\n",
    "# py.exe mcb2.pyw save <keyword> - クリップボードをキーワードに紐づけて保存\n",
    "# py.exe mcb2.pyw <keyword> - キーワードに紐づけられたテキストをクリップボードにコピー\n",
    "# py.exe mcb2.pyw list - 全キーワードをクリップボードにコピー\n",
    "#\n",
    "# 以下、演習プロジェクトで追加した機能\n",
    "# py.exe mcb2.pyw delete <keyword> - キーワードに紐づけられたテキストを削除\n",
    "# py.exe mcb2.pyw delete all - すべてのテキストを削除\n",
    "\n",
    "#保存先を指定\n",
    "folder='C:\\\\Users\\\\nakam\\\\Python\\\\Data\\\\Boring_Python\\\\8.7\\\\'\n",
    "\n",
    "import shelve, pyperclip, sys\n",
    "\n",
    "mcb_shelf = shelve.open(folder+'mcb')\n",
    "\n",
    "# クリップボードの内容を保存\n",
    "if len(sys.argv) == 3:\n",
    "    if sys.argv[1].lower() == 'save':\n",
    "        mcb_shelf[sys.argv[2]] = pyperclip.paste()\n",
    "    elif sys.argv[1].lower() == 'delete':  # 削除機能\n",
    "        if sys.argv[2].lower() == 'all':\n",
    "           mcb_shelf.clear()          # 全削除\n",
    "        else:\n",
    "           del mcb_shelf[sys.argv[2]] # 指定したキーワードのテキストを削除\n",
    "elif len(sys.argv) == 2:\n",
    "    # キーワード一覧と、内容の読み込み\n",
    "    if sys.argv[1].lower() == 'list':\n",
    "        pyperclip.copy(str(list(mcb_shelf.keys())))\n",
    "    elif sys.argv[1] in mcb_shelf:\n",
    "        pyperclip.copy(mcb_shelf[sys.argv[1]])\n",
    "else:\n",
    "    print(\"\"\"使い方：\n",
    "py.exe mcb2.pyw save <keyword> - クリップボードをキーワードに紐づけて保存\n",
    "py.exe mcb2.pyw <keyword> - キーワードに紐づけられたテキストをクリップボードにコピー\n",
    "py.exe mcb2.pyw list - 全キーワードをクリップボードにコピー\n",
    "py.exe mcb2.pyw delete <keyword> - キーワードに紐づけられたテキストを削除\n",
    "py.exe mcb2.pyw delete all - すべてのテキストを削除\n",
    "\"\"\")\n",
    "\n",
    "mcb_shelf.close()"
   ]
  },
  {
   "cell_type": "markdown",
   "metadata": {},
   "source": [
    "### 8.10.2 作文ジェネレータ\n",
    "文章の動詞、形容詞、名詞を書き換える作文ジェネレータ"
   ]
  },
  {
   "cell_type": "code",
   "execution_count": 32,
   "metadata": {},
   "outputs": [
    {
     "name": "stdout",
     "output_type": "stream",
     "text": [
      "Enter an adjective:\n",
      "ADJ\n",
      "Enter a noun:\n",
      "NOU\n",
      "Enter a verb:\n",
      "VER\n",
      "Enter a noun:\n",
      "NOU\n",
      "The ADJ panda walked to the NOU and then VER. A nearby NOU was unaffected by these events."
     ]
    }
   ],
   "source": [
    "import sys\n",
    "import re\n",
    "\n",
    "src_data='The ADJECTIVE panda walked to the NOUN and then VERB. A nearby NOUN was unaffected by these events.'\n",
    "\n",
    "# 置き換える文字列\n",
    "pattern = re.compile(r'(ADJECTIVE|NOUN|VERB|ADVERB)')\n",
    "\n",
    "while True: #すべての置換が終わるまでループ\n",
    "    # 出現順にユーザに問い合わせる\n",
    "    mo = pattern.search(src_data)\n",
    "    if not mo:\n",
    "        break\n",
    "\n",
    "    # プロンプトを表示して、入力を受け付ける。\n",
    "    print('Enter a', end='')\n",
    "    # ADJECTIVE と ADVERB の場合は、冠詞を an にする\n",
    "    if mo.group(1)[0] == 'A':\n",
    "        print('n', end='')\n",
    "    print(' ' + mo.group(1).lower() + ':')\n",
    "    repl = input()\n",
    "\n",
    "    # ひとつだけ置換する\n",
    "    src_data = src_data.replace(mo.group(1), repl, 1) #1個目のみ置換\n",
    "\n",
    "# 置換結果を画面に表示する\n",
    "print(src_data, end='')"
   ]
  },
  {
   "cell_type": "markdown",
   "metadata": {},
   "source": [
    "### 8.10.3 正規表現検索\n",
    "フォルダ内のすべてのtxtファイルを開いて、正規表現にマッチする行を検索する"
   ]
  },
  {
   "cell_type": "code",
   "execution_count": 33,
   "metadata": {},
   "outputs": [
    {
     "name": "stdout",
     "output_type": "stream",
     "text": [
      "keywordを入力してください\n",
      "World\n",
      "\n",
      "Hello - コピー - コピー - コピー.txt : Hello World\n",
      "Hello - コピー - コピー.txt : Hello World\n",
      "Hello - コピー.txt : Hello World\n",
      "Hello.txt : Hello World\n"
     ]
    }
   ],
   "source": [
    "import os\n",
    "import re\n",
    "\n",
    "print('keywordを入力してください')\n",
    "keyword=input()\n",
    "print('')\n",
    "\n",
    "pattern=re.compile(keyword)\n",
    "folder='C:\\\\Users\\\\nakam\\\\Python\\\\Data\\\\Boring_Python\\\\8.2.1'\n",
    "\n",
    "for filename in os.listdir(folder):\n",
    "    if not filename.lower().endswith('.txt'):\n",
    "        continue\n",
    "    # テキストファイルを開く。文字コードはUTF-8とする。\n",
    "    # シフトJISコードの場合は、encoding='shift_jis'としてください。\n",
    "    \n",
    "    txt_file = open(folder+'\\\\'+filename, 'r', encoding='utf-8')\n",
    "    for line in txt_file:\n",
    "        mo = pattern.search(line)\n",
    "        if mo: #正規表現に一致した場合\n",
    "            print(filename, ':',  line)\n",
    "    txt_file.close()"
   ]
  }
 ],
 "metadata": {
  "kernelspec": {
   "display_name": "Python 3",
   "language": "python",
   "name": "python3"
  },
  "language_info": {
   "codemirror_mode": {
    "name": "ipython",
    "version": 3
   },
   "file_extension": ".py",
   "mimetype": "text/x-python",
   "name": "python",
   "nbconvert_exporter": "python",
   "pygments_lexer": "ipython3",
   "version": "3.7.4"
  }
 },
 "nbformat": 4,
 "nbformat_minor": 2
}
