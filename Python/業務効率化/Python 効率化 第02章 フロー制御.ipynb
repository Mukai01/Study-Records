{
 "cells": [
  {
   "cell_type": "markdown",
   "metadata": {},
   "source": [
    "# 第2章 フロー制御"
   ]
  },
  {
   "cell_type": "markdown",
   "metadata": {},
   "source": [
    "## 2.1 ブール型\n",
    "ブール型：True/Falseの2種類の数値しかとれない"
   ]
  },
  {
   "cell_type": "markdown",
   "metadata": {},
   "source": [
    "## 2.2 比較演算子\n",
    "2つの値を比較し、1つのブール値を返す"
   ]
  },
  {
   "cell_type": "code",
   "execution_count": 1,
   "metadata": {},
   "outputs": [],
   "source": [
    "#等しい：==\n",
    "#等しくない：!=\n",
    "#より小さい：<\n",
    "#より大きい：>\n",
    "#以下：<=\n",
    "#以上：>="
   ]
  },
  {
   "cell_type": "markdown",
   "metadata": {},
   "source": [
    "## 2.3 ブール演算子\n",
    "### 2.3.1 二項ブール演算子"
   ]
  },
  {
   "cell_type": "code",
   "execution_count": 2,
   "metadata": {},
   "outputs": [
    {
     "name": "stdout",
     "output_type": "stream",
     "text": [
      "False\n",
      "True\n"
     ]
    }
   ],
   "source": [
    "print(True and False)\n",
    "print(True or False)"
   ]
  },
  {
   "cell_type": "markdown",
   "metadata": {},
   "source": [
    "### 2.3.2 not演算子"
   ]
  },
  {
   "cell_type": "code",
   "execution_count": 3,
   "metadata": {},
   "outputs": [
    {
     "data": {
      "text/plain": [
       "False"
      ]
     },
     "execution_count": 3,
     "metadata": {},
     "output_type": "execute_result"
    }
   ],
   "source": [
    "not True"
   ]
  },
  {
   "cell_type": "markdown",
   "metadata": {},
   "source": [
    "## 2.4 ブール演算子と比較演算子"
   ]
  },
  {
   "cell_type": "code",
   "execution_count": 4,
   "metadata": {},
   "outputs": [
    {
     "data": {
      "text/plain": [
       "True"
      ]
     },
     "execution_count": 4,
     "metadata": {},
     "output_type": "execute_result"
    }
   ],
   "source": [
    "#優先順位は比較演算子⇒not演算子⇒and演算子⇒or演算子\n",
    "\n",
    "(4<5) and (5<6)"
   ]
  },
  {
   "cell_type": "markdown",
   "metadata": {},
   "source": [
    "## 2.7 フロー制御文\n",
    "### 2.7.1 if文"
   ]
  },
  {
   "cell_type": "code",
   "execution_count": 5,
   "metadata": {},
   "outputs": [
    {
     "name": "stdout",
     "output_type": "stream",
     "text": [
      "君はAliceでも子供でもないね\n"
     ]
    }
   ],
   "source": [
    "name='Bob'\n",
    "age=15\n",
    "\n",
    "if name=='Alice':\n",
    "    print('やあ,Alice')\n",
    "elif age < 12:\n",
    "    print('Aliceじゃないね、お嬢ちゃん')\n",
    "else:\n",
    "    print('君はAliceでも子供でもないね')"
   ]
  },
  {
   "cell_type": "markdown",
   "metadata": {},
   "source": [
    "### 2.7.4 Whileループ文"
   ]
  },
  {
   "cell_type": "code",
   "execution_count": 6,
   "metadata": {},
   "outputs": [
    {
     "name": "stdout",
     "output_type": "stream",
     "text": [
      "Hello World!\n",
      "Hello World!\n",
      "Hello World!\n",
      "Hello World!\n",
      "Hello World!\n"
     ]
    }
   ],
   "source": [
    "spam=0\n",
    "while spam<5: #spam<5の場合ループ\n",
    "    print('Hello World!')\n",
    "    spam=spam+1"
   ]
  },
  {
   "cell_type": "markdown",
   "metadata": {},
   "source": [
    "#### 2.7.4.1 やっかいなwhileループ\n",
    "正しく入力されるまでループ"
   ]
  },
  {
   "cell_type": "code",
   "execution_count": 7,
   "metadata": {},
   "outputs": [
    {
     "name": "stdout",
     "output_type": "stream",
     "text": [
      "あなたの名前を入力してください\n",
      "Nakamukai\n",
      "あなたの名前を入力してください\n",
      "Yasunori\n",
      "どうも\n"
     ]
    }
   ],
   "source": [
    "name=''\n",
    "while name!='Yasunori':\n",
    "    print('あなたの名前を入力してください')\n",
    "    name=input()\n",
    "print('どうも')"
   ]
  },
  {
   "cell_type": "markdown",
   "metadata": {},
   "source": [
    "### 2.7.5 break文\n",
    "正しく入力されるまでループ"
   ]
  },
  {
   "cell_type": "code",
   "execution_count": 8,
   "metadata": {},
   "outputs": [
    {
     "name": "stdout",
     "output_type": "stream",
     "text": [
      "あなたの名前を入力してください\n",
      "Nakamukai\n",
      "あなたの名前を入力してください\n",
      "Yasunori\n",
      "どうも\n"
     ]
    }
   ],
   "source": [
    "while True:\n",
    "    print('あなたの名前を入力してください')\n",
    "    name=input()\n",
    "    if name=='Yasunori':\n",
    "        break #ループを抜ける\n",
    "print('どうも')"
   ]
  },
  {
   "cell_type": "markdown",
   "metadata": {},
   "source": [
    "### 2.7.6 continue文\n",
    "正しく入力されるまでループ"
   ]
  },
  {
   "cell_type": "code",
   "execution_count": 9,
   "metadata": {},
   "outputs": [
    {
     "name": "stdout",
     "output_type": "stream",
     "text": [
      "あなたの名前を入力してください\n",
      "Nakamukai\n",
      "あなたの名前を入力してください\n",
      "YAsunori\n",
      "あなたの名前を入力してください\n",
      "Yasunori\n",
      "どうも\n"
     ]
    }
   ],
   "source": [
    "while True:\n",
    "    print('あなたの名前を入力してください')\n",
    "    name=input()\n",
    "    if name !='Yasunori':\n",
    "        continue #ループの先頭に戻る\n",
    "    print('どうも')\n",
    "    break"
   ]
  },
  {
   "cell_type": "code",
   "execution_count": 10,
   "metadata": {},
   "outputs": [
    {
     "name": "stdout",
     "output_type": "stream",
     "text": [
      "あなたの名前を入力してください\n",
      "\n",
      "あなたの名前を入力してください\n",
      "Yasunori\n",
      "どうも\n"
     ]
    }
   ],
   "source": [
    "#空文字列でなければループを抜ける場合\n",
    "\n",
    "name=''\n",
    "while not name: #nameが空文字列であればnot nameはTrueを返し、ループする\n",
    "    print('あなたの名前を入力してください')\n",
    "    name=input()\n",
    "print('どうも')"
   ]
  },
  {
   "cell_type": "markdown",
   "metadata": {},
   "source": [
    "### 2.7.7 forループとrange関数"
   ]
  },
  {
   "cell_type": "code",
   "execution_count": 11,
   "metadata": {},
   "outputs": [
    {
     "name": "stdout",
     "output_type": "stream",
     "text": [
      "0\n",
      "2\n",
      "4\n",
      "6\n",
      "8\n"
     ]
    }
   ],
   "source": [
    "for i in range(0,10,2): #0から8までを2ステップずつ増やしていく\n",
    "    print(i)"
   ]
  },
  {
   "cell_type": "markdown",
   "metadata": {},
   "source": [
    "## 2.8 モジュールのインポート\n",
    "モジュール：関連する関数を備えたPythonのプログラム"
   ]
  },
  {
   "cell_type": "code",
   "execution_count": 12,
   "metadata": {},
   "outputs": [
    {
     "name": "stdout",
     "output_type": "stream",
     "text": [
      "8\n",
      "7\n",
      "9\n",
      "9\n",
      "7\n"
     ]
    }
   ],
   "source": [
    "import random #randomモジュールのインポート\n",
    "for i in range(5):\n",
    "    print(random.randint(1,10))"
   ]
  },
  {
   "cell_type": "markdown",
   "metadata": {},
   "source": [
    "## 2.9 sys.exit()関数を用いたプログラムの終了"
   ]
  },
  {
   "cell_type": "code",
   "execution_count": 13,
   "metadata": {},
   "outputs": [
    {
     "name": "stdout",
     "output_type": "stream",
     "text": [
      "終了するにはexitと入力してください。\n",
      "a\n",
      "aと入力されました。\n",
      "終了するにはexitと入力してください。\n",
      "exit\n"
     ]
    },
    {
     "ename": "SystemExit",
     "evalue": "",
     "output_type": "error",
     "traceback": [
      "An exception has occurred, use %tb to see the full traceback.\n",
      "\u001b[1;31mSystemExit\u001b[0m\n"
     ]
    },
    {
     "name": "stderr",
     "output_type": "stream",
     "text": [
      "C:\\Users\\nakam\\Anaconda3\\lib\\site-packages\\IPython\\core\\interactiveshell.py:3334: UserWarning: To exit: use 'exit', 'quit', or Ctrl-D.\n",
      "  warn(\"To exit: use 'exit', 'quit', or Ctrl-D.\", stacklevel=1)\n"
     ]
    }
   ],
   "source": [
    "import sys\n",
    "while True:\n",
    "    print('終了するにはexitと入力してください。')\n",
    "    response=input()\n",
    "    if response=='exit':\n",
    "        sys.exit()\n",
    "    print(response+'と入力されました。')"
   ]
  }
 ],
 "metadata": {
  "kernelspec": {
   "display_name": "Python 3",
   "language": "python",
   "name": "python3"
  },
  "language_info": {
   "codemirror_mode": {
    "name": "ipython",
    "version": 3
   },
   "file_extension": ".py",
   "mimetype": "text/x-python",
   "name": "python",
   "nbconvert_exporter": "python",
   "pygments_lexer": "ipython3",
   "version": "3.7.4"
  }
 },
 "nbformat": 4,
 "nbformat_minor": 2
}
