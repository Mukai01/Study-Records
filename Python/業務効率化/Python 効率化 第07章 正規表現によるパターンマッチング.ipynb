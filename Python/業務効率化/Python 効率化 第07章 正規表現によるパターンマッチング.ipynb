{
 "cells": [
  {
   "cell_type": "markdown",
   "metadata": {},
   "source": [
    "# 第7章 正規表現によるパターンマッチング"
   ]
  },
  {
   "cell_type": "markdown",
   "metadata": {},
   "source": [
    "## 7.2 正規表現を用いてテキストパターンを検索\n",
    "regex : regular expression"
   ]
  },
  {
   "cell_type": "code",
   "execution_count": 1,
   "metadata": {},
   "outputs": [
    {
     "name": "stdout",
     "output_type": "stream",
     "text": [
      "<re.Match object; span=(7, 19), match='415-555-4242'>\n",
      "415-555-4242\n"
     ]
    }
   ],
   "source": [
    "import re\n",
    "\n",
    "phone_num_regex=re.compile(r'\\d\\d\\d-\\d\\d\\d-\\d\\d\\d\\d') #regexオブジェクトを格納\n",
    "mo=phone_num_regex.search('私の電話番号は415-555-4242です') #検索結果をmoに格納\n",
    "\n",
    "print(mo) #matchオブジェクトを返す\n",
    "print(mo.group()) #matchオブジェクトにはgroupメソッドがあり、実際のテキストを返す"
   ]
  },
  {
   "cell_type": "markdown",
   "metadata": {},
   "source": [
    "## 7.3 正規表現によるパターンマッチの続き\n",
    "### 7.3.1 丸カッコを用いたグルーピング"
   ]
  },
  {
   "cell_type": "code",
   "execution_count": 2,
   "metadata": {},
   "outputs": [
    {
     "name": "stdout",
     "output_type": "stream",
     "text": [
      "<re.Match object; span=(7, 19), match='415-555-4242'>\n",
      "415\n",
      "555-4242\n",
      "415-555-4242\n",
      "('415', '555-4242')\n"
     ]
    }
   ],
   "source": [
    "import re\n",
    "\n",
    "phone_num_regex=re.compile(r'(\\d\\d\\d)-(\\d\\d\\d-\\d\\d\\d\\d)') #グルーピングを使用\n",
    "mo=phone_num_regex.search('私の電話番号は415-555-4242です') \n",
    "\n",
    "print(mo)\n",
    "print(mo.group(1))\n",
    "print(mo.group(2))\n",
    "print(mo.group(0))\n",
    "print(mo.groups()) #すべてのグループを一度に取得したい場合"
   ]
  },
  {
   "cell_type": "code",
   "execution_count": 3,
   "metadata": {},
   "outputs": [
    {
     "name": "stdout",
     "output_type": "stream",
     "text": [
      "415\n",
      "555-4242\n"
     ]
    }
   ],
   "source": [
    "#複数代入法を使って以下のように変数を代入可能\n",
    "area_code, main_number=mo.groups()\n",
    "print(area_code)\n",
    "print(main_number)"
   ]
  },
  {
   "cell_type": "code",
   "execution_count": 4,
   "metadata": {},
   "outputs": [
    {
     "name": "stdout",
     "output_type": "stream",
     "text": [
      "None\n",
      "True\n"
     ]
    }
   ],
   "source": [
    "#無い場合を検出したい場合は以下\n",
    "phone_num_regex=re.compile(r'(\\d\\d\\d)-(\\d\\d\\d-\\d\\d\\d\\d)') #グルーピングを使用\n",
    "mo=phone_num_regex.search('私の電話番号は0415-0555-04242です') \n",
    "\n",
    "print(mo)\n",
    "print(mo==None)"
   ]
  },
  {
   "cell_type": "code",
   "execution_count": 5,
   "metadata": {},
   "outputs": [
    {
     "name": "stdout",
     "output_type": "stream",
     "text": [
      "('(415)', '555-4242')\n"
     ]
    }
   ],
   "source": [
    "#丸カッコを検索したい場合は\\でエスケープする\n",
    "\n",
    "phone_num_regex=re.compile(r'(\\(\\d\\d\\d\\))-(\\d\\d\\d-\\d\\d\\d\\d)') #グルーピングを使用\n",
    "mo=phone_num_regex.search('私の電話番号は(415)-555-4242です') \n",
    "\n",
    "print(mo.groups())"
   ]
  },
  {
   "cell_type": "markdown",
   "metadata": {},
   "source": [
    "### 7.3.2 縦線を使って複数のグループとマッチする\n",
    "縦線にマッチさせたい場合はエスケープする"
   ]
  },
  {
   "cell_type": "code",
   "execution_count": 6,
   "metadata": {},
   "outputs": [
    {
     "name": "stdout",
     "output_type": "stream",
     "text": [
      "Batmobile\n"
     ]
    }
   ],
   "source": [
    "bat_regex=re.compile(r'Bat(man|mobile|copter|bat)') #縦線を使用し、複数パターンの内の一つとマッチさせる\n",
    "mo=bat_regex.search('Batmobile lost a wheel') \n",
    "\n",
    "print(mo.group(0))"
   ]
  },
  {
   "cell_type": "markdown",
   "metadata": {},
   "source": [
    "### 7.3.3 疑問符を用いた任意のマッチ\n",
    "疑問符にマッチさせたい場合はエスケープする"
   ]
  },
  {
   "cell_type": "code",
   "execution_count": 7,
   "metadata": {},
   "outputs": [
    {
     "name": "stdout",
     "output_type": "stream",
     "text": [
      "Batman\n"
     ]
    }
   ],
   "source": [
    "bat_regex=re.compile(r'Bat(wo)?man') #?を使用し、直前のパターンが0回もしくは1回現れる場合にマッチ\n",
    "mo=bat_regex.search('The Adventures of Batman') \n",
    "\n",
    "print(mo.group(0))"
   ]
  },
  {
   "cell_type": "markdown",
   "metadata": {},
   "source": [
    "### 7.3.4 アスタリスクを用いた0回以上のマッチ\n",
    "アスタリスクにマッチさせたい場合はエスケープする"
   ]
  },
  {
   "cell_type": "code",
   "execution_count": 8,
   "metadata": {},
   "outputs": [
    {
     "name": "stdout",
     "output_type": "stream",
     "text": [
      "Batwowowowowoman\n"
     ]
    }
   ],
   "source": [
    "bat_regex=re.compile(r'Bat(wo)*man') #*を使用し、直前のパターンが0回以上現れる場合にマッチ\n",
    "mo=bat_regex.search('The Adventures of Batwowowowowoman') \n",
    "\n",
    "print(mo.group(0))"
   ]
  },
  {
   "cell_type": "markdown",
   "metadata": {},
   "source": [
    "### 7.3.5 プラスを用いた1回以上のマッチ\n",
    "プラスにマッチさせたい場合はエスケープする"
   ]
  },
  {
   "cell_type": "code",
   "execution_count": 9,
   "metadata": {},
   "outputs": [
    {
     "name": "stdout",
     "output_type": "stream",
     "text": [
      "Batwowowowowoman\n"
     ]
    }
   ],
   "source": [
    "bat_regex=re.compile(r'Bat(wo)+man') #+を使用し、直前のパターンが1回以上現れる場合にマッチ\n",
    "mo=bat_regex.search('The Adventures of Batwowowowowoman') \n",
    "\n",
    "print(mo.group(0))"
   ]
  },
  {
   "cell_type": "markdown",
   "metadata": {},
   "source": [
    "### 7.3.6 波カッコを用いて繰り返し回数を指定"
   ]
  },
  {
   "cell_type": "code",
   "execution_count": 10,
   "metadata": {},
   "outputs": [
    {
     "name": "stdout",
     "output_type": "stream",
     "text": [
      "Batwowowowowoman\n",
      "None\n"
     ]
    }
   ],
   "source": [
    "bat_regex=re.compile(r'Bat(wo){2,5}man') #{}を使用し、直前のパターンが2-5回現れる場合にマッチ\n",
    "mo=bat_regex.search('The Adventures of Batwowowowowoman') \n",
    "\n",
    "bat_regex2=re.compile(r'Bat(wo){2}man') #{}を使用し、直前のパターンが2回現れる場合にマッチ\n",
    "mo2=bat_regex2.search('The Adventures of Batwowowowowoman') \n",
    "\n",
    "print(mo.group(0))\n",
    "print(mo2)"
   ]
  },
  {
   "cell_type": "markdown",
   "metadata": {},
   "source": [
    "## 7.4 貪欲マッチ・非貪欲マッチ"
   ]
  },
  {
   "cell_type": "code",
   "execution_count": 11,
   "metadata": {},
   "outputs": [
    {
     "name": "stdout",
     "output_type": "stream",
     "text": [
      "wowowowowo\n"
     ]
    }
   ],
   "source": [
    "#貪欲マッチ\n",
    "bat_regex=re.compile(r'(wo){2,5}')\n",
    "mo=bat_regex.search('The Adventures of Batwowowowowoman') \n",
    "print(mo.group(0))"
   ]
  },
  {
   "cell_type": "code",
   "execution_count": 12,
   "metadata": {},
   "outputs": [
    {
     "name": "stdout",
     "output_type": "stream",
     "text": [
      "wowo\n"
     ]
    }
   ],
   "source": [
    "#非貪欲マッチ\n",
    "bat_regex=re.compile(r'(wo){2,5}?') #?をつけると最小回数でマッチする\n",
    "mo=bat_regex.search('The Adventures of Batwowowowowoman') \n",
    "print(mo.group(0))"
   ]
  },
  {
   "cell_type": "markdown",
   "metadata": {},
   "source": [
    "## 7.5 findall()メソッド"
   ]
  },
  {
   "cell_type": "code",
   "execution_count": 13,
   "metadata": {},
   "outputs": [
    {
     "name": "stdout",
     "output_type": "stream",
     "text": [
      "['415-555-9999', '212-555-0000']\n"
     ]
    }
   ],
   "source": [
    "#マッチした文字列のリストを返す\n",
    "phone_num_regex=re.compile(r'\\d\\d\\d-\\d\\d\\d-\\d\\d\\d\\d')\n",
    "mo=phone_num_regex.findall('Cell:415-555-9999 Work:212-555-0000')\n",
    "print(mo)"
   ]
  },
  {
   "cell_type": "code",
   "execution_count": 14,
   "metadata": {},
   "outputs": [
    {
     "name": "stdout",
     "output_type": "stream",
     "text": [
      "[('415', '555', '9999'), ('212', '555', '0000')]\n"
     ]
    }
   ],
   "source": [
    "#グループ化した場合はタプルのリストを返す\n",
    "phone_num_regex=re.compile(r'(\\d\\d\\d)-(\\d\\d\\d)-(\\d\\d\\d\\d)')\n",
    "mo=phone_num_regex.findall('Cell:415-555-9999 Work:212-555-0000')\n",
    "print(mo)"
   ]
  },
  {
   "cell_type": "markdown",
   "metadata": {},
   "source": [
    "## 7.6 文字集合"
   ]
  },
  {
   "cell_type": "code",
   "execution_count": 15,
   "metadata": {},
   "outputs": [],
   "source": [
    "# \\d: 0-9の数字\n",
    "# \\D: 0-9の数字以外\n",
    "# \\w: 文字、数字、下線\n",
    "# \\W: 文字、数字、下線以外\n",
    "# \\s: スペース、タブ、改行\n",
    "# \\S: スペース、タブ、改行以外"
   ]
  },
  {
   "cell_type": "markdown",
   "metadata": {},
   "source": [
    "## 7.7 文字集合の定義"
   ]
  },
  {
   "cell_type": "code",
   "execution_count": 16,
   "metadata": {},
   "outputs": [
    {
     "data": {
      "text/plain": [
       "['e', 'o', 'i', 'e', 'o', 'e', 'e', 'o', 'u']"
      ]
     },
     "execution_count": 16,
     "metadata": {},
     "output_type": "execute_result"
    }
   ],
   "source": [
    "#[]で文字集合を定義可能。[]内はエスケープ不要。\n",
    "vowel_regex=re.compile(r'[aiueoAIUEO]')\n",
    "vowel_regex.findall('Hello. Nice To Meet You.')"
   ]
  },
  {
   "cell_type": "code",
   "execution_count": 17,
   "metadata": {},
   "outputs": [
    {
     "data": {
      "text/plain": [
       "['H', 'l', 'l', '.', ' ', 'N', 'c', ' ', 'T', ' ', 'M', 't', ' ', 'Y', '.']"
      ]
     },
     "execution_count": 17,
     "metadata": {},
     "output_type": "execute_result"
    }
   ],
   "source": [
    "#^ をつけると補集合を表す\n",
    "vowel_regex=re.compile(r'[^aiueoAIUEO]')\n",
    "vowel_regex.findall('Hello. Nice To Meet You.')"
   ]
  },
  {
   "cell_type": "markdown",
   "metadata": {},
   "source": [
    "## 7.8 キャレットとドル記号"
   ]
  },
  {
   "cell_type": "code",
   "execution_count": 18,
   "metadata": {},
   "outputs": [
    {
     "data": {
      "text/plain": [
       "<re.Match object; span=(0, 5), match='Hello'>"
      ]
     },
     "execution_count": 18,
     "metadata": {},
     "output_type": "execute_result"
    }
   ],
   "source": [
    "#^ は文字列の先頭とマッチすることを指定する時に使用\n",
    "begins_with_hello=re.compile(r'^Hello')\n",
    "begins_with_hello.search('Hello World')"
   ]
  },
  {
   "cell_type": "code",
   "execution_count": 19,
   "metadata": {},
   "outputs": [
    {
     "data": {
      "text/plain": [
       "<re.Match object; span=(6, 11), match='World'>"
      ]
     },
     "execution_count": 19,
     "metadata": {},
     "output_type": "execute_result"
    }
   ],
   "source": [
    "#$ は文字列の最後とマッチすることを指定する時に使用\n",
    "begins_with_hello=re.compile(r'World$')\n",
    "begins_with_hello.search('Hello World')"
   ]
  },
  {
   "cell_type": "markdown",
   "metadata": {},
   "source": [
    "## 7.9 ワイルドカード文字"
   ]
  },
  {
   "cell_type": "code",
   "execution_count": 20,
   "metadata": {},
   "outputs": [
    {
     "data": {
      "text/plain": [
       "['cat', 'hat', 'sat', 'lat', 'mat']"
      ]
     },
     "execution_count": 20,
     "metadata": {},
     "output_type": "execute_result"
    }
   ],
   "source": [
    "#. は改行以外の任意の文字とマッチする\n",
    "at_regex=re.compile(r'.at')\n",
    "at_regex.findall('The cat in the hat sat on the flat mat')"
   ]
  },
  {
   "cell_type": "markdown",
   "metadata": {},
   "source": [
    "### 7.9.1 ドットとアスタリスクであらゆる文字列とマッチ"
   ]
  },
  {
   "cell_type": "code",
   "execution_count": 21,
   "metadata": {},
   "outputs": [
    {
     "name": "stdout",
     "output_type": "stream",
     "text": [
      "AI\n",
      "Sweigart\n"
     ]
    }
   ],
   "source": [
    "name_regex=re.compile(r'First Name: (.*) Last Name: (.*)')\n",
    "mo=name_regex.search('First Name: AI Last Name: Sweigart')\n",
    "print(mo.group(1))\n",
    "print(mo.group(2))"
   ]
  },
  {
   "cell_type": "code",
   "execution_count": 22,
   "metadata": {},
   "outputs": [
    {
     "name": "stdout",
     "output_type": "stream",
     "text": [
      "<re.Match object; span=(0, 14), match='<To serve man>'>\n"
     ]
    }
   ],
   "source": [
    "#非貪欲マッチしたい場合は?を使用する\n",
    "nongreedy_regex=re.compile(r'<.*?>')\n",
    "mo=nongreedy_regex.search('<To serve man>for dinner.>')\n",
    "print(mo)"
   ]
  },
  {
   "cell_type": "markdown",
   "metadata": {},
   "source": [
    "### 7.9.2 ドット文字を改行とマッチさせる"
   ]
  },
  {
   "cell_type": "code",
   "execution_count": 23,
   "metadata": {},
   "outputs": [
    {
     "data": {
      "text/plain": [
       "'Serve the public trust.'"
      ]
     },
     "execution_count": 23,
     "metadata": {},
     "output_type": "execute_result"
    }
   ],
   "source": [
    "no_newline_regex=re.compile('.*') #改行にはマッチしない\n",
    "no_newline_regex.search('Serve the public trust.\\nProtest the innocent.').group()"
   ]
  },
  {
   "cell_type": "code",
   "execution_count": 24,
   "metadata": {},
   "outputs": [
    {
     "data": {
      "text/plain": [
       "'Serve the public trust.\\nProtest the innocent.'"
      ]
     },
     "execution_count": 24,
     "metadata": {},
     "output_type": "execute_result"
    }
   ],
   "source": [
    "no_newline_regex=re.compile('.*',re.DOTALL) #改行にもマッチする\n",
    "no_newline_regex.search('Serve the public trust.\\nProtest the innocent.').group()"
   ]
  },
  {
   "cell_type": "markdown",
   "metadata": {},
   "source": [
    "## 7.11 大文字・小文字を無視したマッチ"
   ]
  },
  {
   "cell_type": "code",
   "execution_count": 25,
   "metadata": {},
   "outputs": [
    {
     "data": {
      "text/plain": [
       "<re.Match object; span=(0, 7), match='Robocop'>"
      ]
     },
     "execution_count": 25,
     "metadata": {},
     "output_type": "execute_result"
    }
   ],
   "source": [
    "robocop=re.compile(r'robocop',re.I) #大文字・小文字を無視したマッチ\n",
    "robocop.search('Robocop')"
   ]
  },
  {
   "cell_type": "markdown",
   "metadata": {},
   "source": [
    "## 7.12 sub()メソッドを用いた文字列の置換"
   ]
  },
  {
   "cell_type": "code",
   "execution_count": 26,
   "metadata": {},
   "outputs": [
    {
     "data": {
      "text/plain": [
       "'CENSORED gave the secret documents to CENSORED.'"
      ]
     },
     "execution_count": 26,
     "metadata": {},
     "output_type": "execute_result"
    }
   ],
   "source": [
    "names_regex=re.compile(r'Agent \\w+')\n",
    "names_regex.sub('CENSORED','Agent Alice gave the secret documents to Agent Bob.')"
   ]
  },
  {
   "cell_type": "code",
   "execution_count": 27,
   "metadata": {},
   "outputs": [
    {
     "data": {
      "text/plain": [
       "'A*** gave the secret documents to B***.'"
      ]
     },
     "execution_count": 27,
     "metadata": {},
     "output_type": "execute_result"
    }
   ],
   "source": [
    "# \\1とするとグループ1とマッチした文字列に置き換える\n",
    "names_regex=re.compile(r'Agent (\\w)\\w*')\n",
    "names_regex.sub(r'\\1***','Agent Alice gave the secret documents to Agent Bob.')"
   ]
  },
  {
   "cell_type": "markdown",
   "metadata": {},
   "source": [
    "## 7.13 複雑な正規表現を管理する"
   ]
  },
  {
   "cell_type": "code",
   "execution_count": 28,
   "metadata": {},
   "outputs": [],
   "source": [
    "#re.VERBOSEを渡すことで、空白やコメントを無視できる\n",
    "\n",
    "phone_regex=re.compile(r'''( \n",
    "(\\d{3}|\\(\\d{3}\\))?             #3桁の市外局番(()がついていてもよい)\n",
    "(\\s|-|\\.)?                     #区切り（スペースかハイフンかドット）\n",
    "\\d{3}                          #3桁の市外局番\n",
    "(\\s|-|\\.)                      #区切り\n",
    "\\d{4}                          #4桁の番号\n",
    "(\\s*(ext|x|ext.)\\s*\\d{2,5})?   #2-5桁の内線番号\n",
    ")''',re.VERBOSE)"
   ]
  },
  {
   "cell_type": "markdown",
   "metadata": {},
   "source": [
    "## 7.14 複数の第2引数を組み合わせる\n",
    "大文字と小文字を区別せずに、改行にもマッチさせ、コメントも書きたい場合"
   ]
  },
  {
   "cell_type": "code",
   "execution_count": 29,
   "metadata": {},
   "outputs": [],
   "source": [
    "some_regex_value=re.compile('正規表現',re.IGNORECASE|re.DOTALL|re.VERBOSE)"
   ]
  },
  {
   "cell_type": "markdown",
   "metadata": {},
   "source": [
    "## 7.15 プロジェクト：電話番号と電子メールアドレスの抽出"
   ]
  },
  {
   "cell_type": "code",
   "execution_count": 30,
   "metadata": {},
   "outputs": [
    {
     "name": "stdout",
     "output_type": "stream",
     "text": [
      "電話番号やメールアドレスは見つかりませんでした。\n"
     ]
    }
   ],
   "source": [
    "#クリップボードから電話番号とメアドを検索する（日本語版）\n",
    "\n",
    "import pyperclip, re\n",
    "\n",
    "# 日本の電話番号パターンにしたもの\n",
    "phone_regex = re.compile(r'''(\n",
    "    (0\\d{0,3}|\\(\\d{0,3}\\))           # 市外局番\n",
    "    (\\s|-)                           # 区切り\n",
    "    (\\d{1,4})                        # 市内局番\n",
    "    (\\s|-)                           # 区切り\n",
    "    (\\d{3,4})                        # 加入者番号\n",
    "    (\\s*(ext|x|ext.)\\s*(\\d{2,5}))?   # 内線番号\n",
    "    )''', re.VERBOSE)\n",
    "\n",
    "# 電子メールの正規表現を作る。\n",
    "email_regex = re.compile(r'''(\n",
    "    [a-zA-Z0-9._%+-]+  # ユーザー名\n",
    "    @                  # @ 記号\n",
    "    [a-zA-Z0-9.-]+     # ドメイン名\n",
    "    (\\.[a-zA-Z]{2,4})  # ドットなんとか\n",
    "    )''', re.VERBOSE)\n",
    "\n",
    "# クリップボードのテキストを検索する。\n",
    "text = str(pyperclip.paste())\n",
    "matches = []\n",
    "\n",
    "for groups in phone_regex.findall(text): #マッチしたリストをループ\n",
    "    phone_num = '-'.join([groups[1], groups[3], groups[5]])\n",
    "    if groups[8] != '':\n",
    "        phone_num += ' x' + groups[8]\n",
    "    matches.append(phone_num)\n",
    "\n",
    "for groups in email_regex.findall(text):\n",
    "    matches.append(groups[0])\n",
    "\n",
    "# 検索結果をクリップボードに貼り付ける。\n",
    "if len(matches) > 0:\n",
    "    pyperclip.copy('\\n'.join(matches))\n",
    "    print('クリップボードにコピーしました:')\n",
    "    print('\\n'.join(matches))\n",
    "\n",
    "else:\n",
    "    print('電話番号やメールアドレスは見つかりませんでした。')"
   ]
  },
  {
   "cell_type": "markdown",
   "metadata": {},
   "source": [
    "## 7.18 演習プロジェクト\n",
    "### 7.18.1 強いパスワードの検出"
   ]
  },
  {
   "cell_type": "code",
   "execution_count": 31,
   "metadata": {},
   "outputs": [
    {
     "name": "stdout",
     "output_type": "stream",
     "text": [
      "パスワードを入力してください（終了するにはEnter）\n",
      "mhi1234\n",
      "passowrdは脆弱です\n",
      "パスワードを入力してください（終了するにはEnter）\n",
      "\n"
     ]
    }
   ],
   "source": [
    "#強いパスワードかどうかを判定する\n",
    "\n",
    "import re\n",
    "\n",
    "# 強いパスワードならTrue、そうでなければFalseを返す\n",
    "def check_password(password):\n",
    "    if len(password) < 8:  #8文字以上\n",
    "        return False\n",
    "    if not re.search(r'[a-z]', password): #小文字を含む\n",
    "        return False\n",
    "    if not re.search(r'[A-Z]', password): #大文字を含む\n",
    "        return False\n",
    "    if not re.search(r'[0-9]', password): #数字を含む\n",
    "        return False\n",
    "    return True\n",
    "\n",
    "while True:\n",
    "    print('パスワードを入力してください（終了するにはEnter）')\n",
    "    password = input()\n",
    "    if password=='':\n",
    "        break\n",
    "    if check_password(password)==True:\n",
    "        print('passwordに問題ありません')\n",
    "    else:\n",
    "        print('passowrdは脆弱です')\n",
    "            \n"
   ]
  },
  {
   "cell_type": "markdown",
   "metadata": {},
   "source": [
    "### 7.18.2 正規表現を用いたstrip()メソッド"
   ]
  },
  {
   "cell_type": "code",
   "execution_count": 32,
   "metadata": {},
   "outputs": [
    {
     "name": "stdout",
     "output_type": "stream",
     "text": [
      "arg            restrip(s)     s.strip()      match\n",
      "--------------------------------------------------\n",
      "\" spam \"       \"spam\"         \"spam\"         ==\n",
      "\"  spam  \"     \"spam\"         \"spam\"         ==\n",
      "\" spam\"        \"spam\"         \"spam\"         ==\n",
      "\"spam \"        \"spam\"         \"spam\"         ==\n",
      "\"spam\"         \"spam\"         \"spam\"         ==\n",
      "\" spam spam \"  \"spam spam\"    \"spam spam\"    ==\n",
      "\n",
      "arg                 restrip(s, 'EG')    s.strip('EG')       match\n",
      "-----------------------------------------------------------------\n",
      "\"EspamG\"            \"spam\"              \"spam\"              ==\n",
      "\"EspamG\"            \"spam\"              \"spam\"              ==\n",
      "\"EGspamEG\"          \"spam\"              \"spam\"              ==\n",
      "\" EspamG \"          \" EspamG \"          \" EspamG \"          ==\n",
      "\"Espam\"             \"spam\"              \"spam\"              ==\n",
      "\"spamE\"             \"spam\"              \"spam\"              ==\n",
      "\"spam\"              \"spam\"              \"spam\"              ==\n",
      "\"EspamEspamE\"       \"spamEspam\"         \"spamEspam\"         ==\n"
     ]
    }
   ],
   "source": [
    "#strip()と同等の働きをする関数を書く\n",
    "#引数を文字列の先頭と文末から削除する\n",
    "\n",
    "import re\n",
    "\n",
    "# 前後にcharsの0回以上の繰り返しを持つ非貪欲マッチをする\n",
    "def restrip(s, chars=r'\\s'):\n",
    "    return re.sub('^[' + chars + ']*(.*?)[' + chars + ']*$', r'\\1', s)\n",
    "\n",
    "# テスト用\n",
    "if __name__ == '__main__':\n",
    "    def dquote(s):\n",
    "        return '\"' + s + '\"'\n",
    "\n",
    "    def print_comp(args, func1, func2):\n",
    "        max_len = max([len(arg) + 2 for arg in args + [func1, func2]])\n",
    "        heading = '{:<{len}}  {:<{len}}  {:<{len}}  match'.format(\n",
    "          'arg', func1, func2, len=max_len)\n",
    "        print(heading)\n",
    "        print('-' * len(heading))\n",
    "        f1 = eval('lambda s: ' + func1)\n",
    "        f2 = eval('lambda s: ' + func2)\n",
    "        for arg in args:\n",
    "            s1 = dquote(f1(arg))\n",
    "            s2 = dquote(f2(arg))\n",
    "            print('{:<{len}}  {:<{len}}  {:<{len}}  {}'.format(\n",
    "              dquote(arg), s1, s2, '==' if s1 == s2 else '!=', len=max_len))\n",
    "\n",
    "    args = [' spam ', '  spam  ', ' spam', 'spam ', 'spam', ' spam spam ']\n",
    "    print_comp(args, \"restrip(s)\", \"s.strip()\")\n",
    "    print()\n",
    "\n",
    "    args = ['EspamG', 'EspamG', 'EGspamEG', ' EspamG ', 'Espam', 'spamE',\n",
    "            'spam', 'EspamEspamE']\n",
    "    print_comp(args, \"restrip(s, 'EG')\", \"s.strip('EG')\")"
   ]
  },
  {
   "cell_type": "code",
   "execution_count": 33,
   "metadata": {},
   "outputs": [
    {
     "data": {
      "text/plain": [
       "'---Hello world!!---'"
      ]
     },
     "execution_count": 33,
     "metadata": {},
     "output_type": "execute_result"
    }
   ],
   "source": [
    "#strip()と同等の働きをする関数を書く\n",
    "#引数を文字列の先頭と文末から削除する\n",
    "\n",
    "import re\n",
    "\n",
    "# 前後にcharsの0回以上の繰り返しを持つ非貪欲マッチをする\n",
    "def restrip(s, chars=r'\\s'):\n",
    "    return re.sub('^[' + chars + ']*(.*?)[' + chars + ']*$', r'\\1', s)\n",
    "\n",
    "s='---Hello world!!---'\n",
    "restrip(s)"
   ]
  }
 ],
 "metadata": {
  "kernelspec": {
   "display_name": "Python 3",
   "language": "python",
   "name": "python3"
  },
  "language_info": {
   "codemirror_mode": {
    "name": "ipython",
    "version": 3
   },
   "file_extension": ".py",
   "mimetype": "text/x-python",
   "name": "python",
   "nbconvert_exporter": "python",
   "pygments_lexer": "ipython3",
   "version": "3.7.6"
  }
 },
 "nbformat": 4,
 "nbformat_minor": 2
}
