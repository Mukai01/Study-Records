{
 "cells": [
  {
   "cell_type": "markdown",
   "metadata": {},
   "source": [
    "# 第6章 文字列操作"
   ]
  },
  {
   "cell_type": "markdown",
   "metadata": {},
   "source": [
    "## 6.1 文字列を操作する\n",
    "### 6.1.1 文字列リテラル\n",
    "#### 6.1.1.1 ダブルクォート\n",
    "シングルクォートを使いたい場合はダブルクォートでくくる"
   ]
  },
  {
   "cell_type": "code",
   "execution_count": 1,
   "metadata": {},
   "outputs": [],
   "source": [
    "spam=\"That is Alice's cat.\""
   ]
  },
  {
   "cell_type": "markdown",
   "metadata": {},
   "source": [
    "#### 6.1.1.2 エスケープ文字\n",
    "普通に文字列の中に入れられない文字を入れる方法"
   ]
  },
  {
   "cell_type": "code",
   "execution_count": 2,
   "metadata": {},
   "outputs": [
    {
     "name": "stdout",
     "output_type": "stream",
     "text": [
      "Hello there!\n",
      "How are you?\n",
      "I'm doing fine.\n"
     ]
    }
   ],
   "source": [
    "#\\' :シングルクォート\n",
    "#\\\" :ダブルクォート\n",
    "#\\t :タブ\n",
    "#\\n :改行\n",
    "#\\\\ :バックスラッシュ\n",
    "\n",
    "print(\"Hello there!\\nHow are you?\\nI\\'m doing fine.\")"
   ]
  },
  {
   "cell_type": "markdown",
   "metadata": {},
   "source": [
    "#### 6.1.1.3 raw文字列\n",
    "文字列の中のエスケープ文字を無視する"
   ]
  },
  {
   "cell_type": "code",
   "execution_count": 3,
   "metadata": {},
   "outputs": [
    {
     "name": "stdout",
     "output_type": "stream",
     "text": [
      "That is Carol\\'s cat.\n"
     ]
    }
   ],
   "source": [
    "print(r'That is Carol\\'s cat.')"
   ]
  },
  {
   "cell_type": "markdown",
   "metadata": {},
   "source": [
    "#### 6.1.1.4 三連クォートによる複数行文字列\n",
    "タブ、改行、クォートは文字列の一部として解釈される"
   ]
  },
  {
   "cell_type": "code",
   "execution_count": 4,
   "metadata": {},
   "outputs": [
    {
     "name": "stdout",
     "output_type": "stream",
     "text": [
      "Dear Alice,\n",
      "\n",
      "Eve's cat has been arrested for catnapping, cat burglary, and extortion.\n",
      "\n",
      "Sincerely,\n",
      "Bob\n"
     ]
    }
   ],
   "source": [
    "print('''Dear Alice,\n",
    "\n",
    "Eve's cat has been arrested for catnapping, cat burglary, and extortion.\n",
    "\n",
    "Sincerely,\n",
    "Bob''')"
   ]
  },
  {
   "cell_type": "markdown",
   "metadata": {},
   "source": [
    "#### 6.1.1.5 複数行コメント\n",
    "複数行文字列を複数行コメントとして使用可能"
   ]
  },
  {
   "cell_type": "code",
   "execution_count": 5,
   "metadata": {},
   "outputs": [
    {
     "name": "stdout",
     "output_type": "stream",
     "text": [
      "Hello\n"
     ]
    }
   ],
   "source": [
    "\"\"\"テスト用の\n",
    "Pythonプログラムです\"\"\"\n",
    "\n",
    "print('Hello')"
   ]
  },
  {
   "cell_type": "markdown",
   "metadata": {},
   "source": [
    "### 6.1.2 文字列のインデックスとスライス"
   ]
  },
  {
   "cell_type": "code",
   "execution_count": 6,
   "metadata": {},
   "outputs": [
    {
     "name": "stdout",
     "output_type": "stream",
     "text": [
      "Hello\n",
      "Hello World\n"
     ]
    }
   ],
   "source": [
    "spam='Hello World'\n",
    "fizz=spam[0:5] #部分文字列をスライス\n",
    "print(fizz)\n",
    "print(spam)"
   ]
  },
  {
   "cell_type": "markdown",
   "metadata": {},
   "source": [
    "### 6.1.3 文字列に対するinとnot in演算子"
   ]
  },
  {
   "cell_type": "code",
   "execution_count": 7,
   "metadata": {},
   "outputs": [
    {
     "data": {
      "text/plain": [
       "True"
      ]
     },
     "execution_count": 7,
     "metadata": {},
     "output_type": "execute_result"
    }
   ],
   "source": [
    "'Hello' in 'Hello World'"
   ]
  },
  {
   "cell_type": "code",
   "execution_count": 8,
   "metadata": {},
   "outputs": [
    {
     "data": {
      "text/plain": [
       "True"
      ]
     },
     "execution_count": 8,
     "metadata": {},
     "output_type": "execute_result"
    }
   ],
   "source": [
    "'cats' not in 'Hello World'"
   ]
  },
  {
   "cell_type": "markdown",
   "metadata": {},
   "source": [
    "## 6.2 文字列メソッド\n",
    "### 6.2.1 upper(),lower(),isupper(),islower()"
   ]
  },
  {
   "cell_type": "code",
   "execution_count": 9,
   "metadata": {},
   "outputs": [
    {
     "data": {
      "text/plain": [
       "'HELLO WORLD'"
      ]
     },
     "execution_count": 9,
     "metadata": {},
     "output_type": "execute_result"
    }
   ],
   "source": [
    "spam='Hello World'\n",
    "spam.upper() #大文字に変換"
   ]
  },
  {
   "cell_type": "code",
   "execution_count": 10,
   "metadata": {},
   "outputs": [
    {
     "data": {
      "text/plain": [
       "'hello world'"
      ]
     },
     "execution_count": 10,
     "metadata": {},
     "output_type": "execute_result"
    }
   ],
   "source": [
    "spam.lower() #小文字に変換"
   ]
  },
  {
   "cell_type": "code",
   "execution_count": 11,
   "metadata": {},
   "outputs": [
    {
     "data": {
      "text/plain": [
       "False"
      ]
     },
     "execution_count": 11,
     "metadata": {},
     "output_type": "execute_result"
    }
   ],
   "source": [
    "spam.isupper() #文字がすべて大文字であればTrue,そうでなければFalseを返す"
   ]
  },
  {
   "cell_type": "markdown",
   "metadata": {},
   "source": [
    "### 6.2.2 isXという文字列メソッド"
   ]
  },
  {
   "cell_type": "code",
   "execution_count": 12,
   "metadata": {},
   "outputs": [
    {
     "name": "stdout",
     "output_type": "stream",
     "text": [
      "True\n",
      "False\n"
     ]
    }
   ],
   "source": [
    "#1文字以上の英文字のみからなる場合True\n",
    "print('hello'.isalpha())\n",
    "print('hello123'.isalpha())"
   ]
  },
  {
   "cell_type": "code",
   "execution_count": 13,
   "metadata": {},
   "outputs": [
    {
     "name": "stdout",
     "output_type": "stream",
     "text": [
      "True\n",
      "True\n"
     ]
    }
   ],
   "source": [
    "#1文字以上の英文字か数字から構成されている場合True\n",
    "print('hello'.isalnum())\n",
    "print('hello123'.isalnum())"
   ]
  },
  {
   "cell_type": "code",
   "execution_count": 14,
   "metadata": {},
   "outputs": [
    {
     "name": "stdout",
     "output_type": "stream",
     "text": [
      "False\n",
      "True\n"
     ]
    }
   ],
   "source": [
    "#1文字以上の数字だけから構成されている場合True\n",
    "print('hello123'.isdecimal())\n",
    "print('123'.isdecimal())"
   ]
  },
  {
   "cell_type": "code",
   "execution_count": 15,
   "metadata": {},
   "outputs": [
    {
     "name": "stdout",
     "output_type": "stream",
     "text": [
      "True\n"
     ]
    }
   ],
   "source": [
    "#スペース、タブ、改行だけから構成されている場合True\n",
    "print(' '.isspace())"
   ]
  },
  {
   "cell_type": "code",
   "execution_count": 16,
   "metadata": {},
   "outputs": [
    {
     "name": "stdout",
     "output_type": "stream",
     "text": [
      "True\n"
     ]
    }
   ],
   "source": [
    "#大文字から始まり残りがすべて小文字の英単語から構成される場合True\n",
    "print('Hello World'.istitle())"
   ]
  },
  {
   "cell_type": "markdown",
   "metadata": {},
   "source": [
    "#### ユーザー入力の検証"
   ]
  },
  {
   "cell_type": "code",
   "execution_count": 17,
   "metadata": {},
   "outputs": [
    {
     "name": "stdout",
     "output_type": "stream",
     "text": [
      "年齢を入力してください\n",
      "a\n",
      "年齢は数字で入力してください\n",
      "年齢を入力してください\n",
      "25\n",
      "新しいパスワードを入力してください（英数字のみ)\n",
      "abcd\n"
     ]
    }
   ],
   "source": [
    "while True:\n",
    "    print('年齢を入力してください')\n",
    "    age=input()\n",
    "    if age.isdecimal():\n",
    "        break\n",
    "    print('年齢は数字で入力してください')\n",
    "    \n",
    "while True:\n",
    "    print('新しいパスワードを入力してください（英数字のみ)')\n",
    "    password=input()\n",
    "    if password.isalnum():\n",
    "        break\n",
    "    print('パスワードは英数字で入力してください')"
   ]
  },
  {
   "cell_type": "markdown",
   "metadata": {},
   "source": [
    "### 6.2.3 startswith()メソッドとendswith()メソッド"
   ]
  },
  {
   "cell_type": "code",
   "execution_count": 18,
   "metadata": {},
   "outputs": [
    {
     "data": {
      "text/plain": [
       "True"
      ]
     },
     "execution_count": 18,
     "metadata": {},
     "output_type": "execute_result"
    }
   ],
   "source": [
    "'Hello World'.startswith('Hello')"
   ]
  },
  {
   "cell_type": "code",
   "execution_count": 19,
   "metadata": {},
   "outputs": [
    {
     "data": {
      "text/plain": [
       "True"
      ]
     },
     "execution_count": 19,
     "metadata": {},
     "output_type": "execute_result"
    }
   ],
   "source": [
    "'Hello World'.endswith('rld')"
   ]
  },
  {
   "cell_type": "markdown",
   "metadata": {},
   "source": [
    "### 6.2.4 join()メソッドとsplit()メソッド"
   ]
  },
  {
   "cell_type": "code",
   "execution_count": 20,
   "metadata": {},
   "outputs": [
    {
     "data": {
      "text/plain": [
       "'cats+dogs+bats'"
      ]
     },
     "execution_count": 20,
     "metadata": {},
     "output_type": "execute_result"
    }
   ],
   "source": [
    "'+'.join(['cats','dogs','bats']) #リストを結合"
   ]
  },
  {
   "cell_type": "code",
   "execution_count": 21,
   "metadata": {},
   "outputs": [
    {
     "data": {
      "text/plain": [
       "['My', 'name', 'is', 'Nick']"
      ]
     },
     "execution_count": 21,
     "metadata": {},
     "output_type": "execute_result"
    }
   ],
   "source": [
    "'My+name+is+Nick'.split('+') #文字列をリストに分割"
   ]
  },
  {
   "cell_type": "code",
   "execution_count": 22,
   "metadata": {},
   "outputs": [
    {
     "data": {
      "text/plain": [
       "['Dear Alice,',\n",
       " \"Eve's cat has been arrested for catnapping, cat burglary, and extortion.\",\n",
       " 'Sincerely,',\n",
       " 'Bob']"
      ]
     },
     "execution_count": 22,
     "metadata": {},
     "output_type": "execute_result"
    }
   ],
   "source": [
    "#複数行文字列の分割\n",
    "spam='''Dear Alice,\n",
    "Eve's cat has been arrested for catnapping, cat burglary, and extortion.\n",
    "Sincerely,\n",
    "Bob'''\n",
    "\n",
    "spam.split('\\n') #改行で分割"
   ]
  },
  {
   "cell_type": "markdown",
   "metadata": {},
   "source": [
    "### 6.2.5 rjust(),ljust(),center()メソッド"
   ]
  },
  {
   "cell_type": "code",
   "execution_count": 23,
   "metadata": {},
   "outputs": [
    {
     "data": {
      "text/plain": [
       "'     Hello'"
      ]
     },
     "execution_count": 23,
     "metadata": {},
     "output_type": "execute_result"
    }
   ],
   "source": [
    "'Hello'.rjust(10)"
   ]
  },
  {
   "cell_type": "code",
   "execution_count": 24,
   "metadata": {},
   "outputs": [
    {
     "data": {
      "text/plain": [
       "'Hello*****'"
      ]
     },
     "execution_count": 24,
     "metadata": {},
     "output_type": "execute_result"
    }
   ],
   "source": [
    "'Hello'.ljust(10,'*')"
   ]
  },
  {
   "cell_type": "code",
   "execution_count": 25,
   "metadata": {},
   "outputs": [
    {
     "data": {
      "text/plain": [
       "'=======Hello========'"
      ]
     },
     "execution_count": 25,
     "metadata": {},
     "output_type": "execute_result"
    }
   ],
   "source": [
    "'Hello'.center(20,'=')"
   ]
  },
  {
   "cell_type": "markdown",
   "metadata": {},
   "source": [
    "#### 辞書の出力"
   ]
  },
  {
   "cell_type": "code",
   "execution_count": 26,
   "metadata": {},
   "outputs": [
    {
     "name": "stdout",
     "output_type": "stream",
     "text": [
      "---PICNIC ITEMS--\n",
      "sandwiches..    4\n",
      "apples......   12\n",
      "cups........    4\n",
      "cookies..... 8000\n",
      "-------PICNIC ITEMS-------\n",
      "sandwiches..........     4\n",
      "apples..............    12\n",
      "cups................     4\n",
      "cookies.............  8000\n"
     ]
    }
   ],
   "source": [
    "#item_dict(辞書)を整えて表示する関数=====================================\n",
    "def print_picnic(items_dict, left_width, right_width):\n",
    "    print('PICNIC ITEMS'.center(left_width + right_width, '-'))\n",
    "    for k, v in items_dict.items():\n",
    "        print(k.ljust(left_width, '.') + str(v).rjust(right_width))\n",
    "#=========================================================================\n",
    "        \n",
    "picnic_items = {'sandwiches': 4, 'apples': 12, 'cups': 4, 'cookies': 8000}\n",
    "print_picnic(picnic_items, 12, 5) #関数呼び出し\n",
    "print_picnic(picnic_items, 20, 6) #関数呼び出し"
   ]
  },
  {
   "cell_type": "markdown",
   "metadata": {},
   "source": [
    "### 6.2.6 strip(),rstrip(),lstrip()メソッド"
   ]
  },
  {
   "cell_type": "code",
   "execution_count": 27,
   "metadata": {},
   "outputs": [
    {
     "data": {
      "text/plain": [
       "'Hello World'"
      ]
     },
     "execution_count": 27,
     "metadata": {},
     "output_type": "execute_result"
    }
   ],
   "source": [
    "spam='      Hello World     '\n",
    "spam.strip() #左端、右端からスペースを除去"
   ]
  },
  {
   "cell_type": "code",
   "execution_count": 28,
   "metadata": {},
   "outputs": [
    {
     "data": {
      "text/plain": [
       "'      Hello World'"
      ]
     },
     "execution_count": 28,
     "metadata": {},
     "output_type": "execute_result"
    }
   ],
   "source": [
    "spam.rstrip()"
   ]
  },
  {
   "cell_type": "code",
   "execution_count": 29,
   "metadata": {},
   "outputs": [
    {
     "data": {
      "text/plain": [
       "'Hello Worldabc'"
      ]
     },
     "execution_count": 29,
     "metadata": {},
     "output_type": "execute_result"
    }
   ],
   "source": [
    "spam='abcHello Worldabc'\n",
    "spam.lstrip('abc') #除去したい文字を引数にする"
   ]
  },
  {
   "cell_type": "markdown",
   "metadata": {},
   "source": [
    "### 6.2.7 pyperclipモジュール"
   ]
  },
  {
   "cell_type": "code",
   "execution_count": 30,
   "metadata": {},
   "outputs": [],
   "source": [
    "import pyperclip\n",
    "pyperclip.copy('Hello World!') #クリップボードに出力"
   ]
  },
  {
   "cell_type": "code",
   "execution_count": 31,
   "metadata": {},
   "outputs": [
    {
     "data": {
      "text/plain": [
       "'Hello World!'"
      ]
     },
     "execution_count": 31,
     "metadata": {},
     "output_type": "execute_result"
    }
   ],
   "source": [
    "pyperclip.paste() #クリップボードから入力"
   ]
  },
  {
   "cell_type": "markdown",
   "metadata": {},
   "source": [
    "## 6.3 プロジェクト：パスワードロッカー\n",
    "キーワードを入れるとパスワードをクリップボードにコピー"
   ]
  },
  {
   "cell_type": "code",
   "execution_count": 32,
   "metadata": {},
   "outputs": [
    {
     "name": "stdout",
     "output_type": "stream",
     "text": [
      "email\n",
      "emailのパスワードをクリップボードにコピーしました\n"
     ]
    }
   ],
   "source": [
    "#! python3\n",
    "# pw.py - パスワード管理プログラム（脆弱性あり）\n",
    "\n",
    "PASSWORDS = {'email': 'F7minlBDDuvMJuxESSKHFhTxFtjVB6',\n",
    "             'blog': 'VmALvQyKAxiVH5G8v01if1MLZF3sdt',\n",
    "             'luggage': '12345'}\n",
    "\n",
    "import sys\n",
    "import pyperclip\n",
    "\n",
    "#jupyter用に改修\n",
    "#if len(sys.argv) < 2:\n",
    "#    print('使い方: python pw.py [アカウント名]')\n",
    "#    print('パスワードをクリップボードにコピーします')\n",
    "#    sys.exit()\n",
    "         \n",
    "#account = sys.argv[1] # 最初のコマンドライン引数がアカウント名\n",
    "account=input()\n",
    "\n",
    "if account in PASSWORDS:\n",
    "    pyperclip.copy(PASSWORDS[account])\n",
    "    print(account + 'のパスワードをクリップボードにコピーしました')\n",
    "else:\n",
    "    print(account + 'というアカウント名はありません')"
   ]
  },
  {
   "cell_type": "markdown",
   "metadata": {},
   "source": [
    "## 6.4 プロジェクト：Wikiで箇条書きのマークアップ\n",
    "クリップボードのテキストの各行に点を打って、箇条書きにする"
   ]
  },
  {
   "cell_type": "code",
   "execution_count": 36,
   "metadata": {},
   "outputs": [
    {
     "name": "stdout",
     "output_type": "stream",
     "text": [
      "* Pythonには、読みやすく、\r\n",
      "* それでいて効率もよいコードを\r\n",
      "* なるべく簡単に書けるようにする\r\n",
      "* という思想が浸透しており、\r\n",
      "* Pythonコミュニティでも\r\n",
      "* 単純で短いコードをよしとする傾向が強い\n"
     ]
    }
   ],
   "source": [
    "#! python3\n",
    "# bulletPointAdder.py - クリップボードのテキストの各行に\n",
    "# 点を打って、Wikipediaの箇条書きにする\n",
    "\n",
    "import pyperclip\n",
    "text = pyperclip.paste()\n",
    "\n",
    "# 行を分割して、'*'を追加する\n",
    "lines = text.split('\\n') #改行で分割\n",
    "for i in range(len(lines)):    # \"lines\"リストの各要素をループする\n",
    "    lines[i] = '* ' + lines[i] # \"lines\"の要素に\"* \"を追加する\n",
    "\n",
    "text = '\\n'.join(lines) #改行を加えて、結合\n",
    "\n",
    "pyperclip.copy(text)\n",
    "print(text)"
   ]
  },
  {
   "cell_type": "markdown",
   "metadata": {},
   "source": [
    "## 6.7 演習プロジェクト\n",
    "辞書にリストの内容を追加\n",
    "入手したアイテムを辞書に追加するプログラム"
   ]
  },
  {
   "cell_type": "code",
   "execution_count": 37,
   "metadata": {},
   "outputs": [
    {
     "name": "stdout",
     "output_type": "stream",
     "text": [
      "  apples Alice  dogs \n",
      " oranges   Bob  cats \n",
      "cherries Carol moose \n",
      "  banana David goose \n"
     ]
    }
   ],
   "source": [
    "# 演習プロジェクト 6.7.1\n",
    "\n",
    "#多重リストを整形して出力する関数=================================================\n",
    "def print_table(table_data):\n",
    "    col_n = len(table_data) #3行\n",
    "    row_n = len(table_data[0]) #4列\n",
    "\n",
    "    col_width = [0] * col_n\n",
    "    \n",
    "    for c in range(col_n):\n",
    "        for row in table_data[c]:\n",
    "            col_width[c] = max(col_width[c], len(row)) #各行の最大の文字数を検索\n",
    "\n",
    "    for r in range(row_n):\n",
    "        for c in range(col_n):\n",
    "            print(table_data[c][r].rjust(col_width[c]), end=' ') #改行無しでprint\n",
    "        print() #行が変わるときに改行\n",
    "#=================================================================================\n",
    "\n",
    "\n",
    "table_data = [['apples', 'oranges', 'cherries', 'banana'],\n",
    "              ['Alice', 'Bob', 'Carol', 'David',],\n",
    "              ['dogs', 'cats', 'moose', 'goose']]\n",
    "print_table(table_data)\n"
   ]
  }
 ],
 "metadata": {
  "kernelspec": {
   "display_name": "Python 3",
   "language": "python",
   "name": "python3"
  },
  "language_info": {
   "codemirror_mode": {
    "name": "ipython",
    "version": 3
   },
   "file_extension": ".py",
   "mimetype": "text/x-python",
   "name": "python",
   "nbconvert_exporter": "python",
   "pygments_lexer": "ipython3",
   "version": "3.7.4"
  }
 },
 "nbformat": 4,
 "nbformat_minor": 2
}
