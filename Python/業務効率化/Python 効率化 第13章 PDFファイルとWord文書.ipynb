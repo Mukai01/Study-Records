{
 "cells": [
  {
   "cell_type": "markdown",
   "metadata": {},
   "source": [
    "# 第13章 PDFファイルとWord文書\n",
    "## 13.1 PDF文書\n",
    "### 13.1.1 PDFからテキストを抽出する"
   ]
  },
  {
   "cell_type": "code",
   "execution_count": 1,
   "metadata": {},
   "outputs": [
    {
     "name": "stdout",
     "output_type": "stream",
     "text": [
      "Requirement already satisfied: PyPDF2 in c:\\users\\nakam\\anaconda3\\lib\\site-packages (1.26.0)\n"
     ]
    }
   ],
   "source": [
    "!pip install PyPDF2"
   ]
  },
  {
   "cell_type": "code",
   "execution_count": 2,
   "metadata": {},
   "outputs": [
    {
     "data": {
      "text/plain": [
       "19"
      ]
     },
     "execution_count": 2,
     "metadata": {},
     "output_type": "execute_result"
    }
   ],
   "source": [
    "import PyPDF2\n",
    "\n",
    "file='C:\\\\Users\\\\nakam\\\\Python\\\\Data\\\\Boring_Python\\\\13.1.1\\\\meetingminutes.pdf'\n",
    "pdf_file_obj=open(file,'rb') #読み込みモードでオープン\n",
    "pdf_reader=PyPDF2.PdfFileReader(pdf_file_obj) #PyPDFオブジェクトを格納\n",
    "pdf_reader.numPages #ページ番号を格納"
   ]
  },
  {
   "cell_type": "code",
   "execution_count": 3,
   "metadata": {},
   "outputs": [
    {
     "data": {
      "text/plain": [
       "'OOFFFFIICCIIAALL  BBOOAARRDD  MMIINNUUTTEESS   Meeting of \\nMarch 7\\n, 2014\\n        \\n     The Board of Elementary and Secondary Education shall provide leadership and \\ncreate policies for education that expand opportunities for children, empower \\nfamilies and communities, and advance Louisiana in an increasingly \\ncompetitive glob\\nal market.\\n BOARD \\n of ELEMENTARY\\n and \\n SECONDARY\\n EDUCATION\\n  '"
      ]
     },
     "execution_count": 3,
     "metadata": {},
     "output_type": "execute_result"
    }
   ],
   "source": [
    "page_obj=pdf_reader.getPage(0) #pageオブジェクトを取得\n",
    "page_obj.extractText() #textを抽出"
   ]
  },
  {
   "cell_type": "markdown",
   "metadata": {},
   "source": [
    "### 13.1.2 PDFの暗号を解く"
   ]
  },
  {
   "cell_type": "code",
   "execution_count": 4,
   "metadata": {},
   "outputs": [
    {
     "data": {
      "text/plain": [
       "True"
      ]
     },
     "execution_count": 4,
     "metadata": {},
     "output_type": "execute_result"
    }
   ],
   "source": [
    "file='C:\\\\Users\\\\nakam\\\\Python\\\\Data\\\\Boring_Python\\\\13.1.1\\\\encrypted.pdf'\n",
    "pdf_reader=PyPDF2.PdfFileReader(open(file,'rb'))\n",
    "pdf_reader.isEncrypted #暗号化されていればTrue"
   ]
  },
  {
   "cell_type": "code",
   "execution_count": 5,
   "metadata": {},
   "outputs": [],
   "source": [
    "pdf_reader.decrypt('rosebud') #暗号化解除\n",
    "page_obj=pdf_reader.getPage(0)"
   ]
  },
  {
   "cell_type": "markdown",
   "metadata": {},
   "source": [
    "### 13.1.3 PDFを作成する\n",
    "#### 13.1.3.1 ページをコピーする"
   ]
  },
  {
   "cell_type": "code",
   "execution_count": 6,
   "metadata": {},
   "outputs": [],
   "source": [
    "import PyPDF2, os\n",
    "\n",
    "folder='C:\\\\Users\\\\nakam\\\\Python\\\\Data\\\\Boring_Python\\\\13.1.3'\n",
    "os.chdir(folder)\n",
    "\n",
    "pdf1_file=open('meetingminutes.pdf','rb')\n",
    "pdf2_file=open('meetingminutes2.pdf','rb')\n",
    "pdf1_reader=PyPDF2.PdfFileReader(pdf1_file)\n",
    "pdf2_reader=PyPDF2.PdfFileReader(pdf2_file)\n",
    "\n",
    "pdf_writer=PyPDF2.PdfFileWriter()\n",
    "for page_num in range(pdf1_reader.numPages):\n",
    "    page_obj=pdf1_reader.getPage(page_num) #getPageメソッドでpageオブジェクトを取得\n",
    "    pdf_writer.addPage(page_obj) #addPageメソッドでpdf_writerに渡す\n",
    "    \n",
    "for page_num in range(pdf2_reader.numPages):\n",
    "    page_obj=pdf2_reader.getPage(page_num)\n",
    "    pdf_writer.addPage(page_obj)\n",
    "\n",
    "pdf_output_file=open('combinedminutes1.pdf','wb')\n",
    "pdf_writer.write(pdf_output_file)\n",
    "pdf_output_file.close()\n",
    "pdf1_file.close()\n",
    "pdf2_file.close()"
   ]
  },
  {
   "cell_type": "markdown",
   "metadata": {},
   "source": [
    "#### 13.1.3.2 ページを回転する"
   ]
  },
  {
   "cell_type": "code",
   "execution_count": 7,
   "metadata": {},
   "outputs": [],
   "source": [
    "import PyPDF2\n",
    "minutes_file=open('meetingminutes.pdf','rb')\n",
    "pdf_reader=PyPDF2.PdfFileReader(minutes_file)\n",
    "page=pdf_reader.getPage(0)\n",
    "page.rotateClockwise(90) #90度回転\n",
    "\n",
    "pdf_writer=PyPDF2.PdfFileWriter()\n",
    "pdf_writer.addPage(page)\n",
    "\n",
    "result_pdf_file=open('rotatedPage.pdf','wb')\n",
    "pdf_writer.write(result_pdf_file)\n",
    "result_pdf_file.close()\n",
    "minutes_file.close()"
   ]
  },
  {
   "cell_type": "markdown",
   "metadata": {},
   "source": [
    "#### 13.1.3.3 ページを重ね合わせる"
   ]
  },
  {
   "cell_type": "code",
   "execution_count": 8,
   "metadata": {},
   "outputs": [],
   "source": [
    "import PyPDF2\n",
    "minutes_file=open('meetingminutes.pdf','rb')\n",
    "pdf_reader=PyPDF2.PdfFileReader(minutes_file)\n",
    "minutes_first_page=pdf_reader.getPage(0)\n",
    "pdf_watermark_reader=PyPDF2.PdfFileReader(open('watermark.pdf','rb'))\n",
    "minutes_first_page.mergePage(pdf_watermark_reader.getPage(0)) #pdf_water_markを結合\n",
    "pdf_writer=PyPDF2.PdfFileWriter()\n",
    "pdf_writer.addPage(minutes_first_page)\n",
    "for page_num in range(1,pdf_reader.numPages): #2ページ目以降をコピー\n",
    "    page_obj=pdf_reader.getPage(page_num)\n",
    "    pdf_writer.addPage(page_obj)\n",
    "\n",
    "result_pdf_file=open('watermarkedCover.pdf','wb')\n",
    "pdf_writer.write(result_pdf_file)\n",
    "minutes_file.close()\n",
    "result_pdf_file.close()"
   ]
  },
  {
   "cell_type": "markdown",
   "metadata": {},
   "source": [
    "#### 13.1.3.4 PDFを暗号化する"
   ]
  },
  {
   "cell_type": "code",
   "execution_count": 9,
   "metadata": {},
   "outputs": [],
   "source": [
    "#第1引数がユーザーパスワード：閲覧権限\n",
    "#第2引数がオーナーパスワード：印刷やコメント、テキスト抽出などの権限設定を可能にするもの\n",
    "\n",
    "import PyPDF2\n",
    "pdf_file=open('meetingminutes.pdf','rb')\n",
    "pdf_reader=PyPDF2.PdfFileReader(pdf_file)\n",
    "pdf_writer=PyPDF2.PdfFileWriter()\n",
    "for page_num in range(pdf_reader.numPages):\n",
    "    pdf_writer.addPage(pdf_reader.getPage(page_num))\n",
    "\n",
    "pdf_writer.encrypt('swordfish') #暗号化\n",
    "result_pdf=open('encryptedminutes.pdf','wb')\n",
    "pdf_writer.write(result_pdf)\n",
    "result_pdf.close()"
   ]
  },
  {
   "cell_type": "markdown",
   "metadata": {},
   "source": [
    "## 13.2 演習プロジェクト：多数のPDFから指定したページを結合\n",
    "先頭のページを飛ばして結合"
   ]
  },
  {
   "cell_type": "code",
   "execution_count": 10,
   "metadata": {},
   "outputs": [
    {
     "name": "stdout",
     "output_type": "stream",
     "text": [
      "allminutes.pdf\n",
      "combinedminutes1.pdf\n",
      "meetingminutes.pdf\n",
      "meetingminutes2.pdf\n",
      "rotatedPage.pdf\n",
      "watermark.pdf\n",
      "watermarkedCover.pdf\n"
     ]
    }
   ],
   "source": [
    "import PyPDF2, os\n",
    "\n",
    "# すべてのPDFファイル名を取得する\n",
    "pdf_files = []\n",
    "folder='C:\\\\Users\\\\nakam\\\\Python\\\\Data\\\\Boring_Python\\\\13.2'\n",
    "os.chdir(folder)\n",
    "\n",
    "for filename in os.listdir('.'):\n",
    "    if filename.endswith('.pdf'):\n",
    "        pdf_files.append(filename)\n",
    "\n",
    "pdf_files.sort(key=str.lower)\n",
    "pdf_writer = PyPDF2.PdfFileWriter()\n",
    "\n",
    "# すべてのPDFファイルをループする\n",
    "for filename in pdf_files:\n",
    "    print(filename)\n",
    "    pdf_file_obj = open(filename, 'rb')\n",
    "    pdf_reader = PyPDF2.PdfFileReader(pdf_file_obj)\n",
    "\n",
    "    # 先頭を除くすべてのページをループして追加する\n",
    "    for page_num in range(1, pdf_reader.numPages):\n",
    "        page_obj = pdf_reader.getPage(page_num)\n",
    "        pdf_writer.addPage(page_obj)\n",
    "\n",
    "# 結合したPDFをファイルに保存する\n",
    "pdf_output = open('allminutes.pdf', 'wb')\n",
    "pdf_writer.write(pdf_output)\n",
    "pdf_output.close()"
   ]
  },
  {
   "cell_type": "markdown",
   "metadata": {},
   "source": [
    "## 13.3 Word文書\n",
    "### 13.3.1 Word文書を読み込む"
   ]
  },
  {
   "cell_type": "code",
   "execution_count": 11,
   "metadata": {},
   "outputs": [
    {
     "name": "stdout",
     "output_type": "stream",
     "text": [
      "Requirement already satisfied: python-docx in c:\\users\\nakam\\anaconda3\\lib\\site-packages (0.8.10)\n",
      "Requirement already satisfied: lxml>=2.3.2 in c:\\users\\nakam\\anaconda3\\lib\\site-packages (from python-docx) (4.4.1)\n"
     ]
    }
   ],
   "source": [
    "!pip install python-docx"
   ]
  },
  {
   "cell_type": "code",
   "execution_count": 12,
   "metadata": {},
   "outputs": [
    {
     "data": {
      "text/plain": [
       "7"
      ]
     },
     "execution_count": 12,
     "metadata": {},
     "output_type": "execute_result"
    }
   ],
   "source": [
    "import docx, os\n",
    "\n",
    "folder='C:\\\\Users\\\\nakam\\\\Python\\\\Data\\\\Boring_Python\\\\13.3.1'\n",
    "os.chdir(folder)\n",
    "\n",
    "doc=docx.Document('demo.docx')\n",
    "len(doc.paragraphs) #文書に7つのParagraphオブジェクトがある"
   ]
  },
  {
   "cell_type": "code",
   "execution_count": 13,
   "metadata": {},
   "outputs": [
    {
     "data": {
      "text/plain": [
       "'A plain paragraph with some bold and some italic'"
      ]
     },
     "execution_count": 13,
     "metadata": {},
     "output_type": "execute_result"
    }
   ],
   "source": [
    "doc.paragraphs[1].text #Paragraphオブジェクトのtext属性には文章が格納されている"
   ]
  },
  {
   "cell_type": "code",
   "execution_count": 14,
   "metadata": {},
   "outputs": [
    {
     "data": {
      "text/plain": [
       "4"
      ]
     },
     "execution_count": 14,
     "metadata": {},
     "output_type": "execute_result"
    }
   ],
   "source": [
    "len(doc.paragraphs[1].runs) #このParagraphオブジェクトにruns属性は4つ格納されている"
   ]
  },
  {
   "cell_type": "code",
   "execution_count": 15,
   "metadata": {},
   "outputs": [
    {
     "name": "stdout",
     "output_type": "stream",
     "text": [
      "A plain paragraph with some \n",
      "bold\n",
      " and some \n",
      "italic\n"
     ]
    }
   ],
   "source": [
    "#文章が以下の4つのrun属性に分けられている\n",
    "print(doc.paragraphs[1].runs[0].text)\n",
    "print(doc.paragraphs[1].runs[1].text)\n",
    "print(doc.paragraphs[1].runs[2].text)\n",
    "print(doc.paragraphs[1].runs[3].text)"
   ]
  },
  {
   "cell_type": "markdown",
   "metadata": {},
   "source": [
    "### 13.3.2 .docxファイルから全テキストを取得する"
   ]
  },
  {
   "cell_type": "code",
   "execution_count": 16,
   "metadata": {},
   "outputs": [
    {
     "data": {
      "text/plain": [
       "'Document Title\\nA plain paragraph with some bold and some italic\\nHeading, level 1\\nIntense quote\\nfirst item in unordered list\\nfirst item in ordered list\\n\\n'"
      ]
     },
     "execution_count": 16,
     "metadata": {},
     "output_type": "execute_result"
    }
   ],
   "source": [
    "def get_text(filename):\n",
    "    doc=docx.Document(filename)\n",
    "    full_text=[]\n",
    "    for para in doc.paragraphs:\n",
    "        full_text.append(para.text)\n",
    "    return '\\n'.join(full_text)\n",
    "\n",
    "get_text('demo.docx')"
   ]
  },
  {
   "cell_type": "markdown",
   "metadata": {},
   "source": [
    "### 13.3.5 Runの属性"
   ]
  },
  {
   "cell_type": "code",
   "execution_count": 17,
   "metadata": {},
   "outputs": [
    {
     "data": {
      "text/plain": [
       "_ParagraphStyle('Title') id: 2025192188104"
      ]
     },
     "execution_count": 17,
     "metadata": {},
     "output_type": "execute_result"
    }
   ],
   "source": [
    "#bold : 太字\n",
    "#italic : 斜体\n",
    "#underline : 車線\n",
    "#strike : 取り消し線\n",
    "#double_strike : 二十取り消し線\n",
    "#all_caps : すべて大文字\n",
    "#small_caps : 小型大文字、小文字は2ポイント小さく\n",
    "#shadow : 影付き\n",
    "#outline : 文字の輪郭\n",
    "#rtl : 右から左へ\n",
    "#imprint : へこみ\n",
    "#emboss : エンボス（レリーフ）\n",
    "\n",
    "import docx, os\n",
    "\n",
    "folder='C:\\\\Users\\\\nakam\\\\Python\\\\Data\\\\Boring_Python\\\\13.3.1'\n",
    "os.chdir(folder)\n",
    "\n",
    "doc=docx.Document('demo.docx')\n",
    "\n",
    "doc.paragraphs[0].style #現在のスタイルを確認"
   ]
  },
  {
   "cell_type": "code",
   "execution_count": 18,
   "metadata": {},
   "outputs": [],
   "source": [
    "doc.paragraphs[0].style='Normal' #スタイルの変更\n",
    "\n",
    "doc.paragraphs[1].runs[0].style='Quote Char' #run属性の変更\n",
    "doc.paragraphs[1].runs[0].underline=True\n",
    "\n",
    "doc.save('restyled.docx')"
   ]
  },
  {
   "cell_type": "markdown",
   "metadata": {
    "collapsed": true
   },
   "source": [
    "### 13.3.6 Word文書を書き込む"
   ]
  },
  {
   "cell_type": "code",
   "execution_count": 19,
   "metadata": {},
   "outputs": [],
   "source": [
    "import os, docx\n",
    "\n",
    "folder='C:\\\\Users\\\\nakam\\\\Python\\\\Data\\\\Boring_Python\\\\13.3.1'\n",
    "os.chdir(folder)\n",
    "\n",
    "doc=docx.Document()\n",
    "doc.add_paragraph('Hello World!')\n",
    "doc.save('helloworld.docx')"
   ]
  },
  {
   "cell_type": "code",
   "execution_count": 20,
   "metadata": {},
   "outputs": [],
   "source": [
    "import os, docx\n",
    "\n",
    "doc=docx.Document()\n",
    "para_obj1=doc.add_paragraph('Hello World!')\n",
    "apra_obj2=doc.add_paragraph('Hello World!')\n",
    "para_obj1.add_run('文章を追加') #文章を追加する場合はadd_run\n",
    "\n",
    "doc.save('helloworld.docx')"
   ]
  },
  {
   "cell_type": "code",
   "execution_count": 21,
   "metadata": {},
   "outputs": [],
   "source": [
    "#スタイルを変更して追加\n",
    "import os, docx\n",
    "\n",
    "doc=docx.Document()\n",
    "para_obj1=doc.add_paragraph('Hello World!','Title') #Titleスタイルで追加\n",
    "\n",
    "doc.save('helloworld.docx')"
   ]
  },
  {
   "cell_type": "markdown",
   "metadata": {},
   "source": [
    "### 13.3.7 見出しを追加する"
   ]
  },
  {
   "cell_type": "code",
   "execution_count": 22,
   "metadata": {},
   "outputs": [],
   "source": [
    "import os, docx\n",
    "\n",
    "doc=docx.Document()\n",
    "doc.add_heading('Header0',0) #0 : 冒頭のタイトル見出し\n",
    "doc.add_heading('Header0',1) #1-4 : 大きさを表す\n",
    "doc.add_heading('Header0',2)\n",
    "doc.add_heading('Header0',3)\n",
    "doc.add_heading('Header0',4)\n",
    "para_obj1.add_run('文章を追加') #文章を追加する場合はadd_run\n",
    "\n",
    "doc.save('heading.docx')"
   ]
  },
  {
   "cell_type": "markdown",
   "metadata": {},
   "source": [
    "### 13.3.8 改行と改ページを追加する "
   ]
  },
  {
   "cell_type": "code",
   "execution_count": 23,
   "metadata": {},
   "outputs": [],
   "source": [
    "doc=docx.Document()\n",
    "doc.add_paragraph('1page')\n",
    "doc.add_page_break() #ページ追加\n",
    "doc.add_paragraph('2page')\n",
    "doc.save('twoPage.docx')"
   ]
  },
  {
   "cell_type": "markdown",
   "metadata": {},
   "source": [
    "### 13.3.9 図を追加する"
   ]
  },
  {
   "cell_type": "code",
   "execution_count": 24,
   "metadata": {},
   "outputs": [],
   "source": [
    "#幅1インチ、高さ4cmで図を追加\n",
    "\n",
    "doc=docx.Document()\n",
    "doc.add_picture('zophie.png',width=docx.shared.Inches(1),\n",
    "               height=docx.shared.Cm(4))\n",
    "doc.save('zophie.docx')"
   ]
  },
  {
   "cell_type": "markdown",
   "metadata": {},
   "source": [
    "## 13.6 演習プロジェクト\n",
    "### 13.6.1.1 PDFを纏めて暗号化"
   ]
  },
  {
   "cell_type": "code",
   "execution_count": 25,
   "metadata": {},
   "outputs": [],
   "source": [
    "import os\n",
    "import sys\n",
    "import PyPDF2\n",
    "\n",
    "folder='C:\\\\Users\\\\nakam\\\\Python\\\\Data\\\\Boring_Python\\\\13.6.1'\n",
    "new_folder='C:\\\\Users\\\\nakam\\\\Python\\\\Data\\\\Boring_Python\\\\13.6.1_enc'\n",
    "password='python'\n",
    "\n",
    "for foldername, subfolders, filenames in os.walk(folder):\n",
    "    for filename in filenames:\n",
    "        # PDFファイルでなければスキップ\n",
    "        if not filename.lower().endswith('.pdf'):\n",
    "            continue\n",
    "\n",
    "        # ファイル名を 変更\n",
    "        new_filename = filename[:-4] + '_encrypted.pdf'\n",
    "        filename = os.path.join(foldername, filename)\n",
    "        new_filename = os.path.join(new_folder, new_filename)\n",
    "        \n",
    "        #元ファイルをコピー\n",
    "        pdf_file=open(filename,'rb')\n",
    "        pdf_reader=PyPDF2.PdfFileReader(pdf_file)\n",
    "        pdf_writer=PyPDF2.PdfFileWriter()\n",
    "        \n",
    "        for page_num in range(pdf_reader.numPages):\n",
    "            pdf_writer.addPage(pdf_reader.getPage(page_num))\n",
    "\n",
    "\n",
    "        # 暗号化する\n",
    "        pdf_file = open(new_filename, 'wb')\n",
    "        pdf_writer.encrypt(password)\n",
    "        pdf_writer.write(pdf_file)\n",
    "        pdf_file.close()"
   ]
  },
  {
   "cell_type": "markdown",
   "metadata": {},
   "source": [
    "### 13.6.1.2 フォルダ内のPDFの暗号化解除"
   ]
  },
  {
   "cell_type": "code",
   "execution_count": 26,
   "metadata": {},
   "outputs": [
    {
     "name": "stdout",
     "output_type": "stream",
     "text": [
      "allminutes_encrypted.pdf のパスワードを入力してください...\n",
      "python\n",
      "combinedminutes1_encrypted.pdf のパスワードを入力してください...\n",
      "python\n",
      "meetingminutes2_encrypted.pdf のパスワードを入力してください...\n",
      "a\n",
      "passwordが違います\n",
      "meetingminutes_encrypted.pdf のパスワードを入力してください...\n",
      "a\n",
      "passwordが違います\n",
      "rotatedPage_encrypted.pdf のパスワードを入力してください...\n",
      "a\n",
      "passwordが違います\n",
      "watermarkedCover_encrypted.pdf のパスワードを入力してください...\n",
      "a\n",
      "passwordが違います\n",
      "watermark_encrypted.pdf のパスワードを入力してください...\n",
      "a\n",
      "passwordが違います\n"
     ]
    }
   ],
   "source": [
    "new_folder='C:\\\\Users\\\\nakam\\\\Python\\\\Data\\\\Boring_Python\\\\13.6.1_enc'\n",
    "dec_folder='C:\\\\Users\\\\nakam\\\\Python\\\\Data\\\\Boring_Python\\\\13.6.1_dec'\n",
    "\n",
    "for foldername, subfolders, filenames in os.walk(new_folder):\n",
    "    for filename in filenames:\n",
    "        # PDFファイルでなければスキップ\n",
    "        if not filename.lower().endswith('.pdf'):\n",
    "            continue\n",
    "            \n",
    "        dec_filename = os.path.join(dec_folder, filename)\n",
    "        pdf_reader=PyPDF2.PdfFileReader(open(new_folder+'\\\\'+filename,'rb'))\n",
    "        if pdf_reader.isEncrypted==True:\n",
    "            print(filename,'のパスワードを入力してください...')\n",
    "            password=input()\n",
    "            \n",
    "            try:\n",
    "                pdf_reader.decrypt(password) #暗号化解除\n",
    "                pdf_writer_2=PyPDF2.PdfFileWriter()\n",
    "                for page_num in range(pdf_reader.numPages):\n",
    "                    pdf_writer_2.addPage(pdf_reader.getPage(page_num))\n",
    "                \n",
    "                pdf_file_2 = open(dec_filename, 'wb')\n",
    "                pdf_writer_2.write(pdf_file_2)\n",
    "                pdf_file_2.close()\n",
    "            \n",
    "            except: #passwordが異なる場合\n",
    "                print('passwordが違います')\n",
    "                continue"
   ]
  },
  {
   "cell_type": "markdown",
   "metadata": {},
   "source": [
    "### 13.6.2 Word文書による特性招待状"
   ]
  },
  {
   "cell_type": "code",
   "execution_count": 27,
   "metadata": {},
   "outputs": [
    {
     "name": "stdout",
     "output_type": "stream",
     "text": [
      "['Prof. Plum\\n', 'Miss Scarlet\\n', 'Col. Mustard\\n', 'Al Sweigart\\n', 'Robocop']\n"
     ]
    }
   ],
   "source": [
    "#テキストデータの宛先に招待状を作成\n",
    "#テキストデータには名前が入っている\n",
    "\n",
    "import docx\n",
    "from docx.enum.text import WD_ALIGN_PARAGRAPH\n",
    "\n",
    "#ファイル名を指定\n",
    "file='C:\\\\Users\\\\nakam\\\\Python\\\\Data\\\\Boring_Python\\\\13.6.2\\\\invitation.docx'\n",
    "to='C:\\\\Users\\\\nakam\\\\Python\\\\Data\\\\Boring_Python\\\\13.6.2\\\\guests.txt'\n",
    "doc=docx.Document(file)\n",
    "\n",
    "#テキストデータをオープン\n",
    "guest_content=open(to)\n",
    "guest=guest_content.readlines()\n",
    "print(guest) #データ出力\n",
    "\n",
    "#Wordデータを作成\n",
    "for i in range(0,len(guest)):\n",
    "    guest[i]=guest[i].strip() #stripで\\nを除去\n",
    "    \n",
    "    doc.add_paragraph('It would be a pleasure to have the company of')\n",
    "    doc.add_paragraph(guest[i])\n",
    "    doc.add_paragraph('at 11010 Memory Lane on the Evening of')\n",
    "    doc.add_paragraph('April 1st')\n",
    "    doc.add_paragraph(\"at 7 o'clock\")\n",
    "    doc.add_page_break()\n",
    "\n",
    "#文字をセンタリング\n",
    "for p in doc.paragraphs:\n",
    "    p.alignment = WD_ALIGN_PARAGRAPH.CENTER\n",
    "\n",
    "#Word文書保存\n",
    "doc.save('C:\\\\Users\\\\nakam\\\\Python\\\\Data\\\\Boring_Python\\\\13.6.2\\\\result.docx')"
   ]
  },
  {
   "cell_type": "markdown",
   "metadata": {},
   "source": [
    "### 13.6.3 総当たり方式のPDFパスワード解除"
   ]
  },
  {
   "cell_type": "code",
   "execution_count": 28,
   "metadata": {},
   "outputs": [],
   "source": [
    "import PyPDF2\n",
    "\n",
    "folder='C:\\\\Users\\\\nakam\\\\Python\\\\Data\\\\Boring_Python\\\\13.6.3'\n",
    "os.chdir(folder)\n",
    "pdf_file=open('meetingminutes.pdf','rb')\n",
    "\n",
    "pdf_reader=PyPDF2.PdfFileReader(pdf_file)\n",
    "pdf_writer=PyPDF2.PdfFileWriter()\n",
    "\n",
    "for page_num in range(pdf_reader.numPages):\n",
    "    pdf_writer.addPage(pdf_reader.getPage(page_num))\n",
    "\n",
    "pdf_writer.encrypt('ABANDON')\n",
    "result_pdf=open('encryptedminutes.pdf','wb')\n",
    "pdf_writer.write(result_pdf)\n",
    "result_pdf.close()"
   ]
  },
  {
   "cell_type": "code",
   "execution_count": 29,
   "metadata": {},
   "outputs": [
    {
     "name": "stdout",
     "output_type": "stream",
     "text": [
      "AARHUS\n",
      "aarhus\n",
      "AARON\n",
      "aaron\n",
      "ABABA\n",
      "ababa\n",
      "ABACK\n",
      "aback\n",
      "ABAFT\n",
      "abaft\n",
      "ABANDON\n",
      "password: ABANDON\n"
     ]
    }
   ],
   "source": [
    "#dictionaryを大文字と小文字で試行し、パスワードを解除出来たら表示\n",
    "\n",
    "import PyPDF2, os, sys\n",
    "\n",
    "folder='C:\\\\Users\\\\nakam\\\\Python\\\\Data\\\\Boring_Python\\\\13.6.3'\n",
    "os.chdir(folder)\n",
    "\n",
    "#ファイル名を指定\n",
    "file='encryptedminutes.pdf'\n",
    "\n",
    "#辞書の読み込み\n",
    "dictionary='dictionary.txt'\n",
    "dictionary_content=open(dictionary)\n",
    "password=dictionary_content.readlines()\n",
    "\n",
    "#総当たり実施\n",
    "for i in range(0,len(password)):\n",
    "    password[i]=password[i].strip() #\\nを削除\n",
    "    \n",
    "    pdf_file_obj=open(file,'rb')\n",
    "    pdf_reader=PyPDF2.PdfFileReader(pdf_file_obj)\n",
    "    print(password[i])\n",
    "    if pdf_reader.decrypt(password[i])==1:\n",
    "        print('password:',password[i])\n",
    "        break\n",
    "    \n",
    "    #小文字に変換\n",
    "    password_low=password[i]\n",
    "    password_low=password_low.lower()\n",
    "    print(password_low)\n",
    "\n",
    "    if pdf_reader.decrypt(password_low)==1:\n",
    "        print('password:',password_low)\n",
    "        break\n"
   ]
  }
 ],
 "metadata": {
  "kernelspec": {
   "display_name": "Python 3",
   "language": "python",
   "name": "python3"
  },
  "language_info": {
   "codemirror_mode": {
    "name": "ipython",
    "version": 3
   },
   "file_extension": ".py",
   "mimetype": "text/x-python",
   "name": "python",
   "nbconvert_exporter": "python",
   "pygments_lexer": "ipython3",
   "version": "3.7.7"
  }
 },
 "nbformat": 4,
 "nbformat_minor": 2
}
