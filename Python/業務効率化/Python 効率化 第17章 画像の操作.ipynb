{
 "cells": [
  {
   "cell_type": "markdown",
   "metadata": {},
   "source": [
    "# 第17章 画像の操作"
   ]
  },
  {
   "cell_type": "markdown",
   "metadata": {},
   "source": [
    "## 17.1 コンピュータ画像の基礎\n",
    "### 17.1.1 色とRGBA値\n",
    "A:透明度"
   ]
  },
  {
   "cell_type": "code",
   "execution_count": 1,
   "metadata": {},
   "outputs": [
    {
     "data": {
      "text/plain": [
       "(255, 0, 0, 255)"
      ]
     },
     "execution_count": 1,
     "metadata": {},
     "output_type": "execute_result"
    }
   ],
   "source": [
    "from PIL import ImageColor\n",
    "ImageColor.getcolor('red','RGBA')"
   ]
  },
  {
   "cell_type": "markdown",
   "metadata": {},
   "source": [
    "## 17.2 Pillowで画像を操作する\n",
    "### 17.2.1 Imageオブジェクトを操作する"
   ]
  },
  {
   "cell_type": "code",
   "execution_count": 2,
   "metadata": {},
   "outputs": [],
   "source": [
    "from PIL import Image\n",
    "import os\n",
    "\n",
    "folder='C:\\\\Users\\\\nakam\\\\Python\\\\Data\\\\Boring_Python\\\\17.2'\n",
    "os.chdir(folder)\n",
    "cat_im=Image.open('zophie.png')"
   ]
  },
  {
   "cell_type": "code",
   "execution_count": 3,
   "metadata": {},
   "outputs": [
    {
     "name": "stdout",
     "output_type": "stream",
     "text": [
      "816 1088\n"
     ]
    }
   ],
   "source": [
    "width,height=cat_im.size #幅と高さを取得\n",
    "print(width,height)"
   ]
  },
  {
   "cell_type": "code",
   "execution_count": 4,
   "metadata": {},
   "outputs": [
    {
     "data": {
      "text/plain": [
       "'zophie.png'"
      ]
     },
     "execution_count": 4,
     "metadata": {},
     "output_type": "execute_result"
    }
   ],
   "source": [
    "cat_im.filename #ファイル名を取得"
   ]
  },
  {
   "cell_type": "code",
   "execution_count": 5,
   "metadata": {},
   "outputs": [
    {
     "data": {
      "text/plain": [
       "'PNG'"
      ]
     },
     "execution_count": 5,
     "metadata": {},
     "output_type": "execute_result"
    }
   ],
   "source": [
    "cat_im.format #ファイル形式を取得"
   ]
  },
  {
   "cell_type": "code",
   "execution_count": 6,
   "metadata": {},
   "outputs": [],
   "source": [
    "cat_im.save('zophie.jpg') #jpgとして保存"
   ]
  },
  {
   "cell_type": "code",
   "execution_count": 7,
   "metadata": {},
   "outputs": [],
   "source": [
    "#Image.new関数は空白の画像を作成する\n",
    "\n",
    "im=Image.new('RGBA',(100,200),'purple') #RGBAモードで、大きさ100,200、紫の画像を作成\n",
    "im.save('purpleImage.png') \n",
    "im2=Image.new('RGBA',(20,20)) #透明な画像を作成\n",
    "im2.save('transparentImage.png')"
   ]
  },
  {
   "cell_type": "markdown",
   "metadata": {},
   "source": [
    "### 17.2.2 画像を切り抜く "
   ]
  },
  {
   "cell_type": "code",
   "execution_count": 8,
   "metadata": {},
   "outputs": [],
   "source": [
    "cropped_im=cat_im.crop((335,345,565,560))\n",
    "cropped_im.save('cropped.png')"
   ]
  },
  {
   "cell_type": "markdown",
   "metadata": {},
   "source": [
    "### 17.2.3 画像のコピー＆ペースト"
   ]
  },
  {
   "cell_type": "code",
   "execution_count": 9,
   "metadata": {},
   "outputs": [
    {
     "name": "stdout",
     "output_type": "stream",
     "text": [
      "(230, 215)\n"
     ]
    }
   ],
   "source": [
    "#元画像に切り抜いた画像を貼り付け\n",
    "#透明Pixelを反映するには第三引数にもimを渡す(17.3参照)\n",
    "\n",
    "cat_im=Image.open('zophie.png')\n",
    "cat_copy_im=cat_im.copy()\n",
    "\n",
    "face_im=cat_im.crop((335,345,565,560)) #切り抜く範囲を指定\n",
    "print(face_im.size)\n",
    "\n",
    "cat_copy_im.paste(face_im,(0,0)) #貼り付け画像の座標を指定\n",
    "cat_copy_im.paste(face_im,(400,500))\n",
    "cat_copy_im.save('pasted.png')"
   ]
  },
  {
   "cell_type": "code",
   "execution_count": 10,
   "metadata": {},
   "outputs": [
    {
     "name": "stdout",
     "output_type": "stream",
     "text": [
      "0 0\n",
      "0 215\n",
      "0 430\n",
      "0 645\n",
      "0 860\n",
      "0 1075\n",
      "230 0\n",
      "230 215\n",
      "230 430\n",
      "230 645\n",
      "230 860\n",
      "230 1075\n",
      "460 0\n",
      "460 215\n",
      "460 430\n",
      "460 645\n",
      "460 860\n",
      "460 1075\n",
      "690 0\n",
      "690 215\n",
      "690 430\n",
      "690 645\n",
      "690 860\n",
      "690 1075\n"
     ]
    }
   ],
   "source": [
    "cat_im=Image.open('zophie.png')\n",
    "face_im=cat_im.crop((335,345,565,560))\n",
    "\n",
    "cat_im_width, cat_im_height=cat_im.size\n",
    "face_im_width, face_im_height=face_im.size\n",
    "\n",
    "cat_copy_two=cat_im.copy()\n",
    "\n",
    "#切り抜いた画像を敷き詰めるようにループ\n",
    "for left in range(0, cat_im_width, face_im_width): \n",
    "    for top in range(0, cat_im_height, face_im_height):\n",
    "        print(left,top)\n",
    "        cat_copy_two.paste(face_im, (left,top))\n",
    "        \n",
    "cat_copy_two.save('tiled.png')"
   ]
  },
  {
   "cell_type": "markdown",
   "metadata": {},
   "source": [
    "### 17.2.4 画像をサイズ変更する"
   ]
  },
  {
   "cell_type": "code",
   "execution_count": 11,
   "metadata": {},
   "outputs": [],
   "source": [
    "#縦横半分のサイズに変更\n",
    "width, height=cat_im.size\n",
    "quartersized_im=cat_im.resize((int(width / 2), int(height / 2)))\n",
    "quartersized_im.save('quartersized.png') \n",
    "\n",
    "#高さを300pixel長くする\n",
    "svelte_im=cat_im.resize((width,height+300))\n",
    "svelte_im.save('svelte.png')"
   ]
  },
  {
   "cell_type": "code",
   "execution_count": 12,
   "metadata": {},
   "outputs": [
    {
     "name": "stdout",
     "output_type": "stream",
     "text": [
      "(816, 1088)\n",
      "(75, 100)\n"
     ]
    }
   ],
   "source": [
    "thumb_im=cat_im.copy()\n",
    "print(thumb_im.size)\n",
    "\n",
    "thumb_im.thumbnail((100,100)) #縦横比を維持したまま、この範囲に収まるようにサイズ変更\n",
    "print(thumb_im.size)\n",
    "thumb_im.save('thumbnail.jpg')"
   ]
  },
  {
   "cell_type": "markdown",
   "metadata": {},
   "source": [
    "### 17.2.5 画像を回転・反転する"
   ]
  },
  {
   "cell_type": "code",
   "execution_count": 13,
   "metadata": {},
   "outputs": [],
   "source": [
    "cat_im.rotate(90).save('rotated90.png')\n",
    "cat_im.rotate(180).save('rotated180.png')\n",
    "cat_im.rotate(270).save('rotated270.png')"
   ]
  },
  {
   "cell_type": "code",
   "execution_count": 14,
   "metadata": {},
   "outputs": [],
   "source": [
    "cat_im.rotate(6).save('rotated6.png')\n",
    "cat_im.rotate(6,expand=True).save('rotated6_expanded.png') #expand=Trueを渡すと回転した画像が収まるように画像の大きさが変わる"
   ]
  },
  {
   "cell_type": "code",
   "execution_count": 15,
   "metadata": {},
   "outputs": [],
   "source": [
    "#鏡像反転\n",
    "cat_im.transpose(Image.FLIP_LEFT_RIGHT).save('horizontal_flip.png')\n",
    "cat_im.transpose(Image.FLIP_TOP_BOTTOM).save('vertical_flip.png')"
   ]
  },
  {
   "cell_type": "markdown",
   "metadata": {},
   "source": [
    "### 17.2.6 ピクセルを変更する"
   ]
  },
  {
   "cell_type": "code",
   "execution_count": 16,
   "metadata": {},
   "outputs": [
    {
     "data": {
      "text/plain": [
       "(0, 0, 0, 0)"
      ]
     },
     "execution_count": 16,
     "metadata": {},
     "output_type": "execute_result"
    }
   ],
   "source": [
    "im=Image.new('RGBA',(100,100)) #100×100の透明画像作成\n",
    "im.getpixel((0,0)) #色情報は0,0,0,0となる"
   ]
  },
  {
   "cell_type": "code",
   "execution_count": 17,
   "metadata": {},
   "outputs": [],
   "source": [
    "for y in range(50):\n",
    "    for x in range(100):\n",
    "        im.putpixel((x,y),(210,210,210)) #putpixelで座標と色を指定\n",
    "\n",
    "from PIL import ImageColor\n",
    "darkgray=ImageColor.getcolor('darkgray','RGBA')\n",
    "for y in range(50,100):\n",
    "    for x in range(100):\n",
    "        im.putpixel((x,y),darkgray) #putpixelでdarkgrayを指定\n",
    "\n",
    "im.getpixel((0,0))\n",
    "im.getpixel((0,50))\n",
    "im.save(('putPixel.png'))"
   ]
  },
  {
   "cell_type": "markdown",
   "metadata": {},
   "source": [
    "## 17.3 プロジェクト : ロゴを追加する"
   ]
  },
  {
   "cell_type": "code",
   "execution_count": 18,
   "metadata": {},
   "outputs": [
    {
     "name": "stdout",
     "output_type": "stream",
     "text": [
      "ロゴを追加中 cropped.png\n",
      "ロゴを追加中 horizontal_flip.png\n",
      "ロゴを追加中 pasted.png\n",
      "ロゴを追加中 purpleImage.png\n",
      "ロゴを追加中 putPixel.png\n",
      "ロゴを追加中 quartersized.png\n",
      "ロゴを追加中 rotated6.png\n",
      "ロゴを追加中 rotated6_expanded.png\n",
      "ロゴを追加中 svelte.png\n",
      "ロゴを追加中 thumbnail.jpg\n",
      "ロゴを追加中 tiled.png\n",
      "ロゴを追加中 transparentImage.png\n",
      "ロゴを追加中 vertical_flip.png\n",
      "ロゴを追加中 zophie.jpg\n",
      "ロゴを追加中 zophie.png\n"
     ]
    }
   ],
   "source": [
    "import os\n",
    "from PIL import Image\n",
    "\n",
    "folder='C:\\\\Users\\\\nakam\\\\Python\\\\Data\\\\Boring_Python\\\\17.3'\n",
    "os.chdir(folder)\n",
    "\n",
    "SQUARE_FIT_SIZE=300\n",
    "LOGO_FILENAME='catlogo.png'\n",
    "\n",
    "logo_im=Image.open(LOGO_FILENAME)\n",
    "logo_width,logo_height=logo_im.size\n",
    "\n",
    "os.makedirs('withLogo',exist_ok=True)\n",
    "for filename in os.listdir():\n",
    "    if not (filename.endswith('.png') or filename.endswith('.jpg'))\\\n",
    "    or filename == LOGO_FILENAME:\n",
    "        continue\n",
    "        \n",
    "    im=Image.open(filename)\n",
    "    im.thumbnail((SQUARE_FIT_SIZE, SQUARE_FIT_SIZE)) #幅、高さが指定を超える場合は縮小\n",
    "    width,height=im.size\n",
    "    \n",
    "    print('ロゴを追加中 {}'.format(filename))\n",
    "    im.paste(logo_im, (width-logo_width,height-logo_height),logo_im) #透明Pixelにするために第三引数にも渡す\n",
    "    \n",
    "    im.save(os.path.join('withLogo',filename))"
   ]
  },
  {
   "cell_type": "markdown",
   "metadata": {},
   "source": [
    "## 17.4 画像に描画する\n",
    "### 17.4.1 図形を描画する"
   ]
  },
  {
   "cell_type": "code",
   "execution_count": 19,
   "metadata": {},
   "outputs": [],
   "source": [
    "#point(xy,fill) : 点を描画\n",
    "#rectangle(xy,fill,outline) : 線分を描画\n",
    "#ellipse(xy,fill,outline) : 楕円を描画\n",
    "#polygon(xy,fill,outline) : 多角形を描画\n",
    "\n",
    "from PIL import Image, ImageDraw\n",
    "im=Image.new('RGBA',(200,200),'white')\n",
    "draw=ImageDraw.Draw(im) #ImageDrawオブジェクトを生成\n",
    "\n",
    "folder='C:\\\\Users\\\\nakam\\\\Python\\\\Data\\\\Boring_Python\\\\17.4'\n",
    "os.chdir(folder)\n",
    "\n",
    "draw.line([(0,0),(199,0),(199,199),(0,199),(0,0)])\n",
    "draw.rectangle((20,30,60,60),fill='blue')\n",
    "draw.ellipse((120,30,160,60),fill='red') #外接する長方形の矩形を渡す\n",
    "draw.polygon(((57,87),(79,62),(94,85),(120,90),(103,113)),fill='green')\n",
    "\n",
    "for i in range(100,200,10):\n",
    "    draw.line([(i,0),(200,i-100)],fill='green')\n",
    "\n",
    "im.save('drawing.png')"
   ]
  },
  {
   "cell_type": "markdown",
   "metadata": {},
   "source": [
    "### 17.4.2 テキストを描画する"
   ]
  },
  {
   "cell_type": "code",
   "execution_count": 20,
   "metadata": {},
   "outputs": [],
   "source": [
    "from PIL import Image, ImageDraw, ImageFont\n",
    "\n",
    "im=Image.new('RGBA',(200,200),'white')\n",
    "draw=ImageDraw.Draw(im)\n",
    "draw.text((20,150),'Hello',fill='purple')\n",
    "\n",
    "arial_font=ImageFont.truetype('arial.ttf',32) #フォント、文字の大きさを変更\n",
    "draw.text((100,150),'Howdy',fill='gray',font=arial_font)\n",
    "\n",
    "im.save('text.png')"
   ]
  },
  {
   "cell_type": "code",
   "execution_count": 21,
   "metadata": {},
   "outputs": [],
   "source": [
    "#日本語のフォントを指定する場合は以下\n",
    "#MS明朝 : msmincho.ttc, index=0\n",
    "#MS P明朝 : msmincho.ttc,index=1 \n",
    "#MS ゴシック : msgothic.ttc, index=0\n",
    "#MS Pゴシック : msgothic.ttc, index=2\n",
    "#MS UI Gothic : msgothic.ttc, index=1\n",
    "#メイリオ : meiryo.ttc, index=0\n",
    "#Meiryo UI : meiryo.ttc, index=2\n",
    "\n",
    "\n",
    "from PIL import Image, ImageDraw, ImageFont\n",
    "im=Image.new('RGBA',(200,200),'white')\n",
    "\n",
    "draw=ImageDraw.Draw(im)\n",
    "jfont=ImageFont.truetype('msmincho.ttc',24,index=1)\n",
    "draw.text((20,20),'こんにちは',fill='black',font=jfont)\n",
    "jfont=ImageFont.truetype('msgothic.ttc',24,index=2)\n",
    "draw.text((20,50),'こんにちは',fill='black',font=jfont)\n",
    "jfont=ImageFont.truetype('meiryo.ttc',24,index=0)\n",
    "draw.text((20,80),'こんにちは',fill='black',font=jfont)\n",
    "im.save('jtext.png')"
   ]
  },
  {
   "cell_type": "markdown",
   "metadata": {},
   "source": [
    "## 17.7 演習プロジェクト\n",
    "### 17.7.1 章プロジェクトの改造と修正\n",
    "カレントディレクトリのすべての画像を300x300に収まるようにサイズ変更し、catlogo.pngを右下に追加する。"
   ]
  },
  {
   "cell_type": "code",
   "execution_count": 22,
   "metadata": {},
   "outputs": [
    {
     "name": "stdout",
     "output_type": "stream",
     "text": [
      "ロゴを追加中 C:\\Users\\nakam\\Python\\Data\\Boring_Python\\17.7.1\\UPPER.JPG...\n",
      "ロゴを追加中 C:\\Users\\nakam\\Python\\Data\\Boring_Python\\17.7.1\\zohpie.bmp...\n",
      "ロゴを追加中 C:\\Users\\nakam\\Python\\Data\\Boring_Python\\17.7.1\\zophie.gif...\n",
      "ロゴを追加中 C:\\Users\\nakam\\Python\\Data\\Boring_Python\\17.7.1\\zophie.jpg...\n",
      "ロゴを追加中 C:\\Users\\nakam\\Python\\Data\\Boring_Python\\17.7.1\\zophie.png...\n"
     ]
    }
   ],
   "source": [
    "import os\n",
    "from PIL import Image\n",
    "\n",
    "SQUARE_FIT_SIZE = 300\n",
    "folder='C:\\\\Users\\\\nakam\\\\Python\\\\Data\\\\Boring_Python\\\\17.7.1'\n",
    "LOGO_FILENAME = folder+'\\\\catlogo.png'\n",
    "\n",
    "logo_im = Image.open(LOGO_FILENAME)\n",
    "logo_width, logo_height = logo_im.size\n",
    "\n",
    "os.makedirs(folder+'\\\\withLogo', exist_ok=True)\n",
    "\n",
    "# カレントディレクトリの全画像をループする\n",
    "for filename in os.listdir(folder):\n",
    "    # 拡張子の大文字と小文字を区別しない（小文字に変換してマッチする）\n",
    "    lfname = filename.lower()\n",
    "    # PNG, JPG, GIF, BMPファイル以外ならスキップする\n",
    "    if not (lfname.endswith('.png') or lfname.endswith('.jpg') \\\n",
    "         or lfname.endswith('.gif') or lfname.endswith('.bmp')) \\\n",
    "       or lfname == LOGO_FILENAME:\n",
    "        continue # 画像以外とロゴ画像はスキップする\n",
    "\n",
    "    im = Image.open(folder+'\\\\'+filename)\n",
    "\n",
    "    # 画像をサイズ変更する\n",
    "    im.thumbnail((SQUARE_FIT_SIZE, SQUARE_FIT_SIZE))\n",
    "    width, height = im.size\n",
    "\n",
    "    # ロゴの2倍サイズ未満なら、スキップする\n",
    "    if width < logo_width * 2 or height < logo_height * 2:\n",
    "        continue\n",
    "\n",
    "    # ロゴを追加する\n",
    "    print('ロゴを追加中 {}...'.format(folder+'\\\\'+filename))\n",
    "    im.paste(logo_im, (width-logo_width, height-logo_height), logo_im)\n",
    "\n",
    "    # 変更を保存する\n",
    "    im.save(os.path.join(folder+'\\\\withLogo', filename))\n"
   ]
  },
  {
   "cell_type": "markdown",
   "metadata": {},
   "source": [
    "### 17.7.2 写真フォルダを探す"
   ]
  },
  {
   "cell_type": "code",
   "execution_count": 23,
   "metadata": {},
   "outputs": [
    {
     "name": "stdout",
     "output_type": "stream",
     "text": [
      "C:\\Users\\nakam\\Python\\Data\\Boring_Python\\17.2\n",
      "C:\\Users\\nakam\\Python\\Data\\Boring_Python\\17.3\n",
      "C:\\Users\\nakam\\Python\\Data\\Boring_Python\\9.2.2\\cats\n",
      "C:\\Users\\nakam\\Python\\Data\\Boring_Python\\9.2.3\\cats\n",
      "C:\\Users\\nakam\\Python\\Data\\Boring_Python\\9.2.4\\cats\n",
      "C:\\Users\\nakam\\Python\\Data\\Boring_Python\\9.7.1\\copy\n",
      "C:\\Users\\nakam\\Python\\Data\\Boring_Python\\9.7.1\\delicious\\cats\n"
     ]
    }
   ],
   "source": [
    "from PIL import Image\n",
    "import os\n",
    "\n",
    "for foldername, subfolders, filenames in os.walk('C:\\\\Users\\\\nakam\\\\Python\\\\Data\\\\Boring_Python'):\n",
    "    num_photo_files = 0\n",
    "    num_non_photo_files = 0\n",
    "    for filename in filenames:\n",
    "        # ファイル拡張子が.pngでも.jpgでもなければ、次のファイルにスキップする\n",
    "        if not (filename.lower().endswith('.png') or \\\n",
    "                filename.lower().endswith('.jpg')):\n",
    "            num_non_photo_files += 1\n",
    "            continue \n",
    "\n",
    "        try:\n",
    "            # Pillowを使って画像を開く\n",
    "            im = Image.open(os.path.join(foldername, filename))\n",
    "            # 幅と高さが500以上なら\n",
    "            width, height = im.size\n",
    "            if width >= 500 and height >= 500:\n",
    "                # 画像が大きいので写真とみなす\n",
    "                num_photo_files += 1\n",
    "            else:\n",
    "                # 画像は小さいので写真ではないとみなす\n",
    "                num_non_photo_files += 1\n",
    "        except:\n",
    "            num_non_photo_files += 1\n",
    "\n",
    "    # 半分以上が写真なら、\n",
    "    # フォルダの絶対パスを表示する\n",
    "    if num_photo_files > 0 and num_photo_files >= num_non_photo_files:\n",
    "        print(foldername)\n"
   ]
  },
  {
   "cell_type": "markdown",
   "metadata": {},
   "source": [
    "### 17.7.3 座席カード\n",
    "名前を真ん中に入れて、左上に花の絵を入れる"
   ]
  },
  {
   "cell_type": "code",
   "execution_count": 24,
   "metadata": {},
   "outputs": [],
   "source": [
    "from PIL import Image, ImageDraw, ImageFont\n",
    "\n",
    "folder=\"C:\\\\Users\\\\nakam\\\\Python\\\\Data\\\\Boring_Python\\\\17.7.3\"\n",
    "\n",
    "CARD_WIDTH = 360\n",
    "CARD_HEIGHT = 288\n",
    "\n",
    "flower_im = Image.open(folder+'\\\\flower.png')\n",
    "\n",
    "guest_file = open(folder+'\\\\guests.txt', 'r', encoding='utf-8')\n",
    "\n",
    "for n,guest in enumerate(guest_file): #enumerate:番号をつけてdicionaryのように扱える\n",
    "    guest = guest.strip()\n",
    "    if guest == '':\n",
    "        continue\n",
    "\n",
    "    # 新しく画像を生成する\n",
    "    im = Image.new('RGBA', (CARD_WIDTH, CARD_HEIGHT), 'white')\n",
    "\n",
    "    # 画像を貼り付ける\n",
    "    im.paste(flower_im, (0, 0), flower_im)\n",
    "\n",
    "    draw = ImageDraw.Draw(im)\n",
    "    # 名前を描く\n",
    "    arial = ImageFont.truetype('meiryo.ttc', 32, index=0)\n",
    "    tw, th = arial.getsize(guest)\n",
    "    draw.text(((CARD_WIDTH - tw) / 2, (CARD_HEIGHT - th) / 2), guest, fill='black', font=arial)\n",
    "\n",
    "    # 枠を描く\n",
    "    draw.rectangle((0, 0, CARD_WIDTH - 1, CARD_HEIGHT - 1), outline='black')\n",
    "\n",
    "    im.save(folder+'\\\\card{}.png'.format(n))\n"
   ]
  }
 ],
 "metadata": {
  "kernelspec": {
   "display_name": "Python 3",
   "language": "python",
   "name": "python3"
  },
  "language_info": {
   "codemirror_mode": {
    "name": "ipython",
    "version": 3
   },
   "file_extension": ".py",
   "mimetype": "text/x-python",
   "name": "python",
   "nbconvert_exporter": "python",
   "pygments_lexer": "ipython3",
   "version": "3.7.4"
  }
 },
 "nbformat": 4,
 "nbformat_minor": 2
}
