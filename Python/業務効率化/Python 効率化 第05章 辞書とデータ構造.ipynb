{
 "cells": [
  {
   "cell_type": "markdown",
   "metadata": {},
   "source": [
    "# 第5章 辞書とデータ構造"
   ]
  },
  {
   "cell_type": "markdown",
   "metadata": {},
   "source": [
    "## 5.1 辞書型\n",
    "### 5.1.1 Whileループで辞書に登録する方法\n",
    "辞書={key:value}形式のこと"
   ]
  },
  {
   "cell_type": "code",
   "execution_count": 1,
   "metadata": {},
   "outputs": [
    {
     "name": "stdout",
     "output_type": "stream",
     "text": [
      "名前を入力してください: (終了するにはEnterを押してください)\n",
      "Alice\n",
      "Aliceの誕生日は4/1\n",
      "名前を入力してください: (終了するにはEnterを押してください)\n",
      "Kevin\n",
      "Kevinの誕生日は未登録です。\n",
      "誕生日を入力してください:\n",
      "6/12\n",
      "誕生日データベースを更新しました。\n",
      "名前を入力してください: (終了するにはEnterを押してください)\n",
      "Kevin\n",
      "Kevinの誕生日は6/12\n",
      "名前を入力してください: (終了するにはEnterを押してください)\n",
      "\n"
     ]
    }
   ],
   "source": [
    "birthdays={'Alice':'4/1','Bob':'12/12'}\n",
    "\n",
    "while True:\n",
    "    print('名前を入力してください: (終了するにはEnterを押してください)')\n",
    "    name=input()\n",
    "    if name=='': #Enterが押されたらbreak\n",
    "        break\n",
    "        \n",
    "    if name in birthdays: #辞書のキーの中を探索\n",
    "        print(name+'の誕生日は'+birthdays[name])\n",
    "    else:\n",
    "        print(name+'の誕生日は未登録です。')\n",
    "        print('誕生日を入力してください:')\n",
    "        bday=input()\n",
    "        birthdays[name]=bday #辞書に登録\n",
    "        print('誕生日データベースを更新しました。')"
   ]
  },
  {
   "cell_type": "markdown",
   "metadata": {},
   "source": [
    "### 5.1.2 keys(),values(),items()メソッド"
   ]
  },
  {
   "cell_type": "code",
   "execution_count": 2,
   "metadata": {},
   "outputs": [
    {
     "name": "stdout",
     "output_type": "stream",
     "text": [
      "red\n",
      "42\n"
     ]
    }
   ],
   "source": [
    "spam={'color':'red','age':42}\n",
    "\n",
    "for v in spam.values(): #valueを返す\n",
    "    print(v)"
   ]
  },
  {
   "cell_type": "code",
   "execution_count": 3,
   "metadata": {},
   "outputs": [
    {
     "name": "stdout",
     "output_type": "stream",
     "text": [
      "color\n",
      "age\n"
     ]
    }
   ],
   "source": [
    "for v in spam.keys(): #keyを返す\n",
    "    print(v)"
   ]
  },
  {
   "cell_type": "code",
   "execution_count": 4,
   "metadata": {},
   "outputs": [
    {
     "name": "stdout",
     "output_type": "stream",
     "text": [
      "color\n",
      "age\n"
     ]
    }
   ],
   "source": [
    "for v in spam: #key()メソッド無しでも、keyを返す\n",
    "    print(v)"
   ]
  },
  {
   "cell_type": "code",
   "execution_count": 5,
   "metadata": {},
   "outputs": [
    {
     "name": "stdout",
     "output_type": "stream",
     "text": [
      "('color', 'red')\n",
      "('age', 42)\n"
     ]
    }
   ],
   "source": [
    "for v in spam.items(): #keyとvalueのタプルを返す\n",
    "    print(v)"
   ]
  },
  {
   "cell_type": "code",
   "execution_count": 6,
   "metadata": {},
   "outputs": [
    {
     "data": {
      "text/plain": [
       "['red', 42]"
      ]
     },
     "execution_count": 6,
     "metadata": {},
     "output_type": "execute_result"
    }
   ],
   "source": [
    "#Listを作成したい場合はlist()関数を使用する\n",
    "\n",
    "list(spam.values())"
   ]
  },
  {
   "cell_type": "code",
   "execution_count": 7,
   "metadata": {},
   "outputs": [
    {
     "name": "stdout",
     "output_type": "stream",
     "text": [
      "color red\n",
      "age 42\n"
     ]
    }
   ],
   "source": [
    "#items()メソッドで個々の変数に代入したい場合\n",
    "for k,v in spam.items():\n",
    "    print(k,v)"
   ]
  },
  {
   "cell_type": "markdown",
   "metadata": {},
   "source": [
    "### 5.1.3 キーや値が辞書に存在するか判定する"
   ]
  },
  {
   "cell_type": "code",
   "execution_count": 8,
   "metadata": {},
   "outputs": [
    {
     "name": "stdout",
     "output_type": "stream",
     "text": [
      "True\n",
      "False\n",
      "True\n"
     ]
    }
   ],
   "source": [
    "spam={'name':'Zophie','age':7}\n",
    "\n",
    "print('name' in spam.keys()) #keyを検索\n",
    "print('Zophie' in spam) #何も指定無ければkeyを検索\n",
    "print('Zophie' in spam.values()) #valueを検索"
   ]
  },
  {
   "cell_type": "markdown",
   "metadata": {},
   "source": [
    "### 5.1.4 get()メソッド\n",
    "辞書に存在しなければ、2つ目の引数を返す"
   ]
  },
  {
   "cell_type": "code",
   "execution_count": 9,
   "metadata": {},
   "outputs": [
    {
     "name": "stdout",
     "output_type": "stream",
     "text": [
      "7\n",
      "0\n"
     ]
    }
   ],
   "source": [
    "spam={'name':'Zophie','age':7}\n",
    "\n",
    "print(spam.get('age',0)) \n",
    "print(spam.get('height',0)) #辞書に存在しないので0を返す"
   ]
  },
  {
   "cell_type": "markdown",
   "metadata": {},
   "source": [
    "### 5.1.5 setdefault()メソッド\n",
    "辞書にkeyが未登録の場合のみ値を登録"
   ]
  },
  {
   "cell_type": "code",
   "execution_count": 10,
   "metadata": {},
   "outputs": [
    {
     "name": "stdout",
     "output_type": "stream",
     "text": [
      "{'name': 'Zophie', 'age': 7, 'height': 170}\n"
     ]
    }
   ],
   "source": [
    "spam={'name':'Zophie','age':7}\n",
    "spam.setdefault('age',11)  #すでに存在するので変わらない\n",
    "spam.setdefault('height',170) #未登録なので登録される\n",
    "\n",
    "print(spam)"
   ]
  },
  {
   "cell_type": "markdown",
   "metadata": {},
   "source": [
    "#### 文字数を数えるプログラム"
   ]
  },
  {
   "cell_type": "code",
   "execution_count": 11,
   "metadata": {},
   "outputs": [
    {
     "name": "stdout",
     "output_type": "stream",
     "text": [
      "{'H': 1, 'e': 2, 'l': 2, 'o': 2, ' ': 5, 'M': 1, 'y': 1, 'N': 2, 'a': 5, 'm': 2, 'I': 1, 's': 2, 'k': 2, 'u': 2, 'i': 2, 'Y': 1, 'n': 1, 'r': 1}\n"
     ]
    }
   ],
   "source": [
    "message='Hello My Name Is Nakamukai Yasunori'\n",
    "\n",
    "count={}\n",
    "\n",
    "for character in message: \n",
    "    count.setdefault(character,0) #keyがない場合にvalue0として登録\n",
    "    count[character]=count[character]+1\n",
    "    \n",
    "print(count)"
   ]
  },
  {
   "cell_type": "markdown",
   "metadata": {},
   "source": [
    "### 5.2 整形表示\n",
    "ソートされた状態で出力"
   ]
  },
  {
   "cell_type": "code",
   "execution_count": 12,
   "metadata": {},
   "outputs": [
    {
     "name": "stdout",
     "output_type": "stream",
     "text": [
      "{' ': 5,\n",
      " 'H': 1,\n",
      " 'I': 1,\n",
      " 'M': 1,\n",
      " 'N': 2,\n",
      " 'Y': 1,\n",
      " 'a': 5,\n",
      " 'e': 2,\n",
      " 'i': 2,\n",
      " 'k': 2,\n",
      " 'l': 2,\n",
      " 'm': 2,\n",
      " 'n': 1,\n",
      " 'o': 2,\n",
      " 'r': 1,\n",
      " 's': 2,\n",
      " 'u': 2,\n",
      " 'y': 1}\n"
     ]
    }
   ],
   "source": [
    "import pprint \n",
    "pprint.pprint(count)"
   ]
  },
  {
   "cell_type": "code",
   "execution_count": 13,
   "metadata": {},
   "outputs": [
    {
     "name": "stdout",
     "output_type": "stream",
     "text": [
      "{' ': 5,\n",
      " 'H': 1,\n",
      " 'I': 1,\n",
      " 'M': 1,\n",
      " 'N': 2,\n",
      " 'Y': 1,\n",
      " 'a': 5,\n",
      " 'e': 2,\n",
      " 'i': 2,\n",
      " 'k': 2,\n",
      " 'l': 2,\n",
      " 'm': 2,\n",
      " 'n': 1,\n",
      " 'o': 2,\n",
      " 'r': 1,\n",
      " 's': 2,\n",
      " 'u': 2,\n",
      " 'y': 1}\n"
     ]
    }
   ],
   "source": [
    "#文字列を取得したい場合はpprint.pformat()\n",
    "print(pprint.pformat(count)) #このように書くとpprint.pprintと同じとなる"
   ]
  },
  {
   "cell_type": "markdown",
   "metadata": {},
   "source": [
    "### 5.3.1 三目並べのボード"
   ]
  },
  {
   "cell_type": "code",
   "execution_count": 14,
   "metadata": {},
   "outputs": [
    {
     "name": "stdout",
     "output_type": "stream",
     "text": [
      " | | \n",
      "-+-+-\n",
      " | | \n",
      "-+-+-\n",
      " | | \n",
      "Xの番です。どこに打つ？\n",
      "mid-M\n",
      " | | \n",
      "-+-+-\n",
      " |X| \n",
      "-+-+-\n",
      " | | \n",
      "Oの番です。どこに打つ？\n",
      "low-R\n",
      " | | \n",
      "-+-+-\n",
      " |X| \n",
      "-+-+-\n",
      " | |O\n"
     ]
    }
   ],
   "source": [
    "the_board = {'top-L': ' ', 'top-M': ' ', 'top-R': ' ',\n",
    "             'mid-L': ' ', 'mid-M': ' ', 'mid-R': ' ',\n",
    "             'low-L': ' ', 'low-M': ' ', 'low-R': ' '}\n",
    "\n",
    "def print_board(board):\n",
    "    print(board['top-L'] + '|' + board['top-M'] + '|' + board['top-R'])\n",
    "    print('-+-+-')\n",
    "    print(board['mid-L'] + '|' + board['mid-M'] + '|' + board['mid-R'])\n",
    "    print('-+-+-')\n",
    "    print(board['low-L'] + '|' + board['low-M'] + '|' + board['low-R'])\n",
    "\n",
    "turn = 'X'\n",
    "for i in range(2): #実際は9にする\n",
    "    print_board(the_board) #関数呼び出し\n",
    "    print(turn + 'の番です。どこに打つ？')\n",
    "    move = input()         \n",
    "    the_board[move] = turn #辞書に登録\n",
    "    if turn == 'X':        #交代\n",
    "        turn = 'O'\n",
    "    else:\n",
    "        turn = 'X'\n",
    "\n",
    "print_board(the_board)"
   ]
  },
  {
   "cell_type": "markdown",
   "metadata": {},
   "source": [
    "### 5.3.2 多重辞書のカウント"
   ]
  },
  {
   "cell_type": "code",
   "execution_count": 15,
   "metadata": {},
   "outputs": [
    {
     "name": "stdout",
     "output_type": "stream",
     "text": [
      "持ち物の数:\n",
      " - リンゴ 7\n",
      " - コップ 3\n",
      " - ケーキ 0\n",
      " - ハムサンド 3\n",
      " - アップルパイ 1\n"
     ]
    }
   ],
   "source": [
    "all_guests = {'アリス': {'リンゴ': 5, 'プレッツェル': 12},\n",
    "              'ボブ': {'ハムサンド': 3, 'リンゴ': 2},\n",
    "              'キャロル': {'コップ': 3, 'アップルパイ': 1}}\n",
    "\n",
    "def total_brought(guests, item): #guests(辞書)とitemを渡すとカウントする関数\n",
    "    num_brought = 0\n",
    "    for k, v in guests.items():  #keyとvalueを検索\n",
    "        num_brought = num_brought + v.get(item, 0)  #vも辞書になっているので、itemを検索\n",
    "                                                    #なければ0を返す\n",
    "    return num_brought\n",
    "\n",
    "print('持ち物の数:')\n",
    "print(' - リンゴ ' + str(total_brought(all_guests, 'リンゴ')))\n",
    "print(' - コップ ' + str(total_brought(all_guests, 'コップ')))\n",
    "print(' - ケーキ ' + str(total_brought(all_guests, 'ケーキ')))\n",
    "print(' - ハムサンド ' + str(total_brought(all_guests, 'ハムサンド')))\n",
    "print(' - アップルパイ ' + str(total_brought(all_guests, 'アップルパイ')))"
   ]
  },
  {
   "cell_type": "markdown",
   "metadata": {},
   "source": [
    "### 演習プロジェクト 5.6.1\n",
    "辞書の内容と総数を表示\n",
    "ファンタジーゲームの持ち物リスト表示プログラム"
   ]
  },
  {
   "cell_type": "code",
   "execution_count": 16,
   "metadata": {},
   "outputs": [
    {
     "name": "stdout",
     "output_type": "stream",
     "text": [
      "持ち物リスト:\n",
      "1 ロープ\n",
      "6 たいまつ\n",
      "42 金貨\n",
      "1 手裏剣\n",
      "12 矢\n",
      "アイテム総数: 62\n"
     ]
    }
   ],
   "source": [
    "#inventory(辞書)を渡すと内容と総数を表示する関数==========================================\n",
    "def display_inventory(inventory): \n",
    "    print(\"持ち物リスト:\")\n",
    "    item_total = 0\n",
    "    for k, v in inventory.items():\n",
    "        print(str(v) + ' ' + k)\n",
    "        item_total += v\n",
    "    print(\"アイテム総数: \" + str(item_total))\n",
    "#=========================================================================================\n",
    "\n",
    "stuff = {'ロープ': 1, 'たいまつ': 6, '金貨': 42, '手裏剣': 1, '矢': 12}\n",
    "display_inventory(stuff) #関数呼び出し"
   ]
  },
  {
   "cell_type": "markdown",
   "metadata": {},
   "source": [
    "### 演習プロジェクト 5.6.2\n",
    "辞書にリストの内容を追加\n",
    "入手したアイテムを辞書に追加するプログラム"
   ]
  },
  {
   "cell_type": "code",
   "execution_count": 17,
   "metadata": {},
   "outputs": [
    {
     "name": "stdout",
     "output_type": "stream",
     "text": [
      "持ち物リスト:\n",
      "45 金貨\n",
      "1 ロープ\n",
      "1 手裏剣\n",
      "1 ルビー\n",
      "アイテム総数: 48\n"
     ]
    }
   ],
   "source": [
    "#inventory(辞書)とadded_items(リスト)を渡すと辞書にリストを追加する関数==================\n",
    "def add_to_inventory(inventory, added_items):\n",
    "    for item in added_items: #リストの中を探索\n",
    "        inventory.setdefault(item, 0) #辞書に登録\n",
    "        inventory[item] += 1 #数を1増加させる\n",
    "    return inventory\n",
    "#=========================================================================================\n",
    "\n",
    "inv = {'金貨': 42, 'ロープ': 1}\n",
    "dragon_loot = ['金貨', '手裏剣', '金貨', '金貨', 'ルビー']\n",
    "inv = add_to_inventory(inv, dragon_loot) #関数呼び出し\n",
    "display_inventory(inv) #5.6.1で定義\n"
   ]
  }
 ],
 "metadata": {
  "kernelspec": {
   "display_name": "Python 3",
   "language": "python",
   "name": "python3"
  },
  "language_info": {
   "codemirror_mode": {
    "name": "ipython",
    "version": 3
   },
   "file_extension": ".py",
   "mimetype": "text/x-python",
   "name": "python",
   "nbconvert_exporter": "python",
   "pygments_lexer": "ipython3",
   "version": "3.7.4"
  }
 },
 "nbformat": 4,
 "nbformat_minor": 2
}
