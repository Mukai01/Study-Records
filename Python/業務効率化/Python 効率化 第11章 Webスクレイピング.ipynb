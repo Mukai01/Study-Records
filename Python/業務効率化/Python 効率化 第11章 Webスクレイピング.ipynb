{
 "cells": [
  {
   "cell_type": "markdown",
   "metadata": {},
   "source": [
    "# 第11章 Webスクレイピング\n",
    "## 11.1 プロジェクト:webbrowserモジュールを用いたマップ検索"
   ]
  },
  {
   "cell_type": "code",
   "execution_count": 1,
   "metadata": {},
   "outputs": [
    {
     "name": "stdout",
     "output_type": "stream",
     "text": [
      "Hiroshima\n"
     ]
    },
    {
     "data": {
      "text/plain": [
       "True"
      ]
     },
     "execution_count": 1,
     "metadata": {},
     "output_type": "execute_result"
    }
   ],
   "source": [
    "import webbrowser, sys, pyperclip\n",
    "\n",
    "address = input()\n",
    "webbrowser.open('https://www.google.com/maps/place/' + address) #urlをオープン"
   ]
  },
  {
   "cell_type": "markdown",
   "metadata": {},
   "source": [
    "## 11.2 requestsモジュールを用いたWebサイトからのファイルのダウンロード\n",
    "### 11.2.1 requests.get()関数を用いたWebページのダウンロード"
   ]
  },
  {
   "cell_type": "code",
   "execution_count": 2,
   "metadata": {},
   "outputs": [
    {
     "data": {
      "text/plain": [
       "requests.models.Response"
      ]
     },
     "execution_count": 2,
     "metadata": {},
     "output_type": "execute_result"
    }
   ],
   "source": [
    "import requests\n",
    "\n",
    "res=requests.get('http://automatetheboringstuff.com/files/rj.txt')\n",
    "type(res)"
   ]
  },
  {
   "cell_type": "code",
   "execution_count": 3,
   "metadata": {},
   "outputs": [
    {
     "data": {
      "text/plain": [
       "True"
      ]
     },
     "execution_count": 3,
     "metadata": {},
     "output_type": "execute_result"
    }
   ],
   "source": [
    "res.status_code==requests.codes.ok #ダウンロード成功"
   ]
  },
  {
   "cell_type": "code",
   "execution_count": 4,
   "metadata": {},
   "outputs": [
    {
     "data": {
      "text/plain": [
       "178978"
      ]
     },
     "execution_count": 4,
     "metadata": {},
     "output_type": "execute_result"
    }
   ],
   "source": [
    "len(res.text) #文字数"
   ]
  },
  {
   "cell_type": "code",
   "execution_count": 5,
   "metadata": {},
   "outputs": [
    {
     "name": "stdout",
     "output_type": "stream",
     "text": [
      "The Project Gutenberg EBook of Romeo and Juliet, by William Shakespeare\r\n",
      "\r\n",
      "This eBook is for the use of anyone anywhere at no cost and with\r\n",
      "almost no restrictions whatsoever.  You may copy it, give it away or\r\n",
      "re-use it under the terms of the Projec\n"
     ]
    }
   ],
   "source": [
    "print(res.text[0:250]) #250文字出力"
   ]
  },
  {
   "cell_type": "markdown",
   "metadata": {},
   "source": [
    "### 11.2.2 エラーをチェックする"
   ]
  },
  {
   "cell_type": "code",
   "execution_count": 6,
   "metadata": {},
   "outputs": [
    {
     "ename": "HTTPError",
     "evalue": "404 Client Error: Not Found for url: http://automatetheboringstuff.com/page_that_does_not_exist",
     "output_type": "error",
     "traceback": [
      "\u001b[1;31m---------------------------------------------------------------------------\u001b[0m",
      "\u001b[1;31mHTTPError\u001b[0m                                 Traceback (most recent call last)",
      "\u001b[1;32m<ipython-input-6-088b1e081007>\u001b[0m in \u001b[0;36m<module>\u001b[1;34m\u001b[0m\n\u001b[0;32m      1\u001b[0m \u001b[0mres\u001b[0m\u001b[1;33m=\u001b[0m\u001b[0mrequests\u001b[0m\u001b[1;33m.\u001b[0m\u001b[0mget\u001b[0m\u001b[1;33m(\u001b[0m\u001b[1;34m'http://automatetheboringstuff.com/page_that_does_not_exist'\u001b[0m\u001b[1;33m)\u001b[0m\u001b[1;33m\u001b[0m\u001b[1;33m\u001b[0m\u001b[0m\n\u001b[1;32m----> 2\u001b[1;33m \u001b[0mres\u001b[0m\u001b[1;33m.\u001b[0m\u001b[0mraise_for_status\u001b[0m\u001b[1;33m(\u001b[0m\u001b[1;33m)\u001b[0m \u001b[1;31m#ファイルのダウンロードが失敗に終われば例外を起こす\u001b[0m\u001b[1;33m\u001b[0m\u001b[1;33m\u001b[0m\u001b[0m\n\u001b[0m",
      "\u001b[1;32m~\\Anaconda3\\lib\\site-packages\\requests\\models.py\u001b[0m in \u001b[0;36mraise_for_status\u001b[1;34m(self)\u001b[0m\n\u001b[0;32m    938\u001b[0m \u001b[1;33m\u001b[0m\u001b[0m\n\u001b[0;32m    939\u001b[0m         \u001b[1;32mif\u001b[0m \u001b[0mhttp_error_msg\u001b[0m\u001b[1;33m:\u001b[0m\u001b[1;33m\u001b[0m\u001b[1;33m\u001b[0m\u001b[0m\n\u001b[1;32m--> 940\u001b[1;33m             \u001b[1;32mraise\u001b[0m \u001b[0mHTTPError\u001b[0m\u001b[1;33m(\u001b[0m\u001b[0mhttp_error_msg\u001b[0m\u001b[1;33m,\u001b[0m \u001b[0mresponse\u001b[0m\u001b[1;33m=\u001b[0m\u001b[0mself\u001b[0m\u001b[1;33m)\u001b[0m\u001b[1;33m\u001b[0m\u001b[1;33m\u001b[0m\u001b[0m\n\u001b[0m\u001b[0;32m    941\u001b[0m \u001b[1;33m\u001b[0m\u001b[0m\n\u001b[0;32m    942\u001b[0m     \u001b[1;32mdef\u001b[0m \u001b[0mclose\u001b[0m\u001b[1;33m(\u001b[0m\u001b[0mself\u001b[0m\u001b[1;33m)\u001b[0m\u001b[1;33m:\u001b[0m\u001b[1;33m\u001b[0m\u001b[1;33m\u001b[0m\u001b[0m\n",
      "\u001b[1;31mHTTPError\u001b[0m: 404 Client Error: Not Found for url: http://automatetheboringstuff.com/page_that_does_not_exist"
     ]
    }
   ],
   "source": [
    "res=requests.get('http://automatetheboringstuff.com/page_that_does_not_exist')\n",
    "res.raise_for_status() #ファイルのダウンロードが失敗に終われば例外を起こす"
   ]
  },
  {
   "cell_type": "code",
   "execution_count": 7,
   "metadata": {},
   "outputs": [
    {
     "name": "stdout",
     "output_type": "stream",
     "text": [
      "問題あり:404 Client Error: Not Found for url: http://automatetheboringstuff.com/page_that_does_not_exist\n",
      "プログラムの続行が可能\n"
     ]
    }
   ],
   "source": [
    "#ダウンロードの失敗がプログラムを停止させるほどでなければ、例外処理をする\n",
    "res=requests.get('http://automatetheboringstuff.com/page_that_does_not_exist')\n",
    "try:\n",
    "    res.raise_for_status() #ファイルのダウンロードが失敗に終われば例外を起こす\n",
    "except Exception as exc:\n",
    "    print('問題あり:{}'.format(exc))\n",
    "    \n",
    "print('プログラムの続行が可能')"
   ]
  },
  {
   "cell_type": "markdown",
   "metadata": {},
   "source": [
    "### 11.2.3 ダウンロードしたファイルをハードドライブに保存する"
   ]
  },
  {
   "cell_type": "code",
   "execution_count": 8,
   "metadata": {},
   "outputs": [],
   "source": [
    "folder='C:\\\\Users\\\\nakam\\\\Python\\\\Data\\\\Boring_Python\\\\11.2.3\\\\'\n",
    "\n",
    "import requests\n",
    "res=requests.get('http://automatetheboringstuff.com/files/rj.txt')\n",
    "res.raise_for_status() #ダウンロード成功を確認\n",
    "play_file=open(folder+'RomeoAndJuliet.txt','wb') #バイナリ書き込みモードで開く\n",
    "\n",
    "for chunk in res.iter_content(100000): #100000バイトずつ書き込むようループ\n",
    "    play_file.write(chunk)\n",
    "\n",
    "play_file.close()"
   ]
  },
  {
   "cell_type": "markdown",
   "metadata": {},
   "source": [
    "## 11.3 HTML"
   ]
  },
  {
   "cell_type": "code",
   "execution_count": 9,
   "metadata": {},
   "outputs": [],
   "source": [
    "# <>で記述されたものをタグ\n",
    "# 開始タグと終了タグでテキストを囲むと要素になる\n",
    "# <strong>Hello</strong> world! : 開始タグは囲んだテキストを強調表示することを意味する \n",
    "                                 #終了タグは協調の終了を表す "
   ]
  },
  {
   "cell_type": "code",
   "execution_count": 10,
   "metadata": {},
   "outputs": [],
   "source": [
    "# <a href=\"http://xxxx-\">python books</a>  : aタグはリンクとなるテキストを囲むもの\n",
    "                                            #リンク先のurlはhref属性に記述する \n",
    "    \n",
    "# <div><span>タグはそれ自身は特に意味を持っていないが、囲んだ範囲をひと固まりとする\n",
    "\n",
    "#id属性、class属性はどちらも名前を割り当てることが役割\n",
    "#id属性 : 1ページに1回しか同じ名前は使えない\n",
    "#class属性 : 何回でも同じ名前を使える"
   ]
  },
  {
   "cell_type": "code",
   "execution_count": 11,
   "metadata": {},
   "outputs": [],
   "source": [
    "#div class=\"example\"> : このグループのクラスをexampleに設定(exampleは以下で定義)\n",
    "#  <p>例文です</p> : pタグは段落を表す\n",
    "#  <p>例文です</p>\n",
    "#</div>\n",
    "\n",
    "#.example {\n",
    "#  width: 40px;/*幅を40pxに*/\n",
    "#  height: 200px;/*高さを200pxに*/\n",
    "#  background:orange;/*背景色をオレンジに*/\n",
    "#  }"
   ]
  },
  {
   "cell_type": "markdown",
   "metadata": {},
   "source": [
    "## 11.4 BeautifulSoupモジュールを用いたHTMLの解析"
   ]
  },
  {
   "cell_type": "code",
   "execution_count": 12,
   "metadata": {},
   "outputs": [
    {
     "name": "stdout",
     "output_type": "stream",
     "text": [
      "Requirement already satisfied: beautifulsoup4 in c:\\users\\nakam\\anaconda3\\lib\\site-packages (4.8.0)\n",
      "Requirement already satisfied: soupsieve>=1.2 in c:\\users\\nakam\\anaconda3\\lib\\site-packages (from beautifulsoup4) (1.9.3)\n"
     ]
    }
   ],
   "source": [
    "!pip install beautifulsoup4"
   ]
  },
  {
   "cell_type": "markdown",
   "metadata": {},
   "source": [
    "### 11.4.1 HTMLからBeautifulSoupオブジェクトを生成する"
   ]
  },
  {
   "cell_type": "code",
   "execution_count": 13,
   "metadata": {},
   "outputs": [
    {
     "data": {
      "text/plain": [
       "bs4.BeautifulSoup"
      ]
     },
     "execution_count": 13,
     "metadata": {},
     "output_type": "execute_result"
    }
   ],
   "source": [
    "import requests, bs4\n",
    "res=requests.get('http://nostarch.com')\n",
    "res.raise_for_status()\n",
    "no_starch_soup=bs4.BeautifulSoup(res.text)\n",
    "type(no_starch_soup)"
   ]
  },
  {
   "cell_type": "code",
   "execution_count": 14,
   "metadata": {},
   "outputs": [
    {
     "data": {
      "text/plain": [
       "bs4.BeautifulSoup"
      ]
     },
     "execution_count": 14,
     "metadata": {},
     "output_type": "execute_result"
    }
   ],
   "source": [
    "#HTMLファイルを読み込む場合は以下\n",
    "folder='C:\\\\Users\\\\nakam\\\\Python\\\\Data\\\\Boring_Python\\\\11.4.1\\\\'\n",
    "\n",
    "example_file=open(folder+'example.html')\n",
    "example_soup=bs4.BeautifulSoup(example_file)\n",
    "type(example_soup)"
   ]
  },
  {
   "cell_type": "markdown",
   "metadata": {},
   "source": [
    "### 11.4.2 select()メソッドを用いて要素を見つける\n",
    "CSS:ウェブページのスタイルを指定する言語"
   ]
  },
  {
   "cell_type": "code",
   "execution_count": 15,
   "metadata": {},
   "outputs": [],
   "source": [
    "#以下の要素にマッチさせる方法\n",
    "#soup.select('div') : すべての<div>要素\n",
    "#soup.select('#author') : id属性がauthorである要素\n",
    "#soup.select('.notice') : CSSクラス属性がnoticeである全要素\n",
    "#soup.select('div span') : <div要素>の中のすべての<span>要素\n",
    "#soup.select('div > span') : <div要素>直下のすべての<span>要素\n",
    "#soup.select('input[name]') : name属性を持つすべての<input>要素\n",
    "#soup.select('input[type=\"button\"]') : type属性の値がbuttonであるすべての<input>要素"
   ]
  },
  {
   "cell_type": "code",
   "execution_count": 16,
   "metadata": {},
   "outputs": [
    {
     "data": {
      "text/plain": [
       "list"
      ]
     },
     "execution_count": 16,
     "metadata": {},
     "output_type": "execute_result"
    }
   ],
   "source": [
    "elems=example_soup.select('#author') #id属性がauthorである要素にマッチ\n",
    "type(elems)"
   ]
  },
  {
   "cell_type": "code",
   "execution_count": 17,
   "metadata": {},
   "outputs": [
    {
     "data": {
      "text/plain": [
       "1"
      ]
     },
     "execution_count": 17,
     "metadata": {},
     "output_type": "execute_result"
    }
   ],
   "source": [
    "len(elems) #tagオブジェクトの数"
   ]
  },
  {
   "cell_type": "code",
   "execution_count": 18,
   "metadata": {},
   "outputs": [
    {
     "data": {
      "text/plain": [
       "bs4.element.Tag"
      ]
     },
     "execution_count": 18,
     "metadata": {},
     "output_type": "execute_result"
    }
   ],
   "source": [
    "type(elems[0])"
   ]
  },
  {
   "cell_type": "code",
   "execution_count": 19,
   "metadata": {},
   "outputs": [
    {
     "data": {
      "text/plain": [
       "'Al Sweigart'"
      ]
     },
     "execution_count": 19,
     "metadata": {},
     "output_type": "execute_result"
    }
   ],
   "source": [
    "elems[0].getText() #テキストを抽出"
   ]
  },
  {
   "cell_type": "code",
   "execution_count": 20,
   "metadata": {},
   "outputs": [
    {
     "data": {
      "text/plain": [
       "'<span id=\"author\">Al Sweigart</span>'"
      ]
     },
     "execution_count": 20,
     "metadata": {},
     "output_type": "execute_result"
    }
   ],
   "source": [
    "str(elems[0]) #開始タグ、終了タグを含む文字列"
   ]
  },
  {
   "cell_type": "code",
   "execution_count": 21,
   "metadata": {},
   "outputs": [
    {
     "data": {
      "text/plain": [
       "{'id': 'author'}"
      ]
     },
     "execution_count": 21,
     "metadata": {},
     "output_type": "execute_result"
    }
   ],
   "source": [
    "elems[0].attrs"
   ]
  },
  {
   "cell_type": "code",
   "execution_count": 22,
   "metadata": {},
   "outputs": [
    {
     "name": "stdout",
     "output_type": "stream",
     "text": [
      "3\n",
      "<p>Download my <strong>Python</strong> book from <a href=\"http://inventwithpython.com\">my website</a>.</p>\n"
     ]
    }
   ],
   "source": [
    "#p要素を取り出す場合は以下\n",
    "\n",
    "p_elems=example_soup.select('p') #id属性がauthorである要素にマッチ\n",
    "print(len(p_elems))\n",
    "print(p_elems[0])"
   ]
  },
  {
   "cell_type": "markdown",
   "metadata": {},
   "source": [
    "### 11.4.3 要素の属性からデータを取得する\n",
    "get()メソッド"
   ]
  },
  {
   "cell_type": "code",
   "execution_count": 23,
   "metadata": {},
   "outputs": [
    {
     "data": {
      "text/plain": [
       "<span id=\"author\">Al Sweigart</span>"
      ]
     },
     "execution_count": 23,
     "metadata": {},
     "output_type": "execute_result"
    }
   ],
   "source": [
    "span_elem=example_soup.select('span')[0] #span要素の1つ目を取得\n",
    "span_elem"
   ]
  },
  {
   "cell_type": "code",
   "execution_count": 24,
   "metadata": {},
   "outputs": [
    {
     "data": {
      "text/plain": [
       "'author'"
      ]
     },
     "execution_count": 24,
     "metadata": {},
     "output_type": "execute_result"
    }
   ],
   "source": [
    "span_elem.get('id') #属性名idの属性を検索"
   ]
  },
  {
   "cell_type": "code",
   "execution_count": 25,
   "metadata": {},
   "outputs": [
    {
     "data": {
      "text/plain": [
       "{'id': 'author'}"
      ]
     },
     "execution_count": 25,
     "metadata": {},
     "output_type": "execute_result"
    }
   ],
   "source": [
    "span_elem.attrs"
   ]
  },
  {
   "cell_type": "markdown",
   "metadata": {},
   "source": [
    "## 11.5 プロジェクト：Google検索"
   ]
  },
  {
   "cell_type": "code",
   "execution_count": 26,
   "metadata": {},
   "outputs": [
    {
     "name": "stdout",
     "output_type": "stream",
     "text": [
      "検索キーワードを入力してください\n",
      "python\n",
      "Googling...\n",
      "/imgres?imgurl=https://upload.wikimedia.org/wikipedia/commons/f/f8/Python_logo_and_wordmark.svg&imgrefurl=https://ja.wikipedia.org/wiki/%25E3%2583%2595%25E3%2582%25A1%25E3%2582%25A4%25E3%2583%25AB:Python_logo_and_wordmark.svg&h=153&w=518&tbnid=YScuu7LWBQP5SM:&q=python&tbnh=59&tbnw=200&usg=AI4_-kTZicjCQJEIHp46sxvIeoVf4a6w9Q&vet=1&docid=XqaRwRVuoWR6bM&itg=1&sa=X&ved=2ahUKEwi30sWkz4DnAhWpITQIHYNlBYMQ9QF6BAgLEAQ\n",
      "\n",
      "None\n",
      "\n",
      "\n",
      "/url?q=https://www.python.jp/&sa=U&ved=2ahUKEwi30sWkz4DnAhWpITQIHYNlBYMQFjAVegQICBAB&usg=AOvVaw3MlYdgSosVsV5MZNzAj4Av\n",
      "\n",
      "None\n",
      "\n",
      "\n",
      "/url?q=https://ja.wikipedia.org/wiki/Python&sa=U&ved=2ahUKEwi30sWkz4DnAhWpITQIHYNlBYMQFjAWegQIChAB&usg=AOvVaw37SqzD28BED6mBtZloN-Hx\n",
      "\n",
      "None\n",
      "\n",
      "\n"
     ]
    }
   ],
   "source": [
    "import requests, sys, webbrowser\n",
    "from bs4 import BeautifulSoup as bs\n",
    "\n",
    "print('検索キーワードを入力してください')\n",
    "keyword=input()\n",
    "\n",
    "print('Googling...')  # Googleページをダウンロード中にテキストを表示\n",
    "res = requests.get('http://google.com/search?q='+keyword)\n",
    "res.raise_for_status()\n",
    "\n",
    "res = res.text\n",
    "soup = bs(res,\"html.parser\")\n",
    "list=[]\n",
    "\n",
    "tags = soup.find_all(\"div\", class_=\"ZINbbc xpd O9g5cc uUPGi\")\n",
    "\n",
    "num_open = 3 #検索数\n",
    "number=0\n",
    "\n",
    "for i in tags:\n",
    "    if number==3:\n",
    "        break\n",
    "    \n",
    "    number=number+1\n",
    "    \n",
    "    if(i.find(\"div\", class_=\"BNeawe s3v9rd AP7Wnd\") != None):\n",
    "        print(i.find(\"a\").get(\"href\")) #urlの出力\n",
    "        list.append(i.find(\"a\").get(\"href\"))\n",
    "        print('')             \n",
    "        print(i.find(\"div\", class_=\"BNeawe s3v9rd AP7Wnd\").string) #サイトの説明\n",
    "        \n",
    "    print('')\n",
    "    print('')\n",
    "\n",
    "# 各結果をブラウザのタブで開く\n",
    "#for i in range(num_open):\n",
    "#    print(list[i])\n",
    "#    webbrowser.open('http://google.com' + list[i])"
   ]
  },
  {
   "cell_type": "markdown",
   "metadata": {},
   "source": [
    "## 11.6 画像を保存し前のコミックを見つける"
   ]
  },
  {
   "cell_type": "code",
   "execution_count": 27,
   "metadata": {},
   "outputs": [
    {
     "name": "stdout",
     "output_type": "stream",
     "text": [
      "ページをダウンロード中 http://xkcd.com/...\n",
      "画像をダウンロード中 http://imgs.xkcd.com/comics/star_wars_voyager_1.png...\n",
      "ページをダウンロード中 http://xkcd.com/2252/...\n",
      "画像をダウンロード中 http://imgs.xkcd.com/comics/parenthetical_names.png...\n",
      "ページをダウンロード中 http://xkcd.com/2251/...\n",
      "画像をダウンロード中 http://imgs.xkcd.com/comics/alignment_chart_alignment_chart.png...\n",
      "ページをダウンロード中 http://xkcd.com/2250/...\n",
      "画像をダウンロード中 http://imgs.xkcd.com/comics/ok_okay_ok.png...\n",
      "完了\n"
     ]
    }
   ],
   "source": [
    "import requests, os, bs4\n",
    "import time\n",
    "\n",
    "folder='C:\\\\Users\\\\nakam\\\\Python\\\\Data\\\\Boring_Python\\\\11.6'\n",
    "os.chdir(folder)\n",
    "\n",
    "url = 'http://xkcd.com/'               # 開始URL\n",
    "os.makedirs('xkcd', exist_ok=True)    # ./xkcdに保存する\n",
    "\n",
    "max_number=5 #ダウンロード回数を定義\n",
    "number=0\n",
    "\n",
    "while not url.endswith('#'):\n",
    "    number=number+1\n",
    "    \n",
    "    if number==max_number:\n",
    "        break\n",
    "\n",
    "    # ページをダウンロードする\n",
    "    print('ページをダウンロード中 {}...'.format(url))\n",
    "    res = requests.get(url)\n",
    "    res.raise_for_status()\n",
    "\n",
    "    soup = bs4.BeautifulSoup(res.text)\n",
    "\n",
    "    # コミック画像のURLを見つける\n",
    "    #<div id=\"comic\">\n",
    "    #<img src=\"//imgs.xkcd.com/comics/star_wars_voyager_1.png\" title=\n",
    "    #\"There's some flexibility depending on your standards for measuring \n",
    "    #runtime and the various special editions. If you still want to have \n",
    "    #a party, I'm sure you can find some combination that works.\" alt=\n",
    "    #\"Star Wars Voyager 1\" srcset=\"//imgs.xkcd.com/comics/star_wars_\n",
    "    #voyager_1_2x.png 2x\">\n",
    "    #</div>\n",
    "\n",
    "    \n",
    "    comic_elem = soup.select('#comic img')\n",
    "    if comic_elem == []:\n",
    "        print('コミック画像が見つかりませんでした。')\n",
    "    else:\n",
    "        comic_url = 'http:' + comic_elem[0].get('src')\n",
    "        # 画像をダウンロードする\n",
    "        print('画像をダウンロード中 {}...'.format(comic_url))\n",
    "        res = requests.get(comic_url)\n",
    "        res.raise_for_status()\n",
    "\n",
    "        # 画像を./xkcdに保存する\n",
    "        image_file = open(os.path.join('xkcd', os.path.basename(comic_url)), 'wb')\n",
    "        for chunk in res.iter_content(100000):\n",
    "            image_file.write(chunk)\n",
    "        image_file.close()\n",
    "        \n",
    "    # PrevボタンのURLを取得する\n",
    "    #<a rel=\"prev\" href=\"/2252/\" accesskey=\"p\">&lt; Prev</a>\n",
    "    \n",
    "    prev_link = soup.select('a[rel=\"prev\"]')[0]\n",
    "    url = 'http://xkcd.com' + prev_link.get('href')\n",
    "\n",
    "print('完了')"
   ]
  },
  {
   "cell_type": "markdown",
   "metadata": {},
   "source": [
    "## 11.7 seleniumモジュールを用いたブラウザの制御"
   ]
  },
  {
   "cell_type": "code",
   "execution_count": 28,
   "metadata": {},
   "outputs": [
    {
     "name": "stdout",
     "output_type": "stream",
     "text": [
      "Requirement already satisfied: chromedriver-binary==79.0.3945.36.0 in c:\\users\\nakam\\anaconda3\\lib\\site-packages (79.0.3945.36.0)\n"
     ]
    }
   ],
   "source": [
    "!pip install chromedriver-binary==79.0.3945.36.0"
   ]
  },
  {
   "cell_type": "code",
   "execution_count": 29,
   "metadata": {},
   "outputs": [],
   "source": [
    "from selenium import webdriver\n",
    "from selenium.webdriver.common.keys import Keys\n",
    "import chromedriver_binary\n",
    "\n",
    "browser=webdriver.Chrome()\n",
    "browser.get('http://inventwithpython.com')"
   ]
  },
  {
   "cell_type": "markdown",
   "metadata": {},
   "source": [
    "### 11.7.2 ページの要素を見つける"
   ]
  },
  {
   "cell_type": "code",
   "execution_count": 30,
   "metadata": {},
   "outputs": [],
   "source": [
    "#複数とマッチさせたい場合はfind_elementsとする\n",
    "#browser.find_element_by_class_name(name) : CSSクラスがnameである要素\n",
    "#browser.find_element_by_css_selector(selector) : CSSセレクタにマッチする要素\n",
    "#browser.find_element_by_link_text(text) : textに完全一致する<a>要素\n",
    "#browser.find_element_by_partial_link_text(text) : textに部分一致する<a>要素\n",
    "#browser.find_element_by_name(name) : name属性が一致する要素\n",
    "#browser.find_element_by_tag_name(name) : タグ名が名前に一致する要素（大文字小文字区別無し）"
   ]
  },
  {
   "cell_type": "code",
   "execution_count": 31,
   "metadata": {},
   "outputs": [],
   "source": [
    "#上記でWebElementオブジェクトを取得したら以下のメソッドを呼び出し可能\n",
    "#tag_name : タグ名。例えば<a>要素なら'a'\n",
    "#get_attribute(name) : 要素の属性nameの値\n",
    "#text : 要素の内部テキスト\n",
    "#clear() : inputやtextarea要素のテキストを消去する\n",
    "#is_displayed() : 要素が歌詞ならTrue,そうでなければFalseを返す\n",
    "#is_enabled() : input要素が有効ならTrue、無効ならFalseを返す\n",
    "#is_selected() : checkboxやradiobutton要素がチェックされていればTrue、されていなければFalseを返す\n",
    "#location : 'X'と'Y'のキーを持つ辞書で、要素のページ上の座標を返す"
   ]
  },
  {
   "cell_type": "code",
   "execution_count": 33,
   "metadata": {},
   "outputs": [
    {
     "name": "stdout",
     "output_type": "stream",
     "text": [
      "そのクラス名を持つ要素 <img>を見つけた\n"
     ]
    }
   ],
   "source": [
    "browser=webdriver.Chrome()\n",
    "browser.get('http://inventwithpython.com')\n",
    "try:\n",
    "    elem=browser.find_element_by_class_name('card-img-top')\n",
    "    print('そのクラス名を持つ要素 <{}>を見つけた'.format(elem.tag_name))\n",
    "except:\n",
    "    print('そのクラス名を持つ要素は見つからなかった')"
   ]
  },
  {
   "cell_type": "markdown",
   "metadata": {},
   "source": [
    "### 11.7.3 ページをクリックする\n",
    "click()メソッド"
   ]
  },
  {
   "cell_type": "code",
   "execution_count": 34,
   "metadata": {},
   "outputs": [],
   "source": [
    "#WebElementオブジェクトにclick()メソッドがある\n",
    "link_elem=browser.find_element_by_link_text('Read Online for Free')\n",
    "link_elem.click()"
   ]
  },
  {
   "cell_type": "markdown",
   "metadata": {},
   "source": [
    "### 11.7.4 フォームを記入して送信する\n",
    "send_keys()メソッド"
   ]
  },
  {
   "cell_type": "code",
   "execution_count": 35,
   "metadata": {},
   "outputs": [],
   "source": [
    "#elem.send_keys('12345') #入力\n",
    "#elem.submit() #送信ボタンを記入"
   ]
  },
  {
   "cell_type": "markdown",
   "metadata": {},
   "source": [
    "### 11.7.5 特殊なキーを送信する"
   ]
  },
  {
   "cell_type": "code",
   "execution_count": 36,
   "metadata": {},
   "outputs": [],
   "source": [
    "#Keys.Down / Keys.Up / Keys.LEFT / Keys.RIGHT : 矢印\n",
    "#Keys.ENTER / Keys.RETURN\n",
    "#Keys.HOME / Keys.END / Keys.PAGE_DOWN / Keys.PAGE_UP\n",
    "#Keys.ESCAPE / Keys.BACK_SPACE / Keys.DELETE\n",
    "#Keys.F1\n",
    "#Keys.TAB"
   ]
  },
  {
   "cell_type": "code",
   "execution_count": 37,
   "metadata": {},
   "outputs": [],
   "source": [
    "#ページをスクロールする\n",
    "from selenium import webdriver\n",
    "from selenium.webdriver.common.keys import Keys\n",
    "\n",
    "browser=webdriver.Chrome()\n",
    "browser.get('http://nostarch.com')\n",
    "html_elem=browser.find_element_by_tag_name('html') #キー入力する際にはhtml中身全体を取得する\n",
    "html_elem.send_keys(Keys.END)\n",
    "html_elem.send_keys(Keys.HOME)"
   ]
  },
  {
   "cell_type": "markdown",
   "metadata": {},
   "source": [
    "## 11.7.6 ブラウザのボタンをクリックする"
   ]
  },
  {
   "cell_type": "code",
   "execution_count": 38,
   "metadata": {},
   "outputs": [],
   "source": [
    "#browser.back() : 戻るボタンをクリック\n",
    "#browser.forward() : 進むボタンをクリック\n",
    "#browser.refresh() : 再読み込みボタンをクリック\n",
    "#browser.quit() : ウインドウを閉じるボタンをクリックする"
   ]
  },
  {
   "cell_type": "markdown",
   "metadata": {},
   "source": [
    "## 11.10 演習プロジェクト\n",
    "### 11.10.1 電子メーラー"
   ]
  },
  {
   "cell_type": "code",
   "execution_count": 43,
   "metadata": {
    "scrolled": true
   },
   "outputs": [],
   "source": [
    "#Gmailに自動ログインし、メール送信\n",
    "\n",
    "from selenium import webdriver\n",
    "from selenium.webdriver.common.keys import Keys\n",
    "import chromedriver_binary\n",
    "import time\n",
    "import sys\n",
    "\n",
    "to_address = 'nakamukaiya@yahoo.co.jp'\n",
    "message = 'test'\n",
    "\n",
    "MY_ADDRESS = 'nakamukaiya@gmail.com' \n",
    "MY_PASSWORD = 'MHIh@ru0701' \n",
    "\n",
    "browser=webdriver.Chrome()\n",
    "browser.get('https://www.google.com/gmail/')\n",
    "\n",
    "# IDの入力\n",
    "id_input = browser.find_element_by_id('identifierId')\n",
    "#<input type=\"email\" class=\"whsOnd zHQkBf\" jsname=\"YPqjbf\" autocomplete=\"username\" \n",
    "#spellcheck=\"false\" tabindex=\"0\" aria-label=\"Email or phone\" name=\"identifier\" \n",
    "#value=\"\" autocapitalize=\"none\" id=\"identifierId\" dir=\"ltr\" data-initial-dir=\"ltr\" \n",
    "#data-initial-value=\"\">\n",
    "\n",
    "id_input.send_keys(MY_ADDRESS)\n",
    "next = browser.find_element_by_id('identifierNext')\n",
    "#<div role=\"button\" id=\"identifierNext\" class=\"U26fgb O0WRkf zZhnYe e3Duub C0oVfc FliLIb DL0QTb M9Bg4d\" \n",
    "#jscontroller=\"VXdfxd\" jsaction=\"click:cOuCgd; mousedown:UX7yZ; mouseup:lbsD7e; mouseenter:tfO1Yc; \n",
    "#mouseleave:JywGue; focus:AHmuwe; blur:O22p3e; contextmenu:mg9Pef;touchstart:p6p2H; touchmove:FwuNnf; \n",
    "#touchend:yfqBxc(preventMouseEvents=true|preventDefault=true); touchcancel:JMtRjd;\" jsshadow=\"\" \n",
    "#jsname=\"Njthtb\" aria-disabled=\"false\" tabindex=\"0\"><div class=\"Vwe4Vb MbhUzd\" \n",
    "#jsname=\"ksKsZd\"></div><div class=\"ZFr60d CeoRYc\"></div><span jsslot=\"\" class=\"CwaK9\">\n",
    "#<span class=\"RveJvd snByac\">Next</span></span></div>\n",
    "\n",
    "\n",
    "next.click()\n",
    "# ちょっと待つ。\n",
    "time.sleep(5)\n",
    "\n",
    "# パスワードの入力\n",
    "password_input = browser.find_element_by_name('password')\n",
    "#<input type=\"password\" class=\"whsOnd zHQkBf\" jsname=\"YPqjbf\" autocomplete=\"current-password\" \n",
    "#spellcheck=\"false\" tabindex=\"0\" aria-label=\"Enter your password\" name=\"password\" \n",
    "#autocapitalize=\"off\" dir=\"ltr\" data-initial-dir=\"ltr\" data-initial-value=\"\">\n",
    "\n",
    "password_input.send_keys(MY_PASSWORD)\n",
    "next = browser.find_element_by_id('passwordNext')\n",
    "next.click()\n",
    "time.sleep(15)"
   ]
  },
  {
   "cell_type": "code",
   "execution_count": 44,
   "metadata": {},
   "outputs": [],
   "source": [
    "# 「作成」ボタンを押す\n",
    "divs = browser.find_elements_by_xpath(\"//div[@role='button']\")\n",
    "#<div class=\"T-I J-J5-Ji T-I-KE L3\" role=\"button\" tabindex=\"0\" jslog=\"20510; \n",
    "#u014N:cOuCgd,Kr2w4b\" gh=\"cm\" style=\"user-select: none;\">作成</div>\n",
    "\n",
    "for d in divs:\n",
    "    if d.text == '作成':\n",
    "        d.click()\n",
    "        break\n",
    "time.sleep(5)\n",
    "\n",
    "# To: を入力\n",
    "to_textarea = browser.find_element_by_name('to')\n",
    "#<textarea rows=\"1\" id=\":r2\" class=\"vO\" name=\"to\" spellcheck=\"false\" \n",
    "#autocomplete=\"false\" autocapitalize=\"off\" autocorrect=\"off\" tabindex=\"1\" \n",
    "#dir=\"ltr\" aria-label=\"To\" role=\"combobox\" aria-autocomplete=\"list\" \n",
    "#style=\"width: 311px;\"></textarea>\n",
    "\n",
    "to_textarea.send_keys(to_address + '\\n')\n",
    "time.sleep(1)\n",
    "\n",
    "# 件名を入力\n",
    "subject_input = browser.find_element_by_name('subjectbox')\n",
    "#<input name=\"subjectbox\" id=\":qk\" class=\"aoT\" \n",
    "#autocomplete=\"off\" spellcheck=\"true\" tabindex=\"1\" \n",
    "#placeholder=\"件名\" aria-label=\"件名\">\n",
    "\n",
    "subject_input.send_keys('自動送信')\n",
    "time.sleep(1)\n",
    "\n",
    "# メッセージ本文を入力\n",
    "message_div = browser.find_element_by_xpath(\"//div[@aria-label='メッセージ本文']\")\n",
    "#<div id=\":rp\" class=\"Am Al editable LW-avf tS-tW\" \n",
    "#hidefocus=\"true\" aria-label=\"メッセージ本文\" g_editable=\"true\" \n",
    "#role=\"textbox\" aria-multiline=\"true\" contenteditable=\"true\" \n",
    "#tabindex=\"1\" style=\"direction: ltr; min-height: 269px;\" itacorner=\"6,7:1,1,0,0\"><br></div>\n",
    "\n",
    "message_div.send_keys(message)\n",
    "time.sleep(5)\n",
    "\n",
    "# 「送信」ボタンを押す\n",
    "divs = browser.find_elements_by_xpath(\"//div[@role='button']\")\n",
    "#<div id=\":qa\" class=\"T-I J-J5-Ji aoO v7 T-I-atl L3\" \n",
    "#role=\"button\" tabindex=\"1\" data-tooltip=\"送信 ‪(Ctrl+Enter)‬\" \n",
    "#aria-label=\"送信 ‪(Ctrl+Enter)‬\" data-tooltip-delay=\"800\" jslog=\"32601; \n",
    "#u014N:cOuCgd,Kr2w4b; dYFj7e:true; \n",
    "#11:WyIjbXNnLWE6ci00MjE3MzAwMTYxNDg0MDc4NTQ0IixudWxsLG51bGwsbnVsbCwxLG51b\n",
    "#GwsWyIjdGhyZWFkLWE6ci00MjEyMzQyNzA3NTM5MDU4ODY0Il0sZmFsc2Vd\" \n",
    "#style=\"user-select: none;\">送信</div>\n",
    "\n",
    "for d in divs:\n",
    "    if d.text == '送信':\n",
    "        d.click()\n",
    "        break"
   ]
  },
  {
   "cell_type": "markdown",
   "metadata": {},
   "source": [
    "## 11.10.2 画像サイトのダウンローダー"
   ]
  },
  {
   "cell_type": "code",
   "execution_count": 45,
   "metadata": {},
   "outputs": [
    {
     "name": "stdout",
     "output_type": "stream",
     "text": [
      "Game of Thrones\n",
      "フォルダ名を入力してください\n",
      "GOT\n",
      "//i.imgur.com/JLWVcKxb.jpgを保存しています...\n",
      "//i.imgur.com/Q7v2qWvb.jpgを保存しています...\n",
      "//i.imgur.com/eFtGFtrb.jpgを保存しています...\n",
      "//i.imgur.com/CZEczqib.jpgを保存しています...\n",
      "//i.imgur.com/QNNH4tjb.jpgを保存しています...\n",
      "//i.imgur.com/u43MKj7b.jpgを保存しています...\n",
      "//i.imgur.com/HB11hmXb.jpgを保存しています...\n",
      "//i.imgur.com/fuQohQLb.jpgを保存しています...\n",
      "//i.imgur.com/0cqiSePb.jpgを保存しています...\n",
      "//i.imgur.com/lZYJKVcb.jpgを保存しています...\n",
      "//i.imgur.com/6xwTT2Pb.jpgを保存しています...\n",
      "//i.imgur.com/GpkSbuSb.jpgを保存しています...\n",
      "//i.imgur.com/1DrIcsSb.jpgを保存しています...\n",
      "//i.imgur.com/06h6TCSb.jpgを保存しています...\n",
      "//i.imgur.com/hBTIX8kb.jpgを保存しています...\n",
      "//i.imgur.com/5pci7Knb.jpgを保存しています...\n",
      "//i.imgur.com/8wN5yB5b.jpgを保存しています...\n",
      "//i.imgur.com/ft5t54ab.jpgを保存しています...\n",
      "//i.imgur.com/5FVblmhb.jpgを保存しています...\n",
      "//i.imgur.com/AHgGOprb.jpgを保存しています...\n",
      "//i.imgur.com/THrIHsUb.jpgを保存しています...\n",
      "//i.imgur.com/61MBzc6b.jpgを保存しています...\n",
      "//i.imgur.com/vNYm9Qqb.jpgを保存しています...\n",
      "//i.imgur.com/gSIVWtZb.jpgを保存しています...\n",
      "//i.imgur.com/MMw3BCAb.jpgを保存しています...\n",
      "//i.imgur.com/3GCfFz1b.jpgを保存しています...\n",
      "//i.imgur.com/6eKMhyIb.jpgを保存しています...\n",
      "//i.imgur.com/Z0srapEb.jpgを保存しています...\n",
      "//i.imgur.com/ZmTCgZIb.jpgを保存しています...\n",
      "//i.imgur.com/Wk40cmgb.jpgを保存しています...\n",
      "//i.imgur.com/gWROCwwb.jpgを保存しています...\n",
      "//i.imgur.com/q7crpNeb.jpgを保存しています...\n",
      "//i.imgur.com/YA4ZuP0b.jpgを保存しています...\n",
      "//i.imgur.com/Vg9aAPnb.jpgを保存しています...\n",
      "//i.imgur.com/xHGbPnrb.jpgを保存しています...\n",
      "//i.imgur.com/IRKO1rkb.jpgを保存しています...\n",
      "//i.imgur.com/Lfs8MQfb.jpgを保存しています...\n",
      "//i.imgur.com/6Pv4V7Ub.jpgを保存しています...\n",
      "//i.imgur.com/Y2ImhxHb.jpgを保存しています...\n",
      "//i.imgur.com/9E8wXhPb.jpgを保存しています...\n",
      "//i.imgur.com/6cnzRwkb.jpgを保存しています...\n",
      "//i.imgur.com/9eYR24Qb.jpgを保存しています...\n",
      "//i.imgur.com/nbIRKJZb.jpgを保存しています...\n",
      "//i.imgur.com/154vG8Zb.jpgを保存しています...\n",
      "//i.imgur.com/t0yL1IGb.jpgを保存しています...\n",
      "//i.imgur.com/5W84OETb.jpgを保存しています...\n",
      "//i.imgur.com/V1vwcCZb.jpgを保存しています...\n",
      "//i.imgur.com/SQxXMh5b.jpgを保存しています...\n",
      "//i.imgur.com/8wKMXwcb.jpgを保存しています...\n",
      "//i.imgur.com/S2xMlqxb.jpgを保存しています...\n",
      "//i.imgur.com/IfcMa5Nb.jpgを保存しています...\n",
      "//i.imgur.com/9uUtwoNb.jpgを保存しています...\n",
      "//i.imgur.com/4S7w023b.jpgを保存しています...\n",
      "//i.imgur.com/R2MWXBNb.jpgを保存しています...\n",
      "//i.imgur.com/Ki1EwTlb.jpgを保存しています...\n",
      "//i.imgur.com/hDZGiHyb.jpgを保存しています...\n",
      "//i.imgur.com/iR4O7Wpb.jpgを保存しています...\n",
      "//i.imgur.com/FsMbHhBb.jpgを保存しています...\n",
      "//i.imgur.com/ebNunSib.jpgを保存しています...\n",
      "//s.imgur.com/images/loaders/ddddd1_181817/48.gifを保存しています...\n",
      "ダウンロード完了しました\n"
     ]
    }
   ],
   "source": [
    "#Imgurページの例\n",
    "#①キーワードを入力\n",
    "#②フォルダ名を入力\n",
    "#指定したページの画像を指定したフォルダへ保存する\n",
    "\n",
    "import requests, os, sys, bs4\n",
    "\n",
    "# urlを以下に入力\n",
    "word=input()\n",
    "word=word.replace(' ','+') #空白を+に置換\n",
    "url='https://imgur.com/search/score?q='+word\n",
    "\n",
    "#フォルダ名を指定\n",
    "os.chdir('C:\\\\Users\\\\nakam\\\\Python\\\\Data\\\\Boring_Python\\\\11.10.2')\n",
    "print('フォルダ名を入力してください')\n",
    "folder=input()\n",
    "\n",
    "#フォルダ作成\n",
    "os.makedirs(folder,exist_ok=True)\n",
    "\n",
    "#url情報を取得\n",
    "res=requests.get(url)\n",
    "res.raise_for_status()\n",
    "    \n",
    "soup=bs4.BeautifulSoup(res.text)\n",
    "\n",
    "#imgリンクを取得(src=img)\n",
    "link_elems=soup.select('img')\n",
    "\n",
    "for i in range(0,len(link_elems)):  \n",
    "    try:\n",
    "        #ファイル保存\n",
    "        print('{}を保存しています...'.format(link_elems[i].get('src')))\n",
    "        image_file=open(os.path.join(folder,os.path.basename('https:'+link_elems[i].get('src'))),'wb') #https:を追加する必要がある\n",
    "            \n",
    "        #requests.getでWebページをダウンロード\n",
    "        res=(requests.get('https:'+link_elems[i].get('src'))) #https:を追加する必要がある\n",
    "                \n",
    "        for chunk in res.iter_content(100000):\n",
    "            image_file.write(chunk)\n",
    "        \n",
    "        image_file.close()\n",
    "        \n",
    "    except OSError: \n",
    "        print('{}は保存できないのでスキップします...'.format(link_elems[i].get('src')))\n",
    "\n",
    "print('ダウンロード完了しました')\n",
    "res.close()"
   ]
  },
  {
   "cell_type": "markdown",
   "metadata": {},
   "source": [
    "## 11.10.3 2048"
   ]
  },
  {
   "cell_type": "code",
   "execution_count": 46,
   "metadata": {},
   "outputs": [],
   "source": [
    "#2048ゲームの自動操作\n",
    "\n",
    "import requests, os, sys, bs4\n",
    "from selenium import webdriver\n",
    "import chromedriver_binary\n",
    "from selenium.webdriver.common.keys import Keys\n",
    "from time import sleep\n",
    "\n",
    "# urlを指定\n",
    "url='https://play2048.co/'\n",
    "\n",
    "#Goole Chrome起動\n",
    "browser=webdriver.Chrome()\n",
    "browser.get(url)\n",
    "\n",
    "#操作(下左上右を繰り返し)\n",
    "html_elem=browser.find_element_by_tag_name('html') #html全体を選択\n",
    "\n",
    "for n in range(0,20):\n",
    "    html_elem.send_keys(Keys.DOWN)\n",
    "    sleep(0.2)\n",
    "    html_elem.send_keys(Keys.LEFT)\n",
    "    sleep(0.2)\n",
    "    html_elem.send_keys(Keys.UP)\n",
    "    sleep(0.2)\n",
    "    html_elem.send_keys(Keys.RIGHT)\n",
    "    sleep(0.2)"
   ]
  },
  {
   "cell_type": "markdown",
   "metadata": {},
   "source": [
    "## 11.10.4 リンクの検査"
   ]
  },
  {
   "cell_type": "code",
   "execution_count": 47,
   "metadata": {
    "scrolled": false
   },
   "outputs": [
    {
     "name": "stdout",
     "output_type": "stream",
     "text": [
      "http://www.kuremitsuta-h.hiroshima-c.ed.jp/web_mitsuta/index2.html-> www.kuremitsuta-h.hiroshima-c.ed.jp_web_mitsuta_index2.html に保存\n",
      "http://www.kuremitsuta-h.hiroshima-c.ed.jp/web_mitsuta/g-kotyo.html-> www.kuremitsuta-h.hiroshima-c.ed.jp_web_mitsuta_g-kotyo.html に保存\n",
      "http://www.kuremitsuta-h.hiroshima-c.ed.jp/web_mitsuta/g-kouka.html-> www.kuremitsuta-h.hiroshima-c.ed.jp_web_mitsuta_g-kouka.html に保存\n",
      "http://www.kuremitsuta-h.hiroshima-c.ed.jp/web_mitsuta/g-rekishi.html-> www.kuremitsuta-h.hiroshima-c.ed.jp_web_mitsuta_g-rekishi.html に保存\n",
      "http://www.kuremitsuta-h.hiroshima-c.ed.jp/web_mitsuta/g-keieikeikaku.html-> www.kuremitsuta-h.hiroshima-c.ed.jp_web_mitsuta_g-keieikeikaku.html に保存\n",
      "http://www.kuremitsuta-h.hiroshima-c.ed.jp/web_mitsuta/g-kokken.html-> www.kuremitsuta-h.hiroshima-c.ed.jp_web_mitsuta_g-kokken.html に保存\n",
      "http://www.kuremitsuta-h.hiroshima-c.ed.jp/web_mitsuta/g-access.html-> www.kuremitsuta-h.hiroshima-c.ed.jp_web_mitsuta_g-access.html に保存\n",
      "http://www.kuremitsuta-h.hiroshima-c.ed.jp/web_mitsuta/index3.html-> www.kuremitsuta-h.hiroshima-c.ed.jp_web_mitsuta_index3.html に保存\n",
      "http://www.kuremitsuta-h.hiroshima-c.ed.jp/web_mitsuta/j-kyoikukatei.html-> www.kuremitsuta-h.hiroshima-c.ed.jp_web_mitsuta_j-kyoikukatei.html に保存\n",
      "http://www.kuremitsuta-h.hiroshima-c.ed.jp/web_mitsuta/j-shinro.html-> www.kuremitsuta-h.hiroshima-c.ed.jp_web_mitsuta_j-shinro.html に保存\n",
      "http://www.kuremitsuta-h.hiroshima-c.ed.jp/web_mitsuta/j-club.html-> www.kuremitsuta-h.hiroshima-c.ed.jp_web_mitsuta_j-club.html に保存\n",
      "http://www.kuremitsuta-h.hiroshima-c.ed.jp/web_mitsuta/j-album.html-> www.kuremitsuta-h.hiroshima-c.ed.jp_web_mitsuta_j-album.html に保存\n",
      "http://www.kuremitsuta-h.hiroshima-c.ed.jp/web_mitsuta/news.html-> www.kuremitsuta-h.hiroshima-c.ed.jp_web_mitsuta_news.html に保存\n",
      "http://www.kuremitsuta-h.hiroshima-c.ed.jp/web_mitsuta/n-nenkangyouji.html-> www.kuremitsuta-h.hiroshima-c.ed.jp_web_mitsuta_n-nenkangyouji.html に保存\n",
      "http://www.kuremitsuta-h.hiroshima-c.ed.jp/web_mitsuta/f-fusyoujiboushi.html-> www.kuremitsuta-h.hiroshima-c.ed.jp_web_mitsuta_f-fusyoujiboushi.html に保存\n",
      "http://www.kuremitsuta-h.hiroshima-c.ed.jp/web_mitsuta/i-ijimeboushi.html-> www.kuremitsuta-h.hiroshima-c.ed.jp_web_mitsuta_i-ijimeboushi.html に保存\n",
      "http://www.kuremitsuta-h.hiroshima-c.ed.jp/web_mitsuta/madoguchi.html-> www.kuremitsuta-h.hiroshima-c.ed.jp_web_mitsuta_madoguchi.html に保存\n",
      "http://www.kuremitsuta-h.hiroshima-c.ed.jp/web_mitsuta/can-do.html-> www.kuremitsuta-h.hiroshima-c.ed.jp_web_mitsuta_can-do.html に保存\n",
      "http://www.kuremitsuta-h.hiroshima-c.ed.jp/web_mitsuta/zimu/jimu_syoumeisyo.html-> www.kuremitsuta-h.hiroshima-c.ed.jp_web_mitsuta_zimu_jimu_syoumeisyo.html に保存\n",
      "http://www.kuremitsuta-h.hiroshima-c.ed.jp/web_mitsuta/zimu/jimu_gakuwari.html-> www.kuremitsuta-h.hiroshima-c.ed.jp_web_mitsuta_zimu_jimu_gakuwari.html に保存\n",
      "http://www.kuremitsuta-h.hiroshima-c.ed.jp/web_mitsuta/zimu/jimu_day.html-> www.kuremitsuta-h.hiroshima-c.ed.jp_web_mitsuta_zimu_jimu_day.html に保存\n",
      "http://www.kuremitsuta-h.hiroshima-c.ed.jp/web_mitsuta/zimu/printout.html-> www.kuremitsuta-h.hiroshima-c.ed.jp_web_mitsuta_zimu_printout.html に保存\n",
      "http://www.kuremitsuta-h.hiroshima-c.ed.jp/web_mitsuta/pdf/H31/r1_h30_shohi.pdf-> www.kuremitsuta-h.hiroshima-c.ed.jp_web_mitsuta_pdf_H31_r1_h30_shohi.pdf に保存\n",
      "http://www.kuremitsuta-h.hiroshima-c.ed.jp/web_mitsuta/j-shinro/h31_shinrojisseki.pdf-> www.kuremitsuta-h.hiroshima-c.ed.jp_web_mitsuta_j-shinro_h31_shinrojisseki.pdf に保存\n",
      "http://www.kuremitsuta-h.hiroshima-c.ed.jp/web_mitsuta/j-club-soccer.html-> www.kuremitsuta-h.hiroshima-c.ed.jp_web_mitsuta_j-club-soccer.html に保存\n",
      "http://www.kuremitsuta-h.hiroshima-c.ed.jp/web_mitsuta/pdf/H31/r1_1027stb04.pdf-> www.kuremitsuta-h.hiroshima-c.ed.jp_web_mitsuta_pdf_H31_r1_1027stb04.pdf に保存\n",
      "http://www.kuremitsuta-h.hiroshima-c.ed.jp/web_mitsuta/pdf/H31/r1_1026stb03.pdf-> www.kuremitsuta-h.hiroshima-c.ed.jp_web_mitsuta_pdf_H31_r1_1026stb03.pdf に保存\n",
      "http://www.kuremitsuta-h.hiroshima-c.ed.jp/web_mitsuta/pdf/H31/r1_1025stb02.pdf-> www.kuremitsuta-h.hiroshima-c.ed.jp_web_mitsuta_pdf_H31_r1_1025stb02.pdf に保存\n",
      "http://www.kuremitsuta-h.hiroshima-c.ed.jp/web_mitsuta/pdf/H31/r1_1024stb01.pdf-> www.kuremitsuta-h.hiroshima-c.ed.jp_web_mitsuta_pdf_H31_r1_1024stb01.pdf に保存\n",
      "http://www.kuremitsuta-h.hiroshima-c.ed.jp/web_mitsuta/pdf/H31/r1_1019sta04.pdf-> Error\n",
      "http://www.kuremitsuta-h.hiroshima-c.ed.jp/web_mitsuta/pdf/H31/r1_1019sta03.pdf-> Error\n",
      "http://www.kuremitsuta-h.hiroshima-c.ed.jp/web_mitsuta/pdf/H31/r1_1018sta02.pdf-> Error\n",
      "http://www.kuremitsuta-h.hiroshima-c.ed.jp/web_mitsuta/pdf/H31/r1_1017sta01.pdf->404 Not Found\n",
      "http://www.kuremitsuta-h.hiroshima-c.ed.jp/web_mitsuta/pdf/H31/keihou_taiou.pdf-> Error\n",
      "http://www.kuremitsuta-h.hiroshima-c.ed.jp/web_mitsuta/pdf/H31/r1_yotei_2.pdf-> Error\n",
      "http://www.kuremitsuta-h.hiroshima-c.ed.jp/web_mitsuta/pdf/H31/r1_openschool.pdf-> Error\n",
      "http://www.kuremitsuta-h.hiroshima-c.ed.jp/web_mitsuta/pdf/H31/h31_yotei_1.pdf->404 Not Found\n",
      "http://www.kuremitsuta-h.hiroshima-c.ed.jp/web_mitsuta/pdf/H31/h31_yotei_nen.pdf-> Error\n",
      "http://www.kuremitsuta-h.hiroshima-c.ed.jp/web_mitsuta/j-album30.html-> Error\n",
      "http://www.kuremitsuta-h.hiroshima-c.ed.jp/web_mitsuta/j-album29.html-> www.kuremitsuta-h.hiroshima-c.ed.jp_web_mitsuta_j-album29.html に保存\n",
      "http://www.kuremitsuta-h.hiroshima-c.ed.jp/web_mitsuta/j-album28.html-> Error\n",
      "http://www.kuremitsuta-h.hiroshima-c.ed.jp/web_mitsuta/pdf/H31/r1_010907_fes.pdf-> Error\n",
      "http://www.kuremitsuta-h.hiroshima-c.ed.jp/web_mitsuta/pdf/H31/r1_yotei_3.pdf-> Error\n",
      "http://www.kuremitsuta-h.hiroshima-c.ed.jp/web_mitsuta/pdf/toukoukyokanegai.pdf-> Error\n",
      "http://www.mitsuta.gr.jp/-> www.mitsuta.gr.jp_ に保存\n",
      "http://www.kuremitsuta-h.hiroshima-c.ed.jp/web_mitsuta/furusato-nozei.html-> Error\n",
      "http://pondt.com/-> Error\n"
     ]
    }
   ],
   "source": [
    "import requests, os, sys, bs4, re\n",
    "\n",
    "# urlを指定\n",
    "url='http://www.kuremitsuta-h.hiroshima-c.ed.jp/web_mitsuta/index2.html'\n",
    "url2='http://www.kuremitsuta-h.hiroshima-c.ed.jp/web_mitsuta'\n",
    "\n",
    "#フォルダ名を指定\n",
    "os.chdir('C:\\\\Users\\\\nakam\\\\Python\\\\Data\\\\Boring_Python\\\\11.10.4')\n",
    "folder='Link_Inspection'\n",
    "\n",
    "#フォルダ作成\n",
    "os.makedirs(folder,exist_ok=True)\n",
    "\n",
    "#url情報を取得\n",
    "res=requests.get(url)\n",
    "res.raise_for_status()\n",
    "    \n",
    "soup=bs4.BeautifulSoup(res.text,'lxml')\n",
    "\n",
    "#aタグを検索する\n",
    "link_elems=soup.select('a')\n",
    "\n",
    "href_set=set() #セットを定義（Listと異なり重複しない）\n",
    "\n",
    "for link in link_elems:\n",
    "    #href属性を取得する\n",
    "    href=link.get('href')\n",
    "\n",
    "    if not href: #空の場合は抜ける\n",
    "        continue\n",
    "    \n",
    "    #リンクがhttpで始まっていない相対パスの時、正規化する\n",
    "    if not href.startswith('http'):\n",
    "        href=url2+'/'+href\n",
    "    \n",
    "    ##ラベルを削除\n",
    "    href=re.sub(r'(#.+)','',href) #置換\n",
    "    \n",
    "    #過去にダウンロードしたURLは省く\n",
    "    if href in href_set:\n",
    "        continue\n",
    "    \n",
    "    href_set.add(href) #Setの場合はaddで追加する\n",
    "   \n",
    "    print(href,end='',flush=True) #flushで結果を即時出力\n",
    "\n",
    "    try:\n",
    "        #リンク先をダウンロード\n",
    "        res=requests.get(href)\n",
    "        if res.status_code==404:\n",
    "            print('->404 Not Found')\n",
    "        elif res.status_code==200:\n",
    "            #hrefの冒頭を'http(s)://をとる'\n",
    "            filename=re.sub(r'^(https?://)','',href)\n",
    "            #パスに使えない文字を_に変換してファイル名にする\n",
    "            filename=re.sub(r'[/~?&+]','_',filename)\n",
    "            hfile=open(os.path.join(folder,filename),'wb')\n",
    "            for chunk in res.iter_content(100000):\n",
    "                hfile.write(chunk)\n",
    "            hfile.close()\n",
    "            print('->',filename,'に保存')\n",
    "    \n",
    "    except:\n",
    "        print('-> Error')"
   ]
  }
 ],
 "metadata": {
  "kernelspec": {
   "display_name": "Python 3",
   "language": "python",
   "name": "python3"
  },
  "language_info": {
   "codemirror_mode": {
    "name": "ipython",
    "version": 3
   },
   "file_extension": ".py",
   "mimetype": "text/x-python",
   "name": "python",
   "nbconvert_exporter": "python",
   "pygments_lexer": "ipython3",
   "version": "3.7.4"
  }
 },
 "nbformat": 4,
 "nbformat_minor": 2
}
