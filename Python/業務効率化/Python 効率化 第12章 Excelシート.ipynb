{
 "cells": [
  {
   "cell_type": "markdown",
   "metadata": {},
   "source": [
    "# 第12章 Excelシート\n",
    "## 12.3 Excel文書を読み込む\n",
    "### 12.3.1 Excelドキュメントを開く"
   ]
  },
  {
   "cell_type": "code",
   "execution_count": 1,
   "metadata": {},
   "outputs": [
    {
     "data": {
      "text/plain": [
       "openpyxl.workbook.workbook.Workbook"
      ]
     },
     "execution_count": 1,
     "metadata": {},
     "output_type": "execute_result"
    }
   ],
   "source": [
    "file='C:\\\\Users\\\\nakam\\\\Python\\\\Data\\\\Boring_Python\\\\12.3\\\\example.xlsx'\n",
    "\n",
    "import openpyxl\n",
    "wb=openpyxl.load_workbook(file) #Workbookオブジェクトを返す\n",
    "type(wb)"
   ]
  },
  {
   "cell_type": "markdown",
   "metadata": {},
   "source": [
    "### 12.3.2 WorkBookからシートを取得する"
   ]
  },
  {
   "cell_type": "code",
   "execution_count": 2,
   "metadata": {},
   "outputs": [
    {
     "name": "stderr",
     "output_type": "stream",
     "text": [
      "C:\\Users\\nakam\\Anaconda3\\lib\\site-packages\\ipykernel_launcher.py:1: DeprecationWarning: Call to deprecated function get_sheet_names (Use wb.sheetnames).\n",
      "  \"\"\"Entry point for launching an IPython kernel.\n"
     ]
    },
    {
     "data": {
      "text/plain": [
       "['Sheet1', 'Sheet2', 'Sheet3']"
      ]
     },
     "execution_count": 2,
     "metadata": {},
     "output_type": "execute_result"
    }
   ],
   "source": [
    "wb.get_sheet_names() #シート名のリストを取得する"
   ]
  },
  {
   "cell_type": "code",
   "execution_count": 3,
   "metadata": {},
   "outputs": [
    {
     "name": "stderr",
     "output_type": "stream",
     "text": [
      "C:\\Users\\nakam\\Anaconda3\\lib\\site-packages\\ipykernel_launcher.py:1: DeprecationWarning: Call to deprecated function get_sheet_by_name (Use wb[sheetname]).\n",
      "  \"\"\"Entry point for launching an IPython kernel.\n"
     ]
    },
    {
     "data": {
      "text/plain": [
       "<Worksheet \"Sheet3\">"
      ]
     },
     "execution_count": 3,
     "metadata": {},
     "output_type": "execute_result"
    }
   ],
   "source": [
    "sheet=wb.get_sheet_by_name('Sheet3') #Worksheetオブジェクトを取得\n",
    "sheet"
   ]
  },
  {
   "cell_type": "code",
   "execution_count": 4,
   "metadata": {},
   "outputs": [
    {
     "data": {
      "text/plain": [
       "openpyxl.worksheet.worksheet.Worksheet"
      ]
     },
     "execution_count": 4,
     "metadata": {},
     "output_type": "execute_result"
    }
   ],
   "source": [
    "type(sheet) #Worksheetオブジェクト"
   ]
  },
  {
   "cell_type": "code",
   "execution_count": 5,
   "metadata": {},
   "outputs": [
    {
     "data": {
      "text/plain": [
       "<Worksheet \"Sheet1\">"
      ]
     },
     "execution_count": 5,
     "metadata": {},
     "output_type": "execute_result"
    }
   ],
   "source": [
    "#Activeのシートを取得する場合は以下\n",
    "sheet=wb.active \n",
    "sheet"
   ]
  },
  {
   "cell_type": "markdown",
   "metadata": {},
   "source": [
    "### 12.3.3 シートからセルを取得する\n",
    "value()、row()、column()メソッド"
   ]
  },
  {
   "cell_type": "code",
   "execution_count": 6,
   "metadata": {},
   "outputs": [
    {
     "data": {
      "text/plain": [
       "<Cell 'Sheet1'.A1>"
      ]
     },
     "execution_count": 6,
     "metadata": {},
     "output_type": "execute_result"
    }
   ],
   "source": [
    "sheet['A1'] #Cellオブジェクトを取得"
   ]
  },
  {
   "cell_type": "code",
   "execution_count": 7,
   "metadata": {},
   "outputs": [
    {
     "name": "stdout",
     "output_type": "stream",
     "text": [
      "2015-04-05 13:34:02\n",
      "1\n",
      "1\n"
     ]
    }
   ],
   "source": [
    "a=sheet['A1']\n",
    "print(a.value) #value()メソッドを用いた値の取得\n",
    "print(a.row) #row()メソッドを用いた行の取得\n",
    "print(a.column) #columnメソッドを用いた列の取得"
   ]
  },
  {
   "cell_type": "code",
   "execution_count": 8,
   "metadata": {},
   "outputs": [
    {
     "name": "stdout",
     "output_type": "stream",
     "text": [
      "Apples\n",
      "Pears\n",
      "Apples\n",
      "Strawberries\n"
     ]
    }
   ],
   "source": [
    "#以下のように行と列を数値で指定可能\n",
    "for i in range(1,8,2):\n",
    "    print(sheet.cell(row=i,column=2).value)"
   ]
  },
  {
   "cell_type": "code",
   "execution_count": 9,
   "metadata": {},
   "outputs": [
    {
     "name": "stdout",
     "output_type": "stream",
     "text": [
      "7\n",
      "3\n"
     ]
    }
   ],
   "source": [
    "#シートのサイズを取得\n",
    "print(sheet.max_row)\n",
    "print(sheet.max_column)"
   ]
  },
  {
   "cell_type": "markdown",
   "metadata": {},
   "source": [
    "### 12.3.4 列の文字と番号を変換する"
   ]
  },
  {
   "cell_type": "code",
   "execution_count": 10,
   "metadata": {},
   "outputs": [
    {
     "name": "stdout",
     "output_type": "stream",
     "text": [
      "B\n",
      "27\n"
     ]
    }
   ],
   "source": [
    "import openpyxl\n",
    "from openpyxl.utils import get_column_letter, column_index_from_string\n",
    "\n",
    "print(get_column_letter(2)) #番号を文字に変換\n",
    "print(column_index_from_string('AA')) #文字を番号に変換"
   ]
  },
  {
   "cell_type": "markdown",
   "metadata": {},
   "source": [
    "### 12.3.5 シートから複数の行と列を取得する"
   ]
  },
  {
   "cell_type": "code",
   "execution_count": 11,
   "metadata": {},
   "outputs": [
    {
     "data": {
      "text/plain": [
       "((<Cell 'Sheet1'.A1>, <Cell 'Sheet1'.B1>, <Cell 'Sheet1'.C1>),\n",
       " (<Cell 'Sheet1'.A2>, <Cell 'Sheet1'.B2>, <Cell 'Sheet1'.C2>),\n",
       " (<Cell 'Sheet1'.A3>, <Cell 'Sheet1'.B3>, <Cell 'Sheet1'.C3>))"
      ]
     },
     "execution_count": 11,
     "metadata": {},
     "output_type": "execute_result"
    }
   ],
   "source": [
    "import openpyxl\n",
    "wb=openpyxl.load_workbook(file) #Workbookオブジェクトを返す\n",
    "sheet=wb.active \n",
    "tuple(sheet['A1':'C3']) #各列のタプルのタプルを取得"
   ]
  },
  {
   "cell_type": "code",
   "execution_count": 12,
   "metadata": {},
   "outputs": [
    {
     "name": "stdout",
     "output_type": "stream",
     "text": [
      "A1 2015-04-05 13:34:02\n",
      "B1 Apples\n",
      "C1 73\n",
      "--- END OF ROW ---\n",
      "A2 2015-04-05 03:41:23\n",
      "B2 Cherries\n",
      "C2 85\n",
      "--- END OF ROW ---\n",
      "A3 2015-04-06 12:46:51\n",
      "B3 Pears\n",
      "C3 14\n",
      "--- END OF ROW ---\n"
     ]
    }
   ],
   "source": [
    "for row_of_cell_objects in sheet['A1':'C3']: #A1:C3のスライスによるループ\n",
    "    for cell_obj in row_of_cell_objects:\n",
    "        print(cell_obj.coordinate,cell_obj.value)\n",
    "    print('--- END OF ROW ---')"
   ]
  },
  {
   "cell_type": "code",
   "execution_count": 13,
   "metadata": {},
   "outputs": [
    {
     "name": "stdout",
     "output_type": "stream",
     "text": [
      "(<Cell 'Sheet1'.B1>, <Cell 'Sheet1'.B2>, <Cell 'Sheet1'.B3>, <Cell 'Sheet1'.B4>, <Cell 'Sheet1'.B5>, <Cell 'Sheet1'.B6>, <Cell 'Sheet1'.B7>)\n",
      "\n",
      "Apples\n",
      "Cherries\n",
      "Pears\n",
      "Oranges\n",
      "Apples\n",
      "Bananas\n",
      "Strawberries\n"
     ]
    }
   ],
   "source": [
    "#特定の行すべてにアクセスする場合は以下\n",
    "\n",
    "print(tuple(sheet.columns)[1]) #1行目のタプルを取得\n",
    "print('')\n",
    "\n",
    "for cell_obj in tuple(sheet.columns)[1]: #タプルをループし出力\n",
    "    print(cell_obj.value)"
   ]
  },
  {
   "cell_type": "markdown",
   "metadata": {},
   "source": [
    "## 12.4 プロジェクト：スプレッドシートからデータを読み込む"
   ]
  },
  {
   "cell_type": "code",
   "execution_count": 14,
   "metadata": {},
   "outputs": [
    {
     "name": "stdout",
     "output_type": "stream",
     "text": [
      "ワークブックを開いています...\n"
     ]
    },
    {
     "name": "stderr",
     "output_type": "stream",
     "text": [
      "C:\\Users\\nakam\\Anaconda3\\lib\\site-packages\\ipykernel_launcher.py:8: DeprecationWarning: Call to deprecated function get_sheet_by_name (Use wb[sheetname]).\n",
      "  \n"
     ]
    },
    {
     "name": "stdout",
     "output_type": "stream",
     "text": [
      "行を読み込んでいます...\n",
      "結果を書き込み中...\n",
      "完了\n",
      "{'Aleutians East': {'pop': 3141, 'tracts': 1},\n",
      " 'Aleutians West': {'pop': 5561, 'tracts': 2},\n",
      " 'Anchorage': {'pop': 291826, 'tracts': 55},\n",
      " 'Bethel': {'pop': 17013, 'tracts': 3},\n",
      " 'Bristol Bay': {'pop': 997, 'tracts': 1},\n",
      " 'Denali': {'pop': 1826, 'tracts': 1},\n",
      " 'Dillingham': {'pop': 4847, 'tracts': 2},\n",
      " 'Fairbanks North Star': {'pop': 97581, 'tracts': 19},\n",
      " 'Haines': {'pop': 2508, 'tracts': 1},\n",
      " 'Hoonah-Angoon': {'pop': 2150, 'tracts': 2},\n",
      " 'Juneau': {'pop': 31275, 'tracts': 6},\n",
      " 'Kenai Peninsula': {'pop': 55400, 'tracts': 13},\n",
      " 'Ketchikan Gateway': {'pop': 13477, 'tracts': 4},\n",
      " 'Kodiak Island': {'pop': 13592, 'tracts': 5},\n",
      " 'Lake and Peninsula': {'pop': 1631, 'tracts': 1},\n",
      " 'Matanuska-Susitna': {'pop': 88995, 'tracts': 24},\n",
      " 'Nome': {'pop': 9492, 'tracts': 2},\n",
      " 'North Slope': {'pop': 9430, 'tracts': 3},\n",
      " 'Northwest Arctic': {'pop': 7523, 'tracts': 2},\n",
      " 'Petersburg': {'pop': 3815, 'tracts': 1},\n",
      " 'Prince of Wales-Hyder': {'pop': 5559, 'tracts': 4},\n",
      " 'Sitka': {'pop': 8881, 'tracts': 2},\n",
      " 'Skagway': {'pop': 968, 'tracts': 1},\n",
      " 'Southeast Fairbanks': {'pop': 7029, 'tracts': 2},\n",
      " 'Valdez-Cordova': {'pop': 9636, 'tracts': 3},\n",
      " 'Wade Hampton': {'pop': 7459, 'tracts': 1},\n",
      " 'Wrangell': {'pop': 2369, 'tracts': 1},\n",
      " 'Yakutat': {'pop': 662, 'tracts': 1},\n",
      " 'Yukon-Koyukuk': {'pop': 5588, 'tracts': 4}}\n"
     ]
    }
   ],
   "source": [
    "#郡ごとに人口と人口調査標準地域の数を集計する\n",
    "\n",
    "import openpyxl, pprint\n",
    "\n",
    "print('ワークブックを開いています...')\n",
    "file='C:\\\\Users\\\\nakam\\\\Python\\\\Data\\\\Boring_Python\\\\12.4\\\\censuspopdata.xlsx'\n",
    "wb = openpyxl.load_workbook(file)\n",
    "sheet = wb.get_sheet_by_name('Population by Census Tract') \n",
    "county_data = {}\n",
    "\n",
    "# county_dataに郡の人口と地域数を格納する\n",
    "print('行を読み込んでいます...')\n",
    "for row in range(2, sheet.max_row + 1):\n",
    "    # スプレッドシートの1行に、ひとつの人口調査標準地域のデータがある\n",
    "    state = sheet['B' + str(row)].value\n",
    "    county = sheet['C' + str(row)].value\n",
    "    pop = sheet['D' + str(row)].value\n",
    "\n",
    "\n",
    "    # この州のキーが確実に存在するようにする\n",
    "    county_data.setdefault(state, {}) #ｷｰが存在しない場合に、stateをキーに、{}をvalueに登録する\n",
    "\n",
    "    # この州のこの郡のキーが確実に存在するようにする\n",
    "    county_data[state].setdefault(county, {'tracts': 0, 'pop': 0}) \n",
    "\n",
    "    # 各行が人口調査標準地域を表すので、数を1つ増やす\n",
    "    county_data[state][county]['tracts'] += 1\n",
    "   \n",
    "    # この人口調査標準地域の人口だけ郡の人口を増やす\n",
    "    county_data[state][county]['pop'] += int(pop)  # ❹\n",
    "\n",
    "\n",
    "# 新しいテキストファイルを開き、county_dataの内容を書き込む\n",
    "print('結果を書き込み中...')\n",
    "output_file='C:\\\\Users\\\\nakam\\\\Python\\\\Data\\\\Boring_Python\\\\12.4\\\\output.py'\n",
    "\n",
    "result_file = open(output_file, 'w')\n",
    "result_file.write('all_data = ' + pprint.pformat(county_data))\n",
    "result_file.close()\n",
    "print('完了')\n",
    "\n",
    "pprint.pprint(county_data['AK'])"
   ]
  },
  {
   "cell_type": "markdown",
   "metadata": {},
   "source": [
    "## 12.5 Excel文書を書き出す\n",
    "### 12.5.1 Excel文書を作成して保存する\n",
    "\n",
    "シート名を変更し保存"
   ]
  },
  {
   "cell_type": "code",
   "execution_count": 15,
   "metadata": {},
   "outputs": [
    {
     "name": "stderr",
     "output_type": "stream",
     "text": [
      "C:\\Users\\nakam\\Anaconda3\\lib\\site-packages\\ipykernel_launcher.py:5: DeprecationWarning: Call to deprecated function get_sheet_names (Use wb.sheetnames).\n",
      "  \"\"\"\n"
     ]
    },
    {
     "data": {
      "text/plain": [
       "['Spam Bacon Eggs Sheet']"
      ]
     },
     "execution_count": 15,
     "metadata": {},
     "output_type": "execute_result"
    }
   ],
   "source": [
    "import openpyxl\n",
    "wb=openpyxl.Workbook()\n",
    "sheet=wb.active\n",
    "sheet.title='Spam Bacon Eggs Sheet' #シート名の変更\n",
    "wb.get_sheet_names()"
   ]
  },
  {
   "cell_type": "code",
   "execution_count": 16,
   "metadata": {},
   "outputs": [],
   "source": [
    "#保存\n",
    "file='C:\\\\Users\\\\nakam\\\\Python\\\\Data\\\\Boring_Python\\\\12.5.1\\\\example.xlsx'\n",
    "wb.save(file)"
   ]
  },
  {
   "cell_type": "markdown",
   "metadata": {},
   "source": [
    "### 12.5.2 シートを追加・削除する"
   ]
  },
  {
   "cell_type": "code",
   "execution_count": 17,
   "metadata": {},
   "outputs": [
    {
     "name": "stderr",
     "output_type": "stream",
     "text": [
      "C:\\Users\\nakam\\Anaconda3\\lib\\site-packages\\ipykernel_launcher.py:7: DeprecationWarning: Call to deprecated function get_sheet_names (Use wb.sheetnames).\n",
      "  import sys\n"
     ]
    },
    {
     "data": {
      "text/plain": [
       "['First Sheet', 'Second Sheet', 'Sheet']"
      ]
     },
     "execution_count": 17,
     "metadata": {},
     "output_type": "execute_result"
    }
   ],
   "source": [
    "#シートの追加は以下\n",
    "\n",
    "import openpyxl\n",
    "wb=openpyxl.Workbook()\n",
    "wb.create_sheet(index=0,title='First Sheet') #1番目にシート作成\n",
    "wb.create_sheet(index=1,title='Second Sheet')\n",
    "wb.get_sheet_names()"
   ]
  },
  {
   "cell_type": "code",
   "execution_count": 18,
   "metadata": {},
   "outputs": [
    {
     "name": "stderr",
     "output_type": "stream",
     "text": [
      "C:\\Users\\nakam\\Anaconda3\\lib\\site-packages\\ipykernel_launcher.py:3: DeprecationWarning: Call to deprecated function get_sheet_by_name (Use wb[sheetname]).\n",
      "  This is separate from the ipykernel package so we can avoid doing imports until\n",
      "C:\\Users\\nakam\\Anaconda3\\lib\\site-packages\\ipykernel_launcher.py:3: DeprecationWarning: Call to deprecated function remove_sheet (Use wb.remove(worksheet) or del wb[sheetname]).\n",
      "  This is separate from the ipykernel package so we can avoid doing imports until\n",
      "C:\\Users\\nakam\\Anaconda3\\lib\\site-packages\\ipykernel_launcher.py:4: DeprecationWarning: Call to deprecated function get_sheet_names (Use wb.sheetnames).\n",
      "  after removing the cwd from sys.path.\n"
     ]
    },
    {
     "data": {
      "text/plain": [
       "['First Sheet', 'Sheet']"
      ]
     },
     "execution_count": 18,
     "metadata": {},
     "output_type": "execute_result"
    }
   ],
   "source": [
    "#シートの削除は以下\n",
    "\n",
    "wb.remove_sheet(wb.get_sheet_by_name('Second Sheet')) #remove_sheetはWork Sheetオブジェクトを引数にとる（シート名ではない）\n",
    "wb.get_sheet_names()"
   ]
  },
  {
   "cell_type": "markdown",
   "metadata": {},
   "source": [
    "### 12.5.3 セルに値を書き込む"
   ]
  },
  {
   "cell_type": "code",
   "execution_count": 19,
   "metadata": {},
   "outputs": [
    {
     "name": "stdout",
     "output_type": "stream",
     "text": [
      "Hello World!\n"
     ]
    }
   ],
   "source": [
    "import openpyxl\n",
    "\n",
    "wb=openpyxl.Workbook()\n",
    "sheet=wb.active\n",
    "\n",
    "sheet['A1']='Hello World!' #A1に書き込み\n",
    "print(sheet['A1'].value)"
   ]
  },
  {
   "cell_type": "markdown",
   "metadata": {},
   "source": [
    "## 12.6 演習プロジェクト：スプレッドシートを更新する\n",
    "特定の農産物の価格のみを全列変更する"
   ]
  },
  {
   "cell_type": "code",
   "execution_count": 20,
   "metadata": {},
   "outputs": [
    {
     "name": "stderr",
     "output_type": "stream",
     "text": [
      "C:\\Users\\nakam\\Anaconda3\\lib\\site-packages\\ipykernel_launcher.py:4: DeprecationWarning: Call to deprecated function get_sheet_by_name (Use wb[sheetname]).\n",
      "  after removing the cwd from sys.path.\n"
     ]
    }
   ],
   "source": [
    "import openpyxl\n",
    "\n",
    "wb = openpyxl.load_workbook('C:\\\\Users\\\\nakam\\\\Python\\\\Data\\\\Boring_Python\\\\12.6\\\\produceSales.xlsx')\n",
    "sheet = wb.get_sheet_by_name('Sheet')\n",
    "\n",
    "# 農産物の種類と、更新する価格\n",
    "PRICE_UPDATES = {'Garlic': 3.07,\n",
    "                 'Celery': 1.19,\n",
    "                 'Lemon': 1.27}\n",
    "\n",
    "# 行をループして価格を更新する\n",
    "for row_num in range(2, sheet.max_row): # 先頭行をスキップ\n",
    "    produce_name = sheet.cell(row=row_num, column=1).value \n",
    "    if produce_name in PRICE_UPDATES: \n",
    "        sheet.cell(row=row_num, column=2).value = PRICE_UPDATES[produce_name]\n",
    "\n",
    "wb.save('C:\\\\Users\\\\nakam\\\\Python\\\\Data\\\\Boring_Python\\\\12.6\\\\updatedProduceSales.xlsx') "
   ]
  },
  {
   "cell_type": "markdown",
   "metadata": {},
   "source": [
    "## 12.8 Fontオブジェクト"
   ]
  },
  {
   "cell_type": "code",
   "execution_count": 21,
   "metadata": {},
   "outputs": [
    {
     "name": "stderr",
     "output_type": "stream",
     "text": [
      "C:\\Users\\nakam\\Anaconda3\\lib\\site-packages\\ipykernel_launcher.py:8: DeprecationWarning: Call to deprecated function get_sheet_by_name (Use wb[sheetname]).\n",
      "  \n"
     ]
    }
   ],
   "source": [
    "#name: フォント\n",
    "#bold: 太字\n",
    "#size: 文字サイズ\n",
    "#italic: 斜体\n",
    "\n",
    "from openpyxl.styles import Font\n",
    "wb=openpyxl.Workbook()\n",
    "sheet=wb.get_sheet_by_name('Sheet')\n",
    "font_obj1=Font(name='Times New Roman',bold=True,size=24,italic=True) #フォントの設定\n",
    "sheet['A1'].font=font_obj1 #フォントを適用\n",
    "sheet['A1']='Hello world!'\n",
    "\n",
    "wb.save('C:\\\\Users\\\\nakam\\\\Python\\\\Data\\\\Boring_Python\\\\12.8\\\\styled.xlsx')"
   ]
  },
  {
   "cell_type": "markdown",
   "metadata": {},
   "source": [
    "## 12.9 数式\n",
    "=で始めることで、数式の入力が可能"
   ]
  },
  {
   "cell_type": "code",
   "execution_count": 22,
   "metadata": {},
   "outputs": [],
   "source": [
    "import openpyxl\n",
    "\n",
    "wb=openpyxl.Workbook()\n",
    "sheet=wb.active\n",
    "\n",
    "sheet['A1']=200\n",
    "sheet['A2']=300\n",
    "sheet['A3']='=SUM(A1:A2)'\n",
    "\n",
    "wb.save('C:\\\\Users\\\\nakam\\\\Python\\\\Data\\\\Boring_Python\\\\12.9\\\\writeFormula.xlsx')"
   ]
  },
  {
   "cell_type": "markdown",
   "metadata": {},
   "source": [
    "## 12.10 行と列の調整\n",
    "### 12.10.1 行の高さと列の幅を設定"
   ]
  },
  {
   "cell_type": "code",
   "execution_count": 23,
   "metadata": {},
   "outputs": [],
   "source": [
    "import openpyxl\n",
    "\n",
    "wb=openpyxl.Workbook()\n",
    "sheet=wb.active\n",
    "\n",
    "sheet.row_dimensions[1].height=70 #1列目の高さを変更\n",
    "sheet.column_dimensions['B'].width=20 #B行の幅を変更\n",
    "\n",
    "wb.save('C:\\\\Users\\\\nakam\\\\Python\\\\Data\\\\Boring_Python\\\\12.10\\\\dimensions.xlsx')"
   ]
  },
  {
   "cell_type": "markdown",
   "metadata": {},
   "source": [
    "### 12.10.2 セルの結合と解除"
   ]
  },
  {
   "cell_type": "code",
   "execution_count": 24,
   "metadata": {},
   "outputs": [],
   "source": [
    "import openpyxl\n",
    "\n",
    "wb=openpyxl.Workbook()\n",
    "sheet=wb.active\n",
    "\n",
    "sheet.merge_cells('A1:D3')\n",
    "\n",
    "wb.save('C:\\\\Users\\\\nakam\\\\Python\\\\Data\\\\Boring_Python\\\\12.10\\\\merge.xlsx')"
   ]
  },
  {
   "cell_type": "code",
   "execution_count": 25,
   "metadata": {},
   "outputs": [],
   "source": [
    "#結合の解除は以下\n",
    "\n",
    "import openpyxl\n",
    "\n",
    "wb=openpyxl.Workbook()\n",
    "sheet=wb.active\n",
    "\n",
    "sheet.merge_cells('A1:D3')\n",
    "sheet.unmerge_cells('A1:D3') #結合の解除\n",
    "\n",
    "wb.save('C:\\\\Users\\\\nakam\\\\Python\\\\Data\\\\Boring_Python\\\\12.10\\\\unmerge.xlsx')"
   ]
  },
  {
   "cell_type": "markdown",
   "metadata": {},
   "source": [
    "### 12.10.3 ウィンドウ枠の固定"
   ]
  },
  {
   "cell_type": "code",
   "execution_count": 26,
   "metadata": {},
   "outputs": [],
   "source": [
    "#固定の解除は　=Noneとすればいい。\n",
    "\n",
    "import openpyxl\n",
    "\n",
    "wb=openpyxl.Workbook()\n",
    "sheet=wb.active\n",
    "\n",
    "sheet.freeze_panes='B2' #表示の固定\n",
    "wb.save('C:\\\\Users\\\\nakam\\\\Python\\\\Data\\\\Boring_Python\\\\12.10\\\\fix.xlsx')"
   ]
  },
  {
   "cell_type": "markdown",
   "metadata": {},
   "source": [
    "## 12.11 グラフ"
   ]
  },
  {
   "cell_type": "code",
   "execution_count": 27,
   "metadata": {},
   "outputs": [],
   "source": [
    "#折れ線グラフ：openpyxl.chart.LineChart()\n",
    "#散布図：openpyxl.chart.ScatterChart()\n",
    "#円グラフ：openpyxl.chart.PieChart()\n",
    "\n",
    "import openpyxl\n",
    "wb=openpyxl.Workbook()\n",
    "sheet=wb.active\n",
    "for i in range(1,11):\n",
    "    sheet['A'+str(i)]=i\n",
    "    \n",
    "ref_obj=openpyxl.chart.Reference(sheet,min_col=1, min_row=1, max_col=1, max_row=10) #グラフ範囲を指定しreferenceオブジェクトを作成\n",
    "series_obj=openpyxl.chart.Series(ref_obj,title='First series') #referenceオブジェクトを渡して、Seriesオブジェクトを作成\n",
    "chart_obj=openpyxl.chart.BarChart() #棒グラフ\n",
    "chart_obj.append(series_obj) #series_objをchart_objに追加\n",
    "chart_obj.y=50 #場所を指定\n",
    "chart_obj.x=100\n",
    "chart_obj.w=300 #サイズを指定\n",
    "chart_obj.h=200\n",
    "sheet.add_chart(chart_obj)\n",
    "wb.save('C:\\\\Users\\\\nakam\\\\Python\\\\Data\\\\Boring_Python\\\\12.11\\\\sampleChart.xlsx')"
   ]
  },
  {
   "cell_type": "markdown",
   "metadata": {},
   "source": [
    "## 12.14 演習プロジェクト\n",
    "### 12.14.1 掛け算の表を作成する"
   ]
  },
  {
   "cell_type": "code",
   "execution_count": 28,
   "metadata": {},
   "outputs": [
    {
     "data": {
      "text/html": [
       "<div>\n",
       "<style scoped>\n",
       "    .dataframe tbody tr th:only-of-type {\n",
       "        vertical-align: middle;\n",
       "    }\n",
       "\n",
       "    .dataframe tbody tr th {\n",
       "        vertical-align: top;\n",
       "    }\n",
       "\n",
       "    .dataframe thead th {\n",
       "        text-align: right;\n",
       "    }\n",
       "</style>\n",
       "<table border=\"1\" class=\"dataframe\">\n",
       "  <thead>\n",
       "    <tr style=\"text-align: right;\">\n",
       "      <th></th>\n",
       "      <th>Unnamed: 0</th>\n",
       "      <th>1</th>\n",
       "      <th>2</th>\n",
       "      <th>3</th>\n",
       "      <th>4</th>\n",
       "      <th>5</th>\n",
       "      <th>6</th>\n",
       "      <th>7</th>\n",
       "      <th>8</th>\n",
       "      <th>9</th>\n",
       "      <th>10</th>\n",
       "    </tr>\n",
       "  </thead>\n",
       "  <tbody>\n",
       "    <tr>\n",
       "      <td>0</td>\n",
       "      <td>1</td>\n",
       "      <td>1</td>\n",
       "      <td>2</td>\n",
       "      <td>3</td>\n",
       "      <td>4</td>\n",
       "      <td>5</td>\n",
       "      <td>6</td>\n",
       "      <td>7</td>\n",
       "      <td>8</td>\n",
       "      <td>9</td>\n",
       "      <td>10</td>\n",
       "    </tr>\n",
       "    <tr>\n",
       "      <td>1</td>\n",
       "      <td>2</td>\n",
       "      <td>2</td>\n",
       "      <td>4</td>\n",
       "      <td>6</td>\n",
       "      <td>8</td>\n",
       "      <td>10</td>\n",
       "      <td>12</td>\n",
       "      <td>14</td>\n",
       "      <td>16</td>\n",
       "      <td>18</td>\n",
       "      <td>20</td>\n",
       "    </tr>\n",
       "    <tr>\n",
       "      <td>2</td>\n",
       "      <td>3</td>\n",
       "      <td>3</td>\n",
       "      <td>6</td>\n",
       "      <td>9</td>\n",
       "      <td>12</td>\n",
       "      <td>15</td>\n",
       "      <td>18</td>\n",
       "      <td>21</td>\n",
       "      <td>24</td>\n",
       "      <td>27</td>\n",
       "      <td>30</td>\n",
       "    </tr>\n",
       "    <tr>\n",
       "      <td>3</td>\n",
       "      <td>4</td>\n",
       "      <td>4</td>\n",
       "      <td>8</td>\n",
       "      <td>12</td>\n",
       "      <td>16</td>\n",
       "      <td>20</td>\n",
       "      <td>24</td>\n",
       "      <td>28</td>\n",
       "      <td>32</td>\n",
       "      <td>36</td>\n",
       "      <td>40</td>\n",
       "    </tr>\n",
       "    <tr>\n",
       "      <td>4</td>\n",
       "      <td>5</td>\n",
       "      <td>5</td>\n",
       "      <td>10</td>\n",
       "      <td>15</td>\n",
       "      <td>20</td>\n",
       "      <td>25</td>\n",
       "      <td>30</td>\n",
       "      <td>35</td>\n",
       "      <td>40</td>\n",
       "      <td>45</td>\n",
       "      <td>50</td>\n",
       "    </tr>\n",
       "  </tbody>\n",
       "</table>\n",
       "</div>"
      ],
      "text/plain": [
       "   Unnamed: 0  1   2   3   4   5   6   7   8   9  10\n",
       "0           1  1   2   3   4   5   6   7   8   9  10\n",
       "1           2  2   4   6   8  10  12  14  16  18  20\n",
       "2           3  3   6   9  12  15  18  21  24  27  30\n",
       "3           4  4   8  12  16  20  24  28  32  36  40\n",
       "4           5  5  10  15  20  25  30  35  40  45  50"
      ]
     },
     "metadata": {},
     "output_type": "display_data"
    },
    {
     "name": "stdout",
     "output_type": "stream",
     "text": [
      "\n"
     ]
    }
   ],
   "source": [
    "import openpyxl\n",
    "from openpyxl.styles import Font\n",
    "import pandas as pd\n",
    "\n",
    "n = 10\n",
    "\n",
    "wb = openpyxl.Workbook()\n",
    "sheet = wb.active\n",
    "normal_font = Font(size=24)          # 通常フォント\n",
    "bold_font = Font(size=24, bold=True) # 太字フォント\n",
    "\n",
    "# 行見出し\n",
    "for i in range(1, n + 1):\n",
    "    cell = sheet.cell(row=i + 1, column=1)\n",
    "    cell.value = i\n",
    "    cell.font = bold_font\n",
    "\n",
    "# 列見出し\n",
    "for j in range(1, n + 1):\n",
    "    cell = sheet.cell(row=1, column=j + 1)\n",
    "    cell.value = j\n",
    "    cell.font = bold_font\n",
    "\n",
    "# 九九\n",
    "for i in range(1, n + 1):\n",
    "    for j in range(1, n + 1):\n",
    "        cell = sheet.cell(row=i + 1, column=j + 1)\n",
    "        cell.value = i * j\n",
    "        cell.font = normal_font\n",
    "\n",
    "wb.save('C:\\\\Users\\\\nakam\\\\Python\\\\Data\\\\Boring_Python\\\\12.14\\\\multiplicationtable.xlsx')\n",
    "\n",
    "#Excel読み込み\n",
    "file='C:\\\\Users\\\\nakam\\\\Python\\\\Data\\\\Boring_Python\\\\12.14\\\\multiplicationtable.xlsx'\n",
    "df_raw= pd.read_excel(file)\n",
    "data_pandas=pd.DataFrame(df_raw[:5])\n",
    "display(data_pandas)\n",
    "print('')"
   ]
  },
  {
   "cell_type": "markdown",
   "metadata": {},
   "source": [
    "### 12.14.2 空行を挿入する\n",
    "指定した行に、指定した数の行を挿入する"
   ]
  },
  {
   "cell_type": "code",
   "execution_count": 29,
   "metadata": {},
   "outputs": [
    {
     "data": {
      "text/html": [
       "<div>\n",
       "<style scoped>\n",
       "    .dataframe tbody tr th:only-of-type {\n",
       "        vertical-align: middle;\n",
       "    }\n",
       "\n",
       "    .dataframe tbody tr th {\n",
       "        vertical-align: top;\n",
       "    }\n",
       "\n",
       "    .dataframe thead th {\n",
       "        text-align: right;\n",
       "    }\n",
       "</style>\n",
       "<table border=\"1\" class=\"dataframe\">\n",
       "  <thead>\n",
       "    <tr style=\"text-align: right;\">\n",
       "      <th></th>\n",
       "      <th>Unnamed: 0</th>\n",
       "      <th>1</th>\n",
       "      <th>2</th>\n",
       "      <th>3</th>\n",
       "      <th>4</th>\n",
       "      <th>5</th>\n",
       "      <th>6</th>\n",
       "      <th>7</th>\n",
       "      <th>8</th>\n",
       "      <th>9</th>\n",
       "      <th>10</th>\n",
       "    </tr>\n",
       "  </thead>\n",
       "  <tbody>\n",
       "    <tr>\n",
       "      <td>0</td>\n",
       "      <td>1.0</td>\n",
       "      <td>1.0</td>\n",
       "      <td>2.0</td>\n",
       "      <td>3.0</td>\n",
       "      <td>4.0</td>\n",
       "      <td>5.0</td>\n",
       "      <td>6.0</td>\n",
       "      <td>7.0</td>\n",
       "      <td>8.0</td>\n",
       "      <td>9.0</td>\n",
       "      <td>10.0</td>\n",
       "    </tr>\n",
       "    <tr>\n",
       "      <td>1</td>\n",
       "      <td>2.0</td>\n",
       "      <td>2.0</td>\n",
       "      <td>4.0</td>\n",
       "      <td>6.0</td>\n",
       "      <td>8.0</td>\n",
       "      <td>10.0</td>\n",
       "      <td>12.0</td>\n",
       "      <td>14.0</td>\n",
       "      <td>16.0</td>\n",
       "      <td>18.0</td>\n",
       "      <td>20.0</td>\n",
       "    </tr>\n",
       "    <tr>\n",
       "      <td>2</td>\n",
       "      <td>NaN</td>\n",
       "      <td>NaN</td>\n",
       "      <td>NaN</td>\n",
       "      <td>NaN</td>\n",
       "      <td>NaN</td>\n",
       "      <td>NaN</td>\n",
       "      <td>NaN</td>\n",
       "      <td>NaN</td>\n",
       "      <td>NaN</td>\n",
       "      <td>NaN</td>\n",
       "      <td>NaN</td>\n",
       "    </tr>\n",
       "    <tr>\n",
       "      <td>3</td>\n",
       "      <td>NaN</td>\n",
       "      <td>NaN</td>\n",
       "      <td>NaN</td>\n",
       "      <td>NaN</td>\n",
       "      <td>NaN</td>\n",
       "      <td>NaN</td>\n",
       "      <td>NaN</td>\n",
       "      <td>NaN</td>\n",
       "      <td>NaN</td>\n",
       "      <td>NaN</td>\n",
       "      <td>NaN</td>\n",
       "    </tr>\n",
       "    <tr>\n",
       "      <td>4</td>\n",
       "      <td>3.0</td>\n",
       "      <td>3.0</td>\n",
       "      <td>6.0</td>\n",
       "      <td>9.0</td>\n",
       "      <td>12.0</td>\n",
       "      <td>15.0</td>\n",
       "      <td>18.0</td>\n",
       "      <td>21.0</td>\n",
       "      <td>24.0</td>\n",
       "      <td>27.0</td>\n",
       "      <td>30.0</td>\n",
       "    </tr>\n",
       "  </tbody>\n",
       "</table>\n",
       "</div>"
      ],
      "text/plain": [
       "   Unnamed: 0    1    2    3     4     5     6     7     8     9    10\n",
       "0         1.0  1.0  2.0  3.0   4.0   5.0   6.0   7.0   8.0   9.0  10.0\n",
       "1         2.0  2.0  4.0  6.0   8.0  10.0  12.0  14.0  16.0  18.0  20.0\n",
       "2         NaN  NaN  NaN  NaN   NaN   NaN   NaN   NaN   NaN   NaN   NaN\n",
       "3         NaN  NaN  NaN  NaN   NaN   NaN   NaN   NaN   NaN   NaN   NaN\n",
       "4         3.0  3.0  6.0  9.0  12.0  15.0  18.0  21.0  24.0  27.0  30.0"
      ]
     },
     "metadata": {},
     "output_type": "display_data"
    },
    {
     "name": "stdout",
     "output_type": "stream",
     "text": [
      "\n"
     ]
    }
   ],
   "source": [
    "import openpyxl\n",
    "\n",
    "n = 4 #何行目に挿入するか\n",
    "m = 2 #何行挿入するか\n",
    "\n",
    "wb = openpyxl.load_workbook('C:\\\\Users\\\\nakam\\\\Python\\\\Data\\\\Boring_Python\\\\12.14\\\\multiplicationtable.xlsx')\n",
    "sheet = wb.active\n",
    "\n",
    "new_wb = openpyxl.Workbook()\n",
    "new_sheet = new_wb.active\n",
    "\n",
    "for row in range(1, sheet.max_row + 1):\n",
    "    if row < n:\n",
    "        new_row = row\n",
    "    else:\n",
    "        new_row = row + m  # m行分の空行を入れる\n",
    "\n",
    "    for col in range(1, sheet.max_column + 1):\n",
    "        old_cell = sheet.cell(column=col, row=row)\n",
    "        new_cell = new_sheet.cell(column=col, row=new_row)\n",
    "        new_cell.value = old_cell.value\n",
    "\n",
    "new_wb.save('C:\\\\Users\\\\nakam\\\\Python\\\\Data\\\\Boring_Python\\\\12.14\\\\ins.xlsx')\n",
    "\n",
    "#Excel読み込み\n",
    "file='C:\\\\Users\\\\nakam\\\\Python\\\\Data\\\\Boring_Python\\\\12.14\\\\ins.xlsx'\n",
    "df_raw= pd.read_excel(file)\n",
    "data_pandas=pd.DataFrame(df_raw[:5])\n",
    "display(data_pandas)\n",
    "print('')"
   ]
  },
  {
   "cell_type": "markdown",
   "metadata": {},
   "source": [
    "### 12.14.3 行と列の入れ替え"
   ]
  },
  {
   "cell_type": "code",
   "execution_count": 30,
   "metadata": {},
   "outputs": [
    {
     "data": {
      "text/html": [
       "<div>\n",
       "<style scoped>\n",
       "    .dataframe tbody tr th:only-of-type {\n",
       "        vertical-align: middle;\n",
       "    }\n",
       "\n",
       "    .dataframe tbody tr th {\n",
       "        vertical-align: top;\n",
       "    }\n",
       "\n",
       "    .dataframe thead th {\n",
       "        text-align: right;\n",
       "    }\n",
       "</style>\n",
       "<table border=\"1\" class=\"dataframe\">\n",
       "  <thead>\n",
       "    <tr style=\"text-align: right;\">\n",
       "      <th></th>\n",
       "      <th>Unnamed: 0</th>\n",
       "      <th>1</th>\n",
       "      <th>2</th>\n",
       "      <th>Unnamed: 3</th>\n",
       "      <th>Unnamed: 4</th>\n",
       "      <th>3</th>\n",
       "      <th>4</th>\n",
       "      <th>5</th>\n",
       "      <th>6</th>\n",
       "      <th>7</th>\n",
       "      <th>8</th>\n",
       "      <th>9</th>\n",
       "      <th>10</th>\n",
       "    </tr>\n",
       "  </thead>\n",
       "  <tbody>\n",
       "    <tr>\n",
       "      <td>0</td>\n",
       "      <td>1</td>\n",
       "      <td>1</td>\n",
       "      <td>2</td>\n",
       "      <td>NaN</td>\n",
       "      <td>NaN</td>\n",
       "      <td>3</td>\n",
       "      <td>4</td>\n",
       "      <td>5</td>\n",
       "      <td>6</td>\n",
       "      <td>7</td>\n",
       "      <td>8</td>\n",
       "      <td>9</td>\n",
       "      <td>10</td>\n",
       "    </tr>\n",
       "    <tr>\n",
       "      <td>1</td>\n",
       "      <td>2</td>\n",
       "      <td>2</td>\n",
       "      <td>4</td>\n",
       "      <td>NaN</td>\n",
       "      <td>NaN</td>\n",
       "      <td>6</td>\n",
       "      <td>8</td>\n",
       "      <td>10</td>\n",
       "      <td>12</td>\n",
       "      <td>14</td>\n",
       "      <td>16</td>\n",
       "      <td>18</td>\n",
       "      <td>20</td>\n",
       "    </tr>\n",
       "    <tr>\n",
       "      <td>2</td>\n",
       "      <td>3</td>\n",
       "      <td>3</td>\n",
       "      <td>6</td>\n",
       "      <td>NaN</td>\n",
       "      <td>NaN</td>\n",
       "      <td>9</td>\n",
       "      <td>12</td>\n",
       "      <td>15</td>\n",
       "      <td>18</td>\n",
       "      <td>21</td>\n",
       "      <td>24</td>\n",
       "      <td>27</td>\n",
       "      <td>30</td>\n",
       "    </tr>\n",
       "    <tr>\n",
       "      <td>3</td>\n",
       "      <td>4</td>\n",
       "      <td>4</td>\n",
       "      <td>8</td>\n",
       "      <td>NaN</td>\n",
       "      <td>NaN</td>\n",
       "      <td>12</td>\n",
       "      <td>16</td>\n",
       "      <td>20</td>\n",
       "      <td>24</td>\n",
       "      <td>28</td>\n",
       "      <td>32</td>\n",
       "      <td>36</td>\n",
       "      <td>40</td>\n",
       "    </tr>\n",
       "    <tr>\n",
       "      <td>4</td>\n",
       "      <td>5</td>\n",
       "      <td>5</td>\n",
       "      <td>10</td>\n",
       "      <td>NaN</td>\n",
       "      <td>NaN</td>\n",
       "      <td>15</td>\n",
       "      <td>20</td>\n",
       "      <td>25</td>\n",
       "      <td>30</td>\n",
       "      <td>35</td>\n",
       "      <td>40</td>\n",
       "      <td>45</td>\n",
       "      <td>50</td>\n",
       "    </tr>\n",
       "  </tbody>\n",
       "</table>\n",
       "</div>"
      ],
      "text/plain": [
       "   Unnamed: 0  1   2  Unnamed: 3  Unnamed: 4   3   4   5   6   7   8   9  10\n",
       "0           1  1   2         NaN         NaN   3   4   5   6   7   8   9  10\n",
       "1           2  2   4         NaN         NaN   6   8  10  12  14  16  18  20\n",
       "2           3  3   6         NaN         NaN   9  12  15  18  21  24  27  30\n",
       "3           4  4   8         NaN         NaN  12  16  20  24  28  32  36  40\n",
       "4           5  5  10         NaN         NaN  15  20  25  30  35  40  45  50"
      ]
     },
     "metadata": {},
     "output_type": "display_data"
    },
    {
     "name": "stdout",
     "output_type": "stream",
     "text": [
      "\n"
     ]
    }
   ],
   "source": [
    "import openpyxl\n",
    "\n",
    "file='C:\\\\Users\\\\nakam\\\\Python\\\\Data\\\\Boring_Python\\\\12.14\\\\ins.xlsx'\n",
    "\n",
    "wb = openpyxl.load_workbook(file)\n",
    "sheet = wb.active\n",
    "\n",
    "new_wb = openpyxl.Workbook()\n",
    "new_sheet = new_wb.active\n",
    "\n",
    "for row in range(1, sheet.max_row + 1):\n",
    "    for col in range(1, sheet.max_column + 1):\n",
    "        old_cell = sheet.cell(column=col, row=row)\n",
    "        # 行rowと列colを入れ替える\n",
    "        new_cell = new_sheet.cell(column=row, row=col)\n",
    "        new_cell.value = old_cell.value\n",
    "\n",
    "new_wb.save('C:\\\\Users\\\\nakam\\\\Python\\\\Data\\\\Boring_Python\\\\12.14\\\\swap.xlsx')\n",
    "\n",
    "#Excel読み込み\n",
    "file='C:\\\\Users\\\\nakam\\\\Python\\\\Data\\\\Boring_Python\\\\12.14\\\\swap.xlsx'\n",
    "df_raw= pd.read_excel(file)\n",
    "data_pandas=pd.DataFrame(df_raw[:5])\n",
    "display(data_pandas)\n",
    "print('')"
   ]
  },
  {
   "cell_type": "markdown",
   "metadata": {},
   "source": [
    "### 12.14.4 テキストファイルからスプレッドシートに変換する"
   ]
  },
  {
   "cell_type": "code",
   "execution_count": 31,
   "metadata": {},
   "outputs": [
    {
     "data": {
      "text/html": [
       "<div>\n",
       "<style scoped>\n",
       "    .dataframe tbody tr th:only-of-type {\n",
       "        vertical-align: middle;\n",
       "    }\n",
       "\n",
       "    .dataframe tbody tr th {\n",
       "        vertical-align: top;\n",
       "    }\n",
       "\n",
       "    .dataframe thead th {\n",
       "        text-align: right;\n",
       "    }\n",
       "</style>\n",
       "<table border=\"1\" class=\"dataframe\">\n",
       "  <thead>\n",
       "    <tr style=\"text-align: right;\">\n",
       "      <th></th>\n",
       "      <th>これは</th>\n",
       "      <th>これは.1</th>\n",
       "      <th>これは.2</th>\n",
       "      <th>これは.3</th>\n",
       "      <th>これは.4</th>\n",
       "      <th>これは.5</th>\n",
       "      <th>これは.6</th>\n",
       "      <th>これは.7</th>\n",
       "      <th>これは.8</th>\n",
       "    </tr>\n",
       "  </thead>\n",
       "  <tbody>\n",
       "    <tr>\n",
       "      <td>0</td>\n",
       "      <td>spam001.txt</td>\n",
       "      <td>spam002.txt</td>\n",
       "      <td>spam003.txt</td>\n",
       "      <td>spam004.txt</td>\n",
       "      <td>spam005.txt</td>\n",
       "      <td>spam006.txt</td>\n",
       "      <td>spam007.txt</td>\n",
       "      <td>spam008.txt</td>\n",
       "      <td>spam009.txt</td>\n",
       "    </tr>\n",
       "    <tr>\n",
       "      <td>1</td>\n",
       "      <td>というテキストファイルです。</td>\n",
       "      <td>というテキストファイルです。</td>\n",
       "      <td>というテキストファイルです。</td>\n",
       "      <td>というテキストファイルです。</td>\n",
       "      <td>というテキストファイルです。</td>\n",
       "      <td>というテキストファイルです。</td>\n",
       "      <td>というテキストファイルです。</td>\n",
       "      <td>というテキストファイルです。</td>\n",
       "      <td>というテキストファイルです。</td>\n",
       "    </tr>\n",
       "    <tr>\n",
       "      <td>2</td>\n",
       "      <td>適当なデータ1</td>\n",
       "      <td>適当なデータ1</td>\n",
       "      <td>適当なデータ1</td>\n",
       "      <td>適当なデータ1</td>\n",
       "      <td>適当なデータ1</td>\n",
       "      <td>適当なデータ1</td>\n",
       "      <td>適当なデータ1</td>\n",
       "      <td>適当なデータ1</td>\n",
       "      <td>適当なデータ1</td>\n",
       "    </tr>\n",
       "    <tr>\n",
       "      <td>3</td>\n",
       "      <td>最終行</td>\n",
       "      <td>適当なデータ2</td>\n",
       "      <td>適当なデータ2</td>\n",
       "      <td>適当なデータ2</td>\n",
       "      <td>適当なデータ2</td>\n",
       "      <td>適当なデータ2</td>\n",
       "      <td>適当なデータ2</td>\n",
       "      <td>適当なデータ2</td>\n",
       "      <td>適当なデータ2</td>\n",
       "    </tr>\n",
       "    <tr>\n",
       "      <td>4</td>\n",
       "      <td>NaN</td>\n",
       "      <td>最終行</td>\n",
       "      <td>適当なデータ3</td>\n",
       "      <td>適当なデータ3</td>\n",
       "      <td>適当なデータ3</td>\n",
       "      <td>適当なデータ3</td>\n",
       "      <td>適当なデータ3</td>\n",
       "      <td>適当なデータ3</td>\n",
       "      <td>適当なデータ3</td>\n",
       "    </tr>\n",
       "  </tbody>\n",
       "</table>\n",
       "</div>"
      ],
      "text/plain": [
       "              これは           これは.1           これは.2           これは.3  \\\n",
       "0     spam001.txt     spam002.txt     spam003.txt     spam004.txt   \n",
       "1  というテキストファイルです。  というテキストファイルです。  というテキストファイルです。  というテキストファイルです。   \n",
       "2         適当なデータ1         適当なデータ1         適当なデータ1         適当なデータ1   \n",
       "3             最終行         適当なデータ2         適当なデータ2         適当なデータ2   \n",
       "4             NaN             最終行         適当なデータ3         適当なデータ3   \n",
       "\n",
       "            これは.4           これは.5           これは.6           これは.7  \\\n",
       "0     spam005.txt     spam006.txt     spam007.txt     spam008.txt   \n",
       "1  というテキストファイルです。  というテキストファイルです。  というテキストファイルです。  というテキストファイルです。   \n",
       "2         適当なデータ1         適当なデータ1         適当なデータ1         適当なデータ1   \n",
       "3         適当なデータ2         適当なデータ2         適当なデータ2         適当なデータ2   \n",
       "4         適当なデータ3         適当なデータ3         適当なデータ3         適当なデータ3   \n",
       "\n",
       "            これは.8  \n",
       "0     spam009.txt  \n",
       "1  というテキストファイルです。  \n",
       "2         適当なデータ1  \n",
       "3         適当なデータ2  \n",
       "4         適当なデータ3  "
      ]
     },
     "metadata": {},
     "output_type": "display_data"
    },
    {
     "name": "stdout",
     "output_type": "stream",
     "text": [
      "\n"
     ]
    }
   ],
   "source": [
    "#テキストファイルの1行につきスプレッドシートの一行使用\n",
    "#テキストファイルが変わったら次の列に移動する\n",
    "\n",
    "import openpyxl\n",
    "import os\n",
    "\n",
    "folder='C:\\\\Users\\\\nakam\\\\Python\\\\Data\\\\Boring_Python\\\\12.14.4'\n",
    "\n",
    "# 新規のスプレッドシートを作る\n",
    "new_wb = openpyxl.Workbook()\n",
    "new_sheet = new_wb.active\n",
    "\n",
    "n = 0\n",
    "for filename in sorted(os.listdir(folder)):\n",
    "    # 拡張子が.txtでなければスキップ\n",
    "    if not filename.lower().endswith('.txt'):\n",
    "        continue\n",
    "    # ファイルごとに列番号を1,2,3,...と増やしていく\n",
    "    n += 1\n",
    "    text_file = open(folder+'\\\\'+filename, 'r', encoding='utf-8')\n",
    "    \n",
    "    # ファイルを開いて行に追加する\n",
    "    for m,line in enumerate(text_file):  #text_fileリストのm番目の内容がlineに入る\n",
    "        new_sheet.cell(column=n, row=m + 1).value = line.strip() #最後の改行文字を取り除く\n",
    "    text_file.close()\n",
    "\n",
    "# Excelファイルを保存する\n",
    "new_wb.save(folder+'\\\\texts.xlsx')\n",
    "\n",
    "#Excel読み込み\n",
    "file=folder+'\\\\texts.xlsx'\n",
    "df_raw= pd.read_excel(file)\n",
    "data_pandas=pd.DataFrame(df_raw[:5])\n",
    "display(data_pandas)\n",
    "print('')"
   ]
  },
  {
   "cell_type": "markdown",
   "metadata": {},
   "source": [
    "### 12.14.5 スプレッドシートからテキストファイルに変換する"
   ]
  },
  {
   "cell_type": "code",
   "execution_count": 32,
   "metadata": {},
   "outputs": [
    {
     "name": "stdout",
     "output_type": "stream",
     "text": [
      "001  ファイルを保存しました\n",
      "002  ファイルを保存しました\n",
      "003  ファイルを保存しました\n",
      "004  ファイルを保存しました\n",
      "005  ファイルを保存しました\n",
      "006  ファイルを保存しました\n",
      "007  ファイルを保存しました\n",
      "008  ファイルを保存しました\n",
      "009  ファイルを保存しました\n"
     ]
    }
   ],
   "source": [
    "import openpyxl\n",
    "\n",
    "file='C:\\\\Users\\\\nakam\\\\Python\\\\Data\\\\Boring_Python\\\\12.14.4\\\\texts.xlsx'\n",
    "folder='C:\\\\Users\\\\nakam\\\\Python\\\\Data\\\\Boring_Python\\\\12.14.5'\n",
    "os.chdir(folder)\n",
    "\n",
    "# スプレッドシートを開く\n",
    "wb = openpyxl.load_workbook(file)\n",
    "sheet = wb.active\n",
    "\n",
    "for col in range(1, sheet.max_column + 1):\n",
    "    # 元ファイル名に列番号をつけてテキストファイル名とする\n",
    "    print('{:03}'.format(col),' ファイルを保存しました')\n",
    "    filename = '{}_{:03}.txt'.format('spam', col) #数字を001,002と3桁表示する方法\n",
    "    text_file = open(filename, 'w', encoding='utf-8')\n",
    "    for row in range(1, sheet.max_row + 1):\n",
    "        value = sheet.cell(column=col, row=row).value\n",
    "        if value != None:\n",
    "            text_file.write(str(value))\n",
    "            text_file.write('\\n')\n",
    "    text_file.close()\n"
   ]
  }
 ],
 "metadata": {
  "kernelspec": {
   "display_name": "Python 3",
   "language": "python",
   "name": "python3"
  },
  "language_info": {
   "codemirror_mode": {
    "name": "ipython",
    "version": 3
   },
   "file_extension": ".py",
   "mimetype": "text/x-python",
   "name": "python",
   "nbconvert_exporter": "python",
   "pygments_lexer": "ipython3",
   "version": "3.7.4"
  }
 },
 "nbformat": 4,
 "nbformat_minor": 2
}
