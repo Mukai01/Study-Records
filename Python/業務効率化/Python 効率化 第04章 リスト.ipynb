{
 "cells": [
  {
   "cell_type": "markdown",
   "metadata": {},
   "source": [
    "# 第4章 リスト"
   ]
  },
  {
   "cell_type": "markdown",
   "metadata": {},
   "source": [
    "## 4.1 リスト型"
   ]
  },
  {
   "cell_type": "code",
   "execution_count": 1,
   "metadata": {},
   "outputs": [
    {
     "name": "stdout",
     "output_type": "stream",
     "text": [
      "rat\n",
      "elehant\n",
      "['bat', 'rat']\n",
      "4\n"
     ]
    }
   ],
   "source": [
    "spam=['cat','bat','rat','elehant']\n",
    "print(spam[2]) #[]の中の数値をインデックスという\n",
    "print(spam[-1]) #負のインデックス\n",
    "print(spam[1:3]) #スライスを用いたリストの部分取得\n",
    "print(len(spam)) #リストの長さを取得"
   ]
  },
  {
   "cell_type": "code",
   "execution_count": 2,
   "metadata": {},
   "outputs": [
    {
     "name": "stdout",
     "output_type": "stream",
     "text": [
      "bat\n"
     ]
    }
   ],
   "source": [
    "#二重リスト\n",
    "spam=[['cat','bat'],[10,20,30]]\n",
    "print(spam[0][1])"
   ]
  },
  {
   "cell_type": "code",
   "execution_count": 3,
   "metadata": {},
   "outputs": [
    {
     "name": "stdout",
     "output_type": "stream",
     "text": [
      "['cat', '12345', 'rat', 'elehant']\n"
     ]
    }
   ],
   "source": [
    "#リストの内容変更\n",
    "spam=['cat','bat','rat','elehant']\n",
    "spam[1]='12345'\n",
    "print(spam)"
   ]
  },
  {
   "cell_type": "code",
   "execution_count": 4,
   "metadata": {},
   "outputs": [
    {
     "name": "stdout",
     "output_type": "stream",
     "text": [
      "['cat', 'bat', 'rat', 'elehant', 'cat', 'bat', 'rat', 'elehant', 'cat', 'bat', 'rat', 'elehant']\n",
      "['cat', 'bat', 'rat', 'elehant', 'A', 'B', 'C']\n"
     ]
    }
   ],
   "source": [
    "#リストの連結\n",
    "spam=['cat','bat','rat','elehant']\n",
    "a=spam*3\n",
    "b=spam+['A','B','C']\n",
    "\n",
    "print(a)\n",
    "print(b)"
   ]
  },
  {
   "cell_type": "code",
   "execution_count": 5,
   "metadata": {},
   "outputs": [
    {
     "name": "stdout",
     "output_type": "stream",
     "text": [
      "['cat', 'bat', 'elehant']\n"
     ]
    }
   ],
   "source": [
    "#del文を用いたリストからの値の削除\n",
    "#リストから削除したいインデックスがわかるときはdel文\n",
    "#値がわかっているときはremoveメソッドを使用する\n",
    "\n",
    "spam=['cat','bat','rat','elehant']\n",
    "del spam[2]\n",
    "print(spam)"
   ]
  },
  {
   "cell_type": "markdown",
   "metadata": {},
   "source": [
    "## 4.2 リストを使ってみる\n",
    "Enterが押されるまでリストに猫の名前を追加するプログラム"
   ]
  },
  {
   "cell_type": "code",
   "execution_count": 6,
   "metadata": {},
   "outputs": [
    {
     "name": "stdout",
     "output_type": "stream",
     "text": [
      "猫1の名前を入力してください\n",
      "(終了するにはEnterキーだけ押してください)\n",
      "Zophie\n",
      "猫2の名前を入力してください\n",
      "(終了するにはEnterキーだけ押してください)\n",
      "Mike\n",
      "猫3の名前を入力してください\n",
      "(終了するにはEnterキーだけ押してください)\n",
      "\n",
      "猫の名前は次の通り\n",
      "  Zophie\n",
      "  Mike\n"
     ]
    }
   ],
   "source": [
    "cat_names=[]\n",
    "while True:\n",
    "    print('猫'+str(len(cat_names)+1)+'の名前を入力してください\\n(終了するにはEnterキーだけ押してください)')\n",
    "    name=input()\n",
    "    if name=='':\n",
    "        break\n",
    "    cat_names=cat_names+[name] #リストの連結\n",
    "\n",
    "print('猫の名前は次の通り')\n",
    "for name in cat_names:\n",
    "    print('  '+name)"
   ]
  },
  {
   "cell_type": "markdown",
   "metadata": {},
   "source": [
    "### 4.2.1 forループとリストを組み合わせる\n",
    "上記のfor ループは以下のように記述してもよい"
   ]
  },
  {
   "cell_type": "code",
   "execution_count": 7,
   "metadata": {},
   "outputs": [
    {
     "name": "stdout",
     "output_type": "stream",
     "text": [
      "  Zophie\n",
      "  Mike\n"
     ]
    }
   ],
   "source": [
    "for i in range(len(cat_names)):\n",
    "    print('  '+cat_names[i])"
   ]
  },
  {
   "cell_type": "markdown",
   "metadata": {},
   "source": [
    "### 4.2.2 inとnot in演算子"
   ]
  },
  {
   "cell_type": "code",
   "execution_count": 8,
   "metadata": {},
   "outputs": [
    {
     "name": "stdout",
     "output_type": "stream",
     "text": [
      "True\n",
      "True\n"
     ]
    }
   ],
   "source": [
    "spam=['cat','bat','rat','elehant']\n",
    "print('cat' in spam)\n",
    "print('Howdy' not in spam)"
   ]
  },
  {
   "cell_type": "markdown",
   "metadata": {},
   "source": [
    "### 4.2.3 複数代入法"
   ]
  },
  {
   "cell_type": "code",
   "execution_count": 9,
   "metadata": {},
   "outputs": [
    {
     "name": "stdout",
     "output_type": "stream",
     "text": [
      "cat\n",
      "bat\n"
     ]
    }
   ],
   "source": [
    "spam=['cat','bat','rat','elehant']\n",
    "a,b,c,d=spam #1行で変数を代入可能\n",
    "print(a)\n",
    "print(b)"
   ]
  },
  {
   "cell_type": "markdown",
   "metadata": {},
   "source": [
    "## 4.3 累算代入演算子"
   ]
  },
  {
   "cell_type": "code",
   "execution_count": 10,
   "metadata": {},
   "outputs": [
    {
     "name": "stdout",
     "output_type": "stream",
     "text": [
      "43\n"
     ]
    }
   ],
   "source": [
    "spam=42\n",
    "spam+=1\n",
    "print(spam)\n",
    "\n",
    "# -=1\n",
    "# *=1\n",
    "# /=1 \n",
    "# %=1 その数値を1で割った際の余りを表示"
   ]
  },
  {
   "cell_type": "markdown",
   "metadata": {},
   "source": [
    "## 4.4 メソッド\n",
    "### 4.4.1 indexメソッド\n",
    "メソッド：ある値について呼び出される専用の関数"
   ]
  },
  {
   "cell_type": "code",
   "execution_count": 11,
   "metadata": {},
   "outputs": [
    {
     "data": {
      "text/plain": [
       "1"
      ]
     },
     "execution_count": 11,
     "metadata": {},
     "output_type": "execute_result"
    }
   ],
   "source": [
    "spam=['cat','bat','rat','elehant','bat']\n",
    "spam.index('bat') #複数ある場合は1番目のみ表示"
   ]
  },
  {
   "cell_type": "markdown",
   "metadata": {},
   "source": [
    "### 4.4.2 appendメソッドとinsertメソッド"
   ]
  },
  {
   "cell_type": "code",
   "execution_count": 12,
   "metadata": {},
   "outputs": [
    {
     "name": "stdout",
     "output_type": "stream",
     "text": [
      "['cat', 'chiken', 'bat', 'rat', 'elehant', 'bat', 'moose']\n"
     ]
    }
   ],
   "source": [
    "spam=['cat','bat','rat','elehant','bat']\n",
    "spam.append('moose') #最後に追加\n",
    "spam.insert(1,'chiken') #1番目に挿入\n",
    "print(spam)"
   ]
  },
  {
   "cell_type": "markdown",
   "metadata": {},
   "source": [
    "### 4.4.3 removeメソッド"
   ]
  },
  {
   "cell_type": "code",
   "execution_count": 13,
   "metadata": {},
   "outputs": [
    {
     "name": "stdout",
     "output_type": "stream",
     "text": [
      "['cat', 'rat', 'elehant', 'bat']\n"
     ]
    }
   ],
   "source": [
    "spam=['cat','bat','rat','elehant','bat']\n",
    "spam.remove('bat') #複数ある場合は最初のみ削除\n",
    "print(spam)"
   ]
  },
  {
   "cell_type": "markdown",
   "metadata": {},
   "source": [
    "### 4.4.4 sortメソッド\n",
    "リストをインプレースでソートするため spam=spam.sort()などは不要"
   ]
  },
  {
   "cell_type": "code",
   "execution_count": 14,
   "metadata": {},
   "outputs": [
    {
     "name": "stdout",
     "output_type": "stream",
     "text": [
      "['bat', 'bat', 'cat', 'elehant', 'rat']\n",
      "['rat', 'elehant', 'cat', 'bat', 'bat']\n"
     ]
    }
   ],
   "source": [
    "spam=['cat','bat','rat','elehant','bat']\n",
    "spam.sort()\n",
    "print(spam)\n",
    "\n",
    "spam.sort(reverse=True) #逆順にソート\n",
    "print(spam)"
   ]
  },
  {
   "cell_type": "code",
   "execution_count": 16,
   "metadata": {},
   "outputs": [
    {
     "name": "stdout",
     "output_type": "stream",
     "text": [
      "['a', 'B', 'c', 'D']\n"
     ]
    }
   ],
   "source": [
    "#大文字、小文字を区別しない場合\n",
    "spam=['a','c','D','B']\n",
    "spam.sort(key=str.lower)\n",
    "print(spam)"
   ]
  },
  {
   "cell_type": "markdown",
   "metadata": {},
   "source": [
    "## 4.6 リスト風のデータ型：文字列とタプル\n",
    "### 4.6.1 ミュータブル、イミュータブルなデータ型\n",
    "文字列もリストと同様に扱える"
   ]
  },
  {
   "cell_type": "code",
   "execution_count": 15,
   "metadata": {},
   "outputs": [
    {
     "name": "stdout",
     "output_type": "stream",
     "text": [
      "Z\n",
      "True\n"
     ]
    }
   ],
   "source": [
    "name='Zophie'\n",
    "\n",
    "print(name[0])\n",
    "print('Zo'in name)"
   ]
  },
  {
   "cell_type": "code",
   "execution_count": 16,
   "metadata": {},
   "outputs": [
    {
     "ename": "TypeError",
     "evalue": "'str' object does not support item assignment",
     "output_type": "error",
     "traceback": [
      "\u001b[1;31m---------------------------------------------------------------------------\u001b[0m",
      "\u001b[1;31mTypeError\u001b[0m                                 Traceback (most recent call last)",
      "\u001b[1;32m<ipython-input-16-0025ea087d23>\u001b[0m in \u001b[0;36m<module>\u001b[1;34m\u001b[0m\n\u001b[0;32m      2\u001b[0m \u001b[1;33m\u001b[0m\u001b[0m\n\u001b[0;32m      3\u001b[0m \u001b[0mname\u001b[0m\u001b[1;33m=\u001b[0m\u001b[1;34m'Zophie a cat'\u001b[0m\u001b[1;33m\u001b[0m\u001b[1;33m\u001b[0m\u001b[0m\n\u001b[1;32m----> 4\u001b[1;33m \u001b[0mname\u001b[0m\u001b[1;33m[\u001b[0m\u001b[1;36m7\u001b[0m\u001b[1;33m]\u001b[0m\u001b[1;33m=\u001b[0m\u001b[1;34m'the'\u001b[0m \u001b[1;31m#変更しようとするとエラーになる\u001b[0m\u001b[1;33m\u001b[0m\u001b[1;33m\u001b[0m\u001b[0m\n\u001b[0m",
      "\u001b[1;31mTypeError\u001b[0m: 'str' object does not support item assignment"
     ]
    }
   ],
   "source": [
    "#しかし文字列はイミュータブル（変更不可）という点が異なる\n",
    "\n",
    "name='Zophie a cat'\n",
    "name[7]='the' #変更しようとするとエラーになる"
   ]
  },
  {
   "cell_type": "code",
   "execution_count": 17,
   "metadata": {},
   "outputs": [
    {
     "name": "stdout",
     "output_type": "stream",
     "text": [
      "Zophie the cat\n"
     ]
    }
   ],
   "source": [
    "#変更するには新たに新しい文字列を生成する。\n",
    "new_name=name[0:7]+'the'+name[8:12]\n",
    "print(new_name)"
   ]
  },
  {
   "cell_type": "markdown",
   "metadata": {},
   "source": [
    "### 4.6.2 タプル型\n",
    "タプル型はリストと同じように扱える"
   ]
  },
  {
   "cell_type": "code",
   "execution_count": 18,
   "metadata": {},
   "outputs": [
    {
     "name": "stdout",
     "output_type": "stream",
     "text": [
      "hello\n",
      "<class 'tuple'>\n",
      "<class 'str'>\n"
     ]
    }
   ],
   "source": [
    "eggs=('hello',42,0.5)\n",
    "print(eggs[0])\n",
    "\n",
    "print(type(('hello',))) #要素が一つだけの場合は最後に,をつける\n",
    "print(type(('hello')))  #そうしなければタプルと認識されない"
   ]
  },
  {
   "cell_type": "code",
   "execution_count": 19,
   "metadata": {},
   "outputs": [
    {
     "ename": "TypeError",
     "evalue": "'tuple' object does not support item assignment",
     "output_type": "error",
     "traceback": [
      "\u001b[1;31m---------------------------------------------------------------------------\u001b[0m",
      "\u001b[1;31mTypeError\u001b[0m                                 Traceback (most recent call last)",
      "\u001b[1;32m<ipython-input-19-66aeb2846fcc>\u001b[0m in \u001b[0;36m<module>\u001b[1;34m\u001b[0m\n\u001b[0;32m      1\u001b[0m \u001b[1;31m#タプル型はイミュータブルになる\u001b[0m\u001b[1;33m\u001b[0m\u001b[1;33m\u001b[0m\u001b[1;33m\u001b[0m\u001b[0m\n\u001b[0;32m      2\u001b[0m \u001b[1;33m\u001b[0m\u001b[0m\n\u001b[1;32m----> 3\u001b[1;33m \u001b[0meggs\u001b[0m\u001b[1;33m[\u001b[0m\u001b[1;36m1\u001b[0m\u001b[1;33m]\u001b[0m\u001b[1;33m=\u001b[0m\u001b[1;36m99\u001b[0m \u001b[1;31m#値の変更は不可\u001b[0m\u001b[1;33m\u001b[0m\u001b[1;33m\u001b[0m\u001b[0m\n\u001b[0m",
      "\u001b[1;31mTypeError\u001b[0m: 'tuple' object does not support item assignment"
     ]
    }
   ],
   "source": [
    "#タプル型はイミュータブルになる\n",
    "\n",
    "eggs[1]=99 #値の変更は不可"
   ]
  },
  {
   "cell_type": "markdown",
   "metadata": {},
   "source": [
    "### 4.6.3 list関数とtuple関数"
   ]
  },
  {
   "cell_type": "code",
   "execution_count": 20,
   "metadata": {},
   "outputs": [
    {
     "name": "stdout",
     "output_type": "stream",
     "text": [
      "('hello', 42, 0.5)\n",
      "['hello', 42, 0.5]\n",
      "['h', 'e', 'l', 'l', 'o']\n"
     ]
    }
   ],
   "source": [
    "print(tuple(['hello',42,0.5])) #タプルに変換\n",
    "print(list(('hello',42,0.5)))  #リストに変換\n",
    "print(list('hello'))           #文字列をリストに変換"
   ]
  },
  {
   "cell_type": "markdown",
   "metadata": {},
   "source": [
    "## 4.7 参照\n",
    "リストを変数に代入すると、リストの参照を変数に代入している"
   ]
  },
  {
   "cell_type": "code",
   "execution_count": 21,
   "metadata": {},
   "outputs": [
    {
     "name": "stdout",
     "output_type": "stream",
     "text": [
      "[0, 'hello', 2, 3, 4, 5]\n",
      "[0, 'hello', 2, 3, 4, 5]\n"
     ]
    }
   ],
   "source": [
    "spam=[0,1,2,3,4,5]\n",
    "cheese=spam #cheeseはspamのリストの参照が代入される\n",
    "cheese[1]='hello'\n",
    "\n",
    "print(cheese) \n",
    "print(spam) #spamもcheeseと同じリストを参照しているので、変わってしまう"
   ]
  },
  {
   "cell_type": "markdown",
   "metadata": {},
   "source": [
    "### 4.7.1 参照を渡す\n",
    "関数の引数にリストを渡すと参照がコピーされる"
   ]
  },
  {
   "cell_type": "code",
   "execution_count": 22,
   "metadata": {},
   "outputs": [
    {
     "name": "stdout",
     "output_type": "stream",
     "text": [
      "[1, 2, 3, 'hello']\n"
     ]
    }
   ],
   "source": [
    "def eggs(some_parameter):\n",
    "    some_parameter.append('hello')\n",
    "\n",
    "spam=[1,2,3]\n",
    "eggs(spam) #参照が変更されるので、関数を抜けても'hello'が追加される\n",
    "print(spam)"
   ]
  },
  {
   "cell_type": "markdown",
   "metadata": {},
   "source": [
    "### 4.7.2 copy関数とdeepcopy関数\n",
    "元のリストを変更したくない場合はcopy関数を使う"
   ]
  },
  {
   "cell_type": "code",
   "execution_count": 23,
   "metadata": {},
   "outputs": [
    {
     "name": "stdout",
     "output_type": "stream",
     "text": [
      "[0, 'hello', 2, 3, 4, 5]\n",
      "[0, 1, 2, 3, 4, 5]\n"
     ]
    }
   ],
   "source": [
    "import copy\n",
    "spam=[0,1,2,3,4,5]\n",
    "cheese=copy.copy(spam) #spamをコピーする\n",
    "cheese[1]='hello'\n",
    "\n",
    "print(cheese)\n",
    "print(spam)"
   ]
  },
  {
   "cell_type": "code",
   "execution_count": 24,
   "metadata": {},
   "outputs": [
    {
     "name": "stdout",
     "output_type": "stream",
     "text": [
      "[[0, 1, 2, 3, 4, 5], ['hello', 7, 8]]\n",
      "[[0, 1, 2, 3, 4, 5], [6, 7, 8]]\n"
     ]
    }
   ],
   "source": [
    "#リストの中にリストを含む場合はdeepcopy関数を使う\n",
    "#copy関数だと、リストの中のリストが同じものを参照してしまう\n",
    "\n",
    "spam=[[0,1,2,3,4,5],[6,7,8]]\n",
    "cheese=copy.deepcopy(spam) #spamをコピーする\n",
    "cheese[1][0]='hello'\n",
    "\n",
    "print(cheese)\n",
    "print(spam)"
   ]
  },
  {
   "cell_type": "markdown",
   "metadata": {},
   "source": [
    "## 4.10 演習プロジェクト\n",
    "### 4.10.1 カンマ付け"
   ]
  },
  {
   "cell_type": "code",
   "execution_count": 25,
   "metadata": {},
   "outputs": [
    {
     "name": "stdout",
     "output_type": "stream",
     "text": [
      "apples, bananas, tofu, and cats\n"
     ]
    }
   ],
   "source": [
    "#リストをカンマで繋いだ文字列に変換する\n",
    "#最後の文字だけはカンマ+アンドで繋ぐ\n",
    "\n",
    "#add_comma(lst)===============================================\n",
    "#lstをカンマで繋いだ文字列に変換する\n",
    "#最後の文字だけはカンマ+アンドで繋ぐ\n",
    "\n",
    "def add_comma(lst):\n",
    "    if len(lst) <= 0:\n",
    "        return ''\n",
    "    if len(lst) == 1:\n",
    "        return lst[0]\n",
    "    return ', '.join(lst[:-1]) + ', and ' + lst[-1]\n",
    "#=============================================================\n",
    "\n",
    "spam = ['apples', 'bananas', 'tofu', 'cats']\n",
    "s = add_comma(spam)\n",
    "print(s)"
   ]
  },
  {
   "cell_type": "markdown",
   "metadata": {},
   "source": [
    "### 4.10.2 文字絵グリッド"
   ]
  },
  {
   "cell_type": "code",
   "execution_count": 26,
   "metadata": {},
   "outputs": [
    {
     "name": "stdout",
     "output_type": "stream",
     "text": [
      "..OO.OO..\n",
      ".OOOOOOO.\n",
      ".OOOOOOO.\n",
      "..OOOOO..\n",
      "...OOO...\n",
      "....O....\n"
     ]
    }
   ],
   "source": [
    "#リストのリストをx,y入れ替えて表示\n",
    "\n",
    "#print_grid(grid)==============================================\n",
    "#grid（二重リスト）をx,y入れ替えて表示するプログラム\n",
    "\n",
    "def print_grid(grid):\n",
    "    width = len(grid)\n",
    "    height = len(grid[0])\n",
    "    for y in range(height):\n",
    "        for x in range(width):\n",
    "            print(grid[x][y], end='') #改行しないようにする\n",
    "        print() #xのループが終わったら改行する\n",
    "#=============================================================\n",
    "\n",
    "grid = [['.', '.', '.', '.', '.', '.'],\n",
    "        ['.', 'O', 'O', '.', '.', '.'],\n",
    "        ['O', 'O', 'O', 'O', '.', '.'],\n",
    "        ['O', 'O', 'O', 'O', 'O', '.'],\n",
    "        ['.', 'O', 'O', 'O', 'O', 'O'],\n",
    "        ['O', 'O', 'O', 'O', 'O', '.'],\n",
    "        ['O', 'O', 'O', 'O', '.', '.'],\n",
    "        ['.', 'O', 'O', '.', '.', '.'],\n",
    "        ['.', '.', '.', '.', '.', '.']]\n",
    "\n",
    "print_grid(grid)"
   ]
  }
 ],
 "metadata": {
  "kernelspec": {
   "display_name": "Python 3",
   "language": "python",
   "name": "python3"
  },
  "language_info": {
   "codemirror_mode": {
    "name": "ipython",
    "version": 3
   },
   "file_extension": ".py",
   "mimetype": "text/x-python",
   "name": "python",
   "nbconvert_exporter": "python",
   "pygments_lexer": "ipython3",
   "version": "3.7.4"
  }
 },
 "nbformat": 4,
 "nbformat_minor": 2
}
