{
 "cells": [
  {
   "cell_type": "markdown",
   "metadata": {},
   "source": [
    "# 第18章 GUIオートメーションによるキーボードとマウスの制御"
   ]
  },
  {
   "cell_type": "markdown",
   "metadata": {},
   "source": [
    "## 18.1 Pyautoguiモジュール\n",
    "pip install pyautoguiが必要"
   ]
  },
  {
   "cell_type": "markdown",
   "metadata": {},
   "source": [
    "## 18.2 フェールセーフ機能\n",
    "FailSafeはマウスが左上に移動すると例外を起こす機能"
   ]
  },
  {
   "cell_type": "code",
   "execution_count": 1,
   "metadata": {},
   "outputs": [],
   "source": [
    "import pyautogui\n",
    "\n",
    "pyautogui.PAUSE = 1 #pyautoguiのみ停止する、他の関数は停止しない\n",
    "pyautogui.FAILSAFE=True #デフォルトでTrueになっているため不要"
   ]
  },
  {
   "cell_type": "markdown",
   "metadata": {},
   "source": [
    "## 18.3 解像度の取得"
   ]
  },
  {
   "cell_type": "code",
   "execution_count": 2,
   "metadata": {},
   "outputs": [
    {
     "name": "stdout",
     "output_type": "stream",
     "text": [
      "width: 1920\n",
      "height: 1080\n"
     ]
    }
   ],
   "source": [
    "import pyautogui\n",
    "\n",
    "pyautogui.size() #画面のサイズを取得\n",
    "width,height=pyautogui.size() #サイズを格納する\n",
    "\n",
    "print('width:',width)\n",
    "print('height:',height)"
   ]
  },
  {
   "cell_type": "markdown",
   "metadata": {},
   "source": [
    "### 18.3.1 マウスの移動"
   ]
  },
  {
   "cell_type": "code",
   "execution_count": 3,
   "metadata": {},
   "outputs": [],
   "source": [
    "import pyautogui\n",
    "for i in range(3):\n",
    "    pyautogui.moveTo(100,100,duration=0.25) #絶対座標を指定、durationは移動にかかる時間\n",
    "    pyautogui.moveTo(200,100,duration=0.25)\n",
    "    pyautogui.moveTo(200,200,duration=0.25)\n",
    "    pyautogui.moveTo(100,200,duration=0.25)\n",
    "    \n",
    "import pyautogui\n",
    "for i in range(3):\n",
    "    pyautogui.moveRel(100,0,duration=0.25) #相対座標を指定durationは移動にかかる時間\n",
    "    pyautogui.moveRel(0,100,duration=0.25)\n",
    "    pyautogui.moveRel(-100,0,duration=0.25)\n",
    "    pyautogui.moveRel(0,-100,duration=0.25)"
   ]
  },
  {
   "cell_type": "code",
   "execution_count": 4,
   "metadata": {},
   "outputs": [
    {
     "name": "stdout",
     "output_type": "stream",
     "text": [
      "1320 699\n"
     ]
    }
   ],
   "source": [
    "#マウス座標を取得\n",
    "\n",
    "x,y=pyautogui.position()\n",
    "print(x,y)"
   ]
  },
  {
   "cell_type": "markdown",
   "metadata": {},
   "source": [
    "マウス座標、色取得プログラム"
   ]
  },
  {
   "cell_type": "code",
   "execution_count": 5,
   "metadata": {},
   "outputs": [
    {
     "name": "stdout",
     "output_type": "stream",
     "text": [
      "中断するにはCtrl-Cを押してください。\n",
      "X: 1479 Y:  623 RGB: (247, 247, 24X: 1479 Y:  623 RGB: (247, 247, 24X: 1479 Y:  623 RGB: (247, 247, 24X: 1479 Y:  623 RGB: (247, 247, 24X: 1479 Y:  623 RGB: (247, 247, 24X: 1479 Y:  623 RGB: (247, 247, 24X: 1479 Y:  623 RGB: (247, 247, 24X: 1481 Y:  617 RGB: (247, 247, 24X: 1487 Y:  614 RGB: (247, 247, 24X: 1458 Y:  532 RGB: (255, 255, 25X: 1423 Y:  413 RGB: (247, 247, 24X: 1404 Y:  385 RGB: (247, 247, 24X: 1359 Y:  346 RGB: (  0, 121, 12X: 1303 Y:  315 RGB: (247, 247, 24X: 1231 Y:  260 RGB: (244, 244, 24X: 1216 Y:  249 RGB: (255, 255, 25X: 1209 Y:  239 RGB: (230, 230, 23X: 1208 Y:  233 RGB: (230, 230, 23X: 1213 Y:  233 RGB: (230, 230, 23X: 1219 Y:  234 RGB: (230, 230, 23X: 1225 Y:  236 RGB: ( 51,  51,  5X: 1225 Y:  236 RGB: ( 51,  51,  5X: 1225 Y:  237 RGB: ( 51,  51,  5\n",
      "終了。\n"
     ]
    }
   ],
   "source": [
    "#! python3\n",
    "# mouseNow.py - マウスカーソル座標を表示する\n",
    "\n",
    "import pyautogui\n",
    "print('中断するにはCtrl-Cを押してください。')\n",
    "\n",
    "try:\n",
    "    while True:\n",
    "        # マウス座標を取得して表示する\n",
    "        x, y = pyautogui.position()\n",
    "        position_str = 'X: ' + str(x).rjust(4) + ' Y: ' + str(y).rjust(4)\n",
    "        pixel_color = pyautogui.screenshot().getpixel((x, y))\n",
    "        position_str += ' RGB: (' + str(pixel_color[0]).rjust(3)\n",
    "        position_str += ', ' + str(pixel_color[1]).rjust(3)\n",
    "        position_str += ', ' + str(pixel_color[2]).rjust(3) + ')'\n",
    "        print(position_str, end='')\n",
    "        print('\\b' * len(position_str), end='', flush=True) #テキストを消すための\\bを文字数分入力\n",
    "                                                            #\\bを使用する場合はflush=Trueを渡すようにする\n",
    "\n",
    "except KeyboardInterrupt:\n",
    "    print('\\n終了。')"
   ]
  },
  {
   "cell_type": "markdown",
   "metadata": {},
   "source": [
    "### 18.4.5 マウスのクリック"
   ]
  },
  {
   "cell_type": "code",
   "execution_count": 6,
   "metadata": {},
   "outputs": [],
   "source": [
    "import pyautogui\n",
    "pyautogui.click(10,5)\n",
    "\n",
    "#以下はclickと同じ\n",
    "pyautogui.mouseDown(10,5)\n",
    "pyautogui.mouseUp(10,5)\n",
    "\n",
    "pyautogui.doubleClick(10,5) #ダブルクリック\n",
    "pyautogui.rightClick(10,5) #右クリック\n",
    "pyautogui.middleClick(10,5) #中央ボタンクリック"
   ]
  },
  {
   "cell_type": "markdown",
   "metadata": {},
   "source": [
    "### 18.4.5 マウスのドラッグ\n",
    "moveと同じでdragTo()とdragRel()がある"
   ]
  },
  {
   "cell_type": "code",
   "execution_count": 7,
   "metadata": {},
   "outputs": [],
   "source": [
    "#Paintに絵を描くプログラム\n",
    "\n",
    "import pyautogui, time\n",
    "time.sleep(5)\n",
    "pyautogui.click()\n",
    "distance=200\n",
    "\n",
    "while distance>0:\n",
    "    pyautogui.dragRel(distance, 0, duration=0.2)\n",
    "    distance=distance-5\n",
    "    pyautogui.dragRel(0,distance,duration=0.2)\n",
    "    pyautogui.dragRel(-distance,0,duration=0.2)\n",
    "    distance=distance-5\n",
    "    pyautogui.dragRel(0,-distance,duration=0.2)"
   ]
  },
  {
   "cell_type": "markdown",
   "metadata": {},
   "source": [
    "### 18.4.7 マウスホイールの操作"
   ]
  },
  {
   "cell_type": "code",
   "execution_count": 8,
   "metadata": {},
   "outputs": [],
   "source": [
    "time.sleep(0.5)\n",
    "pyautogui.scroll(200)"
   ]
  },
  {
   "cell_type": "markdown",
   "metadata": {},
   "source": [
    "### 18.5.1 スクリーンショットをとる"
   ]
  },
  {
   "cell_type": "code",
   "execution_count": 9,
   "metadata": {},
   "outputs": [
    {
     "data": {
      "text/plain": [
       "(64, 82, 128)"
      ]
     },
     "execution_count": 9,
     "metadata": {},
     "output_type": "execute_result"
    }
   ],
   "source": [
    "im=pyautogui.screenshot()\n",
    "im.getpixel((50,50))"
   ]
  },
  {
   "cell_type": "markdown",
   "metadata": {},
   "source": [
    "### 18.5.2 スクリーンショットを解析する"
   ]
  },
  {
   "cell_type": "code",
   "execution_count": 10,
   "metadata": {},
   "outputs": [
    {
     "data": {
      "text/plain": [
       "False"
      ]
     },
     "execution_count": 10,
     "metadata": {},
     "output_type": "execute_result"
    }
   ],
   "source": [
    "pyautogui.pixelMatchesColor(50,50,(242,242,242))"
   ]
  },
  {
   "cell_type": "markdown",
   "metadata": {},
   "source": [
    "## 18.7 画像認識"
   ]
  },
  {
   "cell_type": "code",
   "execution_count": 11,
   "metadata": {},
   "outputs": [
    {
     "data": {
      "text/plain": [
       "Box(left=48, top=14, width=27, height=24)"
      ]
     },
     "execution_count": 11,
     "metadata": {},
     "output_type": "execute_result"
    }
   ],
   "source": [
    "folder='C:\\\\Users\\\\nakam\\\\Python\\\\Data\\\\Boring_Python\\\\18.7\\\\'\n",
    "pyautogui.locateOnScreen(folder+'Python.png') #1つ見つけたい場合"
   ]
  },
  {
   "cell_type": "code",
   "execution_count": 12,
   "metadata": {},
   "outputs": [
    {
     "data": {
      "text/plain": [
       "Point(x=61, y=26)"
      ]
     },
     "execution_count": 12,
     "metadata": {},
     "output_type": "execute_result"
    }
   ],
   "source": [
    "#画像のセンターを計算\n",
    "im=pyautogui.locateOnScreen(folder+'Python.png')\n",
    "pyautogui.center(im) "
   ]
  },
  {
   "cell_type": "code",
   "execution_count": 13,
   "metadata": {},
   "outputs": [
    {
     "data": {
      "text/plain": [
       "[Box(left=48, top=14, width=27, height=24)]"
      ]
     },
     "execution_count": 13,
     "metadata": {},
     "output_type": "execute_result"
    }
   ],
   "source": [
    "#複数見つけたい場合\n",
    "list(pyautogui.locateAllOnScreen(folder+'Python.png')) "
   ]
  },
  {
   "cell_type": "markdown",
   "metadata": {},
   "source": [
    "## 18.8 キーボード制御"
   ]
  },
  {
   "cell_type": "markdown",
   "metadata": {},
   "source": [
    "### 18.8.1 仮想キーボードから文字列送信"
   ]
  },
  {
   "cell_type": "code",
   "execution_count": 14,
   "metadata": {},
   "outputs": [],
   "source": [
    "import time\n",
    "\n",
    "time.sleep(0.5)\n",
    "pyautogui.click(400,900)\n",
    "pyautogui.typewrite('Hello World')\n",
    "pyautogui.typewrite('Hello World',0.25) #1文字入力した後0.25秒待機"
   ]
  },
  {
   "cell_type": "markdown",
   "metadata": {},
   "source": [
    "### 18.8.2 特殊キー\n",
    "特殊キーを送信する場合はリストを渡す"
   ]
  },
  {
   "cell_type": "code",
   "execution_count": 15,
   "metadata": {},
   "outputs": [],
   "source": [
    "time.sleep(0.5)\n",
    "pyautogui.click(400,900)\n",
    "pyautogui.typewrite(['a','b','left','left','X','Y'])"
   ]
  },
  {
   "cell_type": "markdown",
   "metadata": {},
   "source": [
    "特殊キーリスト"
   ]
  },
  {
   "cell_type": "code",
   "execution_count": 16,
   "metadata": {},
   "outputs": [],
   "source": [
    "#Enter : 'enter', 'return', '\\n'\n",
    "#Esc : 'esc'\n",
    "#Shift : 'shiftleft', 'shiftright' （左右のキー）\n",
    "#alt : 'altleft', 'altright'\n",
    "#ctrl : 'ctrlleft', 'ctrlright'\n",
    "#tab : '\\t'\n",
    "#backspace : 'backspace'\n",
    "#delete : 'delete'\n",
    "#pageup/down : 'pageup', 'pagedown'\n",
    "#home/end : 'home', 'end'\n",
    "#矢印 : 'up', 'down', 'left', 'right'\n",
    "#function : 'f1'\n",
    "#volume : 'volumemute', 'volumedown', 'volumeup'\n",
    "#pause : 'pause'\n",
    "#capslock : 'capslock'\n",
    "#numlock : 'numlock'\n",
    "#scrolllock : 'scrolllock'\n",
    "#insert : 'insert'\n",
    "#windows : 'winleft', 'winright'"
   ]
  },
  {
   "cell_type": "markdown",
   "metadata": {},
   "source": [
    "### 18.8.3 キーボードを押下・解放する\n",
    "Pressはdownとupを順番に呼び出す"
   ]
  },
  {
   "cell_type": "code",
   "execution_count": 17,
   "metadata": {},
   "outputs": [],
   "source": [
    "time.sleep(0.5)\n",
    "pyautogui.click(400,900)\n",
    "\n",
    "pyautogui.keyDown('shift')\n",
    "pyautogui.press('4')\n",
    "pyautogui.keyUp('shift')"
   ]
  },
  {
   "cell_type": "markdown",
   "metadata": {},
   "source": [
    "### 18.8.4 ホットキーの組み合わせ"
   ]
  },
  {
   "cell_type": "code",
   "execution_count": 18,
   "metadata": {},
   "outputs": [],
   "source": [
    "pyautogui.hotkey('ctrl','c')"
   ]
  },
  {
   "cell_type": "markdown",
   "metadata": {},
   "source": [
    "## 18.10 プロジェクト : 自動フォーム入力\n",
    "倍率50%のChromeで動作するよう設定\n",
    "\n",
    "###### https://docs.google.com/forms/d/e/1FAIpQLScSVDFU76rZvbO_tiIwSt6d9sOK0CZyS9KKMCP6cP5O5W5lVQ/viewform"
   ]
  },
  {
   "cell_type": "code",
   "execution_count": 19,
   "metadata": {},
   "outputs": [
    {
     "name": "stdout",
     "output_type": "stream",
     "text": [
      ">>> 5秒間一時停止中。中断するにはCtrl-Cを押してください。<<<\n",
      "Aliceの情報を入力中...\n",
      "送信ボタンを押しました。\n",
      ">>> 5秒間一時停止中。中断するにはCtrl-Cを押してください。<<<\n",
      "Bobの情報を入力中...\n",
      "送信ボタンを押しました。\n",
      ">>> 5秒間一時停止中。中断するにはCtrl-Cを押してください。<<<\n",
      "Carolの情報を入力中...\n",
      "送信ボタンを押しました。\n",
      ">>> 5秒間一時停止中。中断するにはCtrl-Cを押してください。<<<\n",
      "Alex Murphyの情報を入力中...\n",
      "送信ボタンを押しました。\n"
     ]
    }
   ],
   "source": [
    "import pyautogui, time, pyperclip\n",
    "\n",
    "# 以下の値は実際に調べたものに置き換えること。\n",
    "name_field = (806, 307)\n",
    "submit_button = (800, 769)\n",
    "submit_button_color = (119,119,119)\n",
    "submit_another_link = (813,224)\n",
    "\n",
    "form_data = [{'name': 'Alice', 'fear': 'eavesdroppers', 'source': 'wand',\n",
    "             'robocop': 4, 'comments': 'Tell Bob I said hi.'},\n",
    "             {'name': 'Bob', 'fear': 'bees', 'source': 'amulet', 'robocop': 4,\n",
    "             'comments': 'n/a'},\n",
    "             {'name': 'Carol', 'fear': 'puppets', 'source': 'crystal ball',\n",
    "             'robocop': 1, 'comments': 'Please take the puppets out of the break room.'},\n",
    "             {'name': 'Alex Murphy', 'fear': 'ED-209', 'source': 'money',\n",
    "             'robocop': 5, 'comments': 'Protect the innocent. Serve the public trust. Uphold the law.'},]\n",
    "\n",
    "pyautogui.PAUSE = 0.5\n",
    "\n",
    "for person in form_data:\n",
    "    # ユーザーがスクリプトを中断する機会を与える\n",
    "    print('>>> 5秒間一時停止中。中断するにはCtrl-Cを押してください。<<<')\n",
    "    time.sleep(5) #フォームページが読み込まれるのを待つ\n",
    "    while not pyautogui.pixelMatchesColor(submit_button[0], submit_button[1], submit_button_color):\n",
    "        time.sleep(0.5)\n",
    "\n",
    "    print('{}の情報を入力中...'.format(person['name']))\n",
    "    pyautogui.click(name_field[0], name_field[1]) \n",
    "\n",
    "    # Name欄を入力する\n",
    "    pyautogui.typewrite(person['name'] + '\\t') \n",
    "\n",
    "    # Greatest Fear(s)欄を入力する\n",
    "    pyautogui.typewrite(person['fear'] + '\\t') \n",
    "\n",
    "    # Source of Wizard Powers欄を選択する\n",
    "    time.sleep(0.5)\n",
    "    pyautogui.press('enter')\n",
    "    time.sleep(0.5)\n",
    "    \n",
    "    if person['source'] == 'wand':\n",
    "        pyautogui.typewrite(['down'],interval = 0.5)\n",
    "    elif person['source'] == 'amulet':\n",
    "        pyautogui.typewrite(['down', 'down'],interval = 0.5)\n",
    "    elif person['source'] == 'crystal ball':\n",
    "        pyautogui.typewrite(['down', 'down', 'down'],interval = 0.5)\n",
    "    elif person['source'] == 'money':\n",
    "        pyautogui.typewrite(['down', 'down', 'down', 'down'],interval = 0.5)\n",
    "        \n",
    "    time.sleep(0.5)\n",
    "    pyautogui.press('enter')\n",
    "    time.sleep(0.5)\n",
    "    pyautogui.press('tab')\n",
    "\n",
    "    # RoboCop欄を選択する\n",
    "    if person['robocop'] == 1: \n",
    "        pyautogui.typewrite([' ', '\\t'])\n",
    "    elif person['robocop'] == 2:\n",
    "        pyautogui.typewrite(['right', '\\t'])\n",
    "    elif person['robocop'] == 3:\n",
    "        pyautogui.typewrite(['right', 'right', '\\t'])\n",
    "    elif person['robocop'] == 4:\n",
    "        pyautogui.typewrite(['right', 'right', 'right', '\\t'])\n",
    "    elif person['robocop'] == 5:\n",
    "        pyautogui.typewrite(['right', 'right', 'right', 'right', '\\t'])\n",
    "        \n",
    "    time.sleep(0.5)\n",
    "\n",
    "    # Additional Comments欄を入力する\n",
    "    pyperclip.copy(person['comments'])\n",
    "    pyautogui.keyDown('ctrl')\n",
    "    pyautogui.keyDown('v')\n",
    "    pyautogui.keyUp('v')\n",
    "    pyautogui.keyUp('ctrl')\n",
    "    \n",
    "    time.sleep(0.5)\n",
    "    pyautogui.press('tab')\n",
    "    \n",
    "    # Submitをクリックする\n",
    "    pyautogui.press('enter')\n",
    "\n",
    "    # 次のページが読み込まれるのを待つ\n",
    "    print('送信ボタンを押しました。')\n",
    "    time.sleep(5)\n",
    "\n",
    "    # Submit another responseリンクをクリックする\n",
    "    pyautogui.click(submit_another_link[0], submit_another_link[1])"
   ]
  },
  {
   "cell_type": "markdown",
   "metadata": {},
   "source": [
    "## 18.13 演習プロジェクト\n",
    "### 18.13.1 忙しそうに見せる\n",
    "定期的にマウスを動かす"
   ]
  },
  {
   "cell_type": "code",
   "execution_count": 20,
   "metadata": {},
   "outputs": [
    {
     "name": "stdout",
     "output_type": "stream",
     "text": [
      "10秒ごとにマウスカーソルを左右に少し動かします。\n"
     ]
    }
   ],
   "source": [
    "import pyautogui\n",
    "import time\n",
    "\n",
    "print('''10秒ごとにマウスカーソルを左右に少し動かします。''')\n",
    "n=0\n",
    "\n",
    "try:\n",
    "    dir = -1\n",
    "    while True:\n",
    "        if n>10:\n",
    "            break\n",
    "        n=n+1\n",
    "        \n",
    "        time.sleep(1)\n",
    "        pyautogui.moveRel(dir, 0)\n",
    "        dir = - dir\n",
    "\n",
    "except KeyboardInterrupt:\n",
    "    print('終了')"
   ]
  },
  {
   "cell_type": "markdown",
   "metadata": {},
   "source": [
    "### 18.13.2 インスタントメッセンジャーのボット"
   ]
  },
  {
   "cell_type": "code",
   "execution_count": null,
   "metadata": {},
   "outputs": [],
   "source": [
    "#  Google Talkがサービス終了のため、代わりにGoogleハングアウトを使って\n",
    "#  複数ユーザにメッセージを送信するプログラム。\n",
    "#\n",
    "#  あらかじめ、Googleハングアウトの画面から、送信する相手のアイコンや名前の\n",
    "#  部分を切り取って、user1.png、user2.png、... という名前のPNGファイルとして\n",
    "#  保存してください。\n",
    "#  切り取る箇所は、guide.pngの赤い枠の部分を参照してください。\n",
    "#  このとき、ユーザを選択せず、背景を白いままにしてください。\n",
    "#  選択して背景がグレーになった画像だと、うまくマッチできません。\n",
    "#\n",
    "#  Googleハングアウトのウィンドウを表示した状態で、\n",
    "#  次のように本プログラムを実行すると、画像にマッチするユーザに\n",
    "#  順番にメッセージを送信することができます。\n",
    "#     python imbot.py メッセージ\n",
    "#  動作中は、マウスを触らないようにしてください。\n",
    "#\n",
    "\n",
    "import pyautogui\n",
    "import pyperclip\n",
    "import sys\n",
    "import os\n",
    "import re\n",
    "\n",
    "# pyautogui.typewrite()では日本語を入力できないので、\n",
    "# クリップボード経由でペーストする\n",
    "def mytypewrite(s):\n",
    "    saved_clipboard = pyperclip.paste()\n",
    "    pyperclip.copy(s)\n",
    "    pyautogui.hotkey('ctrl', 'v')\n",
    "    pyperclip.copy(saved_clipboard)\n",
    "\n",
    "# 画像を見つけて、クリックする。見つからなければFalseを返す。\n",
    "def click_image(image):\n",
    "    position = pyautogui.locateOnScreen(image)\n",
    "    if not position:\n",
    "        return False\n",
    "    position = pyautogui.center(position)\n",
    "    pyautogui.click(position)\n",
    "    return True\n",
    "\n",
    "# ユーザをクリックして、メッセージを送信する。\n",
    "def send_message(username, message):\n",
    "    for i in range(2):\n",
    "        if click_image(username):\n",
    "            # 画像が見つかれば、メッセージを送信する。\n",
    "            print('{}に送信中。'.format(username))\n",
    "            mytypewrite(message)\n",
    "            pyautogui.typewrite('\\n')\n",
    "            return\n",
    "        elif click_image('newconv.png'):\n",
    "            # 画像がマッチしなければ、ユーザが選択中で背景がグレーに\n",
    "            # なっていることが考えられるので、いったん、 \n",
    "            #「新しい会話」をクリックして、選択を解除して背景を白くする。\n",
    "            # そして、もう1回だけリトライする\n",
    "            continue\n",
    "        else:\n",
    "            # 「新しい会話」(newconv.png)が見つからない場合は、\n",
    "            # みなさんの環境で新しい会話の部分を切り取ってnewconv.pngとして\n",
    "            # 保存しなおしてください。\n",
    "            print('「新しい会話」が見つかりません。中止します。')\n",
    "            return\n",
    "\n",
    "    print('{}に送れませんでした。'.format(username))\n",
    "\n",
    "if len(sys.argv) < 2:\n",
    "    sys.exit('使い方: python imbot.py メッセージ')\n",
    "\n",
    "message = ' '.join(sys.argv[1:])\n",
    "\n",
    "for filename in os.listdir('./'):\n",
    "    if re.match(r'user.*\\.png', filename, re.I):\n",
    "        send_message(filename, message)\n"
   ]
  },
  {
   "cell_type": "markdown",
   "metadata": {},
   "source": [
    "### 18.13.3 ゲームを操作するボットのチュートリアル"
   ]
  },
  {
   "cell_type": "code",
   "execution_count": null,
   "metadata": {},
   "outputs": [],
   "source": [
    "#Chromeの画面の大きさ80%で動作可能\n",
    "#url:https://www.miniclip.com/games/sushi-go-round/en/\n",
    "\n",
    "\"\"\"Sushi Go Round Bot\n",
    "Al Sweigart al@inventwithpython.com @AlSweigart\n",
    "\n",
    "A bot program to automatically play the Sushi Go Round flash game at http://miniclip.com/games/sushi-go-round/en/\n",
    "\"\"\"\n",
    "\n",
    "import pyautogui, time, os, logging, sys, random, copy\n",
    "\n",
    "logging.basicConfig(level=logging.DEBUG, format='%(asctime)s.%(msecs)03d: %(message)s', datefmt='%H:%M:%S')\n",
    "#logging.disable(logging.DEBUG) # uncomment to block debug log messages\n",
    "\n",
    "os.chdir('C:\\\\Users\\\\nakam\\\\Python\\\\Data\\\\Boring_Python\\\\18.13.3')\n",
    "\n",
    "# Food order constants (don't change these: the image filenames depend on these specific values)\n",
    "ONIGIRI = 'onigiri'\n",
    "GUNKAN_MAKI = 'gunkan_maki'\n",
    "CALIFORNIA_ROLL = 'california_roll'\n",
    "SALMON_ROLL = 'salmon_roll'\n",
    "SHRIMP_SUSHI = 'shrimp_sushi'\n",
    "UNAGI_ROLL = 'unagi_roll'\n",
    "DRAGON_ROLL = 'dragon_roll'\n",
    "COMBO = 'combo'\n",
    "ALL_ORDER_TYPES = (ONIGIRI, GUNKAN_MAKI, CALIFORNIA_ROLL, SALMON_ROLL, SHRIMP_SUSHI, UNAGI_ROLL, DRAGON_ROLL, COMBO)\n",
    "\n",
    "# Ingredient constants (don't change these: the image filenames depend on these specific values)\n",
    "SHRIMP = 'shrimp'\n",
    "RICE = 'rice'\n",
    "NORI = 'nori'\n",
    "ROE = 'roe'\n",
    "SALMON = 'salmon'\n",
    "UNAGI = 'unagi'\n",
    "RECIPE = {ONIGIRI:         {RICE: 2, NORI: 1},\n",
    "          CALIFORNIA_ROLL: {RICE: 1, NORI: 1, ROE: 1},\n",
    "          GUNKAN_MAKI:     {RICE: 1, NORI: 1, ROE: 2},\n",
    "          SALMON_ROLL:     {RICE: 1, NORI: 1, SALMON: 2},\n",
    "          SHRIMP_SUSHI:    {RICE: 1, NORI: 1, SHRIMP: 2},\n",
    "          UNAGI_ROLL:      {RICE: 1, NORI: 1, UNAGI: 2},\n",
    "          DRAGON_ROLL:     {RICE: 2, NORI: 1, ROE: 1, UNAGI: 2},\n",
    "          COMBO:           {RICE: 2, NORI: 1, ROE: 1, SALMON: 1, UNAGI: 1, SHRIMP: 1},}\n",
    "\n",
    "LEVEL_WIN_MESSAGE = 'win' # checkForGameOver() returns this value if the level has been won\n",
    "\n",
    "# Settings\n",
    "MIN_INGREDIENTS = 4 # if an ingredient gets below this value, order more\n",
    "PLATE_CLEARING_FREQ = 8 # plates are cleared every this number of seconds, roughly\n",
    "NORMAL_RESTOCK_TIME = 7 # the number of seconds it takes to restock inventory after ordering it (at normal speed, not express)\n",
    "TIME_TO_REMAKE = 30 # if an order goes unfilled for this number of seconds, remake it\n",
    "\n",
    "# Global variables\n",
    "LEVEL = 1 # current level being played\n",
    "INVENTORY = {SHRIMP: 5, RICE: 10,\n",
    "             NORI: 10,  ROE: 10,\n",
    "             SALMON: 5, UNAGI: 5}\n",
    "ORDERING_COMPLETE = {SHRIMP: None, RICE: None, NORI: None, ROE: None, SALMON: None, UNAGI: None} # unix timestamp when an ordered ingredient will have arrived\n",
    "ROLLING_COMPLETE = 0 # unix timestamp of when the rolling of the mat will have completed\n",
    "LAST_PLATE_CLEARING = 0 # unix timestamp of the last time the plates were cleared\n",
    "LAST_GAME_OVER_CHECK = 0 # unix timestamp when we last checked for the Game Over or You Win messages\n",
    "\n",
    "# various coordinates of objects in the game\n",
    "GAME_REGION = () # (left, top, width, height) values coordinates of the entire game window\n",
    "INGRED_COORDS = None\n",
    "PHONE_COORDS = None\n",
    "TOPPING_COORDS = None\n",
    "ORDER_BUTTON_COORDS = None\n",
    "RICE1_COORDS = None\n",
    "RICE2_COORDS = None\n",
    "NORMAL_DELIVERY_BUTTON_COORDS = None\n",
    "MAT_COORDS = None\n",
    "\n",
    "\n",
    "def main():\n",
    "    \"\"\"Runs the entire program. The Sushi Go Round game must be visible on the screen and the PLAY button visible.\"\"\"\n",
    "    logging.debug('Program Started. Press Ctrl-C to abort at any time.')\n",
    "    logging.debug('To interrupt mouse movement, move mouse to upper left corner.')\n",
    "    getGameRegion()\n",
    "    navigateStartGameMenu()\n",
    "    setupCoordinates()\n",
    "    startServing()\n",
    "\n",
    "\n",
    "def imPath(filename):\n",
    "    \"\"\"A shortcut for joining the 'images/'' file path, since it is used so often. Returns the filename with 'images/' prepended.\"\"\"\n",
    "    return os.path.join('images', filename)\n",
    "\n",
    "\n",
    "def getGameRegion():\n",
    "    \"\"\"Obtains the region that the Sushi Go Round game is on the screen and assigns it to GAME_REGION. The game must be at the start screen (where the PLAY button is visible).\"\"\"\n",
    "    global GAME_REGION\n",
    "\n",
    "    # identify the top-left corner\n",
    "    logging.debug('Finding game region...')\n",
    "    region = pyautogui.locateOnScreen(imPath('top_right_corner.png'))\n",
    "    if region is None:\n",
    "        raise Exception('Could not find game on screen. Is the game visible?')\n",
    "\n",
    "    # calculate the region of the entire game\n",
    "    topRightX = region[0] + region[2] # left + width\n",
    "    topRightY = region[1] # top\n",
    "    GAME_REGION = (topRightX - 640, topRightY, 640, 480) # the game screen is always 640 x 480\n",
    "    logging.debug('Game region found: %s' % (GAME_REGION,))\n",
    "\n",
    "\n",
    "def setupCoordinates():\n",
    "    \"\"\"Sets several of the coordinate-related global variables, after acquiring the value for GAME_REGION.\"\"\"\n",
    "    global INGRED_COORDS, PHONE_COORDS, TOPPING_COORDS, ORDER_BUTTON_COORDS, RICE1_COORDS, RICE2_COORDS, NORMAL_DELIVERY_BUTTON_COORDS, MAT_COORDS, LEVEL\n",
    "    INGRED_COORDS = {SHRIMP: (GAME_REGION[0] + 40, GAME_REGION[1] + 335),\n",
    "                     RICE:   (GAME_REGION[0] + 95, GAME_REGION[1] + 335),\n",
    "                     NORI:   (GAME_REGION[0] + 40, GAME_REGION[1] + 385),\n",
    "                     ROE:    (GAME_REGION[0] + 95, GAME_REGION[1] + 385),\n",
    "                     SALMON: (GAME_REGION[0] + 40, GAME_REGION[1] + 425),\n",
    "                     UNAGI:  (GAME_REGION[0] + 95, GAME_REGION[1] + 425),}\n",
    "    PHONE_COORDS = (GAME_REGION[0] + 560, GAME_REGION[1] + 360)\n",
    "    TOPPING_COORDS = (GAME_REGION[0] + 513, GAME_REGION[1] + 269)\n",
    "    ORDER_BUTTON_COORDS = {SHRIMP: (GAME_REGION[0] + 496, GAME_REGION[1] + 222),\n",
    "                           UNAGI:  (GAME_REGION[0] + 578, GAME_REGION[1] + 222),\n",
    "                           NORI:   (GAME_REGION[0] + 496, GAME_REGION[1] + 281),\n",
    "                           ROE:    (GAME_REGION[0] + 578, GAME_REGION[1] + 281),\n",
    "                           SALMON: (GAME_REGION[0] + 496, GAME_REGION[1] + 329),}\n",
    "    RICE1_COORDS = (GAME_REGION[0] + 543, GAME_REGION[1] + 294)\n",
    "    RICE2_COORDS = (GAME_REGION[0] + 545, GAME_REGION[1] + 269)\n",
    "\n",
    "    NORMAL_DELIVERY_BUTTON_COORDS = (GAME_REGION[0] + 495, GAME_REGION[1] + 293)\n",
    "\n",
    "    MAT_COORDS = (GAME_REGION[0] + 190, GAME_REGION[1] + 375)\n",
    "\n",
    "    LEVEL = 1\n",
    "\n",
    "\n",
    "def navigateStartGameMenu():\n",
    "    \"\"\"Performs the clicks to navigate form the start screen (where the PLAY button is visible) to the beginning of the first level.\"\"\"\n",
    "    # Click on everything needed to get past the menus at the start of the game.\n",
    "\n",
    "    # click on Play\n",
    "    logging.debug('Looking for Play button...')\n",
    "    while True: # loop because it could be the blue or pink Play button displayed at the moment.\n",
    "        pos = pyautogui.locateCenterOnScreen(imPath('play_button.png'), region=GAME_REGION)\n",
    "        if pos is not None:\n",
    "            break\n",
    "    pyautogui.click(pos, duration=0.25)\n",
    "    logging.debug('Clicked on Play button.')\n",
    "\n",
    "    # click on Continue\n",
    "    pos = pyautogui.locateCenterOnScreen(imPath('continue_button.png'), region=GAME_REGION)\n",
    "    pyautogui.click(pos, duration=0.25)\n",
    "    logging.debug('Clicked on Continue button.')\n",
    "\n",
    "    # click on Skip\n",
    "    logging.debug('Looking for Skip button...')\n",
    "    while True: # loop because it could be the yellow or red Skip button displayed at the moment.\n",
    "        pos = pyautogui.locateCenterOnScreen(imPath('skip_button.png'), region=GAME_REGION)\n",
    "        if pos is not None:\n",
    "            break\n",
    "    pyautogui.click(pos, duration=0.25)\n",
    "    logging.debug('Clicked on Skip button.')\n",
    "\n",
    "    # click on Continue\n",
    "    pos = pyautogui.locateCenterOnScreen(imPath('continue_button.png'), region=GAME_REGION)\n",
    "    pyautogui.click(pos, duration=0.25)\n",
    "    logging.debug('Clicked on Continue button.')\n",
    "\n",
    "\n",
    "def startServing():\n",
    "    \"\"\"The main game playing function. This function handles all aspects of game play, including identifying orders, making orders, buying ingredients and other features.\"\"\"\n",
    "    global LAST_GAME_OVER_CHECK, INVENTORY, ORDERING_COMPLETE, LEVEL\n",
    "\n",
    "    # Reset all game state variables.\n",
    "    oldOrders = {}\n",
    "    backOrders = {}\n",
    "    remakeOrders = {}\n",
    "    remakeTimes = {}\n",
    "    LAST_GAME_OVER_CHECK = time.time()\n",
    "    ORDERING_COMPLETE = {SHRIMP: None, RICE: None, NORI: None,\n",
    "                         ROE: None, SALMON: None, UNAGI: None}\n",
    "\n",
    "    while True:\n",
    "        # Check for orders, see which are new and which are gone since last time.\n",
    "        currentOrders = getOrders()\n",
    "        added, removed = getOrdersDifference(currentOrders, oldOrders)\n",
    "        if added != {}:\n",
    "            logging.debug('New orders: %s' % (list(added.values())))\n",
    "            for k in added:\n",
    "                remakeTimes[k] = time.time() + TIME_TO_REMAKE\n",
    "        if removed != {}:\n",
    "            logging.debug('Removed orders: %s' % (list(removed.values())))\n",
    "            for k in removed:\n",
    "                del remakeTimes[k]\n",
    "\n",
    "        # Check if the remake times have past, and add those to the remakeOrders dictionary.\n",
    "        for k, remakeTime in copy.copy(remakeTimes).items():\n",
    "            if time.time() > remakeTime:\n",
    "                remakeTimes[k] = time.time() + TIME_TO_REMAKE # reset remake time\n",
    "                remakeOrders[k] = currentOrders[k]\n",
    "                logging.debug('%s added to remake orders.' % (currentOrders[k]))\n",
    "\n",
    "        # Attempt to make the order.\n",
    "        for pos, order in added.items():\n",
    "            result = makeOrder(order)\n",
    "            if result is not None:\n",
    "                orderIngredient(result)\n",
    "                backOrders[pos] = order\n",
    "                logging.debug('Ingredients for %s not available. Putting on back order.' % (order))\n",
    "\n",
    "        # Clear any finished plates.\n",
    "        if random.randint(1, 10) == 1 or time.time() - PLATE_CLEARING_FREQ > LAST_PLATE_CLEARING:\n",
    "            clickOnPlates()\n",
    "\n",
    "        # Check if ingredient orders have arrived.\n",
    "        updateInventory()\n",
    "\n",
    "        # Go through and see if any back orders can be filled.\n",
    "        for pos, order in copy.copy(backOrders).items():\n",
    "            result = makeOrder(order)\n",
    "            if result is None:\n",
    "                del backOrders[pos] # remove from back orders\n",
    "                logging.debug('Filled back order for %s.' % (order))\n",
    "\n",
    "        # Go through and see if any remake orders can be filled.\n",
    "        for pos, order in copy.copy(remakeOrders).items():\n",
    "            if pos not in currentOrders:\n",
    "                del remakeOrders[pos]\n",
    "                logging.debug('Canceled remake order for %s.' % (order))\n",
    "                continue\n",
    "            result = makeOrder(order)\n",
    "            if result is None:\n",
    "                del remakeOrders[pos] # remove from remake orders\n",
    "                logging.debug('Filled remake order for %s.' % (order))\n",
    "\n",
    "        if random.randint(1, 5) == 1:\n",
    "            # order any ingredients that are below the minimum amount\n",
    "            for ingredient, amount in INVENTORY.items():\n",
    "                if amount < MIN_INGREDIENTS:\n",
    "                    orderIngredient(ingredient)\n",
    "\n",
    "        # check for the \"You Win\" or \"You Fail\" messages\n",
    "        if time.time() - 12 > LAST_GAME_OVER_CHECK:\n",
    "            result = checkForGameOver()\n",
    "            if result == LEVEL_WIN_MESSAGE:\n",
    "                # player has completed the level\n",
    "\n",
    "                # Reset inventory and orders.\n",
    "                INVENTORY = {SHRIMP: 5, RICE: 10,\n",
    "                             NORI: 10, ROE: 10,\n",
    "                             SALMON: 5, UNAGI: 5}\n",
    "                ORDERING_COMPLETE = {SHRIMP: None, RICE: None,\n",
    "                                     NORI: None, ROE: None,\n",
    "                                     SALMON: None, UNAGI: None}\n",
    "                backOrders = {}\n",
    "                remakeOrders = {}\n",
    "                currentOrders = {}\n",
    "                oldOrders = {}\n",
    "\n",
    "\n",
    "                logging.debug('Level %s complete.' % (LEVEL))\n",
    "                LEVEL += 1\n",
    "                time.sleep(5) # give another 5 seconds to tally score\n",
    "\n",
    "                # Click buttons to continue to next level.\n",
    "                pos = pyautogui.locateCenterOnScreen(imPath('continue_button.png'), region=GAME_REGION)\n",
    "                pyautogui.click(pos, duration=0.25)\n",
    "                logging.debug('Clicked on Continue button.')\n",
    "                pos = pyautogui.locateCenterOnScreen(imPath('continue_button.png'), region=GAME_REGION)\n",
    "                if LEVEL <= 7: # click the second continue if the game isn't finished.\n",
    "                    pyautogui.click(pos, duration=0.25)\n",
    "                    logging.debug('Clicked on Continue button.')\n",
    "\n",
    "        oldOrders = currentOrders\n",
    "\n",
    "\n",
    "def clickOnPlates():\n",
    "    \"\"\"Clicks the mouse on the six places where finished plates will be flashing. This function does not check for flashing plates, but simply clicks on all six places.\n",
    "\n",
    "    Sets LAST_PLATE_CLEARING to the current time.\"\"\"\n",
    "    global LAST_PLATE_CLEARING\n",
    "\n",
    "    # just blindly click on all the places where a plate should be\n",
    "    for i in range(6):\n",
    "        pyautogui.click(83 + GAME_REGION[0] + (i * 101), GAME_REGION[1] + 203)\n",
    "    LAST_PLATE_CLEARING = time.time()\n",
    "\n",
    "\n",
    "def getOrders():\n",
    "    \"\"\"Scans the screen for orders being made. Returns a dictionary with a (left, top, width, height) tuple of integers for keys and the order constant for a value.\n",
    "\n",
    "    The order constants are ONIGIRI, GUNKAN_MAKI, CALIFORNIA_ROLL, SALMON_ROLL, SHRIMP_SUSHI, UNAGI_ROLL, DRAGON_ROLL, COMBO.\"\"\"\n",
    "    orders = {}\n",
    "    for orderType in (ALL_ORDER_TYPES):\n",
    "        allOrders = pyautogui.locateAllOnScreen(imPath('%s_order.png' % orderType), region=(GAME_REGION[0] + 32, GAME_REGION[1] + 46, 558, 44))\n",
    "        for order in allOrders:\n",
    "            orders[order] = orderType\n",
    "    return orders\n",
    "\n",
    "\n",
    "def getOrdersDifference(newOrders, oldOrders):\n",
    "    \"\"\"Finds the differences between the orders dictionaries passed. Return value is a tuple of two dictionaries.\n",
    "\n",
    "    The first dictionary is the \"added\" dictionary of orders added to newOrders since oldOrders. The second dictionary is the \"removed\" dictionary of orders in oldOrders but removed in newOrders.\n",
    "\n",
    "    Each dictionary has (left, top, width, height) for keys and an order constant for a value.\"\"\"\n",
    "    added = {}\n",
    "    removed = {}\n",
    "\n",
    "    # find all orders in newOrders that are new and not found in oldOrders\n",
    "    for k in newOrders:\n",
    "        if k not in oldOrders:\n",
    "            added[k] = newOrders[k]\n",
    "    # find all orders in oldOrders that were removed and not found in newOrders\n",
    "    for k in oldOrders:\n",
    "        if k not in newOrders:\n",
    "            removed[k] = oldOrders[k]\n",
    "\n",
    "    return added, removed\n",
    "\n",
    "\n",
    "def makeOrder(orderType):\n",
    "    \"\"\"Does the mouse clicks needed to create an order.\n",
    "\n",
    "    The orderType parameter has the value of one of the ONIGIRI, GUNKAN_MAKI, CALIFORNIA_ROLL, SALMON_ROLL, SHRIMP_SUSHI, UNAGI_ROLL, DRAGON_ROLL, COMBO constants.\n",
    "\n",
    "    The INVENTORY global variable is updated in this function for orders made.\n",
    "\n",
    "    The return value is None for a successfully made order, or the string of an ingredient constant if that needed ingredient is missing.\"\"\"\n",
    "    global ROLLING_COMPLETE, INGRED_COORDS, INVENTORY\n",
    "\n",
    "    # wait until the mat is clear. The previous order could still be there if the conveyor belt has been full or the mat is currently rolling.\n",
    "    while time.time() < ROLLING_COMPLETE and pyautogui.locateOnScreen(imPath('clear_mat.png'), region=(GAME_REGION[0] + 115, GAME_REGION[1] + 295, 220, 175)) is None:\n",
    "        time.sleep(0.1)\n",
    "\n",
    "    # check that all ingredients are available in the inventory.\n",
    "    for ingredient, amount in RECIPE[orderType].items():\n",
    "        if INVENTORY[ingredient] < amount:\n",
    "            logging.debug('More %s is needed to make %s.' % (ingredient, orderType))\n",
    "            return ingredient\n",
    "\n",
    "    # click on each of the ingredients\n",
    "    for ingredient, amount in RECIPE[orderType].items():\n",
    "        for i in range(amount):\n",
    "            pyautogui.click(INGRED_COORDS[ingredient], duration=0.25)\n",
    "            INVENTORY[ingredient] -= 1\n",
    "    findAndClickPlatesOnBelt() # get rid of any left over meals on the conveyor belt, which may stall this meal from being loaded on the belt\n",
    "    pyautogui.click(MAT_COORDS, duration=0.25) # click the rolling mat to make the order\n",
    "    logging.debug('Made a %s order.' % (orderType))\n",
    "    ROLLING_COMPLETE = time.time() + 1.5 # give the mat enough time (1.5 seconds) to finish rolling before being used again\n",
    "\n",
    "\n",
    "def findAndClickPlatesOnBelt():\n",
    "    \"\"\"Find any plates on the conveyor belt that can be removed and click on them to remove them. This will get rid of excess orders.\"\"\"\n",
    "    for color in ('pink', 'blue', 'red'):\n",
    "        result = pyautogui.locateCenterOnScreen(imPath('%s_plate_color.png' % (color)), region=(GAME_REGION[0] + 343, GAME_REGION[1] + 300, 50, 100))\n",
    "        if result is not None:\n",
    "            pyautogui.click(result)\n",
    "            logging.debug('Clicked on %s plate on belt at X: %s Y: %s' % (color, result[0], result[1]))\n",
    "\n",
    "\n",
    "def orderIngredient(ingredient):\n",
    "    \"\"\"Do the clicks to purchase an ingredient. If successful, the ORDERING_COMPLETE dictionary is updated for when the ingredients will arive and INVENTORY can be updated. (This is handled in the updateInventory() function.)\"\"\"\n",
    "    logging.debug('Ordering more %s (inventory says %s left)...' % (ingredient, INVENTORY[ingredient]))\n",
    "    pyautogui.click(PHONE_COORDS, duration=0.25)\n",
    "\n",
    "    if ingredient == RICE and ORDERING_COMPLETE[RICE] is None:\n",
    "        # Order rice.\n",
    "        pyautogui.click(RICE1_COORDS, duration=0.25)\n",
    "\n",
    "        # Check if we can't afford the rice\n",
    "        if pyautogui.locateOnScreen(imPath('cant_afford_rice.png'), region=(GAME_REGION[0] + 498, GAME_REGION[1] + 242, 90, 75)):\n",
    "            logging.debug(\"Can't afford rice. Canceling.\")\n",
    "            pyautogui.click(GAME_REGION[0] + 585, GAME_REGION[1] + 335, duration=0.25) # click cancel phone button\n",
    "            return\n",
    "\n",
    "        # Purchase the rice\n",
    "        pyautogui.click(RICE2_COORDS, duration=0.25)\n",
    "        pyautogui.click(NORMAL_DELIVERY_BUTTON_COORDS, duration=0.25)\n",
    "        ORDERING_COMPLETE[RICE] = time.time() + NORMAL_RESTOCK_TIME\n",
    "        logging.debug('Ordered more %s' % (RICE))\n",
    "        return\n",
    "\n",
    "    elif ORDERING_COMPLETE[ingredient] is None:\n",
    "        # Order non-rice ingredient.\n",
    "        pyautogui.click(TOPPING_COORDS, duration=0.25)\n",
    "\n",
    "        # Check if we can't afford the ingredient\n",
    "        if pyautogui.locateOnScreen(imPath('cant_afford_%s.png' % (ingredient)), region=(GAME_REGION[0] + 446, GAME_REGION[1] + 187, 180, 180)):\n",
    "            logging.debug(\"Can't afford %s. Canceling.\" % (ingredient))\n",
    "            pyautogui.click(GAME_REGION[0] + 597, GAME_REGION[1] + 337, duration=0.25) # click cancel phone button\n",
    "            return\n",
    "\n",
    "        # Order the ingredient\n",
    "        pyautogui.click(ORDER_BUTTON_COORDS[ingredient], duration=0.25)\n",
    "        pyautogui.click(NORMAL_DELIVERY_BUTTON_COORDS, duration=0.25)\n",
    "        ORDERING_COMPLETE[ingredient] = time.time() + NORMAL_RESTOCK_TIME\n",
    "        logging.debug('Ordered more %s' % (ingredient))\n",
    "        return\n",
    "\n",
    "    # The ingredient has already been ordered, so close the phone menu.\n",
    "    pyautogui.click(GAME_REGION[0] + 589, GAME_REGION[1] + 341) # click cancel phone button\n",
    "    logging.debug('Already ordered %s.' % (ingredient))\n",
    "\n",
    "\n",
    "def updateInventory():\n",
    "    \"\"\"Check if any ordered ingredients have arrived by looking at the timestamps in ORDERING_COMPLETE.\n",
    "    Update INVENTORY global variable with the new quantities.\"\"\"\n",
    "    for ingredient in INVENTORY:\n",
    "        if ORDERING_COMPLETE[ingredient] is not None and time.time() > ORDERING_COMPLETE[ingredient]:\n",
    "            ORDERING_COMPLETE[ingredient] = None\n",
    "            if ingredient in (SHRIMP, UNAGI, SALMON):\n",
    "                INVENTORY[ingredient] += 5\n",
    "            elif ingredient in (NORI, ROE, RICE):\n",
    "                INVENTORY[ingredient] += 10\n",
    "            logging.debug('Updated inventory with added %s:' % (ingredient))\n",
    "            logging.debug(INVENTORY)\n",
    "\n",
    "\n",
    "def checkForGameOver():\n",
    "    \"\"\"Checks the screen for the \"You Win\" or \"You Fail\" message.\n",
    "\n",
    "    On winning, returns the string in LEVEL_WIN_MESSAGE.\n",
    "\n",
    "    On losing, the program terminates.\"\"\"\n",
    "\n",
    "    # check for \"You Win\" message\n",
    "    result = pyautogui.locateOnScreen(imPath('you_win.png'), region=(GAME_REGION[0] + 188, GAME_REGION[1] + 94, 262, 60))\n",
    "    if result is not None:\n",
    "        pyautogui.click(pyautogui.center(result))\n",
    "        return LEVEL_WIN_MESSAGE\n",
    "\n",
    "    # check for \"You Fail\" message\n",
    "    result = pyautogui.locateOnScreen(imPath('you_failed.png'), region=(GAME_REGION[0] + 167, GAME_REGION[1] + 133, 314, 39))\n",
    "    if result is not None:\n",
    "        logging.debug('Game over. Quitting.')\n",
    "        sys.exit()\n",
    "\n",
    "        \n",
    "\n",
    "if __name__ == '__main__':\n",
    "    main()"
   ]
  }
 ],
 "metadata": {
  "kernelspec": {
   "display_name": "Python 3",
   "language": "python",
   "name": "python3"
  },
  "language_info": {
   "codemirror_mode": {
    "name": "ipython",
    "version": 3
   },
   "file_extension": ".py",
   "mimetype": "text/x-python",
   "name": "python",
   "nbconvert_exporter": "python",
   "pygments_lexer": "ipython3",
   "version": "3.7.4"
  }
 },
 "nbformat": 4,
 "nbformat_minor": 2
}
