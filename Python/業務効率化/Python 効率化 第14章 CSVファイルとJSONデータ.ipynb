{
 "cells": [
  {
   "cell_type": "markdown",
   "metadata": {},
   "source": [
    "# 第14章 CSVファイルとJSONデータ\n",
    "## 14.1 CSVモジュール\n",
    "### 14.1.1 Readerオブジェクト"
   ]
  },
  {
   "cell_type": "code",
   "execution_count": 1,
   "metadata": {},
   "outputs": [
    {
     "data": {
      "text/plain": [
       "[['4/5/2014 13:34', 'Apples', '73'],\n",
       " ['4/5/2014 3:41', 'Cherries', '85'],\n",
       " ['4/6/2014 12:46', 'Pears', '14'],\n",
       " ['4/8/2014 8:59', 'Oranges', '52'],\n",
       " ['4/10/2014 2:07', 'Apples', '152'],\n",
       " ['4/10/2014 18:10', 'Bananas', '23'],\n",
       " ['4/10/2014 2:40', 'Strawberries', '98']]"
      ]
     },
     "execution_count": 1,
     "metadata": {},
     "output_type": "execute_result"
    }
   ],
   "source": [
    "import csv\n",
    "\n",
    "file='C:\\\\Users\\\\nakam\\\\Python\\\\Data\\\\Boring_Python\\\\14.1.1\\\\example.csv'\n",
    "\n",
    "example_file=open(file)\n",
    "example_reader=csv.reader(example_file) #readerオブジェクトを取得\n",
    "example_data=list(example_reader) #listにすることでアクセス可能\n",
    "example_data"
   ]
  },
  {
   "cell_type": "code",
   "execution_count": 2,
   "metadata": {},
   "outputs": [
    {
     "data": {
      "text/plain": [
       "'Apples'"
      ]
     },
     "execution_count": 2,
     "metadata": {},
     "output_type": "execute_result"
    }
   ],
   "source": [
    "example_data[0][1]"
   ]
  },
  {
   "cell_type": "markdown",
   "metadata": {},
   "source": [
    "### 14.1.2 forループでReaderオブジェクトからデータを呼び出す"
   ]
  },
  {
   "cell_type": "code",
   "execution_count": 3,
   "metadata": {},
   "outputs": [
    {
     "name": "stdout",
     "output_type": "stream",
     "text": [
      "Row #1 ['4/5/2014 13:34', 'Apples', '73']\n",
      "Row #2 ['4/5/2014 3:41', 'Cherries', '85']\n",
      "Row #3 ['4/6/2014 12:46', 'Pears', '14']\n",
      "Row #4 ['4/8/2014 8:59', 'Oranges', '52']\n",
      "Row #5 ['4/10/2014 2:07', 'Apples', '152']\n",
      "Row #6 ['4/10/2014 18:10', 'Bananas', '23']\n",
      "Row #7 ['4/10/2014 2:40', 'Strawberries', '98']\n"
     ]
    }
   ],
   "source": [
    "import csv\n",
    "\n",
    "file='C:\\\\Users\\\\nakam\\\\Python\\\\Data\\\\Boring_Python\\\\14.1.1\\\\example.csv'\n",
    "\n",
    "example_file=open(file)\n",
    "example_reader=csv.reader(example_file)\n",
    "for row in example_reader:\n",
    "    print('Row #'+str(example_reader.line_num)+' '+str(row)) #line_num変数で行番号を取得可能"
   ]
  },
  {
   "cell_type": "markdown",
   "metadata": {},
   "source": [
    "### 14.1.3 Writerオブジェクト"
   ]
  },
  {
   "cell_type": "code",
   "execution_count": 4,
   "metadata": {},
   "outputs": [],
   "source": [
    "#CSVに書き込む方法は以下\n",
    "\n",
    "file='C:\\\\Users\\\\nakam\\\\Python\\\\Data\\\\Boring_Python\\\\14.1.3\\\\example.csv'\n",
    "\n",
    "output_file=open(file,'w',newline='') #newlineを忘れると一行あいて出力されていく\n",
    "output_writer=csv.writer(output_file) #Writerオブジェクトを生成\n",
    "output_writer.writerow(['spam','eggs','bacon']) #1行目に出力\n",
    "output_writer.writerow([1,2,3])                 #2行目に出力\n",
    "output_file.close()"
   ]
  },
  {
   "cell_type": "markdown",
   "metadata": {},
   "source": [
    "### 14.1.4 キーワード引数delimiterとlineterminator"
   ]
  },
  {
   "cell_type": "code",
   "execution_count": 5,
   "metadata": {},
   "outputs": [],
   "source": [
    "file='C:\\\\Users\\\\nakam\\\\Python\\\\Data\\\\Boring_Python\\\\14.1.4\\\\example.tsv'\n",
    "\n",
    "output_file=open(file,'w',newline='') #newlineを忘れると一行あいて出力されていく\n",
    "output_writer=csv.writer(output_file,delimiter='\\t', #タブ区切りに設定\n",
    "                        lineterminator='\\n\\n\\n') #行間を開ける\n",
    "output_writer.writerow(['spam','eggs','bacon']) #1行目に出力\n",
    "output_writer.writerow([1,2,3])                 #2行目に出力\n",
    "output_file.close()"
   ]
  },
  {
   "cell_type": "markdown",
   "metadata": {},
   "source": [
    "## 14.2 プロジェクト : CSVファイルから見出しを削除する\n",
    "フォルダ内のCSVのヘッダーを削除する"
   ]
  },
  {
   "cell_type": "code",
   "execution_count": 6,
   "metadata": {},
   "outputs": [
    {
     "name": "stdout",
     "output_type": "stream",
     "text": [
      "見出し削除中 NAICS_data_1048.csv...\n",
      "見出し削除中 NAICS_data_1218.csv...\n",
      "見出し削除中 NAICS_data_1657.csv...\n",
      "見出し削除中 NAICS_data_1751.csv...\n",
      "見出し削除中 NAICS_data_1814.csv...\n",
      "見出し削除中 NAICS_data_1817.csv...\n",
      "見出し削除中 NAICS_data_1889.csv...\n",
      "見出し削除中 NAICS_data_1952.csv...\n",
      "見出し削除中 NAICS_data_1973.csv...\n",
      "見出し削除中 NAICS_data_2066.csv...\n",
      "見出し削除中 NAICS_data_2092.csv...\n",
      "見出し削除中 NAICS_data_2183.csv...\n",
      "見出し削除中 NAICS_data_2346.csv...\n",
      "見出し削除中 NAICS_data_2427.csv...\n",
      "見出し削除中 NAICS_data_2648.csv...\n",
      "見出し削除中 NAICS_data_2799.csv...\n",
      "見出し削除中 NAICS_data_2828.csv...\n",
      "見出し削除中 NAICS_data_2959.csv...\n",
      "見出し削除中 NAICS_data_2988.csv...\n",
      "見出し削除中 NAICS_data_2993.csv...\n",
      "見出し削除中 NAICS_data_2994.csv...\n",
      "見出し削除中 NAICS_data_3044.csv...\n",
      "見出し削除中 NAICS_data_3073.csv...\n",
      "見出し削除中 NAICS_data_3075.csv...\n",
      "見出し削除中 NAICS_data_3144.csv...\n",
      "見出し削除中 NAICS_data_3197.csv...\n",
      "見出し削除中 NAICS_data_3237.csv...\n",
      "見出し削除中 NAICS_data_3494.csv...\n",
      "見出し削除中 NAICS_data_3495.csv...\n",
      "見出し削除中 NAICS_data_3731.csv...\n",
      "見出し削除中 NAICS_data_4031.csv...\n",
      "見出し削除中 NAICS_data_4125.csv...\n",
      "見出し削除中 NAICS_data_4213.csv...\n",
      "見出し削除中 NAICS_data_4215.csv...\n",
      "見出し削除中 NAICS_data_4329.csv...\n",
      "見出し削除中 NAICS_data_4436.csv...\n",
      "見出し削除中 NAICS_data_4525.csv...\n",
      "見出し削除中 NAICS_data_4610.csv...\n",
      "見出し削除中 NAICS_data_4618.csv...\n",
      "見出し削除中 NAICS_data_4699.csv...\n",
      "見出し削除中 NAICS_data_4896.csv...\n",
      "見出し削除中 NAICS_data_4938.csv...\n",
      "見出し削除中 NAICS_data_5060.csv...\n",
      "見出し削除中 NAICS_data_5092.csv...\n",
      "見出し削除中 NAICS_data_5305.csv...\n",
      "見出し削除中 NAICS_data_5341.csv...\n",
      "見出し削除中 NAICS_data_5364.csv...\n",
      "見出し削除中 NAICS_data_5631.csv...\n",
      "見出し削除中 NAICS_data_5890.csv...\n",
      "見出し削除中 NAICS_data_5899.csv...\n",
      "見出し削除中 NAICS_data_5992.csv...\n",
      "見出し削除中 NAICS_data_6161.csv...\n",
      "見出し削除中 NAICS_data_6181.csv...\n",
      "見出し削除中 NAICS_data_6329.csv...\n",
      "見出し削除中 NAICS_data_6335.csv...\n",
      "見出し削除中 NAICS_data_6397.csv...\n",
      "見出し削除中 NAICS_data_6493.csv...\n",
      "見出し削除中 NAICS_data_6637.csv...\n",
      "見出し削除中 NAICS_data_6700.csv...\n",
      "見出し削除中 NAICS_data_6842.csv...\n",
      "見出し削除中 NAICS_data_6904.csv...\n",
      "見出し削除中 NAICS_data_7028.csv...\n",
      "見出し削除中 NAICS_data_7102.csv...\n",
      "見出し削除中 NAICS_data_7138.csv...\n",
      "見出し削除中 NAICS_data_7226.csv...\n",
      "見出し削除中 NAICS_data_7338.csv...\n",
      "見出し削除中 NAICS_data_7383.csv...\n",
      "見出し削除中 NAICS_data_7388.csv...\n",
      "見出し削除中 NAICS_data_7427.csv...\n",
      "見出し削除中 NAICS_data_7535.csv...\n",
      "見出し削除中 NAICS_data_7642.csv...\n",
      "見出し削除中 NAICS_data_7677.csv...\n",
      "見出し削除中 NAICS_data_7765.csv...\n",
      "見出し削除中 NAICS_data_7830.csv...\n",
      "見出し削除中 NAICS_data_7833.csv...\n",
      "見出し削除中 NAICS_data_7845.csv...\n",
      "見出し削除中 NAICS_data_7913.csv...\n",
      "見出し削除中 NAICS_data_8015.csv...\n",
      "見出し削除中 NAICS_data_8085.csv...\n",
      "見出し削除中 NAICS_data_8131.csv...\n",
      "見出し削除中 NAICS_data_8196.csv...\n",
      "見出し削除中 NAICS_data_8397.csv...\n",
      "見出し削除中 NAICS_data_8403.csv...\n",
      "見出し削除中 NAICS_data_8499.csv...\n",
      "見出し削除中 NAICS_data_8522.csv...\n",
      "見出し削除中 NAICS_data_8545.csv...\n",
      "見出し削除中 NAICS_data_8700.csv...\n",
      "見出し削除中 NAICS_data_8749.csv...\n",
      "見出し削除中 NAICS_data_8760.csv...\n",
      "見出し削除中 NAICS_data_8832.csv...\n",
      "見出し削除中 NAICS_data_9012.csv...\n",
      "見出し削除中 NAICS_data_9066.csv...\n",
      "見出し削除中 NAICS_data_9103.csv...\n",
      "見出し削除中 NAICS_data_9139.csv...\n",
      "見出し削除中 NAICS_data_9165.csv...\n",
      "見出し削除中 NAICS_data_9250.csv...\n",
      "見出し削除中 NAICS_data_9448.csv...\n",
      "見出し削除中 NAICS_data_9825.csv...\n",
      "見出し削除中 NAICS_data_9834.csv...\n",
      "見出し削除中 NAICS_data_9986.csv...\n"
     ]
    }
   ],
   "source": [
    "import csv, os\n",
    "\n",
    "folder='C:\\\\Users\\\\nakam\\\\Python\\\\Data\\\\Boring_Python\\\\14.2'\n",
    "os.chdir(folder)\n",
    "\n",
    "os.makedirs('headerRemoved', exist_ok=True)\n",
    "\n",
    "# カレントディレクトリの全ファイルをループする\n",
    "for csv_filename in os.listdir('.'):\n",
    "    if not csv_filename.endswith('.csv'):\n",
    "        continue # CSVファイルでなければスキップ\n",
    "\n",
    "    print('見出し削除中 ' + csv_filename + '...')\n",
    "\n",
    "    # CSVファイルを読み込む（最初の行をスキップする）\n",
    "    csv_rows = []\n",
    "    csv_file_obj = open(csv_filename)\n",
    "    reader_obj = csv.reader(csv_file_obj)\n",
    "    for row in reader_obj:\n",
    "        if reader_obj.line_num == 1:\n",
    "            continue   # 最初の行をスキップする\n",
    "        csv_rows.append(row)\n",
    "    csv_file_obj.close()\n",
    "\n",
    "    # CSVファイルを書き出す\n",
    "    csv_file_obj = open(os.path.join('headerRemoved', csv_filename), 'w',\n",
    "                newline='')\n",
    "    csv_writer = csv.writer(csv_file_obj)\n",
    "    for row in csv_rows:\n",
    "        csv_writer.writerow(row)\n",
    "    csv_file_obj.close()"
   ]
  },
  {
   "cell_type": "markdown",
   "metadata": {},
   "source": [
    "## 14.3 JSONとAPI"
   ]
  },
  {
   "cell_type": "code",
   "execution_count": 7,
   "metadata": {},
   "outputs": [],
   "source": [
    "#JSON:JAVA Script オブジェクト記法\n",
    "#API : Application Programing Interface(Webサイトのインターフェース)\n",
    "\n",
    "#APIが返すデータはコンピュータが読むためにJSON形式等で整形されている"
   ]
  },
  {
   "cell_type": "markdown",
   "metadata": {},
   "source": [
    "## 14.4 jsonモジュール"
   ]
  },
  {
   "cell_type": "markdown",
   "metadata": {},
   "source": [
    "### 14.4.1 loads()関数を用いてJSONを読み込む"
   ]
  },
  {
   "cell_type": "code",
   "execution_count": 8,
   "metadata": {},
   "outputs": [
    {
     "data": {
      "text/plain": [
       "{'name': 'Zophie', 'isCat': 'true'}"
      ]
     },
     "execution_count": 8,
     "metadata": {},
     "output_type": "execute_result"
    }
   ],
   "source": [
    "#jsonデータをpythonの値に変換\n",
    "string_of_json_data='{\"name\":\"Zophie\",\"isCat\":\"true\"}'\n",
    "\n",
    "import json\n",
    "json_data_as_python_value=json.loads(string_of_json_data) #loads()にjsonデータを渡す\n",
    "json_data_as_python_value"
   ]
  },
  {
   "cell_type": "markdown",
   "metadata": {},
   "source": [
    "### 14.4.2 dumps()関数を用いてJSONを書き出す"
   ]
  },
  {
   "cell_type": "code",
   "execution_count": 9,
   "metadata": {},
   "outputs": [
    {
     "data": {
      "text/plain": [
       "'{\"name\": \"Zophie\", \"isCat\": \"true\"}'"
      ]
     },
     "execution_count": 9,
     "metadata": {},
     "output_type": "execute_result"
    }
   ],
   "source": [
    "#pythonの値をjsonデータに変換\n",
    "python_value={'name': 'Zophie', 'isCat': 'true'}\n",
    "string_of_json_data1=json.dumps(python_value)\n",
    "string_of_json_data1"
   ]
  },
  {
   "cell_type": "markdown",
   "metadata": {},
   "source": [
    "## 14.5 プロジェクト : 現在の天気予報データを取得する"
   ]
  },
  {
   "cell_type": "code",
   "execution_count": 10,
   "metadata": {},
   "outputs": [
    {
     "name": "stdout",
     "output_type": "stream",
     "text": [
      "Sydney\n",
      "取得したデータは以下\n",
      "{'message': 'accurate', 'cod': '200', 'count': 4, 'list': [{'id': 2147714, 'name': 'Sydney', 'coord': {'lat': -33.8679, 'lon': 151.2073}, 'main': {'temp': 25.07, 'feels_like': 27.94, 'temp_min': 23.89, 'temp_max': 26.11, 'pressure': 1012, 'humidity': 83}, 'dt': 1579950545, 'wind': {'speed': 2.6, 'deg': 40}, 'sys': {'country': 'AU'}, 'rain': None, 'snow': None, 'clouds': {'all': 75}, 'weather': [{'id': 803, 'main': 'Clouds', 'description': 'broken clouds', 'icon': '04n'}]}, {'id': 6354908, 'name': 'Sydney', 'coord': {'lat': 46.1351, 'lon': -60.1831}, 'main': {'temp': -11.09, 'feels_like': -15.12, 'temp_min': -15.56, 'temp_max': -6.67, 'pressure': 1034, 'humidity': 84}, 'dt': 1579950929, 'wind': {'speed': 1.08, 'deg': 299}, 'sys': {'country': 'CA'}, 'rain': None, 'snow': None, 'clouds': {'all': 75}, 'weather': [{'id': 803, 'main': 'Clouds', 'description': 'broken clouds', 'icon': '04n'}]}, {'id': 6160752, 'name': 'Sydney', 'coord': {'lat': 46.1501, 'lon': -60.1818}, 'main': {'temp': -11.38, 'feels_like': -15.43, 'temp_min': -15.56, 'temp_max': -8.33, 'pressure': 1034, 'humidity': 84}, 'dt': 1579950928, 'wind': {'speed': 1.08, 'deg': 299}, 'sys': {'country': 'CA'}, 'rain': None, 'snow': None, 'clouds': {'all': 75}, 'weather': [{'id': 803, 'main': 'Clouds', 'description': 'broken clouds', 'icon': '04n'}]}, {'id': 6619279, 'name': 'City of Sydney', 'coord': {'lat': -33.8678, 'lon': 151.2084}, 'main': {'temp': 25.08, 'feels_like': 27.95, 'temp_min': 23.89, 'temp_max': 26.11, 'pressure': 1012, 'humidity': 83}, 'dt': 1579950998, 'wind': {'speed': 2.6, 'deg': 40}, 'sys': {'country': 'AU'}, 'rain': None, 'snow': None, 'clouds': {'all': 75}, 'weather': [{'id': 803, 'main': 'Clouds', 'description': 'broken clouds', 'icon': '04n'}]}]}\n",
      "\n",
      "\n",
      "Sydneyの現在の天気：\n",
      "Clouds - broken clouds\n",
      "\n",
      "明日\n",
      "Clouds - broken clouds\n",
      "\n",
      "明後日\n",
      "Clouds - broken clouds\n",
      "\n"
     ]
    }
   ],
   "source": [
    "import json, requests, sys\n",
    "\n",
    "location=input()\n",
    "APPID='3ef9e9d4094c498f59f1dce964bf73fe'\n",
    "url='http://api.openweathermap.org/data/2.5/find?q={}&units=metric&APPID={}'.format(location,APPID)\n",
    "response=requests.get(url)\n",
    "response.raise_for_status()\n",
    "\n",
    "weather_data=json.loads(response.text)\n",
    "print('取得したデータは以下')\n",
    "print(weather_data)\n",
    "print('')\n",
    "print('')\n",
    "\n",
    "w=weather_data['list']\n",
    "\n",
    "print('{}の現在の天気：'.format(location))\n",
    "print(w[0]['weather'][0]['main'],'-',w[0]['weather'][0]['description'])\n",
    "print()\n",
    "print('明日')\n",
    "print(w[1]['weather'][0]['main'],'-',w[1]['weather'][0]['description'])\n",
    "print()\n",
    "print('明後日')\n",
    "print(w[2]['weather'][0]['main'],'-',w[2]['weather'][0]['description'])\n",
    "\n",
    "print()"
   ]
  },
  {
   "cell_type": "markdown",
   "metadata": {},
   "source": [
    "## 14.8 演習プロジェクト\n",
    "### 14.8.1 ExcelからCSVへの変換\n",
    "複数シートがあれば、別のCSVファイルを作成"
   ]
  },
  {
   "cell_type": "code",
   "execution_count": 11,
   "metadata": {},
   "outputs": [
    {
     "name": "stderr",
     "output_type": "stream",
     "text": [
      "C:\\Users\\nakam\\Anaconda3\\lib\\site-packages\\ipykernel_launcher.py:15: DeprecationWarning: Call to deprecated function get_sheet_names (Use wb.sheetnames).\n",
      "  from ipykernel import kernelapp as app\n",
      "C:\\Users\\nakam\\Anaconda3\\lib\\site-packages\\ipykernel_launcher.py:17: DeprecationWarning: Call to deprecated function get_sheet_by_name (Use wb[sheetname]).\n"
     ]
    }
   ],
   "source": [
    "import openpyxl\n",
    "import sys\n",
    "import os\n",
    "import csv\n",
    "\n",
    "folder='C:\\\\Users\\\\nakam\\\\Python\\\\Data\\\\Boring_Python\\\\14.8'\n",
    "os.chdir(folder)\n",
    "\n",
    "for excel_file in os.listdir('.'):\n",
    "    # xlsxファイルでなければスキップし、Workbookオブジェクトを読み込む\n",
    "    if not excel_file.lower().endswith('.xlsx'):\n",
    "        continue\n",
    "    wb = openpyxl.load_workbook(excel_file)\n",
    "\n",
    "    for sheet_name in wb.get_sheet_names():\n",
    "        # ワークブックのシートをループする\n",
    "        sheet = wb.get_sheet_by_name(sheet_name)\n",
    "\n",
    "        # Excelファイル名とシート名からCSVファイル名を作る\n",
    "        csv_filename = excel_file[:-5] + '_' + sheet_name + '.csv'\n",
    "        # このCSVファイル用にcsv.writerオブジェクトを生成する\n",
    "        csv_file = open(csv_filename, 'w', encoding='utf-8', newline='')\n",
    "        csv_writer = csv.writer(csv_file)\n",
    "\n",
    "        for row_num in range(1, sheet.max_row + 1):\n",
    "            row_data = [] # セルをこのリストに追加する\n",
    "            # 行のセルをループする\n",
    "            for col_num in range(1, sheet.max_column + 1):\n",
    "                 # セルをrow_dataに追加する\n",
    "                 row_data.append(sheet.cell(column=col_num, row=row_num).value)\n",
    "            # row_dataをCSVファイルに書き出す\n",
    "            csv_writer.writerow(row_data)\n",
    "\n",
    "        csv_file.close()\n"
   ]
  }
 ],
 "metadata": {
  "kernelspec": {
   "display_name": "Python 3",
   "language": "python",
   "name": "python3"
  },
  "language_info": {
   "codemirror_mode": {
    "name": "ipython",
    "version": 3
   },
   "file_extension": ".py",
   "mimetype": "text/x-python",
   "name": "python",
   "nbconvert_exporter": "python",
   "pygments_lexer": "ipython3",
   "version": "3.7.4"
  }
 },
 "nbformat": 4,
 "nbformat_minor": 2
}
