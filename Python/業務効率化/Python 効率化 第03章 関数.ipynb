{
 "cells": [
  {
   "cell_type": "markdown",
   "metadata": {},
   "source": [
    "# 第3章 関数"
   ]
  },
  {
   "cell_type": "markdown",
   "metadata": {},
   "source": [
    "## 3.1 戻り値とreturn文\n",
    "戻り値：関数呼び出しによって得られた値"
   ]
  },
  {
   "cell_type": "code",
   "execution_count": 1,
   "metadata": {},
   "outputs": [
    {
     "name": "stdout",
     "output_type": "stream",
     "text": [
      "1\n",
      "確かにそうだ\n"
     ]
    }
   ],
   "source": [
    "def get_answer(answer_number):\n",
    "    if answer_number==1:\n",
    "        return '確かにそうだ' #return文で戻り値を返す\n",
    "    else:\n",
    "        return 'もう一度やってみて'\n",
    "\n",
    "r=int(input())\n",
    "fortune=get_answer(r)\n",
    "print(fortune)"
   ]
  },
  {
   "cell_type": "markdown",
   "metadata": {},
   "source": [
    "## 3.3 None値\n",
    "pythonではreturn文の無い関数定義には、末尾にreturn Noneが追加されている"
   ]
  },
  {
   "cell_type": "code",
   "execution_count": 2,
   "metadata": {},
   "outputs": [
    {
     "name": "stdout",
     "output_type": "stream",
     "text": [
      "Hello\n",
      "None\n"
     ]
    }
   ],
   "source": [
    "spam=print('Hello')\n",
    "print(spam)"
   ]
  },
  {
   "cell_type": "markdown",
   "metadata": {},
   "source": [
    "## 3.4 キーワード引数"
   ]
  },
  {
   "cell_type": "code",
   "execution_count": 3,
   "metadata": {},
   "outputs": [
    {
     "name": "stdout",
     "output_type": "stream",
     "text": [
      "HelloWorld\n",
      "cats-dogs-mice\n"
     ]
    }
   ],
   "source": [
    "print('Hello',end='') #print関数は自動で改行文字を追加するが、それを削除\n",
    "print('World')\n",
    "\n",
    "print('cats','dogs','mice',sep='-') #区切り文字変更"
   ]
  },
  {
   "cell_type": "markdown",
   "metadata": {},
   "source": [
    "## 3.5 ローカルスコープとグローバルスコープ"
   ]
  },
  {
   "cell_type": "code",
   "execution_count": 4,
   "metadata": {},
   "outputs": [],
   "source": [
    "#ローカル変数；ローカルスコープの中の変数\n",
    "#グローバル変数：グローバルスコープの中の変数\n",
    "#グローバルスコープからローカル変数はアクセスできない\n",
    "#ローカルスコープからグローバルスコープはアクセス可能"
   ]
  },
  {
   "cell_type": "markdown",
   "metadata": {},
   "source": [
    "## 3.6 global文\n",
    "関数の中からグローバル変数を変更したい時、global文を使う"
   ]
  },
  {
   "cell_type": "code",
   "execution_count": 5,
   "metadata": {},
   "outputs": [
    {
     "name": "stdout",
     "output_type": "stream",
     "text": [
      "spam\n"
     ]
    }
   ],
   "source": [
    "def spam():\n",
    "    global eggs #eggsはグローバル変数を参照させる\n",
    "    eggs='spam'\n",
    "\n",
    "eggs='ham'\n",
    "spam()\n",
    "print(eggs)"
   ]
  },
  {
   "cell_type": "markdown",
   "metadata": {},
   "source": [
    "## 3.7 例外処理\n",
    "42を入力する数値で除算するプログラム"
   ]
  },
  {
   "cell_type": "code",
   "execution_count": 6,
   "metadata": {},
   "outputs": [
    {
     "name": "stdout",
     "output_type": "stream",
     "text": [
      "1.0\n",
      "エラー：不正な引数です\n",
      "None\n"
     ]
    }
   ],
   "source": [
    "def spam(divide_by):\n",
    "    try:\n",
    "        return 42/divide_by\n",
    "    except ZeroDivisionError: #tryのなかでerrorが発生すると、except節に飛ぶ\n",
    "        print('エラー：不正な引数です')\n",
    "    \n",
    "print(spam(42))\n",
    "print(spam(0)) #エラーが発生し、return Noneが追加される"
   ]
  },
  {
   "cell_type": "markdown",
   "metadata": {},
   "source": [
    "## 3.8 数当てゲーム\n",
    "1-20の数値を6回以内に当てるゲーム"
   ]
  },
  {
   "cell_type": "code",
   "execution_count": 7,
   "metadata": {},
   "outputs": [
    {
     "name": "stdout",
     "output_type": "stream",
     "text": [
      "1から20までの数を当ててください\n",
      "数を入力してください。\n",
      "10\n",
      "小さいです。\n",
      "数を入力してください。\n",
      "15\n",
      "小さいです。\n",
      "数を入力してください。\n",
      "18\n",
      "大きいです。\n",
      "数を入力してください。\n",
      "16\n",
      "当たり！4回で当たりました!\n"
     ]
    }
   ],
   "source": [
    "import random\n",
    "secret_number=random.randint(1,20)\n",
    "print('1から20までの数を当ててください')\n",
    "\n",
    "#6回聞く\n",
    "for guesses_taken in range(1,7):\n",
    "    print('数を入力してください。')\n",
    "    guess=int(input())\n",
    "    \n",
    "    if guess<secret_number:\n",
    "        print('小さいです。')\n",
    "    elif guess>secret_number:\n",
    "        print('大きいです。')\n",
    "    else:\n",
    "        break\n",
    "\n",
    "if guess==secret_number:\n",
    "    print('当たり！'+str(guesses_taken)+'回で当たりました!')\n",
    "else:\n",
    "    print('残念。正解は'+str(secret_number)+'でした。')"
   ]
  },
  {
   "cell_type": "markdown",
   "metadata": {},
   "source": [
    "## 3.11 演習プロジェクト"
   ]
  },
  {
   "cell_type": "code",
   "execution_count": 8,
   "metadata": {},
   "outputs": [
    {
     "name": "stdout",
     "output_type": "stream",
     "text": [
      "整数を入力してください：\n",
      "96\n",
      "48\n",
      "24\n",
      "12\n",
      "6\n",
      "3\n",
      "10\n",
      "5\n",
      "16\n",
      "8\n",
      "4\n",
      "2\n",
      "1\n"
     ]
    }
   ],
   "source": [
    "#コラッツ数列計算プログラム\n",
    "#①numberが偶数なら2で割り、奇数なら3をかけて1を足す\n",
    "#②これを繰り返すと1に到達する（最も単純な数学の未解決問題）\n",
    "#③入力が整数でなければ例外処理を行う\n",
    "\n",
    "def collatz(number):\n",
    "    if number % 2 == 0:\n",
    "        return int(number / 2)\n",
    "    else:\n",
    "        return 3 * number + 1\n",
    "\n",
    "while True:\n",
    "  try:\n",
    "    print('整数を入力してください：')\n",
    "    i = int(input())\n",
    "    break\n",
    "  except ValueError:\n",
    "    print('エラー：整数値を入力してください。')\n",
    "\n",
    "while i > 1:\n",
    "  i = collatz(i)\n",
    "  print(i)"
   ]
  }
 ],
 "metadata": {
  "kernelspec": {
   "display_name": "Python 3",
   "language": "python",
   "name": "python3"
  },
  "language_info": {
   "codemirror_mode": {
    "name": "ipython",
    "version": 3
   },
   "file_extension": ".py",
   "mimetype": "text/x-python",
   "name": "python",
   "nbconvert_exporter": "python",
   "pygments_lexer": "ipython3",
   "version": "3.7.4"
  }
 },
 "nbformat": 4,
 "nbformat_minor": 2
}
